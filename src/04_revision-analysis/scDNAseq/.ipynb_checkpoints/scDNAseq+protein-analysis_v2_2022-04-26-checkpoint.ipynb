{
 "cells": [
  {
   "cell_type": "markdown",
   "metadata": {},
   "source": [
    "# scDNAseq + protein analysis of CMML high vs low cytokine receptor diversity samples"
   ]
  },
  {
   "cell_type": "markdown",
   "metadata": {},
   "source": [
    "Following along with Mosaic documentation from MissionBio: https://missionbio.github.io/mosaic/"
   ]
  },
  {
   "cell_type": "code",
   "execution_count": 1,
   "metadata": {},
   "outputs": [],
   "source": [
    "import missionbio.mosaic.io as mio"
   ]
  },
  {
   "cell_type": "code",
   "execution_count": 2,
   "metadata": {},
   "outputs": [],
   "source": [
    "#conda list"
   ]
  },
  {
   "cell_type": "markdown",
   "metadata": {},
   "source": [
    "### Loading Sample"
   ]
  },
  {
   "cell_type": "markdown",
   "metadata": {},
   "source": [
    "sample1 = \"5-M-001\" (high diversity/high CD120b) <br>\n",
    "sample2 = \"4-I-001\" (low diversity/low CD120b)"
   ]
  },
  {
   "cell_type": "code",
   "execution_count": 132,
   "metadata": {},
   "outputs": [
    {
     "name": "stdout",
     "output_type": "stream",
     "text": [
      "Loading, /Users/ferrallm/Dropbox (UFL)/papers-in-progress/CMML-scRNAseq-Paper/analysis/scDNAseq/Tapestri_Output_Files/5-M-001.dna+protein.h5\n",
      "Loaded in 0.8s.\n"
     ]
    },
    {
     "data": {
      "text/plain": [
       "<missionbio.mosaic.sample.Sample at 0x7fe251a15210>"
      ]
     },
     "execution_count": 132,
     "metadata": {},
     "output_type": "execute_result"
    }
   ],
   "source": [
    "sample1 = mio.load('/Users/ferrallm/Dropbox (UFL)/papers-in-progress/CMML-scRNAseq-Paper/analysis/scDNAseq/Tapestri_Output_Files/5-M-001.dna+protein.h5')\n",
    "sample1"
   ]
  },
  {
   "cell_type": "code",
   "execution_count": 133,
   "metadata": {},
   "outputs": [
    {
     "data": {
      "text/plain": [
       "{'sample_name': array([['5-M-001']], dtype=object),\n",
       " 'n_antibodies': 45,\n",
       " 'n_bases_r1': 117895089935,\n",
       " 'n_bases_r1_q30': 110795770037,\n",
       " 'n_bases_r2': 117895089935,\n",
       " 'n_bases_r2_q30': 111901317655,\n",
       " 'n_candidate_barcodes': 279217,\n",
       " 'n_cell_barcode_bases': 39593106181,\n",
       " 'n_cell_barcode_bases_q30': 38860045917,\n",
       " 'n_read_pairs': 780762185,\n",
       " 'n_read_pairs_after_candidate_barcode_filtering': 732654282,\n",
       " 'n_read_pairs_trimmed': 780587344,\n",
       " 'n_read_pairs_valid_ab_barcodes': 733984782,\n",
       " 'n_read_pairs_valid_cell_barcodes': 766333043,\n",
       " 'panel_name': 'totalseq-d-heme-oncology',\n",
       " 'pipeline_version': '2.0.1',\n",
       " 'palette': array([['-', '#1f77b4']], dtype='<U7')}"
      ]
     },
     "execution_count": 133,
     "metadata": {},
     "output_type": "execute_result"
    }
   ],
   "source": [
    "sample1.protein.metadata"
   ]
  },
  {
   "cell_type": "code",
   "execution_count": 134,
   "metadata": {},
   "outputs": [
    {
     "data": {
      "text/plain": [
       "(393, 216)"
      ]
     },
     "execution_count": 134,
     "metadata": {},
     "output_type": "execute_result"
    }
   ],
   "source": [
    "sample1.dna.shape"
   ]
  },
  {
   "cell_type": "code",
   "execution_count": 135,
   "metadata": {},
   "outputs": [
    {
     "data": {
      "text/plain": [
       "(393, 45)"
      ]
     },
     "execution_count": 135,
     "metadata": {},
     "output_type": "execute_result"
    }
   ],
   "source": [
    "sample1.protein.shape"
   ]
  },
  {
   "cell_type": "code",
   "execution_count": 136,
   "metadata": {},
   "outputs": [
    {
     "data": {
      "text/plain": [
       "array(['CD10', 'CD117', 'CD11b', 'CD11c', 'CD123', 'CD13', 'CD138',\n",
       "       'CD14', 'CD141', 'CD16', 'CD163', 'CD19', 'CD1c', 'CD2', 'CD22',\n",
       "       'CD25', 'CD3', 'CD30', 'CD303', 'CD304', 'CD33', 'CD34', 'CD38',\n",
       "       'CD4', 'CD44', 'CD45', 'CD45RA', 'CD45RO', 'CD49d', 'CD5', 'CD56',\n",
       "       'CD62L', 'CD62P', 'CD64', 'CD69', 'CD7', 'CD71', 'CD8', 'CD83',\n",
       "       'CD90', 'FcεRIα', 'HLA-DR', 'IgG1', 'IgG2a', 'IgG2b'], dtype=object)"
      ]
     },
     "execution_count": 136,
     "metadata": {},
     "output_type": "execute_result"
    }
   ],
   "source": [
    "sample1.protein.ids()"
   ]
  },
  {
   "cell_type": "code",
   "execution_count": 137,
   "metadata": {},
   "outputs": [
    {
     "name": "stdout",
     "output_type": "stream",
     "text": [
      "Loading, /Users/ferrallm/Dropbox (UFL)/papers-in-progress/CMML-scRNAseq-Paper/analysis/scDNAseq/Tapestri_Output_Files/5-M-001.dna+protein.h5\n",
      "Loaded in 0.8s.\n"
     ]
    },
    {
     "data": {
      "text/plain": [
       "(393, 312)"
      ]
     },
     "execution_count": 137,
     "metadata": {},
     "output_type": "execute_result"
    }
   ],
   "source": [
    "sample1raw = mio.load('/Users/ferrallm/Dropbox (UFL)/papers-in-progress/CMML-scRNAseq-Paper/analysis/scDNAseq/Tapestri_Output_Files/5-M-001.dna+protein.h5')\n",
    "sample1raw.cnv.shape"
   ]
  },
  {
   "cell_type": "code",
   "execution_count": 138,
   "metadata": {},
   "outputs": [
    {
     "data": {
      "text/plain": [
       "{'AF': array([[ 0.        ,  0.        ,  0.        , ...,  0.        ,\n",
       "          0.        ,  0.        ],\n",
       "        [ 0.        ,  0.        , 52.49042146, ...,  0.        ,\n",
       "          0.        ,  0.        ],\n",
       "        [ 0.        ,  0.        ,  0.        , ...,  0.        ,\n",
       "          0.        ,  1.63934426],\n",
       "        ...,\n",
       "        [ 0.        ,  0.        ,  0.        , ...,  0.        ,\n",
       "          0.98039216,  6.8627451 ],\n",
       "        [ 0.        ,  0.        ,  0.        , ...,  0.        ,\n",
       "          0.        ,  0.        ],\n",
       "        [ 0.        ,  0.        , 63.15789474, ...,  9.67741935,\n",
       "          9.67741935,  9.67741935]]),\n",
       " 'DP': array([[ 31,  31,  29, ...,  73,  73,  73],\n",
       "        [ 69,  69, 261, ...,  62,  62,  62],\n",
       "        [ 51,  51,  40, ...,  61,  61,  61],\n",
       "        ...,\n",
       "        [ 59,  59,  31, ..., 102, 102, 102],\n",
       "        [ 59,  59,  19, ...,  23,  23,  23],\n",
       "        [ 58,  58,  76, ...,  62,  62,  62]], dtype=int16),\n",
       " 'FILTER_MASK': array([[0, 0, 0, ..., 0, 0, 0],\n",
       "        [0, 0, 1, ..., 0, 0, 0],\n",
       "        [0, 0, 0, ..., 0, 0, 0],\n",
       "        ...,\n",
       "        [0, 0, 0, ..., 0, 0, 1],\n",
       "        [0, 0, 0, ..., 0, 0, 0],\n",
       "        [0, 0, 0, ..., 1, 1, 1]], dtype=uint8),\n",
       " 'GQ': array([[93, 93, 86, ..., 99, 99, 99],\n",
       "        [99, 99,  0, ..., 99, 99, 99],\n",
       "        [99, 99, 99, ..., 99, 99, 99],\n",
       "        ...,\n",
       "        [99, 99, 92, ..., 99, 99, 14],\n",
       "        [99, 99, 57, ..., 69, 69, 69],\n",
       "        [99, 99, 99, ..., 83, 83, 83]], dtype=int8),\n",
       " 'NGT': array([[0, 0, 0, ..., 0, 0, 0],\n",
       "        [0, 0, 0, ..., 0, 0, 0],\n",
       "        [0, 0, 0, ..., 0, 0, 0],\n",
       "        ...,\n",
       "        [0, 0, 0, ..., 0, 0, 0],\n",
       "        [0, 0, 0, ..., 0, 0, 0],\n",
       "        [0, 0, 1, ..., 1, 1, 1]], dtype=int8),\n",
       " 'RGQ': array([[0, 0, 0, ..., 0, 0, 0],\n",
       "        [0, 0, 0, ..., 0, 0, 0],\n",
       "        [0, 0, 0, ..., 0, 0, 0],\n",
       "        ...,\n",
       "        [0, 0, 0, ..., 0, 0, 0],\n",
       "        [0, 0, 0, ..., 0, 0, 0],\n",
       "        [0, 0, 0, ..., 0, 0, 0]], dtype=int32),\n",
       " 'AF_MISSING': array([[ 0.        ,  0.        ,  0.        , ...,  0.        ,\n",
       "          0.        ,  0.        ],\n",
       "        [ 0.        ,  0.        , 52.49042146, ...,  0.        ,\n",
       "          0.        ,  0.        ],\n",
       "        [ 0.        ,  0.        ,  0.        , ...,  0.        ,\n",
       "          0.        ,  1.63934426],\n",
       "        ...,\n",
       "        [ 0.        ,  0.        ,  0.        , ...,  0.        ,\n",
       "          0.98039216,  6.8627451 ],\n",
       "        [ 0.        ,  0.        ,  0.        , ...,  0.        ,\n",
       "          0.        ,  0.        ],\n",
       "        [ 0.        ,  0.        , 63.15789474, ...,  9.67741935,\n",
       "          9.67741935,  9.67741935]])}"
      ]
     },
     "execution_count": 138,
     "metadata": {},
     "output_type": "execute_result"
    }
   ],
   "source": [
    "sample1.dna.layers"
   ]
  },
  {
   "cell_type": "code",
   "execution_count": 139,
   "metadata": {},
   "outputs": [
    {
     "name": "stdout",
     "output_type": "stream",
     "text": [
      "Loading, /Users/ferrallm/Dropbox (UFL)/papers-in-progress/CMML-scRNAseq-Paper/analysis/scDNAseq/Tapestri_Output_Files/4-I-001.dna+protein.h5\n",
      "Loaded in 4.0s.\n"
     ]
    },
    {
     "data": {
      "text/plain": [
       "<missionbio.mosaic.sample.Sample at 0x7fe250d85750>"
      ]
     },
     "execution_count": 139,
     "metadata": {},
     "output_type": "execute_result"
    }
   ],
   "source": [
    "sample2 = mio.load('/Users/ferrallm/Dropbox (UFL)/papers-in-progress/CMML-scRNAseq-Paper/analysis/scDNAseq/Tapestri_Output_Files/4-I-001.dna+protein.h5')\n",
    "sample2"
   ]
  },
  {
   "cell_type": "code",
   "execution_count": 140,
   "metadata": {},
   "outputs": [
    {
     "data": {
      "text/plain": [
       "{'sample_name': array([['4-I-001']], dtype=object),\n",
       " 'n_antibodies': 45,\n",
       " 'n_bases_r1': 116586383052,\n",
       " 'n_bases_r1_q30': 105707137658,\n",
       " 'n_bases_r2': 116586383052,\n",
       " 'n_bases_r2_q30': 111043071473,\n",
       " 'n_candidate_barcodes': 374603,\n",
       " 'n_cell_barcode_bases': 39002169509,\n",
       " 'n_cell_barcode_bases_q30': 37259859370,\n",
       " 'n_read_pairs': 772095252,\n",
       " 'n_read_pairs_after_candidate_barcode_filtering': 706425747,\n",
       " 'n_read_pairs_trimmed': 771400755,\n",
       " 'n_read_pairs_valid_ab_barcodes': 707336259,\n",
       " 'n_read_pairs_valid_cell_barcodes': 744875497,\n",
       " 'panel_name': 'totalseq-d-heme-oncology',\n",
       " 'pipeline_version': '2.0.1',\n",
       " 'palette': array([['-', '#1f77b4']], dtype='<U7')}"
      ]
     },
     "execution_count": 140,
     "metadata": {},
     "output_type": "execute_result"
    }
   ],
   "source": [
    "sample2.protein.metadata"
   ]
  },
  {
   "cell_type": "code",
   "execution_count": 141,
   "metadata": {},
   "outputs": [
    {
     "data": {
      "text/plain": [
       "(7889, 84)"
      ]
     },
     "execution_count": 141,
     "metadata": {},
     "output_type": "execute_result"
    }
   ],
   "source": [
    "sample2.dna.shape"
   ]
  },
  {
   "cell_type": "code",
   "execution_count": 142,
   "metadata": {},
   "outputs": [
    {
     "data": {
      "text/plain": [
       "(7889, 45)"
      ]
     },
     "execution_count": 142,
     "metadata": {},
     "output_type": "execute_result"
    }
   ],
   "source": [
    "sample2.protein.shape"
   ]
  },
  {
   "cell_type": "code",
   "execution_count": 143,
   "metadata": {},
   "outputs": [
    {
     "name": "stdout",
     "output_type": "stream",
     "text": [
      "Loading, /Users/ferrallm/Dropbox (UFL)/papers-in-progress/CMML-scRNAseq-Paper/analysis/scDNAseq/Tapestri_Output_Files/4-I-001.dna+protein.h5\n",
      "Loaded in 3.9s.\n"
     ]
    },
    {
     "data": {
      "text/plain": [
       "(7889, 312)"
      ]
     },
     "execution_count": 143,
     "metadata": {},
     "output_type": "execute_result"
    }
   ],
   "source": [
    "sample2raw = mio.load('/Users/ferrallm/Dropbox (UFL)/papers-in-progress/CMML-scRNAseq-Paper/analysis/scDNAseq/Tapestri_Output_Files/4-I-001.dna+protein.h5')\n",
    "sample2raw.cnv.shape"
   ]
  },
  {
   "cell_type": "code",
   "execution_count": 144,
   "metadata": {},
   "outputs": [],
   "source": [
    "### To save: mio.save(sample, '/path/to/save/h5')"
   ]
  },
  {
   "cell_type": "code",
   "execution_count": 145,
   "metadata": {},
   "outputs": [],
   "source": [
    "## Using constraints from Lucia Al erti-Servera et al. \n",
    "# genotype quality score < 30 (default)               min_gq\n",
    "# read depth < 10 (default)                           min_dp\n",
    "# single-cell varaiant allele freq (scVAF) < 25%      vaf_het\n",
    "# variant genotypes in < 60% of cells                 <------ don't think this can be applied\n",
    "# cells within < 50% of genotypes present (default)   min_prct_cells\n",
    "# varaint mutated in < 0.5% of cells                  min_mut_prct_cells\n",
    "\n",
    "## left defaults: vaf_ref=5, vaf_hom=95, \n",
    "\n",
    "dna_vars_1 = sample1.dna.filter_variants(min_dp=10, min_gq=30, vaf_het=25, min_prct_cells=50, min_mut_prct_cells=0.5)\n",
    "dna_vars_2 = sample2.dna.filter_variants(min_dp=10, min_gq=30, vaf_het=25, min_prct_cells=50, min_mut_prct_cells=0.5)"
   ]
  },
  {
   "cell_type": "code",
   "execution_count": 146,
   "metadata": {},
   "outputs": [],
   "source": [
    "### DNA Analysis - Basic Filtering\n",
    "\n",
    "# selecting all cells and final variants after filtering\n",
    "sample1.dna = sample1.dna[sample1.dna.barcodes(),list(dna_vars_1)]\n",
    "sample2.dna = sample2.dna[sample2.dna.barcodes(),list(dna_vars_2)]"
   ]
  },
  {
   "cell_type": "code",
   "execution_count": 147,
   "metadata": {},
   "outputs": [
    {
     "data": {
      "text/plain": [
       "(393, 171)"
      ]
     },
     "execution_count": 147,
     "metadata": {},
     "output_type": "execute_result"
    }
   ],
   "source": [
    "sample1.dna.shape"
   ]
  },
  {
   "cell_type": "code",
   "execution_count": 148,
   "metadata": {},
   "outputs": [
    {
     "data": {
      "text/plain": [
       "(7889, 70)"
      ]
     },
     "execution_count": 148,
     "metadata": {},
     "output_type": "execute_result"
    }
   ],
   "source": [
    "sample2.dna.shape"
   ]
  },
  {
   "cell_type": "markdown",
   "metadata": {},
   "source": [
    "### visualize"
   ]
  },
  {
   "cell_type": "code",
   "execution_count": 149,
   "metadata": {},
   "outputs": [],
   "source": [
    "## Plotting worked following this: https://community.plotly.com/t/save-fig-as-html-using-jupyterlab-figurewidget/17922/6 \n",
    "import plotly.graph_objs as go\n",
    "from plotly.offline import plot"
   ]
  },
  {
   "cell_type": "code",
   "execution_count": 150,
   "metadata": {},
   "outputs": [
    {
     "data": {
      "text/plain": [
       "'5M001_DNA_heatmap_AF.html'"
      ]
     },
     "execution_count": 150,
     "metadata": {},
     "output_type": "execute_result"
    }
   ],
   "source": [
    "plot(sample1.dna.heatmap(attribute='AF'),filename='5M001_DNA_heatmap_AF.html')"
   ]
  },
  {
   "cell_type": "code",
   "execution_count": 151,
   "metadata": {},
   "outputs": [
    {
     "data": {
      "text/plain": [
       "'4I001_DNA_heatmap_AF.html'"
      ]
     },
     "execution_count": 151,
     "metadata": {},
     "output_type": "execute_result"
    }
   ],
   "source": [
    "plot(sample2.dna.heatmap(attribute='AF'),filename='4I001_DNA_heatmap_AF.html')"
   ]
  },
  {
   "cell_type": "code",
   "execution_count": 152,
   "metadata": {},
   "outputs": [],
   "source": [
    "variants_cooccur_5M = ['chr11:119149251:G/A', 'chr15:90631934:C/T', 'chr12:25398285:C/T', 'chr1:115258747:C/T']"
   ]
  },
  {
   "cell_type": "code",
   "execution_count": 153,
   "metadata": {},
   "outputs": [
    {
     "data": {
      "text/plain": [
       "'5M001_DNA_heatmap_AF_shortlist.html'"
      ]
     },
     "execution_count": 153,
     "metadata": {},
     "output_type": "execute_result"
    }
   ],
   "source": [
    "plot(sample1.dna.heatmap(features=variants_cooccur_5M,attribute='AF'),filename='5M001_DNA_heatmap_AF_shortlist.html')"
   ]
  },
  {
   "cell_type": "code",
   "execution_count": 154,
   "metadata": {},
   "outputs": [],
   "source": [
    "variants_cooccur_4I = ['chr4:106164778:C/T','chr4:106196233:G/GC','chr11:118376985:C/T','chr11:119149355:TATG/T','chr12:25398285:C/G','chrX:39932806:AC/A']"
   ]
  },
  {
   "cell_type": "code",
   "execution_count": 155,
   "metadata": {},
   "outputs": [
    {
     "data": {
      "text/plain": [
       "'4I001_DNA_heatmap_AF_shortlist.html'"
      ]
     },
     "execution_count": 155,
     "metadata": {},
     "output_type": "execute_result"
    }
   ],
   "source": [
    "plot(sample2.dna.heatmap(features=variants_cooccur_4I,attribute='AF'),filename='4I001_DNA_heatmap_AF_shortlist.html')"
   ]
  },
  {
   "cell_type": "code",
   "execution_count": 156,
   "metadata": {},
   "outputs": [],
   "source": [
    "if len(sample1.dna.selected_ids) > 0:\n",
    "    sample1.dna = sample1.dna.drop(sample1.dna.selected_ids)"
   ]
  },
  {
   "cell_type": "code",
   "execution_count": 157,
   "metadata": {},
   "outputs": [],
   "source": [
    "if len(sample2.dna.selected_ids) > 0:\n",
    "    sample2.dna = sample2.dna.drop(sample2.dna.selected_ids)"
   ]
  },
  {
   "cell_type": "markdown",
   "metadata": {},
   "source": [
    "### Find Clones"
   ]
  },
  {
   "cell_type": "code",
   "execution_count": 158,
   "metadata": {},
   "outputs": [
    {
     "name": "stdout",
     "output_type": "stream",
     "text": [
      "Unique clusters found - 26\n",
      "Clusters after removing missing data - 1\n"
     ]
    },
    {
     "name": "stderr",
     "output_type": "stream",
     "text": [
      "/Users/ferrallm/anaconda3/envs/mosaic/lib/python3.7/site-packages/missionbio/mosaic/dna.py:147: FutureWarning:\n",
      "\n",
      "Dropping of nuisance columns in DataFrame reductions (with 'numeric_only=None') is deprecated; in a future version this will raise TypeError.  Select only valid columns before calling the reduction.\n",
      "\n"
     ]
    }
   ],
   "source": [
    "sample1.dna.find_clones(similarity=0.25)"
   ]
  },
  {
   "cell_type": "code",
   "execution_count": 159,
   "metadata": {},
   "outputs": [
    {
     "name": "stdout",
     "output_type": "stream",
     "text": [
      "Unique clusters found - 8\n",
      "Clusters after removing missing data - 1\n"
     ]
    },
    {
     "name": "stderr",
     "output_type": "stream",
     "text": [
      "/Users/ferrallm/anaconda3/envs/mosaic/lib/python3.7/site-packages/missionbio/mosaic/dna.py:147: FutureWarning:\n",
      "\n",
      "Dropping of nuisance columns in DataFrame reductions (with 'numeric_only=None') is deprecated; in a future version this will raise TypeError.  Select only valid columns before calling the reduction.\n",
      "\n"
     ]
    }
   ],
   "source": [
    "sample2.dna.find_clones(similarity=0.25)"
   ]
  },
  {
   "cell_type": "code",
   "execution_count": 160,
   "metadata": {
    "collapsed": true,
    "jupyter": {
     "outputs_hidden": true
    }
   },
   "outputs": [
    {
     "data": {
      "text/plain": [
       "{'barcode': array(['AACAACTGGACGCACACT', 'AACCATGGTCCTCGACCT', 'AACGAGAATCCGATCTCT',\n",
       "        'AACGAGGTGAGTTAGGTC', 'AACTGATTCTCAATCTAG', 'AACTGCGACTGTCTACAC',\n",
       "        'AAGACGAAGACGATGACC', 'AAGAGAACTCATGACGTT', 'AAGCAACTATCGTAATAG',\n",
       "        'AAGCACAACTGCTCAGCG', 'AAGCAGCATAAGTCATGA', 'AAGCATTGCGAGTCTTCG',\n",
       "        'AAGCCAAGTGTGGATAAG', 'AAGCTGGTCCACCTTCCT', 'AAGTAGGACAATGCTGAT',\n",
       "        'AAGTCATGAGCACATGTT', 'AATACCTTGCTCAGTGAT', 'AATGCAGCGTCATGCAGG',\n",
       "        'AATTGGATCACGCTAGTG', 'ACAACCGGACACCAGAAG', 'ACAATTCGGGTGGATAAG',\n",
       "        'ACACACCGTCCGAGTACT', 'ACACACCGTGCGGTAAGT', 'ACACAGAACGATGTCTAG',\n",
       "        'ACACTGTGAGTGGACTGG', 'ACCAGCGTTTCTCATCGG', 'ACCATTCACATCATTACG',\n",
       "        'ACCATTCACCCTTGTTGC', 'ACCTAGCACTGTATCGTG', 'ACCTGCAGAGTAGCCTTG',\n",
       "        'ACCTTGAAGTCCTCTAGT', 'ACGTCTATGATCCATTAG', 'ACGTTCAATTAACGGATA',\n",
       "        'ACTAACCGAATCCACAGT', 'ACTAACCGATACCAGCCA', 'ACTATTGTCTATGCCTTC',\n",
       "        'ACTCCGGTTTTATTCGAC', 'ACTCGTAGGGCGATATGA', 'ACTCGTAGGTGGATAGGT',\n",
       "        'ACTCTAGGAGTGGTACGG', 'ACTGGTCAGACAGAAGAG', 'ACTGGTCAGCTAGTCGTC',\n",
       "        'ACTGTGTCAGATCTTCGC', 'ACTTAGCTTGGACACTGG', 'AGACATCCATAACATTGG',\n",
       "        'AGACGCCTGTGATTATCG', 'AGACTTCGTATAGACCGA', 'AGAGGACGTATAGTCAGT',\n",
       "        'AGCAACATTAGATCGAGT', 'AGCAACATTAGTTGAGCG', 'AGCAAGTCCGGTACTTCC',\n",
       "        'AGCCTCGCATGTAGGTTA', 'AGCGGTAAGAATATCGCT', 'AGCTACTCAGCAACACCT',\n",
       "        'AGCTCTCCGTGATTATCG', 'AGCTGCACTTCCAATCAT', 'AGGAGGTGAGCAGATCCG',\n",
       "        'AGGATCTCATGCAGTTCA', 'AGGATTGAGGACGTAGCA', 'AGGTACCAACGATAGGTG',\n",
       "        'AGGTCCGTCAATCAGGAG', 'AGTACGAATCCTATTGGT', 'AGTCAGTTGCACGTAGAC',\n",
       "        'AGTCGATCAATCTACATC', 'AGTCGCCGAAGTCAGTTG', 'AGTCGCCGATCGTGACGT',\n",
       "        'AGTGTGCACATACTTGCT', 'AGTGTTCTGGCATTGATC', 'AGTTAGGTCTGCGTCTTA',\n",
       "        'AGTTATCGCCGCGATGTA', 'AGTTCGATATTGGTAACT', 'ATAAGTTCGAGGATGCGT',\n",
       "        'ATAATGTGGCTGAGATAG', 'ATACCGAAGCGATTCGAG', 'ATAGACCGAAGATCTTCA',\n",
       "        'ATAGACCGAGCCAACAAT', 'ATAGACCGAGCGATGGTG', 'ATAGTCAGTTAGCTGTTG',\n",
       "        'ATAGTCTCCCGGTTCTAT', 'ATAGTGGTTACACACCGT', 'ATATCAGCCATATAGCGT',\n",
       "        'ATATGCAGCCACACTGCC', 'ATCATTACGCAGTGCCAT', 'ATCCATTAGGGATCAGGT',\n",
       "        'ATCCATTAGTGGAAGATT', 'ATCCGGTCCGACATATGT', 'ATCCGGTCCTTCACCTTG',\n",
       "        'ATCGGTGGTCTTCCGTGG', 'ATCGGTGGTGTTGACGTG', 'ATCTGCGTAGGTAGTGTT',\n",
       "        'ATCTTACAGTCACGACAA', 'ATGACACAAGCGGTAAGT', 'ATGAGTGTGGGAACCTAG',\n",
       "        'ATGGATATCAGACCACGC', 'ATTAGCGGTCTAATACGC', 'ATTGCGCTACAGCTTCGA',\n",
       "        'CAACGTCTTGTCTTCTCG', 'CAAGCGCATAATCCTCGT', 'CAATTGTCTTCTGGAGGA',\n",
       "        'CACATATCAAGAATCAGA', 'CACATATCACGAACAATC', 'CACCTCGGAAAGACGAAG',\n",
       "        'CACGATAGAGCTCAGCCA', 'CACGCGTAATATCCTCAG', 'CACGTAGACATGGTTCGA',\n",
       "        'CACTGGTCCATTCTCTGG', 'CAGATCATTGTCGTGTTA', 'CAGCTAGTTTGTCACATA',\n",
       "        'CAGCTTACCACATTCCAC', 'CAGCTTACCGTCTTATGC', 'CAGGAGCCTGTGGTACGG',\n",
       "        'CAGTACATCAGATGTTGG', 'CAGTATGATAGCTACTCA', 'CAGTTGAGTGCCGTTGTT',\n",
       "        'CATACAACCAGTGTTCTG', 'CATAGAGATGTCTTCATA', 'CATAGGTGTACAGTATTG',\n",
       "        'CATAGTATGGGAGCTCAA', 'CATCGCTGGTAACGTGTC', 'CATCTCACGGCCGCCTAA',\n",
       "        'CATGCCAGTTGTGGTCCT', 'CATGTGAACGCAGCTCTT', 'CATTCGAATTAAGGTCCG',\n",
       "        'CCAACGGAAGTAACCATA', 'CCAAGCGAGGGTTGAAGG', 'CCAAGTCGAGGAGTACAG',\n",
       "        'CCAATGCCTCTGAGATAG', 'CCAGGAGTTTAACGGATA', 'CCATATCTTACTGGACCA',\n",
       "        'CCATTACAGGGAGATGAG', 'CCGGATTGCGCATGTAAG', 'CCGTACGGAGTGGATAAG',\n",
       "        'CCGTCCACTTTGTTAGAG', 'CCTAGCAATCTTGCGACC', 'CCTATTCAACAGTGAGGA',\n",
       "        'CCTCGCGTTGCTGTTCGG', 'CCTCTCTAGCTTCACTGT', 'CCTCTTGTAGTCCTTCAT',\n",
       "        'CCTGCGTTACTTCTGAGT', 'CCTGTATCTGGAGACACA', 'CCTGTCGACAACGCTCAA',\n",
       "        'CCTGTCGACGCTTCTGAA', 'CCTGTCGACTAGCACTAT', 'CCTTATCCGAGCCTCTAG',\n",
       "        'CGACAGACCCCGATCAGC', 'CGACAGACCTAATCTGGA', 'CGACCATCAGTCTGAGCC',\n",
       "        'CGAGCTTACATAGTCTCC', 'CGATACTCTTGTAACAGT', 'CGATCCAGAAATATCGCT',\n",
       "        'CGATCCAGAGATTGGAAG', 'CGCAACCTCCAATACCAC', 'CGCACTCTTATCCGACCA',\n",
       "        'CGCCACCATAGATACGTT', 'CGCGCACATAATATCAGC', 'CGCGTGAGACACTTCCTT',\n",
       "        'CGCTGTAGTAGATCTTCA', 'CGCTGTAGTGTTGCATGG', 'CGCTTATGAGTGGACTGG',\n",
       "        'CGGAACGAGCGGTCGACA', 'CGGAAGACGCCAACAACA', 'CGGTAGCTTACTCCGGTT',\n",
       "        'CGGTCGACATCGGATGTT', 'CGGTTCTATATTCACCTC', 'CGTATTCCTCCTAGTCTC',\n",
       "        'CGTATTCCTTCCAATCAT', 'CTAGAGTCGCTCGTCTTG', 'CTAGGTACTGGATCAATG',\n",
       "        'CTAGGTACTTATTGCTAC', 'CTAGTCGTCGGAGATGAG', 'CTATACTAGTGATTATCG',\n",
       "        'CTATCCATCAATTCGGAA', 'CTATCCATCCATCCGACA', 'CTATGGATGGCACCATCG',\n",
       "        'CTCTAGTAAGTGCCATGA', 'CTCTCAGTCGAACTGCAA', 'CTCTCAGTCTGAACCAAT',\n",
       "        'CTCTTCAGCTAGTAACGG', 'CTCTTCAGCTATGGTTGG', 'CTGACGGATAACTGATTC',\n",
       "        'CTGAGTAGCTCGTTCTCC', 'CTGCAGAGCAGTAATGGT', 'CTGCATGTTCAATCTCCG',\n",
       "        'CTGCGTCACACAGCATCA', 'CTGCGTCACGCGGAGATT', 'CTGCTTAGGATCGATCCT',\n",
       "        'CTGGACTAAGTCCTAGTT', 'CTGGTAATCCCTGTATCT', 'CTGGTGACATCAGGTGCA',\n",
       "        'CTTAATCGTGGATACAAT', 'CTTACCTAGTCCTGTCCG', 'CTTCCTGATTGCGTCTTA',\n",
       "        'CTTGATCTACGACCTGTA', 'GAACGCTGTGACCAGAGA', 'GAACTGCAAAGTCTGGAA',\n",
       "        'GACCGCTTCAACAGATCG', 'GACCGTAGTCTTAACAGC', 'GACGTAGCAGTCTCCAGG',\n",
       "        'GACTCTCACACGTTCAAT', 'GACTTGATTGACCGTAGT', 'GACTTGATTGTCCGCTCA',\n",
       "        'GAGATTCCTTCATGCAGG', 'GAGGACTTAGTCTTCATA', 'GAGGTGAGCCGTTAATGG',\n",
       "        'GAGGTGAGCTAGGTCAAC', 'GAGTCTTCGTGGAAGATT', 'GATAACGTCCGGAATGCA',\n",
       "        'GATCGATACAGACTTCGT', 'GATCTTCGCTCAGGACTG', 'GATGCTCCTTCCATCATT',\n",
       "        'GATGTCTAGACTTGATCT', 'GATTAGTGTACTTGATCT', 'GATTCTCGGATGATAGCT',\n",
       "        'GCACCATCGGCTACAATG', 'GCACCATCGTGTCCATAG', 'GCAGCTCTTGAGTGCATA',\n",
       "        'GCATACTCCATTCTCTGG', 'GCATGTGGTCTGCTTAGG', 'GCCATCGCTCTCTCAGTC',\n",
       "        'GCCATTAAGTTACGGACC', 'GCCGAGTCTTATTACAGC', 'GCCTTAGAGCGGAACGAG',\n",
       "        'GCGAAGCTCAGATACGTT', 'GCGATATGAAACGATGAC', 'GCGTCGTCTACTCTCACA',\n",
       "        'GCGTCGTCTGATACACTA', 'GCTACCTTAATGAACTAG', 'GCTAGCTCCGACCAGAGA',\n",
       "        'GCTAGTGGAAACTTAGCT', 'GCTATGTAACTTAGAAGG', 'GCTGAGCAGCGTATTCCT',\n",
       "        'GCTGAGCAGCGTCTGTCC', 'GCTGAGCAGGTAGTGGAG', 'GCTGAGCAGTGCCTTCAG',\n",
       "        'GCTTCTGAACTTCTATGA', 'GCTTGTCCTACCGGAAGG', 'GCTTGTCCTTCCACCGGT',\n",
       "        'GGAAGAAGCCTATCCATC', 'GGAAGGTATGTGTCCGTG', 'GGAATTCACGACATAACG',\n",
       "        'GGACGAGCAATTAGCACA', 'GGACTATTCCGTGCAAGG', 'GGAGAATGAGTGGATAAG',\n",
       "        'GGAGAATGATCGTCCGAT', 'GGAGCATCTTGAGATCAT', 'GGAGCTCAATCCAATCAT',\n",
       "        'GGAGTTAGCTATCGAGCC', 'GGATAATACACGACATCT', 'GGATCGTTCCAGGAGCCT',\n",
       "        'GGATGCTCGGTAACTCAT', 'GGTAAGGATAGCTGCACT', 'GGTCGGTCTTAAGCACTA',\n",
       "        'GGTCTCATGTTCCGAGCG', 'GGTGTGACCCCATCTAGG', 'GGTTCAGACAATCCGCTG',\n",
       "        'GGTTCGCAAACAGGAACT', 'GTAACCATAACGACGATT', 'GTAACCATATATTGACTG',\n",
       "        'GTAAGGTCCATCAGGATG', 'GTACAATGCTCTATGACA', 'GTACGTCTATAGGATTAG',\n",
       "        'GTAGTTGGTCCTTGCTTG', 'GTATGTATCTACTCGACC', 'GTCAATACAGTCCGCTCA',\n",
       "        'GTCAGACCGAGATGTTGG', 'GTCAGCGTCTCGGATGTT', 'GTCATTCTAGCGGAGATT',\n",
       "        'GTCCGTAAGGATCTAGAG', 'GTCGCAGGTGGTTACGCA', 'GTCTACCAAGGTCCTAAG',\n",
       "        'GTCTGAGCCAAGTCATGA', 'GTCTTATGCAGGAGGTGA', 'GTCTTATGCTATTCAACG',\n",
       "        'GTGACGTAAATCAGAAGC', 'GTGACTCTCTCAGACAAG', 'GTGCACGAGAGTACTACA',\n",
       "        'GTGCATCAACTATGGATG', 'GTGCTGACTTCATGCAGG', 'GTGGTTACCAGTGTTCTG',\n",
       "        'GTGTCCGTGCATTGACAA', 'GTGTCCGTGGGATACAAT', 'GTGTTCCAGTTCACTGGA',\n",
       "        'GTTAATTCGAACGCCTAC', 'GTTAGTCAAGATTCCTCT', 'GTTAGTCAAGCCTTCCAT',\n",
       "        'GTTATCGATTCGTAATAG', 'GTTCAGAAGTCTCGATGC', 'GTTCCAACACCATACGAT',\n",
       "        'GTTGACCATAGCATTCCA', 'TAACACGAGGGTTCGCAA', 'TAACGGATAGAGTTATAG',\n",
       "        'TAAGCACTATGCCGAACT', 'TAAGCCATTAATCCGCTG', 'TAATGTAGCAAGCAGCAT',\n",
       "        'TACAACACCGAACCAGTT', 'TACCTCACTCGGTTCGTA', 'TACCTCCTCAATGCCTCA',\n",
       "        'TACCTCCTCTAGCACTAT', 'TACGAACTCGGACAGATT', 'TACTAGTAGGTCACAGAG',\n",
       "        'TACTTACCATCGATTCAG', 'TAGCCTTGTCTCTGCGGT', 'TAGCGCAGCTAGCACACG',\n",
       "        'TAGGAGGATTCGGTATCA', 'TAGTAGTCTGACCTTGTG', 'TAGTCGCATTGACCAAGT',\n",
       "        'TATAATCGCAATATCGCT', 'TATCAGTGCCGTGACCAG', 'TATCATGCTCATCGCTGG',\n",
       "        'TATCCTCAGTTAGATCGG', 'TATCTAGGTTGCCTTCAG', 'TATCTAGGTTGGTCCTAG',\n",
       "        'TATCTGTCATCGCAAGCA', 'TATGTACCTTTCACTCCT', 'TATTGACTGTTCCGCCAG',\n",
       "        'TCACTCGCTACCACTAGG', 'TCAGAGTCAGCCTTGTGA', 'TCAGAGTCATGATTATCG',\n",
       "        'TCAGGTGCAGTTGCATGG', 'TCAGTAAGCAAGACTGGT', 'TCAGTGCAAGTATTACTG',\n",
       "        'TCATGCAGGAGTTAGGTC', 'TCCAGCAGCCAGTACATC', 'TCCAGCTATTTCATCCAA',\n",
       "        'TCCGGAGCTCTTAGAAGG', 'TCCGTATACACTGTGTCA', 'TCCTATTCCCAATACCAC',\n",
       "        'TCCTGTCCGATGGTTCGA', 'TCCTTCAACGTGGACTGG', 'TCCTTCAACTGAGATCAT',\n",
       "        'TCGAACGCTACCGGAAGG', 'TCGAACGCTTTCACCTTG', 'TCGCAAGCAAGGAGCAAT',\n",
       "        'TCGCATTCGACTCATTCA', 'TCGGAACGATCAACACTC', 'TCGGATGTTAACCGCTGA',\n",
       "        'TCGGTATCAGGTTCAGAC', 'TCGTGACGTATCCAGCTG', 'TCGTGCCACACACATCTG',\n",
       "        'TCGTGCCACCACACCACA', 'TCGTGCCACCCTGTCATT', 'TCGTTCTCCGATGTAAGG',\n",
       "        'TCTACGCAAAATACCTTG', 'TCTAGTGACTATGACCGA', 'TCTCATCGGATTGACACG',\n",
       "        'TCTCGTATCCTATCTTGA', 'TCTTGGTAGCGGTTCTAT', 'TGACAAGTTCAACGTCTT',\n",
       "        'TGACCTATGAGTAATCAG', 'TGACGGTTGGGTCTTGCA', 'TGAGATCATCCTTCCTCA',\n",
       "        'TGATTCACCAGGTACCAA', 'TGATTGTGCAAGTCATGA', 'TGCAGTTCAGGAGATGAG',\n",
       "        'TGCCGCTACCCTTAATTC', 'TGCGTAATCACCTGCAGA', 'TGCTCCTCCGTCTTCATA',\n",
       "        'TGGAACTAATCCTCGTCG', 'TGGAAGATTTTCAACTAC', 'TGGAATCGTCCGTAGTTG',\n",
       "        'TGGACTGCCCCTGTATCT', 'TGGAGAACCGGAGACACA', 'TGGTTATACTATCCTCAG',\n",
       "        'TGTACACGAATAATCGAG', 'TGTAGATCGTGCCTTCAG', 'TGTAGGTTATTACACCTT',\n",
       "        'TGTCAACCTGAGATTCCT', 'TGTCACATATCTATGACA', 'TGTGCAGTAACGACGATT',\n",
       "        'TGTGCCATGATAAGTTCG', 'TGTGCCATGGTCCGCTCA', 'TGTGGTCCTGCTTCTACG',\n",
       "        'TTACACCTTCTGGACTAA', 'TTACCTCTCAGACATCCA', 'TTCACTGGATACCATGTA',\n",
       "        'TTCAGTGCCTCTGGAGGA', 'TTCCGCCAGACTATCCTG', 'TTCCTGCTAATGCGCCGT',\n",
       "        'TTCGCATCCTAGACCATG', 'TTCGGAGTCGGAACCTAG', 'TTCGTGATGACTACCATC',\n",
       "        'TTCGTGATGGATTGGAAG', 'TTCTGCCGACATTGTTCA', 'TTCTGGTGCGATCGTTGA',\n",
       "        'TTCTGGTGCTGTAGGTTA', 'TTGAGCTCTAGGAATTGG', 'TTGATCGTATGTCATAGC',\n",
       "        'TTGATGAGTAGGTGCGAG', 'TTGCAGTCAGAACATGAC', 'TTGCCAGATGTTGCATGG',\n",
       "        'TTGCTCTGCTCGGATGTT', 'TTGTATCACCAATTGTCT', 'TTGTTAGAGAGCACACCT'],\n",
       "       dtype=object),\n",
       " 'filtered': array([0, 0, 0, 0, 0, 0, 0, 0, 0, 0, 0, 0, 0, 0, 0, 0, 0, 0, 0, 0, 0, 0,\n",
       "        0, 0, 0, 0, 0, 0, 0, 0, 0, 0, 0, 0, 0, 0, 0, 0, 0, 0, 0, 0, 0, 0,\n",
       "        0, 0, 0, 0, 0, 0, 0, 0, 0, 0, 0, 0, 0, 0, 0, 0, 0, 0, 0, 0, 0, 0,\n",
       "        0, 0, 0, 0, 0, 0, 0, 0, 0, 0, 0, 0, 0, 0, 0, 0, 0, 0, 0, 0, 0, 0,\n",
       "        0, 0, 0, 0, 0, 0, 0, 0, 0, 0, 0, 0, 0, 0, 0, 0, 0, 0, 0, 0, 0, 0,\n",
       "        0, 0, 0, 0, 0, 0, 0, 0, 0, 0, 0, 0, 0, 0, 0, 0, 0, 0, 0, 0, 0, 0,\n",
       "        0, 0, 0, 0, 0, 0, 0, 0, 0, 0, 0, 0, 0, 0, 0, 0, 0, 0, 0, 0, 0, 0,\n",
       "        0, 0, 0, 0, 0, 0, 0, 0, 0, 0, 0, 0, 0, 0, 0, 0, 0, 0, 0, 0, 0, 0,\n",
       "        0, 0, 0, 0, 0, 0, 0, 0, 0, 0, 0, 0, 0, 0, 0, 0, 0, 0, 0, 0, 0, 0,\n",
       "        0, 0, 0, 0, 0, 0, 0, 0, 0, 0, 0, 0, 0, 0, 0, 0, 0, 0, 0, 0, 0, 0,\n",
       "        0, 0, 0, 0, 0, 0, 0, 0, 0, 0, 0, 0, 0, 0, 0, 0, 0, 0, 0, 0, 0, 0,\n",
       "        0, 0, 0, 0, 0, 0, 0, 0, 0, 0, 0, 0, 0, 0, 0, 0, 0, 0, 0, 0, 0, 0,\n",
       "        0, 0, 0, 0, 0, 0, 0, 0, 0, 0, 0, 0, 0, 0, 0, 0, 0, 0, 0, 0, 0, 0,\n",
       "        0, 0, 0, 0, 0, 0, 0, 0, 0, 0, 0, 0, 0, 0, 0, 0, 0, 0, 0, 0, 0, 0,\n",
       "        0, 0, 0, 0, 0, 0, 0, 0, 0, 0, 0, 0, 0, 0, 0, 0, 0, 0, 0, 0, 0, 0,\n",
       "        0, 0, 0, 0, 0, 0, 0, 0, 0, 0, 0, 0, 0, 0, 0, 0, 0, 0, 0, 0, 0, 0,\n",
       "        0, 0, 0, 0, 0, 0, 0, 0, 0, 0, 0, 0, 0, 0, 0, 0, 0, 0, 0, 0, 0, 0,\n",
       "        0, 0, 0, 0, 0, 0, 0, 0, 0, 0, 0, 0, 0, 0, 0, 0, 0, 0, 0],\n",
       "       dtype=uint8),\n",
       " 'sample_name': array(['5-M-001', '5-M-001', '5-M-001', '5-M-001', '5-M-001', '5-M-001',\n",
       "        '5-M-001', '5-M-001', '5-M-001', '5-M-001', '5-M-001', '5-M-001',\n",
       "        '5-M-001', '5-M-001', '5-M-001', '5-M-001', '5-M-001', '5-M-001',\n",
       "        '5-M-001', '5-M-001', '5-M-001', '5-M-001', '5-M-001', '5-M-001',\n",
       "        '5-M-001', '5-M-001', '5-M-001', '5-M-001', '5-M-001', '5-M-001',\n",
       "        '5-M-001', '5-M-001', '5-M-001', '5-M-001', '5-M-001', '5-M-001',\n",
       "        '5-M-001', '5-M-001', '5-M-001', '5-M-001', '5-M-001', '5-M-001',\n",
       "        '5-M-001', '5-M-001', '5-M-001', '5-M-001', '5-M-001', '5-M-001',\n",
       "        '5-M-001', '5-M-001', '5-M-001', '5-M-001', '5-M-001', '5-M-001',\n",
       "        '5-M-001', '5-M-001', '5-M-001', '5-M-001', '5-M-001', '5-M-001',\n",
       "        '5-M-001', '5-M-001', '5-M-001', '5-M-001', '5-M-001', '5-M-001',\n",
       "        '5-M-001', '5-M-001', '5-M-001', '5-M-001', '5-M-001', '5-M-001',\n",
       "        '5-M-001', '5-M-001', '5-M-001', '5-M-001', '5-M-001', '5-M-001',\n",
       "        '5-M-001', '5-M-001', '5-M-001', '5-M-001', '5-M-001', '5-M-001',\n",
       "        '5-M-001', '5-M-001', '5-M-001', '5-M-001', '5-M-001', '5-M-001',\n",
       "        '5-M-001', '5-M-001', '5-M-001', '5-M-001', '5-M-001', '5-M-001',\n",
       "        '5-M-001', '5-M-001', '5-M-001', '5-M-001', '5-M-001', '5-M-001',\n",
       "        '5-M-001', '5-M-001', '5-M-001', '5-M-001', '5-M-001', '5-M-001',\n",
       "        '5-M-001', '5-M-001', '5-M-001', '5-M-001', '5-M-001', '5-M-001',\n",
       "        '5-M-001', '5-M-001', '5-M-001', '5-M-001', '5-M-001', '5-M-001',\n",
       "        '5-M-001', '5-M-001', '5-M-001', '5-M-001', '5-M-001', '5-M-001',\n",
       "        '5-M-001', '5-M-001', '5-M-001', '5-M-001', '5-M-001', '5-M-001',\n",
       "        '5-M-001', '5-M-001', '5-M-001', '5-M-001', '5-M-001', '5-M-001',\n",
       "        '5-M-001', '5-M-001', '5-M-001', '5-M-001', '5-M-001', '5-M-001',\n",
       "        '5-M-001', '5-M-001', '5-M-001', '5-M-001', '5-M-001', '5-M-001',\n",
       "        '5-M-001', '5-M-001', '5-M-001', '5-M-001', '5-M-001', '5-M-001',\n",
       "        '5-M-001', '5-M-001', '5-M-001', '5-M-001', '5-M-001', '5-M-001',\n",
       "        '5-M-001', '5-M-001', '5-M-001', '5-M-001', '5-M-001', '5-M-001',\n",
       "        '5-M-001', '5-M-001', '5-M-001', '5-M-001', '5-M-001', '5-M-001',\n",
       "        '5-M-001', '5-M-001', '5-M-001', '5-M-001', '5-M-001', '5-M-001',\n",
       "        '5-M-001', '5-M-001', '5-M-001', '5-M-001', '5-M-001', '5-M-001',\n",
       "        '5-M-001', '5-M-001', '5-M-001', '5-M-001', '5-M-001', '5-M-001',\n",
       "        '5-M-001', '5-M-001', '5-M-001', '5-M-001', '5-M-001', '5-M-001',\n",
       "        '5-M-001', '5-M-001', '5-M-001', '5-M-001', '5-M-001', '5-M-001',\n",
       "        '5-M-001', '5-M-001', '5-M-001', '5-M-001', '5-M-001', '5-M-001',\n",
       "        '5-M-001', '5-M-001', '5-M-001', '5-M-001', '5-M-001', '5-M-001',\n",
       "        '5-M-001', '5-M-001', '5-M-001', '5-M-001', '5-M-001', '5-M-001',\n",
       "        '5-M-001', '5-M-001', '5-M-001', '5-M-001', '5-M-001', '5-M-001',\n",
       "        '5-M-001', '5-M-001', '5-M-001', '5-M-001', '5-M-001', '5-M-001',\n",
       "        '5-M-001', '5-M-001', '5-M-001', '5-M-001', '5-M-001', '5-M-001',\n",
       "        '5-M-001', '5-M-001', '5-M-001', '5-M-001', '5-M-001', '5-M-001',\n",
       "        '5-M-001', '5-M-001', '5-M-001', '5-M-001', '5-M-001', '5-M-001',\n",
       "        '5-M-001', '5-M-001', '5-M-001', '5-M-001', '5-M-001', '5-M-001',\n",
       "        '5-M-001', '5-M-001', '5-M-001', '5-M-001', '5-M-001', '5-M-001',\n",
       "        '5-M-001', '5-M-001', '5-M-001', '5-M-001', '5-M-001', '5-M-001',\n",
       "        '5-M-001', '5-M-001', '5-M-001', '5-M-001', '5-M-001', '5-M-001',\n",
       "        '5-M-001', '5-M-001', '5-M-001', '5-M-001', '5-M-001', '5-M-001',\n",
       "        '5-M-001', '5-M-001', '5-M-001', '5-M-001', '5-M-001', '5-M-001',\n",
       "        '5-M-001', '5-M-001', '5-M-001', '5-M-001', '5-M-001', '5-M-001',\n",
       "        '5-M-001', '5-M-001', '5-M-001', '5-M-001', '5-M-001', '5-M-001',\n",
       "        '5-M-001', '5-M-001', '5-M-001', '5-M-001', '5-M-001', '5-M-001',\n",
       "        '5-M-001', '5-M-001', '5-M-001', '5-M-001', '5-M-001', '5-M-001',\n",
       "        '5-M-001', '5-M-001', '5-M-001', '5-M-001', '5-M-001', '5-M-001',\n",
       "        '5-M-001', '5-M-001', '5-M-001', '5-M-001', '5-M-001', '5-M-001',\n",
       "        '5-M-001', '5-M-001', '5-M-001', '5-M-001', '5-M-001', '5-M-001',\n",
       "        '5-M-001', '5-M-001', '5-M-001', '5-M-001', '5-M-001', '5-M-001',\n",
       "        '5-M-001', '5-M-001', '5-M-001', '5-M-001', '5-M-001', '5-M-001',\n",
       "        '5-M-001', '5-M-001', '5-M-001', '5-M-001', '5-M-001', '5-M-001',\n",
       "        '5-M-001', '5-M-001', '5-M-001', '5-M-001', '5-M-001', '5-M-001',\n",
       "        '5-M-001', '5-M-001', '5-M-001', '5-M-001', '5-M-001', '5-M-001',\n",
       "        '5-M-001', '5-M-001', '5-M-001', '5-M-001', '5-M-001', '5-M-001',\n",
       "        '5-M-001', '5-M-001', '5-M-001', '5-M-001', '5-M-001', '5-M-001',\n",
       "        '5-M-001', '5-M-001', '5-M-001', '5-M-001', '5-M-001', '5-M-001',\n",
       "        '5-M-001', '5-M-001', '5-M-001', '5-M-001', '5-M-001', '5-M-001',\n",
       "        '5-M-001', '5-M-001', '5-M-001', '5-M-001', '5-M-001', '5-M-001',\n",
       "        '5-M-001', '5-M-001', '5-M-001'], dtype=object),\n",
       " 'label': array(['1', '1', '1', '1', '1', '1', '1', '1', '1', '1', '1', '1', '1',\n",
       "        '1', '1', '1', '1', '1', '1', '1', '1', '1', '1', '1', '1', '1',\n",
       "        '1', '1', '1', '1', '1', '1', '1', '1', '1', '1', '1', '1', '1',\n",
       "        '1', '1', '1', '1', '1', '1', '1', '1', '1', '1', '1', '1', '1',\n",
       "        '1', '1', '1', '1', '1', '1', '1', '1', '1', '1', '1', '1', '1',\n",
       "        '1', '1', '1', '1', '1', '1', '1', '1', '1', '1', '1', '1', '1',\n",
       "        '1', '1', '1', '1', '1', '1', '1', '1', '1', '1', '1', '1', '1',\n",
       "        '1', '1', '1', '1', '1', '1', '1', '1', '1', '1', '1', '1', '1',\n",
       "        '1', '1', '1', '1', '1', '1', '1', '1', '1', '1', '1', '1', '1',\n",
       "        '1', '1', '1', '1', '1', '1', '1', '1', '1', '1', '1', '1', '1',\n",
       "        '1', '1', '1', '1', '1', '1', '1', '1', '1', '1', '1', '1', '1',\n",
       "        '1', '1', '1', '1', '1', '1', '1', '1', '1', '1', '1', '1', '1',\n",
       "        '1', '1', '1', '1', '1', '1', '1', '1', '1', '1', '1', '1', '1',\n",
       "        '1', '1', '1', '1', '1', '1', '1', '1', '1', '1', '1', '1', '1',\n",
       "        '1', '1', '1', '1', '1', '1', '1', '1', '1', '1', '1', '1', '1',\n",
       "        '1', '1', '1', '1', '1', '1', '1', '1', '1', '1', '1', '1', '1',\n",
       "        '1', '1', '1', '1', '1', '1', '1', '1', '1', '1', '1', '1', '1',\n",
       "        '1', '1', '1', '1', '1', '1', '1', '1', '1', '1', '1', '1', '1',\n",
       "        '1', '1', '1', '1', '1', '1', '1', '1', '1', '1', '1', '1', '1',\n",
       "        '1', '1', '1', '1', '1', '1', '1', '1', '1', '1', '1', '1', '1',\n",
       "        '1', '1', '1', '1', '1', '1', '1', '1', '1', '1', '1', '1', '1',\n",
       "        '1', '1', '1', '1', '1', '1', '1', '1', '1', '1', '1', '1', '1',\n",
       "        '1', '1', '1', '1', '1', '1', '1', '1', '1', '1', '1', '1', '1',\n",
       "        '1', '1', '1', '1', '1', '1', '1', '1', '1', '1', '1', '1', '1',\n",
       "        '1', '1', '1', '1', '1', '1', '1', '1', '1', '1', '1', '1', '1',\n",
       "        '1', '1', '1', '1', '1', '1', '1', '1', '1', '1', '1', '1', '1',\n",
       "        '1', '1', '1', '1', '1', '1', '1', '1', '1', '1', '1', '1', '1',\n",
       "        '1', '1', '1', '1', '1', '1', '1', '1', '1', '1', '1', '1', '1',\n",
       "        '1', '1', '1', '1', '1', '1', '1', '1', '1', '1', '1', '1', '1',\n",
       "        '1', '1', '1', '1', '1', '1', '1', '1', '1', '1', '1', '1', '1',\n",
       "        '1', '1', '1'], dtype=object),\n",
       " 'umap': array([[-1.15596020e+00,  4.36070204e+00],\n",
       "        [-1.45703316e-01, -7.75194216e+00],\n",
       "        [ 7.21504211e+00,  2.86986542e+00],\n",
       "        [-4.43785477e+00, -1.35044724e-01],\n",
       "        [-3.44295919e-01,  3.63954306e+00],\n",
       "        [-4.19014502e+00, -6.76442921e-01],\n",
       "        [ 1.23905849e+00,  1.40360045e+00],\n",
       "        [-2.49612522e+00,  1.64842272e+00],\n",
       "        [ 3.30145574e+00, -5.22703552e+00],\n",
       "        [-2.30841935e-01, -4.94833899e+00],\n",
       "        [-5.74027348e+00,  2.35561061e+00],\n",
       "        [-4.22529364e+00, -1.27345335e+00],\n",
       "        [-4.85766888e-01, -6.13068628e+00],\n",
       "        [-2.86852177e-02,  5.89532852e+00],\n",
       "        [ 7.84145641e+00,  4.17110729e+00],\n",
       "        [ 1.98411912e-01,  7.16565371e+00],\n",
       "        [ 3.66618347e+00, -8.38162613e+00],\n",
       "        [-4.32185459e+00,  4.45588684e+00],\n",
       "        [-2.39766932e+00,  5.91981983e+00],\n",
       "        [-2.62437940e+00,  2.98966944e-01],\n",
       "        [-1.06880178e+01, -5.51294565e+00],\n",
       "        [-3.09099793e+00,  1.16880429e+00],\n",
       "        [-3.12003940e-01,  8.31812191e+00],\n",
       "        [ 5.70735097e-01,  3.05419827e+00],\n",
       "        [ 8.85182285e+00, -2.86318600e-01],\n",
       "        [ 2.51785254e+00, -8.52174568e+00],\n",
       "        [-3.95020425e-01, -6.62835312e+00],\n",
       "        [ 2.60545754e+00,  5.68817854e+00],\n",
       "        [-1.69648290e-01, -6.57002211e+00],\n",
       "        [-1.01997700e+01, -7.92645454e+00],\n",
       "        [ 3.08747482e+00, -8.43719864e+00],\n",
       "        [ 7.47206509e-01,  4.04622793e+00],\n",
       "        [ 4.48682356e+00, -6.13604450e+00],\n",
       "        [-3.69579434e+00, -7.71752238e-01],\n",
       "        [ 6.64735126e+00,  3.01464343e+00],\n",
       "        [-5.93972683e-01,  8.54984951e+00],\n",
       "        [ 8.63020897e+00,  1.52496696e+00],\n",
       "        [ 6.88130188e+00, -4.58207428e-01],\n",
       "        [-2.00436187e+00,  3.34737086e+00],\n",
       "        [-5.89290905e+00,  2.70309925e+00],\n",
       "        [ 8.41671848e+00,  1.12294900e+00],\n",
       "        [-9.44659901e+00, -6.47405148e+00],\n",
       "        [-1.82890463e+00,  8.60761046e-01],\n",
       "        [-3.73120046e+00, -1.24417648e-01],\n",
       "        [ 1.74272633e+00,  4.92056656e+00],\n",
       "        [ 3.73959160e+00, -8.15304565e+00],\n",
       "        [ 1.76525307e+00, -5.44329882e+00],\n",
       "        [ 3.00663829e-01, -5.18133116e+00],\n",
       "        [-6.05379772e+00,  2.78564477e+00],\n",
       "        [ 5.19066381e+00, -6.78514719e+00],\n",
       "        [ 6.58429098e+00,  2.46003461e+00],\n",
       "        [ 3.35064769e+00, -5.04050350e+00],\n",
       "        [-5.72325408e-01,  4.76876307e+00],\n",
       "        [-1.07935262e+00,  1.64407849e+00],\n",
       "        [-6.13293290e-01,  6.49473906e+00],\n",
       "        [ 2.75984383e+00, -8.94767570e+00],\n",
       "        [-5.66102229e-02, -8.82823110e-01],\n",
       "        [ 1.56463385e+00, -8.01293278e+00],\n",
       "        [ 2.15427876e+00, -6.73813057e+00],\n",
       "        [-3.83087158e+00, -9.30767775e-01],\n",
       "        [-1.59506094e+00,  4.69680595e+00],\n",
       "        [-1.10160506e+00,  5.99421263e+00],\n",
       "        [ 6.31064534e-01, -7.28776169e+00],\n",
       "        [-2.59606576e+00,  3.61036658e-01],\n",
       "        [ 6.68894100e+00,  1.81016397e+00],\n",
       "        [ 4.65425587e+00, -6.86321259e+00],\n",
       "        [-1.07727890e+01, -6.31692982e+00],\n",
       "        [-9.07312489e+00, -6.76882219e+00],\n",
       "        [-1.04582844e+01, -5.92537785e+00],\n",
       "        [ 1.01707673e+00, -7.64990044e+00],\n",
       "        [ 1.12005305e+00,  3.85028243e+00],\n",
       "        [-8.39870572e-01,  1.24335074e+00],\n",
       "        [-6.92253113e-02,  5.41162014e+00],\n",
       "        [-9.69497681e+00, -4.90988922e+00],\n",
       "        [ 1.15607095e+00, -6.89894104e+00],\n",
       "        [-2.68484163e+00,  7.78818035e+00],\n",
       "        [-1.10790348e+01, -7.69316101e+00],\n",
       "        [ 7.17253149e-01,  4.08014536e+00],\n",
       "        [-2.67689371e+00,  2.27231622e+00],\n",
       "        [-8.23670864e-01, -4.29356575e-01],\n",
       "        [ 1.77242899e+00,  5.28210354e+00],\n",
       "        [ 2.07326508e+00, -8.41680431e+00],\n",
       "        [-4.01491117e+00,  3.21302438e+00],\n",
       "        [ 7.64263201e+00,  7.71728516e-01],\n",
       "        [ 7.20289612e+00,  3.35671377e+00],\n",
       "        [ 2.35905695e+00, -7.55748558e+00],\n",
       "        [ 3.37840915e+00, -5.04355335e+00],\n",
       "        [-1.98045433e-01, -4.94361997e-01],\n",
       "        [-4.63983268e-01,  8.11827087e+00],\n",
       "        [ 2.90947580e+00, -4.86627245e+00],\n",
       "        [ 7.41370261e-01, -7.77376175e+00],\n",
       "        [-1.05167542e+01, -7.32983065e+00],\n",
       "        [-1.73256052e+00,  4.73685217e+00],\n",
       "        [-1.04508781e+01, -7.76400328e+00],\n",
       "        [-1.95566404e+00,  4.90384638e-01],\n",
       "        [ 6.86463165e+00,  1.03826374e-01],\n",
       "        [-9.06383896e+00, -6.47049856e+00],\n",
       "        [-2.63212466e+00,  7.42189646e+00],\n",
       "        [ 2.88145208e+00,  5.23134995e+00],\n",
       "        [ 7.33741570e+00, -3.87747884e-01],\n",
       "        [ 5.44290590e+00,  3.55015540e+00],\n",
       "        [ 2.37714514e-01,  5.90361786e+00],\n",
       "        [ 4.72857618e+00,  4.23470408e-01],\n",
       "        [ 1.38377666e+00, -4.05714214e-01],\n",
       "        [-2.66943979e+00,  4.58840752e+00],\n",
       "        [ 5.75405407e+00,  4.40501541e-01],\n",
       "        [ 9.12911987e+00, -4.48394179e-01],\n",
       "        [-1.35833168e+00,  3.32866168e+00],\n",
       "        [-1.40963064e-03, -1.94146201e-01],\n",
       "        [-2.53606892e+00,  6.92935991e+00],\n",
       "        [-3.32263088e+00,  7.14023876e+00],\n",
       "        [-3.00244188e+00,  7.48457527e+00],\n",
       "        [-1.08105392e+01, -5.30071020e+00],\n",
       "        [-1.00507812e+01, -6.83801746e+00],\n",
       "        [-8.94727421e+00, -7.29349232e+00],\n",
       "        [ 9.28079009e-01,  4.89463663e+00],\n",
       "        [ 2.23936462e+00,  6.04368734e+00],\n",
       "        [-9.31015909e-01,  1.02687323e+00],\n",
       "        [-2.72520632e-01,  1.72891450e+00],\n",
       "        [ 5.90393186e-01, -7.54743671e+00],\n",
       "        [ 5.90355349e+00,  6.50773346e-01],\n",
       "        [-4.85710651e-01,  5.24594903e-01],\n",
       "        [ 5.33918858e+00, -6.83821917e+00],\n",
       "        [-2.78292131e+00, -9.63711441e-01],\n",
       "        [-1.88210917e+00,  3.82201171e+00],\n",
       "        [ 3.17091560e+00, -7.58582306e+00],\n",
       "        [ 5.08868158e-01, -6.81338120e+00],\n",
       "        [ 7.87266970e+00,  5.57218909e-01],\n",
       "        [-4.92291260e+00,  2.43495989e+00],\n",
       "        [-2.76853502e-01,  5.59896517e+00],\n",
       "        [ 2.63743114e+00,  4.16557026e+00],\n",
       "        [ 9.08410931e+00,  7.04367459e-01],\n",
       "        [-2.92221382e-02, -6.32224178e+00],\n",
       "        [-1.02158070e+01, -5.98865032e+00],\n",
       "        [ 5.75342357e-01,  2.41213751e+00],\n",
       "        [-2.06292033e+00, -6.80316687e-01],\n",
       "        [ 1.83984920e-01, -7.12214231e+00],\n",
       "        [-9.47481251e+00, -6.63498783e+00],\n",
       "        [-3.92104530e+00,  2.68983555e+00],\n",
       "        [ 1.96217012e+00,  5.01604128e+00],\n",
       "        [ 6.35881138e+00, -8.61275911e-01],\n",
       "        [ 1.07092893e+00, -6.46340251e-01],\n",
       "        [ 2.57910061e+00,  5.20170021e+00],\n",
       "        [-1.03497009e+01, -6.11711788e+00],\n",
       "        [-4.10681486e+00,  3.60316968e+00],\n",
       "        [ 1.41086292e+00, -6.33628416e+00],\n",
       "        [ 1.64837134e+00,  2.27226305e+00],\n",
       "        [-8.83236766e-01,  5.50326586e+00],\n",
       "        [-8.98122883e+00, -6.98174429e+00],\n",
       "        [-1.07145977e+01, -7.25757694e+00],\n",
       "        [-1.09648695e+01, -7.32710886e+00],\n",
       "        [ 2.73989916e-01, -7.26734924e+00],\n",
       "        [ 8.77368093e-01,  7.24308872e+00],\n",
       "        [-1.13776541e+01, -5.67222786e+00],\n",
       "        [ 2.59823227e+00,  5.45738935e+00],\n",
       "        [ 1.08237815e+00,  9.44629498e-03],\n",
       "        [-1.08607397e+01, -6.31864309e+00],\n",
       "        [-5.37418723e-01,  2.78810120e+00],\n",
       "        [-3.55158925e+00,  7.97818303e-01],\n",
       "        [-6.32758796e-01,  7.62554467e-01],\n",
       "        [-2.18184233e+00,  1.25526524e+00],\n",
       "        [-3.34325695e+00,  7.29832768e-01],\n",
       "        [-8.73133087e+00, -6.51672840e+00],\n",
       "        [ 6.84684372e+00,  2.10245162e-01],\n",
       "        [-1.97604132e+00,  7.99394131e+00],\n",
       "        [-8.45717072e-01,  8.21520996e+00],\n",
       "        [ 2.31191015e+00,  5.21936798e+00],\n",
       "        [ 1.22254349e-01,  4.14119387e+00],\n",
       "        [-5.90040874e+00,  2.87030649e+00],\n",
       "        [-2.81211758e+00,  5.64919186e+00],\n",
       "        [-9.44217324e-01,  2.36817002e+00],\n",
       "        [ 8.14312458e+00,  1.99463010e+00],\n",
       "        [-2.66120195e-01, -1.63035882e+00],\n",
       "        [ 8.92076683e+00, -7.95033574e-02],\n",
       "        [ 1.31056440e+00, -4.10392940e-01],\n",
       "        [ 4.37123394e+00,  7.18634605e-01],\n",
       "        [-1.48466319e-01, -6.32928944e+00],\n",
       "        [-1.25237584e+00, -4.60975599e+00],\n",
       "        [-3.75946283e+00,  5.42470026e+00],\n",
       "        [ 5.05428410e+00, -7.18876648e+00],\n",
       "        [ 2.95427370e+00, -8.61686325e+00],\n",
       "        [-9.81179428e+00, -4.88545513e+00],\n",
       "        [-8.26590717e-01,  5.58803082e+00],\n",
       "        [ 6.23916864e+00,  6.01343036e-01],\n",
       "        [ 5.72260284e+00,  7.04636693e-01],\n",
       "        [ 3.02076197e+00, -8.27918911e+00],\n",
       "        [-1.00257406e+01, -8.56153679e+00],\n",
       "        [ 2.44335866e+00, -8.70915031e+00],\n",
       "        [-5.52099991e+00,  3.48220563e+00],\n",
       "        [ 6.30037069e+00,  1.01634669e+00],\n",
       "        [ 9.19531918e+00,  3.98028761e-01],\n",
       "        [-3.65455717e-01,  6.08932686e+00],\n",
       "        [ 2.07336378e+00, -8.63362885e+00],\n",
       "        [ 8.48994160e+00,  1.99770200e+00],\n",
       "        [-3.71627903e+00, -8.18223119e-01],\n",
       "        [-3.94807398e-01,  7.14094257e+00],\n",
       "        [ 2.07452464e+00,  5.43197441e+00],\n",
       "        [ 1.28755701e+00,  2.65076280e-01],\n",
       "        [-9.82275295e+00, -6.98077488e+00],\n",
       "        [-1.70865297e+00,  7.38406658e+00],\n",
       "        [ 5.25176883e-01,  1.96618462e+00],\n",
       "        [ 6.72329378e+00,  2.47896290e+00],\n",
       "        [ 3.39798021e+00, -8.26675510e+00],\n",
       "        [-1.30010903e+00,  8.66349506e+00],\n",
       "        [-1.01371489e+01, -6.81302309e+00],\n",
       "        [-1.55156863e+00,  5.48695982e-01],\n",
       "        [ 1.49424934e+00,  1.06770062e+00],\n",
       "        [ 1.52972198e+00, -5.58419514e+00],\n",
       "        [ 5.12278175e+00, -7.08773375e+00],\n",
       "        [ 5.79617596e+00, -4.26698637e+00],\n",
       "        [-1.03902836e+01, -5.12924290e+00],\n",
       "        [-1.03379619e+00,  8.61992741e+00],\n",
       "        [-2.06201172e+00,  6.29866314e+00],\n",
       "        [ 5.61103868e+00,  3.69426465e+00],\n",
       "        [ 2.35445809e+00,  5.49414730e+00],\n",
       "        [ 5.14755201e+00, -7.24902630e+00],\n",
       "        [-1.07763872e+01, -7.24776459e+00],\n",
       "        [-9.13356972e+00, -6.81707621e+00],\n",
       "        [-1.47861576e+00,  2.42649603e+00],\n",
       "        [ 8.71611595e+00,  1.77306831e+00],\n",
       "        [ 6.29919097e-02, -3.57837296e+00],\n",
       "        [-2.07730472e-01, -5.82804441e+00],\n",
       "        [-4.04809445e-01,  4.35033512e+00],\n",
       "        [ 8.09422588e+00,  8.01100209e-02],\n",
       "        [ 3.36589956e+00, -7.36938524e+00],\n",
       "        [ 3.68713713e+00, -6.61062765e+00],\n",
       "        [ 2.89141327e-01,  7.48136473e+00],\n",
       "        [-3.63188362e+00, -5.62575400e-01],\n",
       "        [ 8.59831047e+00,  2.50716567e+00],\n",
       "        [-5.63949394e+00,  2.38744140e+00],\n",
       "        [-3.51317286e+00, -3.60657871e-02],\n",
       "        [ 8.66984940e+00, -5.48400022e-02],\n",
       "        [ 6.09737694e-01, -6.68014586e-01],\n",
       "        [ 6.06727540e-01, -6.22962427e+00],\n",
       "        [-5.81076336e+00,  1.98838580e+00],\n",
       "        [ 8.02460575e+00,  2.21953011e+00],\n",
       "        [-1.07092214e+00,  5.29412746e+00],\n",
       "        [-2.90938735e+00,  7.11173105e+00],\n",
       "        [-3.13867307e+00,  2.09260583e+00],\n",
       "        [ 5.10500050e+00, -7.33925581e+00],\n",
       "        [-3.13816166e+00,  1.66850507e+00],\n",
       "        [-1.35908341e+00,  7.50946999e+00],\n",
       "        [-2.37307131e-01, -1.85578847e+00],\n",
       "        [-2.68415833e+00, -1.42406154e+00],\n",
       "        [ 9.15630996e-01, -6.24244404e+00],\n",
       "        [ 7.55394995e-01,  1.59400892e+00],\n",
       "        [-3.98596495e-01,  4.26908302e+00],\n",
       "        [-1.95857525e+00,  6.31427097e+00],\n",
       "        [-1.61304188e+00,  7.59750462e+00],\n",
       "        [-1.55588973e+00,  6.93736267e+00],\n",
       "        [-1.01326656e+01, -7.06272221e+00],\n",
       "        [ 1.88138306e+00, -7.11366463e+00],\n",
       "        [ 2.42185116e+00, -7.39553547e+00],\n",
       "        [ 5.24271488e+00,  3.78306031e+00],\n",
       "        [-4.03857660e+00, -1.18783307e+00],\n",
       "        [ 5.32675934e+00, -6.99544144e+00],\n",
       "        [-1.77600336e+00, -1.81350219e+00],\n",
       "        [ 1.08372128e+00, -5.88985205e+00],\n",
       "        [-3.23400640e+00,  5.80742073e+00],\n",
       "        [ 3.27466249e+00, -7.57427692e+00],\n",
       "        [-4.11198807e+00,  2.24074268e+00],\n",
       "        [-1.05911493e+01, -7.38021946e+00],\n",
       "        [ 1.51496768e+00, -3.97282988e-01],\n",
       "        [ 2.11171880e-02,  7.46354055e+00],\n",
       "        [ 8.86311650e-01,  6.90783918e-01],\n",
       "        [-4.81687832e+00,  2.15098214e+00],\n",
       "        [-4.83796501e+00,  3.81049109e+00],\n",
       "        [ 8.00723743e+00,  3.69353986e+00],\n",
       "        [ 8.85234451e+00, -1.62377432e-01],\n",
       "        [-5.81529093e+00,  2.75076270e+00],\n",
       "        [ 6.88286686e+00, -4.76993471e-01],\n",
       "        [ 6.10504709e-02, -6.16204262e+00],\n",
       "        [-7.48328090e-01, -1.75377619e+00],\n",
       "        [-2.64028762e-03,  5.77141953e+00],\n",
       "        [ 2.30035707e-01,  7.72652721e+00],\n",
       "        [ 5.87644863e+00,  3.79645169e-01],\n",
       "        [ 1.24668622e+00,  4.07290363e+00],\n",
       "        [-3.92935842e-01,  8.33635521e+00],\n",
       "        [ 8.04600811e+00,  3.21784830e+00],\n",
       "        [ 1.48624516e+00,  1.70484602e+00],\n",
       "        [ 1.87886381e+00,  3.27858329e+00],\n",
       "        [ 4.71609235e-01,  7.36209631e+00],\n",
       "        [ 8.38426888e-01,  1.45921576e+00],\n",
       "        [-4.02833939e-01,  8.29891586e+00],\n",
       "        [ 2.85531163e+00, -7.94191122e+00],\n",
       "        [ 2.88487649e+00, -7.65892506e+00],\n",
       "        [-3.15997791e+00,  4.21588242e-01],\n",
       "        [ 2.40557641e-02,  5.74842834e+00],\n",
       "        [-1.93051565e+00,  8.04484272e+00],\n",
       "        [-3.11792397e+00,  7.05143976e+00],\n",
       "        [-9.32089686e-01,  5.46352148e+00],\n",
       "        [ 8.19110966e+00,  1.54026091e-01],\n",
       "        [ 8.66637135e+00, -5.85699856e-01],\n",
       "        [-1.30457652e+00,  5.02874899e+00],\n",
       "        [-1.09786406e+01, -6.27909136e+00],\n",
       "        [ 2.37224650e+00, -8.31591034e+00],\n",
       "        [ 2.47176790e+00, -7.28246880e+00],\n",
       "        [ 8.34807777e+00, -1.41093671e-01],\n",
       "        [ 8.26175785e+00,  4.02373075e-01],\n",
       "        [-6.59666181e-01,  7.19265223e+00],\n",
       "        [ 6.54149771e+00,  9.11011100e-01],\n",
       "        [ 3.36816490e-01, -3.35287213e-01],\n",
       "        [ 7.84747028e+00,  2.06838346e+00],\n",
       "        [ 7.73831010e-02, -7.69994640e+00],\n",
       "        [-1.06097293e+00,  1.28050268e+00],\n",
       "        [-3.36068583e+00,  6.38434601e+00],\n",
       "        [ 1.00836492e+00, -6.06568718e+00],\n",
       "        [ 7.39012957e+00,  1.11901009e+00],\n",
       "        [ 1.94898918e-01,  1.14329469e+00],\n",
       "        [ 6.83026552e-01,  5.15847874e+00],\n",
       "        [-9.68012810e+00, -6.17583942e+00],\n",
       "        [ 7.24512637e-01,  3.43691826e+00],\n",
       "        [-6.82308972e-01,  3.29840517e+00],\n",
       "        [ 2.16896129e+00,  6.18783760e+00],\n",
       "        [-2.07296848e+00,  6.21114635e+00],\n",
       "        [-3.75243008e-01, -1.76312494e+00],\n",
       "        [-2.85999060e+00, -1.47983372e+00],\n",
       "        [-1.39828706e+00,  2.60588121e+00],\n",
       "        [ 7.91663933e+00,  3.05054641e+00],\n",
       "        [-7.21828043e-01, -1.41116154e+00],\n",
       "        [-1.79487574e+00, -3.48065764e-01],\n",
       "        [-2.97815585e+00,  4.58804321e+00],\n",
       "        [-1.97485507e+00,  7.74340725e+00],\n",
       "        [-1.01976871e+01, -6.85332251e+00],\n",
       "        [-2.44140363e+00,  7.68180847e+00],\n",
       "        [ 5.96006870e+00,  2.77170038e+00],\n",
       "        [ 4.68908596e+00,  6.72530591e-01],\n",
       "        [-1.39435482e+00,  4.50562525e+00],\n",
       "        [ 9.52221692e-01, -6.06344986e+00],\n",
       "        [-2.37121534e+00, -1.42015517e+00],\n",
       "        [ 6.21151829e+00,  1.37838066e+00],\n",
       "        [ 1.04824710e+00,  3.34069753e+00],\n",
       "        [-1.09831152e+01, -5.50071907e+00],\n",
       "        [-3.96481729e+00, -3.53928268e-01],\n",
       "        [-9.95269120e-01,  9.61053967e-01],\n",
       "        [-3.67254972e+00,  1.13332748e+00],\n",
       "        [ 4.81600571e+00, -7.32286882e+00],\n",
       "        [ 5.34831429e+00, -6.39258146e+00],\n",
       "        [ 2.48978114e+00,  5.39373350e+00],\n",
       "        [ 1.45101622e-01,  6.50791407e+00],\n",
       "        [ 7.01086521e+00,  2.90202475e+00],\n",
       "        [ 5.15901136e+00, -6.39090538e+00],\n",
       "        [-4.51942062e+00, -8.45188856e-01],\n",
       "        [-2.72922903e-01, -5.91290116e-01],\n",
       "        [ 4.64738339e-01,  6.54194355e-01],\n",
       "        [-5.28159618e+00,  2.16072750e+00],\n",
       "        [-3.24716210e-01, -1.76274312e+00],\n",
       "        [ 7.58699703e+00, -1.07400405e+00],\n",
       "        [ 8.17749786e+00,  1.42939711e+00],\n",
       "        [-9.85787201e+00, -6.44774723e+00],\n",
       "        [-5.36777854e-01, -1.89201102e-01],\n",
       "        [ 8.59731495e-01,  5.68414783e+00],\n",
       "        [-5.45705700e+00,  1.76220155e+00],\n",
       "        [ 8.77138996e+00,  3.52232575e-01],\n",
       "        [-3.72735500e+00,  3.47444296e-01],\n",
       "        [ 8.63894939e+00, -3.57589006e-01],\n",
       "        [ 7.03430605e+00,  2.20449638e+00],\n",
       "        [ 8.09601212e+00,  1.59951329e+00],\n",
       "        [ 1.37467802e+00,  1.13323283e+00],\n",
       "        [ 7.54884005e+00,  3.97766232e+00],\n",
       "        [ 8.79527703e-02,  7.33967018e+00],\n",
       "        [-4.01266098e+00,  2.98159033e-01],\n",
       "        [ 7.70967054e+00,  2.42392749e-01],\n",
       "        [ 7.76283073e+00,  2.04728031e+00],\n",
       "        [-3.92518222e-01,  5.59095430e+00],\n",
       "        [-9.28808212e+00, -6.98888779e+00],\n",
       "        [-1.86250901e+00,  6.17956066e+00],\n",
       "        [ 2.62676048e+00,  5.33005714e+00],\n",
       "        [ 5.27169657e+00,  4.04021740e+00],\n",
       "        [-3.74462152e+00,  6.46754503e-01],\n",
       "        [-1.64099240e+00,  1.23037684e+00],\n",
       "        [ 6.39532566e-01,  5.85581481e-01],\n",
       "        [ 2.84683180e+00, -7.26547623e+00],\n",
       "        [ 7.53112316e+00,  3.44343781e+00],\n",
       "        [-4.13081932e+00, -1.43514132e+00],\n",
       "        [-1.06231093e+00,  2.90276170e+00],\n",
       "        [-8.75491440e-01, -1.18941641e+00],\n",
       "        [-2.75264549e+00,  6.53428507e+00],\n",
       "        [ 2.20461464e+00,  4.89224243e+00],\n",
       "        [ 8.13229084e-01, -7.47389555e+00],\n",
       "        [ 7.77670908e+00,  3.36269736e+00],\n",
       "        [-1.03463612e+01, -6.80092239e+00],\n",
       "        [-3.80435276e+00,  6.91458702e-01],\n",
       "        [ 6.98767090e+00,  4.08377647e+00],\n",
       "        [-5.39873183e-01,  8.00833607e+00],\n",
       "        [-2.67848229e+00,  7.24161434e+00],\n",
       "        [ 1.22055101e+00, -6.77319574e+00],\n",
       "        [ 5.69446135e+00,  5.13263464e-01],\n",
       "        [ 2.14856005e+00, -6.97873116e+00],\n",
       "        [ 1.55317783e+00,  2.69786716e+00],\n",
       "        [-5.39066601e+00,  1.99682891e+00],\n",
       "        [ 2.45564127e+00, -7.67252922e+00],\n",
       "        [-1.06325169e+01, -6.45936441e+00]], dtype=float32)}"
      ]
     },
     "execution_count": 160,
     "metadata": {},
     "output_type": "execute_result"
    }
   ],
   "source": [
    "sample1.dna.row_attrs"
   ]
  },
  {
   "cell_type": "code",
   "execution_count": 161,
   "metadata": {},
   "outputs": [
    {
     "data": {
      "text/plain": [
       "'5M001_DNA_clones_umap.html'"
      ]
     },
     "execution_count": 161,
     "metadata": {},
     "output_type": "execute_result"
    }
   ],
   "source": [
    "plot(sample1.dna.scatterplot(attribute='umap', colorby='label'),filename='5M001_DNA_clones_umap.html')"
   ]
  },
  {
   "cell_type": "code",
   "execution_count": 162,
   "metadata": {},
   "outputs": [
    {
     "data": {
      "text/plain": [
       "{'barcode': array(['AACAACCTAATGTGAGAC', 'AACAACCTACATTGACAA', 'AACAACCTATCTGCGCTG',\n",
       "        ..., 'TTGTTAGAGCAAGTACGA', 'TTGTTAGAGCGAGCTTAC',\n",
       "        'TTGTTAGAGCTCTCAGTC'], dtype=object),\n",
       " 'filtered': array([0, 0, 0, ..., 0, 0, 0], dtype=uint8),\n",
       " 'sample_name': array(['4-I-001', '4-I-001', '4-I-001', ..., '4-I-001', '4-I-001',\n",
       "        '4-I-001'], dtype=object),\n",
       " 'label': array(['1', '1', '1', ..., '1', '1', '1'], dtype=object),\n",
       " 'umap': array([[ 5.970388 ,  4.768487 ],\n",
       "        [-1.4639139,  3.338553 ],\n",
       "        [-3.3415976,  7.3242598],\n",
       "        ...,\n",
       "        [-3.2055335,  7.4488   ],\n",
       "        [-4.4284744, -3.489266 ],\n",
       "        [-1.2973708, -2.8281605]], dtype=float32)}"
      ]
     },
     "execution_count": 162,
     "metadata": {},
     "output_type": "execute_result"
    }
   ],
   "source": [
    "sample2.dna.row_attrs"
   ]
  },
  {
   "cell_type": "code",
   "execution_count": 163,
   "metadata": {},
   "outputs": [
    {
     "data": {
      "text/plain": [
       "'4I001_DNA_clones_umap.html'"
      ]
     },
     "execution_count": 163,
     "metadata": {},
     "output_type": "execute_result"
    }
   ],
   "source": [
    "plot(sample2.dna.scatterplot(attribute='umap', colorby='label'),filename='4I001_DNA_clones_umap.html')"
   ]
  },
  {
   "cell_type": "markdown",
   "metadata": {},
   "source": [
    "### CNV Analysis"
   ]
  },
  {
   "cell_type": "code",
   "execution_count": 164,
   "metadata": {},
   "outputs": [],
   "source": [
    "sample1.cnv.normalize_reads()"
   ]
  },
  {
   "cell_type": "code",
   "execution_count": 165,
   "metadata": {},
   "outputs": [
    {
     "data": {
      "text/plain": [
       "'5M001_CNV_normalized-counts.html'"
      ]
     },
     "execution_count": 165,
     "metadata": {},
     "output_type": "execute_result"
    }
   ],
   "source": [
    "plot(sample1.cnv.heatmap(attribute='normalized_counts'),filename='5M001_CNV_normalized-counts.html')"
   ]
  },
  {
   "cell_type": "code",
   "execution_count": 166,
   "metadata": {},
   "outputs": [],
   "source": [
    "sample2.cnv.normalize_reads()"
   ]
  },
  {
   "cell_type": "code",
   "execution_count": 167,
   "metadata": {},
   "outputs": [
    {
     "data": {
      "text/plain": [
       "'4I001_CNV_normalized-counts.html'"
      ]
     },
     "execution_count": 167,
     "metadata": {},
     "output_type": "execute_result"
    }
   ],
   "source": [
    "plot(sample2.cnv.heatmap(attribute='normalized_counts'),filename='4I001_CNV_normalized-counts.html')"
   ]
  },
  {
   "cell_type": "markdown",
   "metadata": {},
   "source": [
    "### PCA Options"
   ]
  },
  {
   "cell_type": "raw",
   "metadata": {},
   "source": [
    "Here the UMAP options are kept constant\n",
    "The only parameter in PCA is the number of components\n",
    "\n",
    "Here we see how to determine this value, and the effect\n",
    "when we deviate from this value"
   ]
  },
  {
   "cell_type": "code",
   "execution_count": 221,
   "metadata": {},
   "outputs": [
    {
     "data": {
      "image/png": "[encoded data removed]",
      "text/plain": [
       "<Figure size 720x720 with 1 Axes>"
      ]
     },
     "metadata": {
      "needs_background": "light"
     },
     "output_type": "display_data"
    }
   ],
   "source": [
    "sample1.cnv.run_pca(attribute='normalized_counts', components=10, show_plot=True)"
   ]
  },
  {
   "cell_type": "code",
   "execution_count": 222,
   "metadata": {},
   "outputs": [],
   "source": [
    "sample1.cnv.run_umap(attribute='pca', min_dist=0.0001, n_neighbors=20) "
   ]
  },
  {
   "cell_type": "code",
   "execution_count": 223,
   "metadata": {},
   "outputs": [
    {
     "name": "stdout",
     "output_type": "stream",
     "text": [
      "Creating the Shared Nearest Neighbors graph.\n",
      "--------------------------------------------------\n",
      "###################################################\n",
      "Identifying clusters using Louvain community detection.\n",
      "\n",
      "Number of clusters found: 13.\n",
      "Modularity: 0.894\n"
     ]
    }
   ],
   "source": [
    "sample1.cnv.cluster(attribute='umap', method='graph-community', k=20) ## k as set at 10% number of cells, so for 393 cells 39.3 > 40; 5% = 20"
   ]
  },
  {
   "cell_type": "code",
   "execution_count": 224,
   "metadata": {},
   "outputs": [
    {
     "data": {
      "text/plain": [
       "'5M001_CNV_UMAP.html'"
      ]
     },
     "execution_count": 224,
     "metadata": {},
     "output_type": "execute_result"
    }
   ],
   "source": [
    "plot(sample1.cnv.scatterplot(attribute='umap', colorby='label'),filename='5M001_CNV_UMAP.html')"
   ]
  },
  {
   "cell_type": "raw",
   "metadata": {},
   "source": [
    "The result of the dimension reduction analysis is\n",
    "visualized using a scatterplot of the umap"
   ]
  },
  {
   "cell_type": "code",
   "execution_count": 225,
   "metadata": {},
   "outputs": [
    {
     "name": "stdout",
     "output_type": "stream",
     "text": [
      "Creating the Shared Nearest Neighbors graph.\n",
      "--------------------------------------------------\n",
      "###################################################\n",
      "Identifying clusters using Louvain community detection.\n",
      "\n",
      "Number of clusters found: 10.\n",
      "Modularity: 0.786\n"
     ]
    },
    {
     "data": {
      "image/png": "[encoded data removed]",
      "text/plain": [
       "<Figure size 720x720 with 1 Axes>"
      ]
     },
     "metadata": {
      "needs_background": "light"
     },
     "output_type": "display_data"
    }
   ],
   "source": [
    "sample2.cnv.run_pca(attribute='normalized_counts', components=10, show_plot=True)\n",
    "sample2.cnv.run_umap(attribute='pca', min_dist=0.0001, n_neighbors=20)\n",
    "sample2.cnv.cluster(attribute='umap', method='graph-community', k=395)  ## applying same 10% rule, 780; 5% = 395"
   ]
  },
  {
   "cell_type": "code",
   "execution_count": 226,
   "metadata": {},
   "outputs": [
    {
     "data": {
      "text/plain": [
       "'4I001_CNV_UMAP.html'"
      ]
     },
     "execution_count": 226,
     "metadata": {},
     "output_type": "execute_result"
    }
   ],
   "source": [
    "plot(sample2.cnv.scatterplot(attribute='umap', colorby='label'),filename='4I001_CNV_UMAP.html')"
   ]
  },
  {
   "cell_type": "markdown",
   "metadata": {},
   "source": [
    "### Protein Analysis"
   ]
  },
  {
   "cell_type": "code",
   "execution_count": 274,
   "metadata": {},
   "outputs": [
    {
     "name": "stdout",
     "output_type": "stream",
     "text": [
      "Creating the Shared Nearest Neighbors graph.\n",
      "--------------------------------------------------\n",
      "###################################################\n",
      "Identifying clusters using Louvain community detection.\n",
      "\n",
      "Number of clusters found: 8.\n",
      "Modularity: 0.638\n"
     ]
    }
   ],
   "source": [
    "sample1.protein.normalize_reads('CLR')\n",
    "sample1.protein.run_pca(attribute='normalized_counts', components=10)\n",
    "sample1.protein.run_umap(attribute='pca')\n",
    "sample1.protein.cluster(attribute='pca', method='graph-community', k=20)"
   ]
  },
  {
   "cell_type": "code",
   "execution_count": 275,
   "metadata": {},
   "outputs": [
    {
     "data": {
      "text/plain": [
       "'5M001_Protein_Heatmap_norm-counts.html'"
      ]
     },
     "execution_count": 275,
     "metadata": {},
     "output_type": "execute_result"
    }
   ],
   "source": [
    "plot(sample1.protein.heatmap(attribute='normalized_counts'),filename='5M001_Protein_Heatmap_norm-counts.html')"
   ]
  },
  {
   "cell_type": "code",
   "execution_count": 276,
   "metadata": {},
   "outputs": [
    {
     "data": {
      "text/plain": [
       "'5M001_Protein_UMAP.html'"
      ]
     },
     "execution_count": 276,
     "metadata": {},
     "output_type": "execute_result"
    }
   ],
   "source": [
    "plot(sample1.protein.scatterplot(attribute='umap', colorby='label'),filename='5M001_Protein_UMAP.html')"
   ]
  },
  {
   "cell_type": "code",
   "execution_count": 360,
   "metadata": {},
   "outputs": [],
   "source": [
    "umap5M = sample1.protein.get_attribute('umap')"
   ]
  },
  {
   "cell_type": "code",
   "execution_count": 361,
   "metadata": {},
   "outputs": [],
   "source": [
    "clusp5M = sample1.protein.get_attribute('label')"
   ]
  },
  {
   "cell_type": "code",
   "execution_count": 362,
   "metadata": {},
   "outputs": [],
   "source": [
    "AF5M = sample1.dna.get_attribute('AF')"
   ]
  },
  {
   "cell_type": "code",
   "execution_count": 363,
   "metadata": {},
   "outputs": [],
   "source": [
    "var5M = sample1.dna.ids()"
   ]
  },
  {
   "cell_type": "code",
   "execution_count": 367,
   "metadata": {},
   "outputs": [],
   "source": [
    "import pandas as pd"
   ]
  },
  {
   "cell_type": "code",
   "execution_count": 371,
   "metadata": {},
   "outputs": [],
   "source": [
    "dat5M = [umap5M[0], umap5M[1], clusp5M[0], AF5M[0], AF5M[1], AF5M[2], AF5M[3]]\n",
    "header5M = [\"umap1\",\"umap2\",\"clus\",var5M[0],var5M[1],var5M[2],var5M[3]]\n",
    "expt5M = pd.concat(dat5M, axis=1, keys=header5M)"
   ]
  },
  {
   "cell_type": "code",
   "execution_count": null,
   "metadata": {},
   "outputs": [],
   "source": [
    "expt5M.to_csv(\"5-M-001_exported_P-umpa_P-clus_AF-shortlist.csv\")"
   ]
  },
  {
   "cell_type": "code",
   "execution_count": 393,
   "metadata": {},
   "outputs": [],
   "source": [
    "protexp5M = sample1.protein.get_attribute('normalized_counts')"
   ]
  },
  {
   "cell_type": "code",
   "execution_count": 394,
   "metadata": {},
   "outputs": [],
   "source": [
    "protlabel = sample1.protein.ids()"
   ]
  },
  {
   "cell_type": "code",
   "execution_count": 428,
   "metadata": {},
   "outputs": [],
   "source": [
    "df_names= protlabel.tolist() #('Home', 'Work', 'Park')\n",
    "protexp5M.columns = df_names"
   ]
  },
  {
   "cell_type": "code",
   "execution_count": 436,
   "metadata": {},
   "outputs": [],
   "source": [
    "exptcts5M = pd.concat([expt5M, protexp5M], axis=1)"
   ]
  },
  {
   "cell_type": "code",
   "execution_count": 437,
   "metadata": {},
   "outputs": [
    {
     "data": {
      "text/html": [
       "<div>\n",
       "<style scoped>\n",
       "    .dataframe tbody tr th:only-of-type {\n",
       "        vertical-align: middle;\n",
       "    }\n",
       "\n",
       "    .dataframe tbody tr th {\n",
       "        vertical-align: top;\n",
       "    }\n",
       "\n",
       "    .dataframe thead th {\n",
       "        text-align: right;\n",
       "    }\n",
       "</style>\n",
       "<table border=\"1\" class=\"dataframe\">\n",
       "  <thead>\n",
       "    <tr style=\"text-align: right;\">\n",
       "      <th></th>\n",
       "      <th>umap1</th>\n",
       "      <th>umap2</th>\n",
       "      <th>clus</th>\n",
       "      <th>chr1:115258747:C/T</th>\n",
       "      <th>chr11:119149251:G/A</th>\n",
       "      <th>chr12:25398285:C/T</th>\n",
       "      <th>chr15:90631934:C/T</th>\n",
       "      <th>CD10</th>\n",
       "      <th>CD117</th>\n",
       "      <th>CD11b</th>\n",
       "      <th>...</th>\n",
       "      <th>CD7</th>\n",
       "      <th>CD71</th>\n",
       "      <th>CD8</th>\n",
       "      <th>CD83</th>\n",
       "      <th>CD90</th>\n",
       "      <th>FcεRIα</th>\n",
       "      <th>HLA-DR</th>\n",
       "      <th>IgG1</th>\n",
       "      <th>IgG2a</th>\n",
       "      <th>IgG2b</th>\n",
       "    </tr>\n",
       "  </thead>\n",
       "  <tbody>\n",
       "    <tr>\n",
       "      <th>0</th>\n",
       "      <td>2.954937</td>\n",
       "      <td>-7.829921</td>\n",
       "      <td>5</td>\n",
       "      <td>1.492537</td>\n",
       "      <td>0.0</td>\n",
       "      <td>1.851852</td>\n",
       "      <td>77.777778</td>\n",
       "      <td>-1.195544</td>\n",
       "      <td>5.763397</td>\n",
       "      <td>-0.237289</td>\n",
       "      <td>...</td>\n",
       "      <td>-0.930436</td>\n",
       "      <td>4.117486</td>\n",
       "      <td>-2.176373</td>\n",
       "      <td>-0.272135</td>\n",
       "      <td>0.572118</td>\n",
       "      <td>-2.387682</td>\n",
       "      <td>2.995733</td>\n",
       "      <td>-0.688296</td>\n",
       "      <td>-2.735989</td>\n",
       "      <td>0.462684</td>\n",
       "    </tr>\n",
       "    <tr>\n",
       "      <th>1</th>\n",
       "      <td>1.398165</td>\n",
       "      <td>3.825871</td>\n",
       "      <td>3</td>\n",
       "      <td>2.816901</td>\n",
       "      <td>100.0</td>\n",
       "      <td>1.960784</td>\n",
       "      <td>100.000000</td>\n",
       "      <td>1.092696</td>\n",
       "      <td>5.940112</td>\n",
       "      <td>1.449371</td>\n",
       "      <td>...</td>\n",
       "      <td>3.325012</td>\n",
       "      <td>4.946636</td>\n",
       "      <td>-2.932655</td>\n",
       "      <td>1.161689</td>\n",
       "      <td>-0.986745</td>\n",
       "      <td>-2.932655</td>\n",
       "      <td>1.599944</td>\n",
       "      <td>0.245398</td>\n",
       "      <td>-2.932655</td>\n",
       "      <td>-0.630070</td>\n",
       "    </tr>\n",
       "    <tr>\n",
       "      <th>2</th>\n",
       "      <td>-2.839685</td>\n",
       "      <td>5.405779</td>\n",
       "      <td>1</td>\n",
       "      <td>0.000000</td>\n",
       "      <td>0.0</td>\n",
       "      <td>65.277778</td>\n",
       "      <td>34.074074</td>\n",
       "      <td>0.760356</td>\n",
       "      <td>5.354403</td>\n",
       "      <td>0.729049</td>\n",
       "      <td>...</td>\n",
       "      <td>2.301045</td>\n",
       "      <td>6.127340</td>\n",
       "      <td>-1.305480</td>\n",
       "      <td>0.158776</td>\n",
       "      <td>0.938674</td>\n",
       "      <td>-0.612333</td>\n",
       "      <td>2.835077</td>\n",
       "      <td>-0.822053</td>\n",
       "      <td>-3.530104</td>\n",
       "      <td>0.314711</td>\n",
       "    </tr>\n",
       "    <tr>\n",
       "      <th>3</th>\n",
       "      <td>-1.951414</td>\n",
       "      <td>-8.164132</td>\n",
       "      <td>2</td>\n",
       "      <td>0.000000</td>\n",
       "      <td>0.0</td>\n",
       "      <td>1.190476</td>\n",
       "      <td>100.000000</td>\n",
       "      <td>-2.182227</td>\n",
       "      <td>6.658643</td>\n",
       "      <td>0.382722</td>\n",
       "      <td>...</td>\n",
       "      <td>0.351470</td>\n",
       "      <td>3.677989</td>\n",
       "      <td>-0.424369</td>\n",
       "      <td>-0.459460</td>\n",
       "      <td>0.140161</td>\n",
       "      <td>-3.098518</td>\n",
       "      <td>1.964077</td>\n",
       "      <td>-0.572789</td>\n",
       "      <td>-0.901293</td>\n",
       "      <td>-2.405370</td>\n",
       "    </tr>\n",
       "    <tr>\n",
       "      <th>4</th>\n",
       "      <td>-5.004294</td>\n",
       "      <td>-5.855010</td>\n",
       "      <td>7</td>\n",
       "      <td>0.581395</td>\n",
       "      <td>0.0</td>\n",
       "      <td>27.380952</td>\n",
       "      <td>63.030303</td>\n",
       "      <td>-0.543968</td>\n",
       "      <td>6.263967</td>\n",
       "      <td>-2.048045</td>\n",
       "      <td>...</td>\n",
       "      <td>2.250374</td>\n",
       "      <td>4.196284</td>\n",
       "      <td>-4.532952</td>\n",
       "      <td>-0.202218</td>\n",
       "      <td>1.814438</td>\n",
       "      <td>-3.434339</td>\n",
       "      <td>2.043518</td>\n",
       "      <td>-2.335727</td>\n",
       "      <td>-2.587041</td>\n",
       "      <td>0.295362</td>\n",
       "    </tr>\n",
       "    <tr>\n",
       "      <th>...</th>\n",
       "      <td>...</td>\n",
       "      <td>...</td>\n",
       "      <td>...</td>\n",
       "      <td>...</td>\n",
       "      <td>...</td>\n",
       "      <td>...</td>\n",
       "      <td>...</td>\n",
       "      <td>...</td>\n",
       "      <td>...</td>\n",
       "      <td>...</td>\n",
       "      <td>...</td>\n",
       "      <td>...</td>\n",
       "      <td>...</td>\n",
       "      <td>...</td>\n",
       "      <td>...</td>\n",
       "      <td>...</td>\n",
       "      <td>...</td>\n",
       "      <td>...</td>\n",
       "      <td>...</td>\n",
       "      <td>...</td>\n",
       "      <td>...</td>\n",
       "    </tr>\n",
       "    <tr>\n",
       "      <th>388</th>\n",
       "      <td>-5.614207</td>\n",
       "      <td>-5.104843</td>\n",
       "      <td>7</td>\n",
       "      <td>1.724138</td>\n",
       "      <td>100.0</td>\n",
       "      <td>0.000000</td>\n",
       "      <td>3.030303</td>\n",
       "      <td>-0.139082</td>\n",
       "      <td>5.942360</td>\n",
       "      <td>-0.192004</td>\n",
       "      <td>...</td>\n",
       "      <td>2.128891</td>\n",
       "      <td>3.928975</td>\n",
       "      <td>-1.769354</td>\n",
       "      <td>0.184047</td>\n",
       "      <td>1.689782</td>\n",
       "      <td>-3.615180</td>\n",
       "      <td>1.172311</td>\n",
       "      <td>-2.767882</td>\n",
       "      <td>-4.713793</td>\n",
       "      <td>-0.383059</td>\n",
       "    </tr>\n",
       "    <tr>\n",
       "      <th>389</th>\n",
       "      <td>4.592084</td>\n",
       "      <td>-4.705953</td>\n",
       "      <td>5</td>\n",
       "      <td>100.000000</td>\n",
       "      <td>0.0</td>\n",
       "      <td>1.234568</td>\n",
       "      <td>88.111888</td>\n",
       "      <td>-0.235150</td>\n",
       "      <td>4.749426</td>\n",
       "      <td>-2.018099</td>\n",
       "      <td>...</td>\n",
       "      <td>-1.784484</td>\n",
       "      <td>3.322471</td>\n",
       "      <td>-1.630333</td>\n",
       "      <td>-0.440749</td>\n",
       "      <td>0.821287</td>\n",
       "      <td>-1.070717</td>\n",
       "      <td>3.182141</td>\n",
       "      <td>-0.605829</td>\n",
       "      <td>-2.564642</td>\n",
       "      <td>0.389320</td>\n",
       "    </tr>\n",
       "    <tr>\n",
       "      <th>390</th>\n",
       "      <td>-0.906250</td>\n",
       "      <td>8.173592</td>\n",
       "      <td>5</td>\n",
       "      <td>6.410256</td>\n",
       "      <td>0.0</td>\n",
       "      <td>48.543689</td>\n",
       "      <td>46.774194</td>\n",
       "      <td>-0.273204</td>\n",
       "      <td>2.890156</td>\n",
       "      <td>-0.941536</td>\n",
       "      <td>...</td>\n",
       "      <td>2.434623</td>\n",
       "      <td>4.837007</td>\n",
       "      <td>-2.951549</td>\n",
       "      <td>0.441486</td>\n",
       "      <td>0.550854</td>\n",
       "      <td>-1.571370</td>\n",
       "      <td>1.746045</td>\n",
       "      <td>-0.298650</td>\n",
       "      <td>-2.880931</td>\n",
       "      <td>-0.995240</td>\n",
       "    </tr>\n",
       "    <tr>\n",
       "      <th>391</th>\n",
       "      <td>1.763643</td>\n",
       "      <td>-4.391731</td>\n",
       "      <td>2</td>\n",
       "      <td>0.000000</td>\n",
       "      <td>100.0</td>\n",
       "      <td>0.000000</td>\n",
       "      <td>11.666667</td>\n",
       "      <td>0.520375</td>\n",
       "      <td>6.771439</td>\n",
       "      <td>-0.274555</td>\n",
       "      <td>...</td>\n",
       "      <td>-1.815000</td>\n",
       "      <td>3.801165</td>\n",
       "      <td>-3.606760</td>\n",
       "      <td>-0.205562</td>\n",
       "      <td>1.540735</td>\n",
       "      <td>-2.508147</td>\n",
       "      <td>1.818190</td>\n",
       "      <td>-0.515717</td>\n",
       "      <td>-2.508147</td>\n",
       "      <td>0.004158</td>\n",
       "    </tr>\n",
       "    <tr>\n",
       "      <th>392</th>\n",
       "      <td>4.315930</td>\n",
       "      <td>-5.623863</td>\n",
       "      <td>5</td>\n",
       "      <td>0.000000</td>\n",
       "      <td>0.0</td>\n",
       "      <td>0.000000</td>\n",
       "      <td>7.058824</td>\n",
       "      <td>-0.756196</td>\n",
       "      <td>4.791474</td>\n",
       "      <td>-1.343982</td>\n",
       "      <td>...</td>\n",
       "      <td>-1.295192</td>\n",
       "      <td>3.819946</td>\n",
       "      <td>-4.339715</td>\n",
       "      <td>1.145082</td>\n",
       "      <td>1.916035</td>\n",
       "      <td>-1.343982</td>\n",
       "      <td>3.009516</td>\n",
       "      <td>-1.161661</td>\n",
       "      <td>-4.339715</td>\n",
       "      <td>-0.165327</td>\n",
       "    </tr>\n",
       "  </tbody>\n",
       "</table>\n",
       "<p>393 rows × 52 columns</p>\n",
       "</div>"
      ],
      "text/plain": [
       "        umap1     umap2 clus  chr1:115258747:C/T  chr11:119149251:G/A  \\\n",
       "0    2.954937 -7.829921    5            1.492537                  0.0   \n",
       "1    1.398165  3.825871    3            2.816901                100.0   \n",
       "2   -2.839685  5.405779    1            0.000000                  0.0   \n",
       "3   -1.951414 -8.164132    2            0.000000                  0.0   \n",
       "4   -5.004294 -5.855010    7            0.581395                  0.0   \n",
       "..        ...       ...  ...                 ...                  ...   \n",
       "388 -5.614207 -5.104843    7            1.724138                100.0   \n",
       "389  4.592084 -4.705953    5          100.000000                  0.0   \n",
       "390 -0.906250  8.173592    5            6.410256                  0.0   \n",
       "391  1.763643 -4.391731    2            0.000000                100.0   \n",
       "392  4.315930 -5.623863    5            0.000000                  0.0   \n",
       "\n",
       "     chr12:25398285:C/T  chr15:90631934:C/T      CD10     CD117     CD11b  \\\n",
       "0              1.851852           77.777778 -1.195544  5.763397 -0.237289   \n",
       "1              1.960784          100.000000  1.092696  5.940112  1.449371   \n",
       "2             65.277778           34.074074  0.760356  5.354403  0.729049   \n",
       "3              1.190476          100.000000 -2.182227  6.658643  0.382722   \n",
       "4             27.380952           63.030303 -0.543968  6.263967 -2.048045   \n",
       "..                  ...                 ...       ...       ...       ...   \n",
       "388            0.000000            3.030303 -0.139082  5.942360 -0.192004   \n",
       "389            1.234568           88.111888 -0.235150  4.749426 -2.018099   \n",
       "390           48.543689           46.774194 -0.273204  2.890156 -0.941536   \n",
       "391            0.000000           11.666667  0.520375  6.771439 -0.274555   \n",
       "392            0.000000            7.058824 -0.756196  4.791474 -1.343982   \n",
       "\n",
       "     ...       CD7      CD71       CD8      CD83      CD90    FcεRIα  \\\n",
       "0    ... -0.930436  4.117486 -2.176373 -0.272135  0.572118 -2.387682   \n",
       "1    ...  3.325012  4.946636 -2.932655  1.161689 -0.986745 -2.932655   \n",
       "2    ...  2.301045  6.127340 -1.305480  0.158776  0.938674 -0.612333   \n",
       "3    ...  0.351470  3.677989 -0.424369 -0.459460  0.140161 -3.098518   \n",
       "4    ...  2.250374  4.196284 -4.532952 -0.202218  1.814438 -3.434339   \n",
       "..   ...       ...       ...       ...       ...       ...       ...   \n",
       "388  ...  2.128891  3.928975 -1.769354  0.184047  1.689782 -3.615180   \n",
       "389  ... -1.784484  3.322471 -1.630333 -0.440749  0.821287 -1.070717   \n",
       "390  ...  2.434623  4.837007 -2.951549  0.441486  0.550854 -1.571370   \n",
       "391  ... -1.815000  3.801165 -3.606760 -0.205562  1.540735 -2.508147   \n",
       "392  ... -1.295192  3.819946 -4.339715  1.145082  1.916035 -1.343982   \n",
       "\n",
       "       HLA-DR      IgG1     IgG2a     IgG2b  \n",
       "0    2.995733 -0.688296 -2.735989  0.462684  \n",
       "1    1.599944  0.245398 -2.932655 -0.630070  \n",
       "2    2.835077 -0.822053 -3.530104  0.314711  \n",
       "3    1.964077 -0.572789 -0.901293 -2.405370  \n",
       "4    2.043518 -2.335727 -2.587041  0.295362  \n",
       "..        ...       ...       ...       ...  \n",
       "388  1.172311 -2.767882 -4.713793 -0.383059  \n",
       "389  3.182141 -0.605829 -2.564642  0.389320  \n",
       "390  1.746045 -0.298650 -2.880931 -0.995240  \n",
       "391  1.818190 -0.515717 -2.508147  0.004158  \n",
       "392  3.009516 -1.161661 -4.339715 -0.165327  \n",
       "\n",
       "[393 rows x 52 columns]"
      ]
     },
     "execution_count": 437,
     "metadata": {},
     "output_type": "execute_result"
    }
   ],
   "source": [
    "exptcts5M"
   ]
  },
  {
   "cell_type": "code",
   "execution_count": 442,
   "metadata": {},
   "outputs": [],
   "source": [
    "exptcts5M.to_csv(\"5-M-001_exported_P-umpa_P-clus_AF-shortlist_P-exp-all_2022-05-01.csv\")"
   ]
  },
  {
   "cell_type": "code",
   "execution_count": 441,
   "metadata": {},
   "outputs": [],
   "source": [
    "meanexp5M = exptcts5M.groupby('clus', as_index=False).mean()"
   ]
  },
  {
   "cell_type": "code",
   "execution_count": 443,
   "metadata": {},
   "outputs": [],
   "source": [
    "meanexp5M.to_csv(\"5-M-001_exported_P-umpa_P-clus_AF-shortlist_P-exp-means_2022-05-01.csv\")"
   ]
  },
  {
   "cell_type": "code",
   "execution_count": 236,
   "metadata": {},
   "outputs": [
    {
     "name": "stdout",
     "output_type": "stream",
     "text": [
      "Creating the Shared Nearest Neighbors graph.\n",
      "--------------------------------------------------\n",
      "###################################################\n",
      "Identifying clusters using Louvain community detection.\n",
      "\n",
      "Number of clusters found: 8.\n",
      "Modularity: 0.540\n"
     ]
    }
   ],
   "source": [
    "sample2.protein.normalize_reads('CLR')\n",
    "sample2.protein.run_pca(attribute='normalized_counts', components=10)\n",
    "sample2.protein.run_umap(attribute='pca', min_dist=0.0001, n_neighbors=20)\n",
    "sample2.protein.cluster(attribute='pca', method='graph-community', k=395)"
   ]
  },
  {
   "cell_type": "code",
   "execution_count": 237,
   "metadata": {},
   "outputs": [
    {
     "data": {
      "text/plain": [
       "'4I001_Protein_Heatmap_norm-counts.html'"
      ]
     },
     "execution_count": 237,
     "metadata": {},
     "output_type": "execute_result"
    }
   ],
   "source": [
    "plot(sample2.protein.heatmap(attribute='normalized_counts'),filename='4I001_Protein_Heatmap_norm-counts.html')"
   ]
  },
  {
   "cell_type": "code",
   "execution_count": 238,
   "metadata": {},
   "outputs": [
    {
     "data": {
      "text/plain": [
       "'4I001_Protein_UMAP.html'"
      ]
     },
     "execution_count": 238,
     "metadata": {},
     "output_type": "execute_result"
    }
   ],
   "source": [
    "plot(sample2.protein.scatterplot(attribute='umap', colorby='label'),filename='4I001_Protein_UMAP.html')"
   ]
  },
  {
   "cell_type": "code",
   "execution_count": 377,
   "metadata": {},
   "outputs": [],
   "source": [
    "umap4I = sample2.protein.get_attribute('umap')"
   ]
  },
  {
   "cell_type": "code",
   "execution_count": 378,
   "metadata": {},
   "outputs": [],
   "source": [
    "clusp4I = sample2.protein.get_attribute('label')"
   ]
  },
  {
   "cell_type": "code",
   "execution_count": 375,
   "metadata": {},
   "outputs": [],
   "source": [
    "AF4I = sample2.dna.get_attribute('AF')"
   ]
  },
  {
   "cell_type": "code",
   "execution_count": 379,
   "metadata": {},
   "outputs": [],
   "source": [
    "var4I = sample2.dna.ids()"
   ]
  },
  {
   "cell_type": "code",
   "execution_count": 380,
   "metadata": {},
   "outputs": [],
   "source": [
    "dat4I = [umap4I[0], umap4I[1], clusp4I[0], AF4I[0], AF4I[1], AF4I[2], AF4I[3], AF4I[4], AF4I[5]]\n",
    "header4I = [\"umap1\",\"umap2\",\"clus\",var4I[0],var4I[1],var4I[2],var4I[3],var4I[4],var4I[5]]\n",
    "expt4I = pd.concat(dat4I, axis=1, keys=header4I)"
   ]
  },
  {
   "cell_type": "code",
   "execution_count": 381,
   "metadata": {},
   "outputs": [],
   "source": [
    "expt4I.to_csv(\"4-I-001_exported_P-umpa_P-clus_AF-shortlist.csv\")"
   ]
  },
  {
   "cell_type": "code",
   "execution_count": 444,
   "metadata": {},
   "outputs": [],
   "source": [
    "protexp4I = sample2.protein.get_attribute('normalized_counts')"
   ]
  },
  {
   "cell_type": "code",
   "execution_count": 445,
   "metadata": {},
   "outputs": [],
   "source": [
    "protexp4I.columns = df_names"
   ]
  },
  {
   "cell_type": "code",
   "execution_count": 446,
   "metadata": {},
   "outputs": [],
   "source": [
    "exptcts4I = pd.concat([expt4I, protexp4I], axis=1)"
   ]
  },
  {
   "cell_type": "code",
   "execution_count": 448,
   "metadata": {},
   "outputs": [
    {
     "data": {
      "text/plain": [
       "(7889, 54)"
      ]
     },
     "execution_count": 448,
     "metadata": {},
     "output_type": "execute_result"
    }
   ],
   "source": [
    "exptcts4I.shape"
   ]
  },
  {
   "cell_type": "code",
   "execution_count": 453,
   "metadata": {},
   "outputs": [
    {
     "data": {
      "text/html": [
       "<div>\n",
       "<style scoped>\n",
       "    .dataframe tbody tr th:only-of-type {\n",
       "        vertical-align: middle;\n",
       "    }\n",
       "\n",
       "    .dataframe tbody tr th {\n",
       "        vertical-align: top;\n",
       "    }\n",
       "\n",
       "    .dataframe thead th {\n",
       "        text-align: right;\n",
       "    }\n",
       "</style>\n",
       "<table border=\"1\" class=\"dataframe\">\n",
       "  <thead>\n",
       "    <tr style=\"text-align: right;\">\n",
       "      <th></th>\n",
       "      <th>umap1</th>\n",
       "      <th>umap2</th>\n",
       "      <th>clus</th>\n",
       "      <th>chr4:106164778:C/T</th>\n",
       "      <th>chr4:106196233:G/GC</th>\n",
       "      <th>chr11:118376985:C/T</th>\n",
       "      <th>chr11:119149355:TATG/T</th>\n",
       "      <th>chr12:25398285:C/G</th>\n",
       "      <th>chrX:39932806:AC/A</th>\n",
       "      <th>CD10</th>\n",
       "      <th>...</th>\n",
       "      <th>CD7</th>\n",
       "      <th>CD71</th>\n",
       "      <th>CD8</th>\n",
       "      <th>CD83</th>\n",
       "      <th>CD90</th>\n",
       "      <th>FcεRIα</th>\n",
       "      <th>HLA-DR</th>\n",
       "      <th>IgG1</th>\n",
       "      <th>IgG2a</th>\n",
       "      <th>IgG2b</th>\n",
       "    </tr>\n",
       "  </thead>\n",
       "  <tbody>\n",
       "    <tr>\n",
       "      <th>0</th>\n",
       "      <td>-5.408323</td>\n",
       "      <td>-8.739593</td>\n",
       "      <td>1</td>\n",
       "      <td>65.384615</td>\n",
       "      <td>0.000000</td>\n",
       "      <td>4.761905</td>\n",
       "      <td>0.000000</td>\n",
       "      <td>4.000000</td>\n",
       "      <td>0.000000</td>\n",
       "      <td>-1.422040</td>\n",
       "      <td>...</td>\n",
       "      <td>-1.422040</td>\n",
       "      <td>5.417437</td>\n",
       "      <td>-2.115187</td>\n",
       "      <td>-1.016575</td>\n",
       "      <td>-1.422040</td>\n",
       "      <td>-1.422040</td>\n",
       "      <td>3.441641</td>\n",
       "      <td>-2.115187</td>\n",
       "      <td>-0.505749</td>\n",
       "      <td>-2.115187</td>\n",
       "    </tr>\n",
       "    <tr>\n",
       "      <th>1</th>\n",
       "      <td>5.513553</td>\n",
       "      <td>-2.904539</td>\n",
       "      <td>3</td>\n",
       "      <td>79.591837</td>\n",
       "      <td>0.000000</td>\n",
       "      <td>2.941176</td>\n",
       "      <td>0.000000</td>\n",
       "      <td>2.000000</td>\n",
       "      <td>11.111111</td>\n",
       "      <td>3.194570</td>\n",
       "      <td>...</td>\n",
       "      <td>2.817275</td>\n",
       "      <td>6.677786</td>\n",
       "      <td>-1.747073</td>\n",
       "      <td>-0.360779</td>\n",
       "      <td>-1.053926</td>\n",
       "      <td>-0.648461</td>\n",
       "      <td>-0.137635</td>\n",
       "      <td>-1.747073</td>\n",
       "      <td>-1.053926</td>\n",
       "      <td>-0.648461</td>\n",
       "    </tr>\n",
       "    <tr>\n",
       "      <th>2</th>\n",
       "      <td>-2.819192</td>\n",
       "      <td>-4.620638</td>\n",
       "      <td>1</td>\n",
       "      <td>34.042553</td>\n",
       "      <td>0.000000</td>\n",
       "      <td>0.000000</td>\n",
       "      <td>7.843137</td>\n",
       "      <td>2.325581</td>\n",
       "      <td>12.500000</td>\n",
       "      <td>2.333836</td>\n",
       "      <td>...</td>\n",
       "      <td>3.629159</td>\n",
       "      <td>5.344243</td>\n",
       "      <td>-1.717949</td>\n",
       "      <td>-1.024802</td>\n",
       "      <td>-1.312484</td>\n",
       "      <td>-2.411096</td>\n",
       "      <td>4.252037</td>\n",
       "      <td>-1.312484</td>\n",
       "      <td>-1.717949</td>\n",
       "      <td>2.173872</td>\n",
       "    </tr>\n",
       "    <tr>\n",
       "      <th>3</th>\n",
       "      <td>-3.409563</td>\n",
       "      <td>-7.828178</td>\n",
       "      <td>1</td>\n",
       "      <td>37.142857</td>\n",
       "      <td>100.000000</td>\n",
       "      <td>0.000000</td>\n",
       "      <td>7.843137</td>\n",
       "      <td>0.000000</td>\n",
       "      <td>0.000000</td>\n",
       "      <td>-1.136919</td>\n",
       "      <td>...</td>\n",
       "      <td>2.568489</td>\n",
       "      <td>6.876534</td>\n",
       "      <td>-2.235532</td>\n",
       "      <td>2.518059</td>\n",
       "      <td>-0.156090</td>\n",
       "      <td>-1.542384</td>\n",
       "      <td>-1.136919</td>\n",
       "      <td>-2.235532</td>\n",
       "      <td>3.067773</td>\n",
       "      <td>-2.235532</td>\n",
       "    </tr>\n",
       "    <tr>\n",
       "      <th>4</th>\n",
       "      <td>8.342580</td>\n",
       "      <td>1.331906</td>\n",
       "      <td>3</td>\n",
       "      <td>76.470588</td>\n",
       "      <td>95.833333</td>\n",
       "      <td>0.000000</td>\n",
       "      <td>0.000000</td>\n",
       "      <td>0.000000</td>\n",
       "      <td>1.960784</td>\n",
       "      <td>3.026065</td>\n",
       "      <td>...</td>\n",
       "      <td>-0.845136</td>\n",
       "      <td>6.669664</td>\n",
       "      <td>-1.538283</td>\n",
       "      <td>-0.151988</td>\n",
       "      <td>-0.845136</td>\n",
       "      <td>2.961527</td>\n",
       "      <td>-0.845136</td>\n",
       "      <td>-0.845136</td>\n",
       "      <td>-1.538283</td>\n",
       "      <td>-0.845136</td>\n",
       "    </tr>\n",
       "    <tr>\n",
       "      <th>...</th>\n",
       "      <td>...</td>\n",
       "      <td>...</td>\n",
       "      <td>...</td>\n",
       "      <td>...</td>\n",
       "      <td>...</td>\n",
       "      <td>...</td>\n",
       "      <td>...</td>\n",
       "      <td>...</td>\n",
       "      <td>...</td>\n",
       "      <td>...</td>\n",
       "      <td>...</td>\n",
       "      <td>...</td>\n",
       "      <td>...</td>\n",
       "      <td>...</td>\n",
       "      <td>...</td>\n",
       "      <td>...</td>\n",
       "      <td>...</td>\n",
       "      <td>...</td>\n",
       "      <td>...</td>\n",
       "      <td>...</td>\n",
       "      <td>...</td>\n",
       "    </tr>\n",
       "    <tr>\n",
       "      <th>7884</th>\n",
       "      <td>7.112108</td>\n",
       "      <td>4.158731</td>\n",
       "      <td>2</td>\n",
       "      <td>40.000000</td>\n",
       "      <td>0.000000</td>\n",
       "      <td>0.000000</td>\n",
       "      <td>24.193548</td>\n",
       "      <td>25.490196</td>\n",
       "      <td>8.620690</td>\n",
       "      <td>-0.978858</td>\n",
       "      <td>...</td>\n",
       "      <td>-0.285711</td>\n",
       "      <td>6.943645</td>\n",
       "      <td>-2.077470</td>\n",
       "      <td>0.695118</td>\n",
       "      <td>-1.384323</td>\n",
       "      <td>-0.285711</td>\n",
       "      <td>3.888676</td>\n",
       "      <td>-1.384323</td>\n",
       "      <td>-0.978858</td>\n",
       "      <td>-1.384323</td>\n",
       "    </tr>\n",
       "    <tr>\n",
       "      <th>7885</th>\n",
       "      <td>-6.618278</td>\n",
       "      <td>-1.272535</td>\n",
       "      <td>5</td>\n",
       "      <td>61.224490</td>\n",
       "      <td>75.510204</td>\n",
       "      <td>0.000000</td>\n",
       "      <td>1.851852</td>\n",
       "      <td>0.000000</td>\n",
       "      <td>8.620690</td>\n",
       "      <td>0.236549</td>\n",
       "      <td>...</td>\n",
       "      <td>0.443470</td>\n",
       "      <td>3.699407</td>\n",
       "      <td>-4.229359</td>\n",
       "      <td>1.611283</td>\n",
       "      <td>-1.831464</td>\n",
       "      <td>1.112975</td>\n",
       "      <td>3.173702</td>\n",
       "      <td>-2.283449</td>\n",
       "      <td>0.415032</td>\n",
       "      <td>0.270451</td>\n",
       "    </tr>\n",
       "    <tr>\n",
       "      <th>7886</th>\n",
       "      <td>3.692441</td>\n",
       "      <td>2.190807</td>\n",
       "      <td>2</td>\n",
       "      <td>48.979592</td>\n",
       "      <td>0.000000</td>\n",
       "      <td>0.000000</td>\n",
       "      <td>7.407407</td>\n",
       "      <td>2.000000</td>\n",
       "      <td>0.000000</td>\n",
       "      <td>-0.602714</td>\n",
       "      <td>...</td>\n",
       "      <td>3.966829</td>\n",
       "      <td>5.874258</td>\n",
       "      <td>-1.989009</td>\n",
       "      <td>2.790115</td>\n",
       "      <td>-1.989009</td>\n",
       "      <td>-0.602714</td>\n",
       "      <td>3.714774</td>\n",
       "      <td>-1.989009</td>\n",
       "      <td>-0.890396</td>\n",
       "      <td>-1.295861</td>\n",
       "    </tr>\n",
       "    <tr>\n",
       "      <th>7887</th>\n",
       "      <td>2.913743</td>\n",
       "      <td>0.462021</td>\n",
       "      <td>2</td>\n",
       "      <td>48.000000</td>\n",
       "      <td>26.415094</td>\n",
       "      <td>0.000000</td>\n",
       "      <td>7.407407</td>\n",
       "      <td>5.263158</td>\n",
       "      <td>5.454545</td>\n",
       "      <td>-0.712218</td>\n",
       "      <td>...</td>\n",
       "      <td>2.263312</td>\n",
       "      <td>6.223347</td>\n",
       "      <td>-1.628509</td>\n",
       "      <td>-0.019071</td>\n",
       "      <td>-1.223043</td>\n",
       "      <td>3.120762</td>\n",
       "      <td>3.856288</td>\n",
       "      <td>1.367224</td>\n",
       "      <td>-0.935361</td>\n",
       "      <td>-1.628509</td>\n",
       "    </tr>\n",
       "    <tr>\n",
       "      <th>7888</th>\n",
       "      <td>2.760640</td>\n",
       "      <td>5.553906</td>\n",
       "      <td>5</td>\n",
       "      <td>28.846154</td>\n",
       "      <td>31.481481</td>\n",
       "      <td>0.000000</td>\n",
       "      <td>0.000000</td>\n",
       "      <td>20.000000</td>\n",
       "      <td>0.000000</td>\n",
       "      <td>-1.855653</td>\n",
       "      <td>...</td>\n",
       "      <td>2.438225</td>\n",
       "      <td>5.482910</td>\n",
       "      <td>-3.241947</td>\n",
       "      <td>1.553843</td>\n",
       "      <td>1.363223</td>\n",
       "      <td>0.125349</td>\n",
       "      <td>3.455087</td>\n",
       "      <td>-2.548800</td>\n",
       "      <td>-2.143335</td>\n",
       "      <td>-2.143335</td>\n",
       "    </tr>\n",
       "  </tbody>\n",
       "</table>\n",
       "<p>7889 rows × 54 columns</p>\n",
       "</div>"
      ],
      "text/plain": [
       "         umap1     umap2 clus  chr4:106164778:C/T  chr4:106196233:G/GC  \\\n",
       "0    -5.408323 -8.739593    1           65.384615             0.000000   \n",
       "1     5.513553 -2.904539    3           79.591837             0.000000   \n",
       "2    -2.819192 -4.620638    1           34.042553             0.000000   \n",
       "3    -3.409563 -7.828178    1           37.142857           100.000000   \n",
       "4     8.342580  1.331906    3           76.470588            95.833333   \n",
       "...        ...       ...  ...                 ...                  ...   \n",
       "7884  7.112108  4.158731    2           40.000000             0.000000   \n",
       "7885 -6.618278 -1.272535    5           61.224490            75.510204   \n",
       "7886  3.692441  2.190807    2           48.979592             0.000000   \n",
       "7887  2.913743  0.462021    2           48.000000            26.415094   \n",
       "7888  2.760640  5.553906    5           28.846154            31.481481   \n",
       "\n",
       "      chr11:118376985:C/T  chr11:119149355:TATG/T  chr12:25398285:C/G  \\\n",
       "0                4.761905                0.000000            4.000000   \n",
       "1                2.941176                0.000000            2.000000   \n",
       "2                0.000000                7.843137            2.325581   \n",
       "3                0.000000                7.843137            0.000000   \n",
       "4                0.000000                0.000000            0.000000   \n",
       "...                   ...                     ...                 ...   \n",
       "7884             0.000000               24.193548           25.490196   \n",
       "7885             0.000000                1.851852            0.000000   \n",
       "7886             0.000000                7.407407            2.000000   \n",
       "7887             0.000000                7.407407            5.263158   \n",
       "7888             0.000000                0.000000           20.000000   \n",
       "\n",
       "      chrX:39932806:AC/A      CD10  ...       CD7      CD71       CD8  \\\n",
       "0               0.000000 -1.422040  ... -1.422040  5.417437 -2.115187   \n",
       "1              11.111111  3.194570  ...  2.817275  6.677786 -1.747073   \n",
       "2              12.500000  2.333836  ...  3.629159  5.344243 -1.717949   \n",
       "3               0.000000 -1.136919  ...  2.568489  6.876534 -2.235532   \n",
       "4               1.960784  3.026065  ... -0.845136  6.669664 -1.538283   \n",
       "...                  ...       ...  ...       ...       ...       ...   \n",
       "7884            8.620690 -0.978858  ... -0.285711  6.943645 -2.077470   \n",
       "7885            8.620690  0.236549  ...  0.443470  3.699407 -4.229359   \n",
       "7886            0.000000 -0.602714  ...  3.966829  5.874258 -1.989009   \n",
       "7887            5.454545 -0.712218  ...  2.263312  6.223347 -1.628509   \n",
       "7888            0.000000 -1.855653  ...  2.438225  5.482910 -3.241947   \n",
       "\n",
       "          CD83      CD90    FcεRIα    HLA-DR      IgG1     IgG2a     IgG2b  \n",
       "0    -1.016575 -1.422040 -1.422040  3.441641 -2.115187 -0.505749 -2.115187  \n",
       "1    -0.360779 -1.053926 -0.648461 -0.137635 -1.747073 -1.053926 -0.648461  \n",
       "2    -1.024802 -1.312484 -2.411096  4.252037 -1.312484 -1.717949  2.173872  \n",
       "3     2.518059 -0.156090 -1.542384 -1.136919 -2.235532  3.067773 -2.235532  \n",
       "4    -0.151988 -0.845136  2.961527 -0.845136 -0.845136 -1.538283 -0.845136  \n",
       "...        ...       ...       ...       ...       ...       ...       ...  \n",
       "7884  0.695118 -1.384323 -0.285711  3.888676 -1.384323 -0.978858 -1.384323  \n",
       "7885  1.611283 -1.831464  1.112975  3.173702 -2.283449  0.415032  0.270451  \n",
       "7886  2.790115 -1.989009 -0.602714  3.714774 -1.989009 -0.890396 -1.295861  \n",
       "7887 -0.019071 -1.223043  3.120762  3.856288  1.367224 -0.935361 -1.628509  \n",
       "7888  1.553843  1.363223  0.125349  3.455087 -2.548800 -2.143335 -2.143335  \n",
       "\n",
       "[7889 rows x 54 columns]"
      ]
     },
     "execution_count": 453,
     "metadata": {},
     "output_type": "execute_result"
    }
   ],
   "source": [
    "exptcts4I"
   ]
  },
  {
   "cell_type": "code",
   "execution_count": 452,
   "metadata": {},
   "outputs": [],
   "source": [
    "import plotly.express as px"
   ]
  },
  {
   "cell_type": "code",
   "execution_count": 456,
   "metadata": {},
   "outputs": [
    {
     "data": {
      "text/plain": [
       "Templates configuration\n",
       "-----------------------\n",
       "    Default template: 'plotly'\n",
       "    Available templates:\n",
       "        ['ggplot2', 'seaborn', 'simple_white', 'plotly',\n",
       "         'plotly_white', 'plotly_dark', 'presentation', 'xgridoff',\n",
       "         'ygridoff', 'gridon', 'none']"
      ]
     },
     "execution_count": 456,
     "metadata": {},
     "output_type": "execute_result"
    }
   ],
   "source": [
    "import plotly.io as pio\n",
    "pio.templates"
   ]
  },
  {
   "cell_type": "code",
   "execution_count": 457,
   "metadata": {},
   "outputs": [
    {
     "name": "stderr",
     "output_type": "stream",
     "text": [
      "0:139: execution error: File some object wasn’t found. (-43)\n"
     ]
    },
    {
     "data": {
      "text/plain": [
       "'4I001_Protein_UMAP_scVAF_chr4:106164778.html'"
      ]
     },
     "execution_count": 457,
     "metadata": {},
     "output_type": "execute_result"
    }
   ],
   "source": [
    "plot(px.scatter(exptcts4I, x=\"umap1\", y=\"umap2\", color=\"chr4:106164778:C/T\", template=\"simple_white\"), filename='4I001_Protein_UMAP_scVAF_chr4:106164778.html')"
   ]
  },
  {
   "cell_type": "code",
   "execution_count": 458,
   "metadata": {},
   "outputs": [
    {
     "name": "stderr",
     "output_type": "stream",
     "text": [
      "0:139: execution error: File some object wasn’t found. (-43)\n"
     ]
    },
    {
     "data": {
      "text/plain": [
       "'4I001_Protein_UMAP_scVAF_chr4:106196233.html'"
      ]
     },
     "execution_count": 458,
     "metadata": {},
     "output_type": "execute_result"
    }
   ],
   "source": [
    "plot(px.scatter(exptcts4I, x=\"umap1\", y=\"umap2\", color=\"chr4:106196233:G/GC\", template=\"simple_white\"), filename='4I001_Protein_UMAP_scVAF_chr4:106196233.html')"
   ]
  },
  {
   "cell_type": "code",
   "execution_count": null,
   "metadata": {},
   "outputs": [],
   "source": [
    "plot(px.scatter(exptcts4I, x=\"umap1\", y=\"umap2\", color=\"chr11:118376985:C/T\", template=\"simple_white\"), filename='4I001_Protein_UMAP_scVAF_chr11:118376985.html')"
   ]
  },
  {
   "cell_type": "code",
   "execution_count": null,
   "metadata": {},
   "outputs": [],
   "source": []
  },
  {
   "cell_type": "code",
   "execution_count": null,
   "metadata": {},
   "outputs": [],
   "source": []
  },
  {
   "cell_type": "code",
   "execution_count": null,
   "metadata": {},
   "outputs": [],
   "source": []
  },
  {
   "cell_type": "code",
   "execution_count": 449,
   "metadata": {},
   "outputs": [],
   "source": [
    "exptcts4I.to_csv(\"4-I-001_exported_P-umpa_P-clus_AF-shortlist_P-exp-all_2022-05-01.csv\")"
   ]
  },
  {
   "cell_type": "code",
   "execution_count": 450,
   "metadata": {},
   "outputs": [],
   "source": [
    "meanexp4I = exptcts4I.groupby('clus', as_index=False).mean()"
   ]
  },
  {
   "cell_type": "code",
   "execution_count": 451,
   "metadata": {},
   "outputs": [],
   "source": [
    "meanexp4I.to_csv(\"4-I-001_exported_P-umpa_P-clus_AF-shortlist_P-exp-means_2022-05-01.csv\")"
   ]
  },
  {
   "cell_type": "code",
   "execution_count": null,
   "metadata": {},
   "outputs": [],
   "source": []
  },
  {
   "cell_type": "code",
   "execution_count": null,
   "metadata": {},
   "outputs": [],
   "source": [
    "# Re cluster based on the observations from the UMAP\n",
    "\n",
    "# sample2.protein.cluster(attribute='umap', method='dbscan')"
   ]
  },
  {
   "cell_type": "code",
   "execution_count": 277,
   "metadata": {},
   "outputs": [
    {
     "data": {
      "text/plain": [
       "'5M001_Protein_Ridgeplot_CD34.html'"
      ]
     },
     "execution_count": 277,
     "metadata": {},
     "output_type": "execute_result"
    }
   ],
   "source": [
    "plot(sample1.protein.ridgeplot(attribute='normalized_counts',\n",
    "                         splitby='label',\n",
    "                         features=[\"CD34\"]), filename=\"5M001_Protein_Ridgeplot_CD34.html\")"
   ]
  },
  {
   "cell_type": "code",
   "execution_count": 278,
   "metadata": {},
   "outputs": [
    {
     "data": {
      "text/plain": [
       "'5M001_Protein_Ridgeplot_CD163.html'"
      ]
     },
     "execution_count": 278,
     "metadata": {},
     "output_type": "execute_result"
    }
   ],
   "source": [
    "plot(sample1.protein.ridgeplot(attribute='normalized_counts',\n",
    "                         splitby='label',\n",
    "                         features=[\"CD163\"]), filename=\"5M001_Protein_Ridgeplot_CD163.html\")"
   ]
  },
  {
   "cell_type": "code",
   "execution_count": 279,
   "metadata": {},
   "outputs": [
    {
     "data": {
      "text/plain": [
       "'5M001_Protein_UMAP_TotalSeqMarkers.html'"
      ]
     },
     "execution_count": 279,
     "metadata": {},
     "output_type": "execute_result"
    }
   ],
   "source": [
    "# UMAP with the expression for each of the selected protein overlayed\n",
    "# In case of error, make sure that ids have been selected on the heatmap and shown in sample.protein.selected_ids\n",
    "\n",
    "# features=['CD34', 'THY1', 'FCGR3A', 'NCAM1', 'IL3RA', 'PTPRC', 'CD19', 'CD38', 'CD14', 'CD3D']\n",
    "\n",
    "plot(sample1.protein.scatterplot(attribute='umap',\n",
    "                           colorby='normalized_counts',\n",
    "                           features=['CD34', 'CD90', 'CD16', 'CD56', 'CD123', 'CD45RA', 'CD19', 'CD38', 'CD14', 'CD3']), filename='5M001_Protein_UMAP_TotalSeqMarkers.html')"
   ]
  },
  {
   "cell_type": "code",
   "execution_count": 249,
   "metadata": {},
   "outputs": [
    {
     "data": {
      "text/plain": [
       "'4I001_Protein_Ridgeplot_CD34.html'"
      ]
     },
     "execution_count": 249,
     "metadata": {},
     "output_type": "execute_result"
    }
   ],
   "source": [
    "plot(sample2.protein.ridgeplot(attribute='normalized_counts',\n",
    "                         splitby='label',\n",
    "                         features=[\"CD34\"]), filename=\"4I001_Protein_Ridgeplot_CD34.html\")"
   ]
  },
  {
   "cell_type": "code",
   "execution_count": 250,
   "metadata": {},
   "outputs": [
    {
     "data": {
      "text/plain": [
       "'4I001_Protein_Ridgeplot_CD163.html'"
      ]
     },
     "execution_count": 250,
     "metadata": {},
     "output_type": "execute_result"
    }
   ],
   "source": [
    "plot(sample2.protein.ridgeplot(attribute='normalized_counts',\n",
    "                         splitby='label',\n",
    "                         features=[\"CD163\"]), filename=\"4I001_Protein_Ridgeplot_CD163.html\")"
   ]
  },
  {
   "cell_type": "code",
   "execution_count": 251,
   "metadata": {},
   "outputs": [
    {
     "data": {
      "text/plain": [
       "'4I001_Protein_UMAP_TotalSeqMarkers.html'"
      ]
     },
     "execution_count": 251,
     "metadata": {},
     "output_type": "execute_result"
    }
   ],
   "source": [
    "plot(sample2.protein.scatterplot(attribute='umap',\n",
    "                           colorby='normalized_counts',\n",
    "                           features=['CD34', 'CD90', 'CD16', 'CD56', 'CD123', 'CD45RA', 'CD19', 'CD38', 'CD14', 'CD3']), filename='4I001_Protein_UMAP_TotalSeqMarkers.html')"
   ]
  },
  {
   "cell_type": "code",
   "execution_count": 281,
   "metadata": {},
   "outputs": [],
   "source": [
    "mio.save(sample1, '5-M-001_analysis_2022-04-26.h5')"
   ]
  },
  {
   "cell_type": "code",
   "execution_count": 253,
   "metadata": {},
   "outputs": [],
   "source": [
    "mio.save(sample2, '4-I-001_analysis_2022-04-26.h5')"
   ]
  },
  {
   "cell_type": "code",
   "execution_count": 262,
   "metadata": {},
   "outputs": [
    {
     "data": {
      "text/plain": [
       "'5M001_MultiAssay_HM.html'"
      ]
     },
     "execution_count": 262,
     "metadata": {},
     "output_type": "execute_result"
    }
   ],
   "source": [
    "plot(sample1.heatmap(clusterby='protein', sortby='dna', drop='cnv', flatten=False), filename=\"5M001_MultiAssay_HM.html\")"
   ]
  },
  {
   "cell_type": "code",
   "execution_count": 263,
   "metadata": {},
   "outputs": [
    {
     "data": {
      "text/plain": [
       "'4I001_MultiAssay_HM.html'"
      ]
     },
     "execution_count": 263,
     "metadata": {},
     "output_type": "execute_result"
    }
   ],
   "source": [
    "plot(sample2.heatmap(clusterby='protein', sortby='dna', drop='cnv', flatten=False), filename=\"4I001_MultiAssay_HM.html\")"
   ]
  },
  {
   "cell_type": "code",
   "execution_count": 290,
   "metadata": {},
   "outputs": [],
   "source": [
    "filtered1 = sample1.dna[sample1.dna.barcodes(),variants_cooccur_5M]"
   ]
  },
  {
   "cell_type": "code",
   "execution_count": 291,
   "metadata": {},
   "outputs": [
    {
     "data": {
      "text/plain": [
       "(393, 4)"
      ]
     },
     "execution_count": 291,
     "metadata": {},
     "output_type": "execute_result"
    }
   ],
   "source": [
    "filtered1.shape"
   ]
  },
  {
   "cell_type": "code",
   "execution_count": 295,
   "metadata": {},
   "outputs": [],
   "source": [
    "filt1 = sample1"
   ]
  },
  {
   "cell_type": "code",
   "execution_count": 296,
   "metadata": {},
   "outputs": [],
   "source": [
    "filt1.dna = filtered1\n",
    "filt1.protein = sample1.protein\n",
    "filt1.cnv = sample1.cnv"
   ]
  },
  {
   "cell_type": "code",
   "execution_count": 292,
   "metadata": {},
   "outputs": [],
   "source": [
    "filtered2 = sample2.dna[sample2.dna.barcodes(),variants_cooccur_4I]"
   ]
  },
  {
   "cell_type": "code",
   "execution_count": 298,
   "metadata": {},
   "outputs": [],
   "source": [
    "filt2 = sample2\n",
    "filt2.dna = filtered2\n",
    "filt2.protein = sample2.protein\n",
    "filt2.cnv = sample2.cnv"
   ]
  },
  {
   "cell_type": "code",
   "execution_count": 297,
   "metadata": {},
   "outputs": [
    {
     "data": {
      "text/plain": [
       "'5M001_MultiAssay_HM_shortlist.html'"
      ]
     },
     "execution_count": 297,
     "metadata": {},
     "output_type": "execute_result"
    }
   ],
   "source": [
    "plot(filt1.heatmap(clusterby='protein', sortby='dna', drop='cnv', flatten=False), filename=\"5M001_MultiAssay_HM_shortlist.html\")"
   ]
  },
  {
   "cell_type": "code",
   "execution_count": 304,
   "metadata": {},
   "outputs": [
    {
     "data": {
      "text/plain": [
       "'5M001_Protein_HM_panel-only.html'"
      ]
     },
     "execution_count": 304,
     "metadata": {},
     "output_type": "execute_result"
    }
   ],
   "source": [
    "plot(filt1.protein.heatmap(attribute='normalized_counts',features=['CD16','CD56','CD19','CD14','CD3','CD34','CD38','CD45RA','CD90','CD123']), filename=\"5M001_Protein_HM_panel-only.html\")"
   ]
  },
  {
   "cell_type": "code",
   "execution_count": 299,
   "metadata": {},
   "outputs": [
    {
     "data": {
      "text/plain": [
       "'4I001_MultiAssay_HM_shortlist.html'"
      ]
     },
     "execution_count": 299,
     "metadata": {},
     "output_type": "execute_result"
    }
   ],
   "source": [
    "plot(filt2.heatmap(clusterby='protein', sortby='dna', drop='cnv', flatten=False), filename=\"4I001_MultiAssay_HM_shortlist.html\")"
   ]
  },
  {
   "cell_type": "code",
   "execution_count": 305,
   "metadata": {},
   "outputs": [
    {
     "data": {
      "text/plain": [
       "'4I001_Protein_HM_panel-only.html'"
      ]
     },
     "execution_count": 305,
     "metadata": {},
     "output_type": "execute_result"
    }
   ],
   "source": [
    "plot(filt2.protein.heatmap(attribute='normalized_counts',features=['CD16','CD56','CD19','CD14','CD3','CD34','CD38','CD45RA','CD90','CD123']), filename=\"4I001_Protein_HM_panel-only.html\")"
   ]
  },
  {
   "cell_type": "markdown",
   "metadata": {},
   "source": [
    "##### few more plots"
   ]
  },
  {
   "cell_type": "code",
   "execution_count": null,
   "metadata": {},
   "outputs": [],
   "source": [
    "#DP_HSCs=['CD16','CD56','CD19','CD14','CD3','CD34','CD38','CD45RA','CD90']\n",
    "#SP_HSCs=['CD16','CD56','CD19','CD14','CD3','CD34','CD38']\n",
    "#XMP_HSCs=['CD16','CD56','CD19','CD14','CD3','CD34','CD38','CD123','CD45RA']"
   ]
  },
  {
   "cell_type": "code",
   "execution_count": 307,
   "metadata": {},
   "outputs": [
    {
     "data": {
      "text/plain": [
       "'4I001_Protein_Ridgeplot_CD34.html'"
      ]
     },
     "execution_count": 307,
     "metadata": {},
     "output_type": "execute_result"
    }
   ],
   "source": [
    "plot(sample1.protein.ridgeplot(attribute='normalized_counts',\n",
    "                         splitby='label',\n",
    "                         features=['CD34']), filename=\"5M001_Protein_Ridgeplot_CD34.html\")\n",
    "plot(sample2.protein.ridgeplot(attribute='normalized_counts',\n",
    "                         splitby='label',\n",
    "                         features=['CD34']), filename=\"4I001_Protein_Ridgeplot_CD34.html\")"
   ]
  },
  {
   "cell_type": "code",
   "execution_count": 308,
   "metadata": {},
   "outputs": [
    {
     "data": {
      "text/plain": [
       "'4I001_Protein_Ridgeplot_CD16.html'"
      ]
     },
     "execution_count": 308,
     "metadata": {},
     "output_type": "execute_result"
    }
   ],
   "source": [
    "plot(sample1.protein.ridgeplot(attribute='normalized_counts',\n",
    "                         splitby='label',\n",
    "                         features=['CD16']), filename=\"5M001_Protein_Ridgeplot_CD16.html\")\n",
    "plot(sample2.protein.ridgeplot(attribute='normalized_counts',\n",
    "                         splitby='label',\n",
    "                         features=['CD16']), filename=\"4I001_Protein_Ridgeplot_CD16.html\")"
   ]
  },
  {
   "cell_type": "code",
   "execution_count": 309,
   "metadata": {},
   "outputs": [
    {
     "data": {
      "text/plain": [
       "'4I001_Protein_Ridgeplot_CD56.html'"
      ]
     },
     "execution_count": 309,
     "metadata": {},
     "output_type": "execute_result"
    }
   ],
   "source": [
    "plot(sample1.protein.ridgeplot(attribute='normalized_counts',\n",
    "                         splitby='label',\n",
    "                         features=['CD56']), filename=\"5M001_Protein_Ridgeplot_CD56.html\")\n",
    "plot(sample2.protein.ridgeplot(attribute='normalized_counts',\n",
    "                         splitby='label',\n",
    "                         features=['CD56']), filename=\"4I001_Protein_Ridgeplot_CD56.html\")"
   ]
  },
  {
   "cell_type": "code",
   "execution_count": 310,
   "metadata": {},
   "outputs": [
    {
     "data": {
      "text/plain": [
       "'4I001_Protein_Ridgeplot_CD19.html'"
      ]
     },
     "execution_count": 310,
     "metadata": {},
     "output_type": "execute_result"
    }
   ],
   "source": [
    "plot(sample1.protein.ridgeplot(attribute='normalized_counts',\n",
    "                         splitby='label',\n",
    "                         features=['CD19']), filename=\"5M001_Protein_Ridgeplot_CD19.html\")\n",
    "plot(sample2.protein.ridgeplot(attribute='normalized_counts',\n",
    "                         splitby='label',\n",
    "                         features=['CD19']), filename=\"4I001_Protein_Ridgeplot_CD19.html\")"
   ]
  },
  {
   "cell_type": "code",
   "execution_count": 311,
   "metadata": {},
   "outputs": [
    {
     "data": {
      "text/plain": [
       "'4I001_Protein_Ridgeplot_CD14.html'"
      ]
     },
     "execution_count": 311,
     "metadata": {},
     "output_type": "execute_result"
    }
   ],
   "source": [
    "plot(sample1.protein.ridgeplot(attribute='normalized_counts',\n",
    "                         splitby='label',\n",
    "                         features=['CD14']), filename=\"5M001_Protein_Ridgeplot_CD14.html\")\n",
    "plot(sample2.protein.ridgeplot(attribute='normalized_counts',\n",
    "                         splitby='label',\n",
    "                         features=['CD14']), filename=\"4I001_Protein_Ridgeplot_CD14.html\")"
   ]
  },
  {
   "cell_type": "code",
   "execution_count": 312,
   "metadata": {},
   "outputs": [
    {
     "data": {
      "text/plain": [
       "'4I001_Protein_Ridgeplot_CD3.html'"
      ]
     },
     "execution_count": 312,
     "metadata": {},
     "output_type": "execute_result"
    }
   ],
   "source": [
    "plot(sample1.protein.ridgeplot(attribute='normalized_counts',\n",
    "                         splitby='label',\n",
    "                         features=['CD3']), filename=\"5M001_Protein_Ridgeplot_CD3.html\")\n",
    "plot(sample2.protein.ridgeplot(attribute='normalized_counts',\n",
    "                         splitby='label',\n",
    "                         features=['CD3']), filename=\"4I001_Protein_Ridgeplot_CD3.html\")"
   ]
  },
  {
   "cell_type": "code",
   "execution_count": 313,
   "metadata": {},
   "outputs": [
    {
     "data": {
      "text/plain": [
       "'4I001_Protein_Ridgeplot_CD34.html'"
      ]
     },
     "execution_count": 313,
     "metadata": {},
     "output_type": "execute_result"
    }
   ],
   "source": [
    "plot(sample1.protein.ridgeplot(attribute='normalized_counts',\n",
    "                         splitby='label',\n",
    "                         features=['CD34']), filename=\"5M001_Protein_Ridgeplot_CD34.html\")\n",
    "plot(sample2.protein.ridgeplot(attribute='normalized_counts',\n",
    "                         splitby='label',\n",
    "                         features=['CD34']), filename=\"4I001_Protein_Ridgeplot_CD34.html\")"
   ]
  },
  {
   "cell_type": "code",
   "execution_count": 314,
   "metadata": {},
   "outputs": [
    {
     "data": {
      "text/plain": [
       "'4I001_Protein_Ridgeplot_CD38.html'"
      ]
     },
     "execution_count": 314,
     "metadata": {},
     "output_type": "execute_result"
    }
   ],
   "source": [
    "plot(sample1.protein.ridgeplot(attribute='normalized_counts',\n",
    "                         splitby='label',\n",
    "                         features=['CD38']), filename=\"5M001_Protein_Ridgeplot_CD38.html\")\n",
    "plot(sample2.protein.ridgeplot(attribute='normalized_counts',\n",
    "                         splitby='label',\n",
    "                         features=['CD38']), filename=\"4I001_Protein_Ridgeplot_CD38.html\")"
   ]
  },
  {
   "cell_type": "code",
   "execution_count": 315,
   "metadata": {},
   "outputs": [
    {
     "data": {
      "text/plain": [
       "'4I001_Protein_Ridgeplot_CD45RA.html'"
      ]
     },
     "execution_count": 315,
     "metadata": {},
     "output_type": "execute_result"
    }
   ],
   "source": [
    "plot(sample1.protein.ridgeplot(attribute='normalized_counts',\n",
    "                         splitby='label',\n",
    "                         features=['CD45RA']), filename=\"5M001_Protein_Ridgeplot_CD45RA.html\")\n",
    "plot(sample2.protein.ridgeplot(attribute='normalized_counts',\n",
    "                         splitby='label',\n",
    "                         features=['CD45RA']), filename=\"4I001_Protein_Ridgeplot_CD45RA.html\")"
   ]
  },
  {
   "cell_type": "code",
   "execution_count": 316,
   "metadata": {},
   "outputs": [
    {
     "data": {
      "text/plain": [
       "'4I001_Protein_Ridgeplot_CD90.html'"
      ]
     },
     "execution_count": 316,
     "metadata": {},
     "output_type": "execute_result"
    }
   ],
   "source": [
    "plot(sample1.protein.ridgeplot(attribute='normalized_counts',\n",
    "                         splitby='label',\n",
    "                         features=['CD90']), filename=\"5M001_Protein_Ridgeplot_CD90.html\")\n",
    "plot(sample2.protein.ridgeplot(attribute='normalized_counts',\n",
    "                         splitby='label',\n",
    "                         features=['CD90']), filename=\"4I001_Protein_Ridgeplot_CD90.html\")"
   ]
  },
  {
   "cell_type": "code",
   "execution_count": 317,
   "metadata": {},
   "outputs": [
    {
     "data": {
      "text/plain": [
       "'4I001_Protein_Ridgeplot_CD123.html'"
      ]
     },
     "execution_count": 317,
     "metadata": {},
     "output_type": "execute_result"
    }
   ],
   "source": [
    "plot(sample1.protein.ridgeplot(attribute='normalized_counts',\n",
    "                         splitby='label',\n",
    "                         features=['CD123']), filename=\"5M001_Protein_Ridgeplot_CD123.html\")\n",
    "plot(sample2.protein.ridgeplot(attribute='normalized_counts',\n",
    "                         splitby='label',\n",
    "                         features=['CD123']), filename=\"4I001_Protein_Ridgeplot_CD123.html\")"
   ]
  },
  {
   "cell_type": "code",
   "execution_count": 318,
   "metadata": {},
   "outputs": [
    {
     "data": {
      "text/plain": [
       "'4I001_Protein_Ridgeplot_CD10.html'"
      ]
     },
     "execution_count": 318,
     "metadata": {},
     "output_type": "execute_result"
    }
   ],
   "source": [
    "plot(sample1.protein.ridgeplot(attribute='normalized_counts',\n",
    "                         splitby='label',\n",
    "                         features=['CD10']), filename=\"5M001_Protein_Ridgeplot_CD10.html\")\n",
    "plot(sample2.protein.ridgeplot(attribute='normalized_counts',\n",
    "                         splitby='label',\n",
    "                         features=['CD10']), filename=\"4I001_Protein_Ridgeplot_CD10.html\")"
   ]
  },
  {
   "cell_type": "code",
   "execution_count": 319,
   "metadata": {},
   "outputs": [],
   "source": [
    "mio.save(filt1, '5-M-001_analysis_shortlist-variants_2022-04-26.h5')"
   ]
  },
  {
   "cell_type": "code",
   "execution_count": 320,
   "metadata": {},
   "outputs": [],
   "source": [
    "mio.save(filt2, '4-I-001_analysis_shortlist-variants_2022-04-26.h5')"
   ]
  },
  {
   "cell_type": "code",
   "execution_count": null,
   "metadata": {},
   "outputs": [],
   "source": []
  }
 ],
 "metadata": {
  "kernelspec": {
   "display_name": "mosaic",
   "language": "python",
   "name": "mosaic"
  },
  "language_info": {
   "codemirror_mode": {
    "name": "ipython",
    "version": 3
   },
   "file_extension": ".py",
   "mimetype": "text/x-python",
   "name": "python",
   "nbconvert_exporter": "python",
   "pygments_lexer": "ipython3",
   "version": "3.7.12"
  }
 },
 "nbformat": 4,
 "nbformat_minor": 4
}
