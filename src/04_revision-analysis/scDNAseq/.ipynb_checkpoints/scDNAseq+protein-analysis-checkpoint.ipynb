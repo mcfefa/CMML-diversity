{
 "cells": [
  {
   "cell_type": "markdown",
   "metadata": {},
   "source": [
    "# scDNAseq + protein analysis of CMML high vs low cytokine receptor diversity samples"
   ]
  },
  {
   "cell_type": "markdown",
   "metadata": {},
   "source": [
    "Following along with Mosaic documentation from MissionBio: https://missionbio.github.io/mosaic/"
   ]
  },
  {
   "cell_type": "code",
   "execution_count": 1,
   "metadata": {},
   "outputs": [],
   "source": [
    "import missionbio.mosaic.io as mio"
   ]
  },
  {
   "cell_type": "code",
   "execution_count": 2,
   "metadata": {},
   "outputs": [],
   "source": [
    "### Loading Sample"
   ]
  },
  {
   "cell_type": "markdown",
   "metadata": {},
   "source": [
    "sample1 = \"5-M-001\" (high diversity/high CD120b) <br>\n",
    "sample2 = \"4-I-001\" (low diversity/low CD120b)"
   ]
  },
  {
   "cell_type": "code",
   "execution_count": 3,
   "metadata": {},
   "outputs": [
    {
     "name": "stdout",
     "output_type": "stream",
     "text": [
      "Loading, /Users/ferrallm/Dropbox (UFL)/papers-in-progress/CMML-scRNAseq-Paper/analysis/scDNAseq/Tapestri_Output_Files/5-M-001.dna+protein.h5\n",
      "Loaded in 0.9s.\n"
     ]
    },
    {
     "data": {
      "text/plain": [
       "<missionbio.mosaic.sample.Sample at 0x7f90588ab710>"
      ]
     },
     "execution_count": 3,
     "metadata": {},
     "output_type": "execute_result"
    }
   ],
   "source": [
    "sample1 = mio.load('/Users/ferrallm/Dropbox (UFL)/papers-in-progress/CMML-scRNAseq-Paper/analysis/scDNAseq/Tapestri_Output_Files/5-M-001.dna+protein.h5')\n",
    "sample1"
   ]
  },
  {
   "cell_type": "code",
   "execution_count": 4,
   "metadata": {},
   "outputs": [
    {
     "data": {
      "text/plain": [
       "(393, 216)"
      ]
     },
     "execution_count": 4,
     "metadata": {},
     "output_type": "execute_result"
    }
   ],
   "source": [
    "sample1.dna.shape"
   ]
  },
  {
   "cell_type": "code",
   "execution_count": 5,
   "metadata": {},
   "outputs": [
    {
     "data": {
      "text/plain": [
       "(393, 45)"
      ]
     },
     "execution_count": 5,
     "metadata": {},
     "output_type": "execute_result"
    }
   ],
   "source": [
    "sample1.protein.shape"
   ]
  },
  {
   "cell_type": "code",
   "execution_count": 6,
   "metadata": {},
   "outputs": [
    {
     "name": "stdout",
     "output_type": "stream",
     "text": [
      "Loading, /Users/ferrallm/Dropbox (UFL)/papers-in-progress/CMML-scRNAseq-Paper/analysis/scDNAseq/Tapestri_Output_Files/4-I-001.dna+protein.h5\n",
      "Loaded in 5.3s.\n"
     ]
    },
    {
     "data": {
      "text/plain": [
       "<missionbio.mosaic.sample.Sample at 0x7f9058920890>"
      ]
     },
     "execution_count": 6,
     "metadata": {},
     "output_type": "execute_result"
    }
   ],
   "source": [
    "sample2 = mio.load('/Users/ferrallm/Dropbox (UFL)/papers-in-progress/CMML-scRNAseq-Paper/analysis/scDNAseq/Tapestri_Output_Files/4-I-001.dna+protein.h5')\n",
    "sample2"
   ]
  },
  {
   "cell_type": "code",
   "execution_count": 7,
   "metadata": {},
   "outputs": [
    {
     "data": {
      "text/plain": [
       "(7889, 84)"
      ]
     },
     "execution_count": 7,
     "metadata": {},
     "output_type": "execute_result"
    }
   ],
   "source": [
    "sample2.dna.shape"
   ]
  },
  {
   "cell_type": "code",
   "execution_count": 8,
   "metadata": {},
   "outputs": [
    {
     "data": {
      "text/plain": [
       "(7889, 45)"
      ]
     },
     "execution_count": 8,
     "metadata": {},
     "output_type": "execute_result"
    }
   ],
   "source": [
    "sample2.protein.shape"
   ]
  },
  {
   "cell_type": "code",
   "execution_count": 9,
   "metadata": {},
   "outputs": [],
   "source": [
    "### To save: mio.save(sample, '/path/to/save/h5')"
   ]
  },
  {
   "cell_type": "code",
   "execution_count": 10,
   "metadata": {},
   "outputs": [],
   "source": [
    "## Using constraints from Lucia Al erti-Servera et al. \n",
    "# genotype quality score < 30 (default)               min_gq\n",
    "# read depth < 10 (default)                           min_dp\n",
    "# single-cell varaiant allele freq (scVAF) < 25%      vaf_het\n",
    "# variant genotypes in < 60% of cells                 <------ don't think this can be applied\n",
    "# cells within < 50% of genotypes present (default)   min_prct_cells\n",
    "# varaint mutated in < 0.5% of cells                  min_mut_prct_cells\n",
    "\n",
    "## left defaults: vaf_ref=5, vaf_hom=95, \n",
    "\n",
    "dna_vars_1 = sample1.dna.filter_variants(min_dp=10, min_gq=30, vaf_het=25, min_prct_cells=50, min_mut_prct_cells=0.5)\n",
    "dna_vars_2 = sample2.dna.filter_variants(min_dp=10, min_gq=30, vaf_het=25, min_prct_cells=50, min_mut_prct_cells=0.5)"
   ]
  },
  {
   "cell_type": "code",
   "execution_count": 11,
   "metadata": {},
   "outputs": [],
   "source": [
    "### DNA Analysis - Basic Filtering\n",
    "\n",
    "# selecting all cells and final variants after filtering\n",
    "sample1.dna = sample1.dna[sample1.dna.barcodes(),list(dna_vars_1)]\n",
    "sample2.dna = sample2.dna[sample2.dna.barcodes(),list(dna_vars_2)]"
   ]
  },
  {
   "cell_type": "code",
   "execution_count": 12,
   "metadata": {},
   "outputs": [
    {
     "data": {
      "text/plain": [
       "(393, 171)"
      ]
     },
     "execution_count": 12,
     "metadata": {},
     "output_type": "execute_result"
    }
   ],
   "source": [
    "sample1.dna.shape"
   ]
  },
  {
   "cell_type": "code",
   "execution_count": 13,
   "metadata": {},
   "outputs": [
    {
     "data": {
      "text/plain": [
       "(7889, 70)"
      ]
     },
     "execution_count": 13,
     "metadata": {},
     "output_type": "execute_result"
    }
   ],
   "source": [
    "sample2.dna.shape"
   ]
  },
  {
   "cell_type": "code",
   "execution_count": 14,
   "metadata": {},
   "outputs": [],
   "source": [
    "## visualize"
   ]
  },
  {
   "cell_type": "code",
   "execution_count": 15,
   "metadata": {},
   "outputs": [],
   "source": [
    "#sample1.dna.stripplot(attribute='AF', colorby='GQ')"
   ]
  },
  {
   "cell_type": "code",
   "execution_count": 16,
   "metadata": {},
   "outputs": [],
   "source": [
    "#sample2.dna.stripplot(attribute='AF', colorby='GQ')"
   ]
  },
  {
   "cell_type": "code",
   "execution_count": 17,
   "metadata": {},
   "outputs": [],
   "source": [
    "#sample1.dna.heatmap(attribute='AF')"
   ]
  },
  {
   "cell_type": "code",
   "execution_count": 18,
   "metadata": {},
   "outputs": [],
   "source": [
    "#sample2.dna.heatmap(attribute='AF')"
   ]
  },
  {
   "cell_type": "code",
   "execution_count": 19,
   "metadata": {},
   "outputs": [],
   "source": [
    "### Find Clones"
   ]
  },
  {
   "cell_type": "code",
   "execution_count": 14,
   "metadata": {},
   "outputs": [
    {
     "name": "stderr",
     "output_type": "stream",
     "text": [
      "OMP: Info #273: omp_set_nested routine deprecated, please use omp_set_max_active_levels instead.\n"
     ]
    },
    {
     "name": "stdout",
     "output_type": "stream",
     "text": [
      "Unique clusters found - 23\n",
      "Clusters after removing missing data - 1\n"
     ]
    },
    {
     "name": "stderr",
     "output_type": "stream",
     "text": [
      "/Users/ferrallm/anaconda3/envs/mosaic/lib/python3.7/site-packages/missionbio/mosaic/dna.py:147: FutureWarning: Dropping of nuisance columns in DataFrame reductions (with 'numeric_only=None') is deprecated; in a future version this will raise TypeError.  Select only valid columns before calling the reduction.\n",
      "  cluster_char.loc[lab, :] = np.round(vaf_lab.mean() * 4) / 4\n"
     ]
    }
   ],
   "source": [
    "sample1.dna.find_clones()"
   ]
  },
  {
   "cell_type": "code",
   "execution_count": 17,
   "metadata": {},
   "outputs": [
    {
     "data": {
      "application/vnd.jupyter.widget-view+json": {
       "model_id": "8e40aa3377c54c47baf8050b6571b71a",
       "version_major": 2,
       "version_minor": 0
      },
      "text/plain": [
       "FigureWidget({\n",
       "    'data': [{'customdata': array([['label: 1<br>AACAACTGGACGCACACT'],\n",
       "                        …"
      ]
     },
     "metadata": {},
     "output_type": "display_data"
    }
   ],
   "source": [
    "sample1.dna.scatterplot(attribute='umap', colorby='label')"
   ]
  },
  {
   "cell_type": "code",
   "execution_count": 16,
   "metadata": {},
   "outputs": [
    {
     "data": {
      "application/vnd.jupyter.widget-view+json": {
       "model_id": "4b94e93fa3994ac3aff430e6687660a9",
       "version_major": 2,
       "version_minor": 0
      },
      "text/plain": [
       "FigureWidget({\n",
       "    'data': [{'customdata': array([['label: 1<br>AACAACTGGACGCACACT'],\n",
       "                        …"
      ]
     },
     "metadata": {},
     "output_type": "display_data"
    }
   ],
   "source": [
    "fig"
   ]
  },
  {
   "cell_type": "code",
   "execution_count": null,
   "metadata": {},
   "outputs": [],
   "source": [
    "sample2.dna.find_clones()"
   ]
  },
  {
   "cell_type": "code",
   "execution_count": null,
   "metadata": {},
   "outputs": [],
   "source": [
    "#sample1.dna.row_attrs"
   ]
  },
  {
   "cell_type": "code",
   "execution_count": 18,
   "metadata": {},
   "outputs": [],
   "source": [
    "import plotly.graph_objects as go"
   ]
  },
  {
   "cell_type": "code",
   "execution_count": 19,
   "metadata": {},
   "outputs": [
    {
     "data": {
      "application/vnd.jupyter.widget-view+json": {
       "model_id": "1d6b53f6cc084c5f9e6b7a0a62cf7489",
       "version_major": 2,
       "version_minor": 0
      },
      "text/plain": [
       "FigureWidget({\n",
       "    'data': [], 'layout': {'template': '...'}\n",
       "})"
      ]
     },
     "metadata": {},
     "output_type": "display_data"
    }
   ],
   "source": [
    "go.FigureWidget()"
   ]
  },
  {
   "cell_type": "code",
   "execution_count": 20,
   "metadata": {},
   "outputs": [
    {
     "name": "stdout",
     "output_type": "stream",
     "text": [
      "# packages in environment at /Users/ferrallm/anaconda3/envs/mosaic:\n",
      "#\n",
      "# Name                    Version                   Build  Channel\n",
      "ansi2html                 1.7.0            py37hf985489_1    conda-forge\n",
      "anyio                     3.5.0            py37hecd8cb5_0  \n",
      "appnope                   0.1.3              pyhd8ed1ab_0    conda-forge\n",
      "argon2-cffi               21.3.0             pyhd8ed1ab_0    conda-forge\n",
      "argon2-cffi-bindings      21.2.0           py37h69ee0a8_2    conda-forge\n",
      "arpack                    3.7.0                hefb7bc6_2    conda-forge\n",
      "attrs                     21.4.0             pyhd8ed1ab_0    conda-forge\n",
      "babel                     2.9.1              pyhd3eb1b0_0  \n",
      "backcall                  0.2.0              pyh9f0ad1d_0    conda-forge\n",
      "backports                 1.0                        py_2    conda-forge\n",
      "backports.functools_lru_cache 1.6.4              pyhd8ed1ab_0    conda-forge\n",
      "beautifulsoup4            4.11.1             pyha770c72_0    conda-forge\n",
      "bleach                    5.0.0              pyhd8ed1ab_0    conda-forge\n",
      "brotli-python             1.0.9            py37h0582d14_7    conda-forge\n",
      "brotlipy                  0.7.0           py37h69ee0a8_1004    conda-forge\n",
      "c-ares                    1.18.1               h0d85af4_0    conda-forge\n",
      "ca-certificates           2021.10.8            h033912b_0    conda-forge\n",
      "certifi                   2021.10.8        py37hf985489_2    conda-forge\n",
      "cffi                      1.15.0           py37h446072c_0    conda-forge\n",
      "charset-normalizer        2.0.12             pyhd8ed1ab_0    conda-forge\n",
      "click                     8.1.2            py37hf985489_0    conda-forge\n",
      "colorama                  0.4.4              pyh9f0ad1d_0    conda-forge\n",
      "cryptography              36.0.2           py37h20b3391_1    conda-forge\n",
      "cycler                    0.11.0             pyhd8ed1ab_0    conda-forge\n",
      "dash                      0.39.0                     py_0    plotly\n",
      "dash-core-components      0.44.0                     py_0    plotly\n",
      "dash-html-components      0.14.0                     py_0    plotly\n",
      "dash-renderer             0.20.0                     py_0    plotly\n",
      "dash-table                3.6.0                      py_0    plotly\n",
      "debugpy                   1.6.0            py37h0582d14_0    conda-forge\n",
      "decorator                 5.1.1              pyhd8ed1ab_0    conda-forge\n",
      "defusedxml                0.7.1              pyhd8ed1ab_0    conda-forge\n",
      "entrypoints               0.4                pyhd8ed1ab_0    conda-forge\n",
      "flask                     2.1.1              pyhd8ed1ab_0    conda-forge\n",
      "flask-compress            1.11               pyhd8ed1ab_0    conda-forge\n",
      "flit-core                 3.7.1              pyhd8ed1ab_0    conda-forge\n",
      "freetype                  2.10.4               h4cff582_1    conda-forge\n",
      "glpk                      4.65              h0f52abe_1004    conda-forge\n",
      "gmp                       6.2.1                h2e338ed_0    conda-forge\n",
      "h5py                      2.10.0          nompi_py37hdf859c4_106    conda-forge\n",
      "hdbscan                   0.8.28           py37h032687b_1    conda-forge\n",
      "hdf5                      1.10.6          nompi_hc5d9132_1114    conda-forge\n",
      "icu                       70.1                 h96cf925_0    conda-forge\n",
      "idna                      3.3                pyhd8ed1ab_0    conda-forge\n",
      "importlib-metadata        4.11.3           py37hf985489_1    conda-forge\n",
      "importlib_resources       5.7.1              pyhd8ed1ab_0    conda-forge\n",
      "ipykernel                 6.9.1            py37hecd8cb5_0  \n",
      "ipython                   7.32.0           py37hf985489_0    conda-forge\n",
      "ipython_genutils          0.2.0                      py_1    conda-forge\n",
      "ipywidgets                7.7.0              pyhd8ed1ab_0    conda-forge\n",
      "itsdangerous              2.1.2              pyhd8ed1ab_0    conda-forge\n",
      "jedi                      0.18.1           py37hf985489_1    conda-forge\n",
      "jinja2                    3.1.1              pyhd8ed1ab_0    conda-forge\n",
      "joblib                    1.1.0              pyhd8ed1ab_0    conda-forge\n",
      "json5                     0.9.6              pyhd3eb1b0_0  \n",
      "jsonschema                4.4.0              pyhd8ed1ab_0    conda-forge\n",
      "jupyter-dash              0.4.2              pyhd8ed1ab_1    conda-forge\n",
      "jupyter_client            7.2.2              pyhd8ed1ab_1    conda-forge\n",
      "jupyter_core              4.9.2            py37hf985489_0    conda-forge\n",
      "jupyter_server            1.13.5             pyhd3eb1b0_0  \n",
      "jupyterlab                3.3.2              pyhd3eb1b0_0  \n",
      "jupyterlab_pygments       0.2.2              pyhd8ed1ab_0    conda-forge\n",
      "jupyterlab_server         2.10.3             pyhd3eb1b0_1  \n",
      "jupyterlab_widgets        1.1.0              pyhd8ed1ab_0    conda-forge\n",
      "kiwisolver                1.4.2            py37h18621fa_1    conda-forge\n",
      "krb5                      1.19.3               hb49756b_0    conda-forge\n",
      "libblas                   3.9.0           14_osx64_openblas    conda-forge\n",
      "libcblas                  3.9.0           14_osx64_openblas    conda-forge\n",
      "libcurl                   7.82.0               h9f20792_0    conda-forge\n",
      "libcxx                    13.0.1               hc203e6f_0    conda-forge\n",
      "libedit                   3.1.20191231         h0678c8f_2    conda-forge\n",
      "libev                     4.33                 haf1e3a3_1    conda-forge\n",
      "libffi                    3.4.2                h0d85af4_5    conda-forge\n",
      "libgfortran               5.0.0           9_3_0_h6c81a4c_23    conda-forge\n",
      "libgfortran5              9.3.0               h6c81a4c_23    conda-forge\n",
      "libiconv                  1.16                 haf1e3a3_0    conda-forge\n",
      "liblapack                 3.9.0           14_osx64_openblas    conda-forge\n",
      "libllvm10                 10.0.1               h009f743_3    conda-forge\n",
      "libnghttp2                1.47.0               h942079c_0    conda-forge\n",
      "libopenblas               0.3.20          openmp_hb3cd9ec_0    conda-forge\n",
      "libpng                    1.6.37               h7cec526_2    conda-forge\n",
      "libsodium                 1.0.18               hbcb3906_1    conda-forge\n",
      "libssh2                   1.10.0               h52ee1ee_2    conda-forge\n",
      "libuv                     1.43.0               h0d85af4_0    conda-forge\n",
      "libxml2                   2.9.13               he03b247_0    conda-forge\n",
      "libzlib                   1.2.11            h6c3fc93_1014    conda-forge\n",
      "llvm-openmp               13.0.1               hcb1a161_1    conda-forge\n",
      "llvmlite                  0.35.0           py37hd32b0aa_1    conda-forge\n",
      "markupsafe                2.1.1            py37h69ee0a8_1    conda-forge\n",
      "matplotlib                3.2.2                         1    conda-forge\n",
      "matplotlib-base           3.2.2            py37hddda452_1    conda-forge\n",
      "matplotlib-inline         0.1.3              pyhd8ed1ab_0    conda-forge\n",
      "metis                     5.1.0             h2e338ed_1006    conda-forge\n",
      "missionbio.cli            1.1.0                      py_1    missionbio\n",
      "missionbio.h5-base        4.0.2                      py_0    missionbio\n",
      "missionbio.mosaic         2.0                        py_0    missionbio\n",
      "missionbio.mosaic-base    2.0                        py_0    missionbio\n",
      "mistune                   0.8.4           py37h271585c_1005    conda-forge\n",
      "mpfr                      4.1.0                h0f52abe_1    conda-forge\n",
      "nbclassic                 0.3.5              pyhd3eb1b0_0  \n",
      "nbclient                  0.6.0              pyhd8ed1ab_0    conda-forge\n",
      "nbconvert                 6.5.0              pyhd8ed1ab_0    conda-forge\n",
      "nbconvert-core            6.5.0              pyhd8ed1ab_0    conda-forge\n",
      "nbconvert-pandoc          6.5.0              pyhd8ed1ab_0    conda-forge\n",
      "nbformat                  5.3.0              pyhd8ed1ab_0    conda-forge\n",
      "ncurses                   6.3                  h96cf925_1    conda-forge\n",
      "nest-asyncio              1.5.5              pyhd8ed1ab_0    conda-forge\n",
      "nodejs                    17.9.0               h3cde592_0    conda-forge\n",
      "notebook                  6.4.10             pyha770c72_0    conda-forge\n",
      "numba                     0.52.0           py37h010c265_0    conda-forge\n",
      "numpy                     1.21.6           py37h345d48f_0    conda-forge\n",
      "openssl                   1.1.1n               h6c3fc93_0    conda-forge\n",
      "packaging                 21.3               pyhd8ed1ab_0    conda-forge\n",
      "pandas                    1.3.5            py37h5b83a90_0    conda-forge\n",
      "pandoc                    2.18                 h694c41f_0    conda-forge\n",
      "pandocfilters             1.5.0              pyhd8ed1ab_0    conda-forge\n",
      "parso                     0.8.3              pyhd8ed1ab_0    conda-forge\n",
      "patsy                     0.5.2              pyhd8ed1ab_0    conda-forge\n",
      "pexpect                   4.8.0              pyh9f0ad1d_2    conda-forge\n",
      "pickleshare               0.7.5                   py_1003    conda-forge\n",
      "pip                       22.0.4             pyhd8ed1ab_0    conda-forge\n",
      "plotly                    4.14.3                     py_0    plotly\n",
      "prometheus_client         0.14.1             pyhd8ed1ab_0    conda-forge\n",
      "prompt-toolkit            3.0.29             pyha770c72_0    conda-forge\n",
      "psutil                    5.9.0            py37h69ee0a8_1    conda-forge\n",
      "ptyprocess                0.7.0              pyhd3deb0d_0    conda-forge\n",
      "pycparser                 2.21               pyhd8ed1ab_0    conda-forge\n",
      "pygments                  2.11.2             pyhd8ed1ab_0    conda-forge\n",
      "pynndescent               0.5.6              pyh6c4a22f_0    conda-forge\n",
      "pyopenssl                 22.0.0             pyhd8ed1ab_0    conda-forge\n",
      "pyparsing                 3.0.8              pyhd8ed1ab_0    conda-forge\n",
      "pyrsistent                0.18.1           py37h69ee0a8_1    conda-forge\n",
      "pysocks                   1.7.1            py37hf985489_5    conda-forge\n",
      "python                    3.7.12          haf480d7_100_cpython    conda-forge\n",
      "python-dateutil           2.8.2              pyhd8ed1ab_0    conda-forge\n",
      "python-fastjsonschema     2.15.3             pyhd8ed1ab_0    conda-forge\n",
      "python-igraph             0.9.10           py37ha673504_1    conda-forge\n",
      "python-kaleido            0.0.3                    py37_0    plotly\n",
      "python_abi                3.7                     2_cp37m    conda-forge\n",
      "pytz                      2022.1             pyhd8ed1ab_0    conda-forge\n",
      "pyzmq                     22.3.0           py37h8f778e5_1    conda-forge\n",
      "readline                  8.1                  h05e3726_0    conda-forge\n",
      "requests                  2.27.1             pyhd8ed1ab_0    conda-forge\n",
      "retrying                  1.3.3                      py_2    conda-forge\n",
      "scikit-learn              1.0.2            py37h572704e_0    conda-forge\n",
      "scipy                     1.7.3            py37h4e3cf02_0    conda-forge\n",
      "seaborn                   0.11.2               hd8ed1ab_0    conda-forge\n",
      "seaborn-base              0.11.2             pyhd8ed1ab_0    conda-forge\n",
      "send2trash                1.8.0              pyhd8ed1ab_0    conda-forge\n",
      "setuptools                59.8.0           py37hf985489_1    conda-forge\n",
      "six                       1.16.0             pyh6c4a22f_0    conda-forge\n",
      "sniffio                   1.2.0            py37hecd8cb5_1  \n",
      "soupsieve                 2.3.1              pyhd8ed1ab_0    conda-forge\n",
      "sqlite                    3.38.2               hb516253_0    conda-forge\n",
      "statsmodels               0.13.2           py37h032687b_0    conda-forge\n",
      "suitesparse               5.10.1               h7aff33d_1    conda-forge\n",
      "tbb                       2021.5.0             hbb4e6a2_1    conda-forge\n",
      "terminado                 0.13.3           py37hf985489_1    conda-forge\n",
      "texttable                 1.6.4              pyhd8ed1ab_0    conda-forge\n",
      "threadpoolctl             3.1.0              pyh8a188c0_0    conda-forge\n",
      "tinycss2                  1.1.1              pyhd8ed1ab_0    conda-forge\n",
      "tk                        8.6.12               h5dbffcc_0    conda-forge\n",
      "tornado                   6.1              py37h69ee0a8_3    conda-forge\n",
      "tqdm                      4.64.0             pyhd8ed1ab_0    conda-forge\n",
      "traitlets                 5.1.1              pyhd8ed1ab_0    conda-forge\n",
      "typing-extensions         4.2.0                hd8ed1ab_0    conda-forge\n",
      "typing_extensions         4.2.0              pyha770c72_0    conda-forge\n",
      "umap-learn                0.5.3            py37hf985489_0    conda-forge\n",
      "urllib3                   1.26.9             pyhd8ed1ab_0    conda-forge\n",
      "wcwidth                   0.2.5              pyh9f0ad1d_2    conda-forge\n",
      "webencodings              0.5.1                      py_1    conda-forge\n",
      "websocket-client          0.58.0           py37hecd8cb5_4  \n",
      "werkzeug                  2.1.1              pyhd8ed1ab_0    conda-forge\n",
      "wheel                     0.37.1             pyhd8ed1ab_0    conda-forge\n",
      "widgetsnbextension        3.6.0            py37hf985489_0    conda-forge\n",
      "xz                        5.2.5                haf1e3a3_1    conda-forge\n",
      "zeromq                    4.3.4                he49afe7_1    conda-forge\n",
      "zipp                      3.8.0              pyhd8ed1ab_0    conda-forge\n",
      "zlib                      1.2.11            h6c3fc93_1014    conda-forge\n",
      "\n",
      "Note: you may need to restart the kernel to use updated packages.\n"
     ]
    }
   ],
   "source": [
    "conda list"
   ]
  },
  {
   "cell_type": "code",
   "execution_count": null,
   "metadata": {},
   "outputs": [],
   "source": []
  }
 ],
 "metadata": {
  "kernelspec": {
   "display_name": "mosaic",
   "language": "python",
   "name": "mosaic"
  },
  "language_info": {
   "codemirror_mode": {
    "name": "ipython",
    "version": 3
   },
   "file_extension": ".py",
   "mimetype": "text/x-python",
   "name": "python",
   "nbconvert_exporter": "python",
   "pygments_lexer": "ipython3",
   "version": "3.7.12"
  }
 },
 "nbformat": 4,
 "nbformat_minor": 4
}
