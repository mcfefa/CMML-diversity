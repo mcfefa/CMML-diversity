{
 "cells": [
  {
   "cell_type": "markdown",
   "metadata": {},
   "source": [
    "# scDNAseq + protein analysis of CMML high vs low cytokine receptor diversity samples"
   ]
  },
  {
   "cell_type": "markdown",
   "metadata": {},
   "source": [
    "Following along with Mosaic documentation from MissionBio: https://missionbio.github.io/mosaic/"
   ]
  },
  {
   "cell_type": "code",
   "execution_count": 66,
   "metadata": {},
   "outputs": [],
   "source": [
    "import missionbio.mosaic.io as mio"
   ]
  },
  {
   "cell_type": "code",
   "execution_count": 67,
   "metadata": {},
   "outputs": [],
   "source": [
    "#conda list"
   ]
  },
  {
   "cell_type": "code",
   "execution_count": 68,
   "metadata": {},
   "outputs": [],
   "source": [
    "### Loading Sample"
   ]
  },
  {
   "cell_type": "markdown",
   "metadata": {},
   "source": [
    "sample1 = \"5-M-001\" (high diversity/high CD120b) <br>\n",
    "sample2 = \"4-I-001\" (low diversity/low CD120b)"
   ]
  },
  {
   "cell_type": "code",
   "execution_count": 69,
   "metadata": {},
   "outputs": [
    {
     "name": "stdout",
     "output_type": "stream",
     "text": [
      "Loading, /Users/ferrallm/Dropbox (UFL)/papers-in-progress/CMML-scRNAseq-Paper/analysis/scDNAseq/Tapestri_Output_Files/5-M-001.dna+protein.h5\n",
      "Loaded in 0.8s.\n"
     ]
    },
    {
     "data": {
      "text/plain": [
       "<missionbio.mosaic.sample.Sample at 0x7fedceb5a090>"
      ]
     },
     "execution_count": 69,
     "metadata": {},
     "output_type": "execute_result"
    }
   ],
   "source": [
    "sample1 = mio.load('/Users/ferrallm/Dropbox (UFL)/papers-in-progress/CMML-scRNAseq-Paper/analysis/scDNAseq/Tapestri_Output_Files/5-M-001.dna+protein.h5')\n",
    "sample1"
   ]
  },
  {
   "cell_type": "code",
   "execution_count": 70,
   "metadata": {},
   "outputs": [
    {
     "data": {
      "text/plain": [
       "{'sample_name': array([['5-M-001']], dtype=object),\n",
       " 'n_antibodies': 45,\n",
       " 'n_bases_r1': 117895089935,\n",
       " 'n_bases_r1_q30': 110795770037,\n",
       " 'n_bases_r2': 117895089935,\n",
       " 'n_bases_r2_q30': 111901317655,\n",
       " 'n_candidate_barcodes': 279217,\n",
       " 'n_cell_barcode_bases': 39593106181,\n",
       " 'n_cell_barcode_bases_q30': 38860045917,\n",
       " 'n_read_pairs': 780762185,\n",
       " 'n_read_pairs_after_candidate_barcode_filtering': 732654282,\n",
       " 'n_read_pairs_trimmed': 780587344,\n",
       " 'n_read_pairs_valid_ab_barcodes': 733984782,\n",
       " 'n_read_pairs_valid_cell_barcodes': 766333043,\n",
       " 'panel_name': 'totalseq-d-heme-oncology',\n",
       " 'pipeline_version': '2.0.1',\n",
       " 'palette': array([['-', '#1f77b4']], dtype='<U7')}"
      ]
     },
     "execution_count": 70,
     "metadata": {},
     "output_type": "execute_result"
    }
   ],
   "source": [
    "sample1.protein.metadata"
   ]
  },
  {
   "cell_type": "code",
   "execution_count": 71,
   "metadata": {},
   "outputs": [
    {
     "data": {
      "text/plain": [
       "(393, 216)"
      ]
     },
     "execution_count": 71,
     "metadata": {},
     "output_type": "execute_result"
    }
   ],
   "source": [
    "sample1.dna.shape"
   ]
  },
  {
   "cell_type": "code",
   "execution_count": 72,
   "metadata": {},
   "outputs": [
    {
     "data": {
      "text/plain": [
       "(393, 45)"
      ]
     },
     "execution_count": 72,
     "metadata": {},
     "output_type": "execute_result"
    }
   ],
   "source": [
    "sample1.protein.shape"
   ]
  },
  {
   "cell_type": "code",
   "execution_count": 73,
   "metadata": {},
   "outputs": [
    {
     "data": {
      "text/plain": [
       "array(['CD10', 'CD117', 'CD11b', 'CD11c', 'CD123', 'CD13', 'CD138',\n",
       "       'CD14', 'CD141', 'CD16', 'CD163', 'CD19', 'CD1c', 'CD2', 'CD22',\n",
       "       'CD25', 'CD3', 'CD30', 'CD303', 'CD304', 'CD33', 'CD34', 'CD38',\n",
       "       'CD4', 'CD44', 'CD45', 'CD45RA', 'CD45RO', 'CD49d', 'CD5', 'CD56',\n",
       "       'CD62L', 'CD62P', 'CD64', 'CD69', 'CD7', 'CD71', 'CD8', 'CD83',\n",
       "       'CD90', 'FcεRIα', 'HLA-DR', 'IgG1', 'IgG2a', 'IgG2b'], dtype=object)"
      ]
     },
     "execution_count": 73,
     "metadata": {},
     "output_type": "execute_result"
    }
   ],
   "source": [
    "sample1.protein.ids()"
   ]
  },
  {
   "cell_type": "code",
   "execution_count": 268,
   "metadata": {},
   "outputs": [
    {
     "name": "stdout",
     "output_type": "stream",
     "text": [
      "Loading, /Users/ferrallm/Dropbox (UFL)/papers-in-progress/CMML-scRNAseq-Paper/analysis/scDNAseq/Tapestri_Output_Files/5-M-001.dna+protein.h5\n",
      "Loaded in 0.8s.\n"
     ]
    },
    {
     "data": {
      "text/plain": [
       "(393, 312)"
      ]
     },
     "execution_count": 268,
     "metadata": {},
     "output_type": "execute_result"
    }
   ],
   "source": [
    "sample1raw = mio.load('/Users/ferrallm/Dropbox (UFL)/papers-in-progress/CMML-scRNAseq-Paper/analysis/scDNAseq/Tapestri_Output_Files/5-M-001.dna+protein.h5')\n",
    "sample1raw.cnv.shape"
   ]
  },
  {
   "cell_type": "code",
   "execution_count": 74,
   "metadata": {},
   "outputs": [
    {
     "data": {
      "text/plain": [
       "{'AF': array([[ 0.        ,  0.        ,  0.        , ...,  0.        ,\n",
       "          0.        ,  0.        ],\n",
       "        [ 0.        ,  0.        , 52.49042146, ...,  0.        ,\n",
       "          0.        ,  0.        ],\n",
       "        [ 0.        ,  0.        ,  0.        , ...,  0.        ,\n",
       "          0.        ,  1.63934426],\n",
       "        ...,\n",
       "        [ 0.        ,  0.        ,  0.        , ...,  0.        ,\n",
       "          0.98039216,  6.8627451 ],\n",
       "        [ 0.        ,  0.        ,  0.        , ...,  0.        ,\n",
       "          0.        ,  0.        ],\n",
       "        [ 0.        ,  0.        , 63.15789474, ...,  9.67741935,\n",
       "          9.67741935,  9.67741935]]),\n",
       " 'DP': array([[ 31,  31,  29, ...,  73,  73,  73],\n",
       "        [ 69,  69, 261, ...,  62,  62,  62],\n",
       "        [ 51,  51,  40, ...,  61,  61,  61],\n",
       "        ...,\n",
       "        [ 59,  59,  31, ..., 102, 102, 102],\n",
       "        [ 59,  59,  19, ...,  23,  23,  23],\n",
       "        [ 58,  58,  76, ...,  62,  62,  62]], dtype=int16),\n",
       " 'FILTER_MASK': array([[0, 0, 0, ..., 0, 0, 0],\n",
       "        [0, 0, 1, ..., 0, 0, 0],\n",
       "        [0, 0, 0, ..., 0, 0, 0],\n",
       "        ...,\n",
       "        [0, 0, 0, ..., 0, 0, 1],\n",
       "        [0, 0, 0, ..., 0, 0, 0],\n",
       "        [0, 0, 0, ..., 1, 1, 1]], dtype=uint8),\n",
       " 'GQ': array([[93, 93, 86, ..., 99, 99, 99],\n",
       "        [99, 99,  0, ..., 99, 99, 99],\n",
       "        [99, 99, 99, ..., 99, 99, 99],\n",
       "        ...,\n",
       "        [99, 99, 92, ..., 99, 99, 14],\n",
       "        [99, 99, 57, ..., 69, 69, 69],\n",
       "        [99, 99, 99, ..., 83, 83, 83]], dtype=int8),\n",
       " 'NGT': array([[0, 0, 0, ..., 0, 0, 0],\n",
       "        [0, 0, 0, ..., 0, 0, 0],\n",
       "        [0, 0, 0, ..., 0, 0, 0],\n",
       "        ...,\n",
       "        [0, 0, 0, ..., 0, 0, 0],\n",
       "        [0, 0, 0, ..., 0, 0, 0],\n",
       "        [0, 0, 1, ..., 1, 1, 1]], dtype=int8),\n",
       " 'RGQ': array([[0, 0, 0, ..., 0, 0, 0],\n",
       "        [0, 0, 0, ..., 0, 0, 0],\n",
       "        [0, 0, 0, ..., 0, 0, 0],\n",
       "        ...,\n",
       "        [0, 0, 0, ..., 0, 0, 0],\n",
       "        [0, 0, 0, ..., 0, 0, 0],\n",
       "        [0, 0, 0, ..., 0, 0, 0]], dtype=int32),\n",
       " 'AF_MISSING': array([[ 0.        ,  0.        ,  0.        , ...,  0.        ,\n",
       "          0.        ,  0.        ],\n",
       "        [ 0.        ,  0.        , 52.49042146, ...,  0.        ,\n",
       "          0.        ,  0.        ],\n",
       "        [ 0.        ,  0.        ,  0.        , ...,  0.        ,\n",
       "          0.        ,  1.63934426],\n",
       "        ...,\n",
       "        [ 0.        ,  0.        ,  0.        , ...,  0.        ,\n",
       "          0.98039216,  6.8627451 ],\n",
       "        [ 0.        ,  0.        ,  0.        , ...,  0.        ,\n",
       "          0.        ,  0.        ],\n",
       "        [ 0.        ,  0.        , 63.15789474, ...,  9.67741935,\n",
       "          9.67741935,  9.67741935]])}"
      ]
     },
     "execution_count": 74,
     "metadata": {},
     "output_type": "execute_result"
    }
   ],
   "source": [
    "sample1.dna.layers"
   ]
  },
  {
   "cell_type": "code",
   "execution_count": 75,
   "metadata": {},
   "outputs": [
    {
     "name": "stdout",
     "output_type": "stream",
     "text": [
      "Loading, /Users/ferrallm/Dropbox (UFL)/papers-in-progress/CMML-scRNAseq-Paper/analysis/scDNAseq/Tapestri_Output_Files/4-I-001.dna+protein.h5\n",
      "Loaded in 4.5s.\n"
     ]
    },
    {
     "data": {
      "text/plain": [
       "<missionbio.mosaic.sample.Sample at 0x7fedceb4c150>"
      ]
     },
     "execution_count": 75,
     "metadata": {},
     "output_type": "execute_result"
    }
   ],
   "source": [
    "sample2 = mio.load('/Users/ferrallm/Dropbox (UFL)/papers-in-progress/CMML-scRNAseq-Paper/analysis/scDNAseq/Tapestri_Output_Files/4-I-001.dna+protein.h5')\n",
    "sample2"
   ]
  },
  {
   "cell_type": "code",
   "execution_count": 76,
   "metadata": {},
   "outputs": [
    {
     "data": {
      "text/plain": [
       "{'sample_name': array([['4-I-001']], dtype=object),\n",
       " 'n_antibodies': 45,\n",
       " 'n_bases_r1': 116586383052,\n",
       " 'n_bases_r1_q30': 105707137658,\n",
       " 'n_bases_r2': 116586383052,\n",
       " 'n_bases_r2_q30': 111043071473,\n",
       " 'n_candidate_barcodes': 374603,\n",
       " 'n_cell_barcode_bases': 39002169509,\n",
       " 'n_cell_barcode_bases_q30': 37259859370,\n",
       " 'n_read_pairs': 772095252,\n",
       " 'n_read_pairs_after_candidate_barcode_filtering': 706425747,\n",
       " 'n_read_pairs_trimmed': 771400755,\n",
       " 'n_read_pairs_valid_ab_barcodes': 707336259,\n",
       " 'n_read_pairs_valid_cell_barcodes': 744875497,\n",
       " 'panel_name': 'totalseq-d-heme-oncology',\n",
       " 'pipeline_version': '2.0.1',\n",
       " 'palette': array([['-', '#1f77b4']], dtype='<U7')}"
      ]
     },
     "execution_count": 76,
     "metadata": {},
     "output_type": "execute_result"
    }
   ],
   "source": [
    "sample2.protein.metadata"
   ]
  },
  {
   "cell_type": "code",
   "execution_count": 77,
   "metadata": {},
   "outputs": [
    {
     "data": {
      "text/plain": [
       "(7889, 84)"
      ]
     },
     "execution_count": 77,
     "metadata": {},
     "output_type": "execute_result"
    }
   ],
   "source": [
    "sample2.dna.shape"
   ]
  },
  {
   "cell_type": "code",
   "execution_count": 78,
   "metadata": {},
   "outputs": [
    {
     "data": {
      "text/plain": [
       "(7889, 45)"
      ]
     },
     "execution_count": 78,
     "metadata": {},
     "output_type": "execute_result"
    }
   ],
   "source": [
    "sample2.protein.shape"
   ]
  },
  {
   "cell_type": "code",
   "execution_count": 267,
   "metadata": {},
   "outputs": [
    {
     "name": "stdout",
     "output_type": "stream",
     "text": [
      "Loading, /Users/ferrallm/Dropbox (UFL)/papers-in-progress/CMML-scRNAseq-Paper/analysis/scDNAseq/Tapestri_Output_Files/4-I-001.dna+protein.h5\n",
      "Loaded in 4.2s.\n"
     ]
    },
    {
     "data": {
      "text/plain": [
       "(7889, 312)"
      ]
     },
     "execution_count": 267,
     "metadata": {},
     "output_type": "execute_result"
    }
   ],
   "source": [
    "sample2raw = mio.load('/Users/ferrallm/Dropbox (UFL)/papers-in-progress/CMML-scRNAseq-Paper/analysis/scDNAseq/Tapestri_Output_Files/4-I-001.dna+protein.h5')\n",
    "sample2raw.cnv.shape"
   ]
  },
  {
   "cell_type": "code",
   "execution_count": 79,
   "metadata": {},
   "outputs": [],
   "source": [
    "### To save: mio.save(sample, '/path/to/save/h5')"
   ]
  },
  {
   "cell_type": "code",
   "execution_count": 80,
   "metadata": {},
   "outputs": [],
   "source": [
    "## Using constraints from Lucia Al erti-Servera et al. \n",
    "# genotype quality score < 30 (default)               min_gq\n",
    "# read depth < 10 (default)                           min_dp\n",
    "# single-cell varaiant allele freq (scVAF) < 25%      vaf_het\n",
    "# variant genotypes in < 60% of cells                 <------ don't think this can be applied\n",
    "# cells within < 50% of genotypes present (default)   min_prct_cells\n",
    "# varaint mutated in < 0.5% of cells                  min_mut_prct_cells\n",
    "\n",
    "## left defaults: vaf_ref=5, vaf_hom=95, \n",
    "\n",
    "dna_vars_1 = sample1.dna.filter_variants(min_dp=10, min_gq=30, vaf_het=25, min_prct_cells=50, min_mut_prct_cells=0.5)\n",
    "dna_vars_2 = sample2.dna.filter_variants(min_dp=10, min_gq=30, vaf_het=25, min_prct_cells=50, min_mut_prct_cells=0.5)"
   ]
  },
  {
   "cell_type": "code",
   "execution_count": 81,
   "metadata": {},
   "outputs": [],
   "source": [
    "### DNA Analysis - Basic Filtering\n",
    "\n",
    "# selecting all cells and final variants after filtering\n",
    "sample1.dna = sample1.dna[sample1.dna.barcodes(),list(dna_vars_1)]\n",
    "sample2.dna = sample2.dna[sample2.dna.barcodes(),list(dna_vars_2)]"
   ]
  },
  {
   "cell_type": "code",
   "execution_count": 82,
   "metadata": {},
   "outputs": [
    {
     "data": {
      "text/plain": [
       "(393, 171)"
      ]
     },
     "execution_count": 82,
     "metadata": {},
     "output_type": "execute_result"
    }
   ],
   "source": [
    "sample1.dna.shape"
   ]
  },
  {
   "cell_type": "code",
   "execution_count": 83,
   "metadata": {},
   "outputs": [
    {
     "data": {
      "text/plain": [
       "(7889, 70)"
      ]
     },
     "execution_count": 83,
     "metadata": {},
     "output_type": "execute_result"
    }
   ],
   "source": [
    "sample2.dna.shape"
   ]
  },
  {
   "cell_type": "code",
   "execution_count": 84,
   "metadata": {},
   "outputs": [],
   "source": [
    "## visualize"
   ]
  },
  {
   "cell_type": "code",
   "execution_count": 85,
   "metadata": {},
   "outputs": [],
   "source": [
    "## Plotting worked following this: https://community.plotly.com/t/save-fig-as-html-using-jupyterlab-figurewidget/17922/6 \n",
    "import plotly.graph_objs as go\n",
    "from plotly.offline import plot"
   ]
  },
  {
   "cell_type": "code",
   "execution_count": 86,
   "metadata": {},
   "outputs": [
    {
     "data": {
      "text/plain": [
       "'5M001_stripplot.html'"
      ]
     },
     "execution_count": 86,
     "metadata": {},
     "output_type": "execute_result"
    }
   ],
   "source": [
    "plot(sample1.dna.stripplot(attribute='AF', colorby='GQ'),filename='5M001_stripplot.html')"
   ]
  },
  {
   "cell_type": "code",
   "execution_count": 87,
   "metadata": {},
   "outputs": [
    {
     "data": {
      "text/plain": [
       "'4I001_stripplot.html'"
      ]
     },
     "execution_count": 87,
     "metadata": {},
     "output_type": "execute_result"
    }
   ],
   "source": [
    "plot(sample2.dna.stripplot(attribute='AF', colorby='GQ'),filename='4I001_stripplot.html')"
   ]
  },
  {
   "cell_type": "code",
   "execution_count": 88,
   "metadata": {},
   "outputs": [
    {
     "data": {
      "text/plain": [
       "'5M001_heatmap_AF.html'"
      ]
     },
     "execution_count": 88,
     "metadata": {},
     "output_type": "execute_result"
    }
   ],
   "source": [
    "plot(sample1.dna.heatmap(attribute='AF'),filename='5M001_heatmap_AF.html')"
   ]
  },
  {
   "cell_type": "code",
   "execution_count": 89,
   "metadata": {},
   "outputs": [
    {
     "data": {
      "text/plain": [
       "'4I001_heatmap_AF.html'"
      ]
     },
     "execution_count": 89,
     "metadata": {},
     "output_type": "execute_result"
    }
   ],
   "source": [
    "plot(sample2.dna.heatmap(attribute='AF'),filename='4I001_heatmap_AF.html')"
   ]
  },
  {
   "cell_type": "code",
   "execution_count": 90,
   "metadata": {},
   "outputs": [],
   "source": [
    "if len(sample1.dna.selected_ids) > 0:\n",
    "    sample1.dna = sample1.dna.drop(sample1.dna.selected_ids)"
   ]
  },
  {
   "cell_type": "code",
   "execution_count": 91,
   "metadata": {},
   "outputs": [],
   "source": [
    "if len(sample2.dna.selected_ids) > 0:\n",
    "    sample2.dna = sample2.dna.drop(sample2.dna.selected_ids)"
   ]
  },
  {
   "cell_type": "code",
   "execution_count": 92,
   "metadata": {},
   "outputs": [],
   "source": [
    "### Find Clones"
   ]
  },
  {
   "cell_type": "code",
   "execution_count": 93,
   "metadata": {},
   "outputs": [
    {
     "name": "stdout",
     "output_type": "stream",
     "text": [
      "Unique clusters found - 25\n",
      "Clusters after removing missing data - 1\n"
     ]
    },
    {
     "name": "stderr",
     "output_type": "stream",
     "text": [
      "/Users/ferrallm/anaconda3/envs/mosaic/lib/python3.7/site-packages/missionbio/mosaic/dna.py:147: FutureWarning:\n",
      "\n",
      "Dropping of nuisance columns in DataFrame reductions (with 'numeric_only=None') is deprecated; in a future version this will raise TypeError.  Select only valid columns before calling the reduction.\n",
      "\n"
     ]
    }
   ],
   "source": [
    "sample1.dna.find_clones()"
   ]
  },
  {
   "cell_type": "code",
   "execution_count": 94,
   "metadata": {},
   "outputs": [
    {
     "name": "stdout",
     "output_type": "stream",
     "text": [
      "Unique clusters found - 9\n",
      "Clusters after removing missing data - 1\n"
     ]
    },
    {
     "name": "stderr",
     "output_type": "stream",
     "text": [
      "/Users/ferrallm/anaconda3/envs/mosaic/lib/python3.7/site-packages/missionbio/mosaic/dna.py:147: FutureWarning:\n",
      "\n",
      "Dropping of nuisance columns in DataFrame reductions (with 'numeric_only=None') is deprecated; in a future version this will raise TypeError.  Select only valid columns before calling the reduction.\n",
      "\n"
     ]
    }
   ],
   "source": [
    "sample2.dna.find_clones()"
   ]
  },
  {
   "cell_type": "code",
   "execution_count": 95,
   "metadata": {
    "collapsed": true,
    "jupyter": {
     "outputs_hidden": true
    }
   },
   "outputs": [
    {
     "data": {
      "text/plain": [
       "{'barcode': array(['AACAACTGGACGCACACT', 'AACCATGGTCCTCGACCT', 'AACGAGAATCCGATCTCT',\n",
       "        'AACGAGGTGAGTTAGGTC', 'AACTGATTCTCAATCTAG', 'AACTGCGACTGTCTACAC',\n",
       "        'AAGACGAAGACGATGACC', 'AAGAGAACTCATGACGTT', 'AAGCAACTATCGTAATAG',\n",
       "        'AAGCACAACTGCTCAGCG', 'AAGCAGCATAAGTCATGA', 'AAGCATTGCGAGTCTTCG',\n",
       "        'AAGCCAAGTGTGGATAAG', 'AAGCTGGTCCACCTTCCT', 'AAGTAGGACAATGCTGAT',\n",
       "        'AAGTCATGAGCACATGTT', 'AATACCTTGCTCAGTGAT', 'AATGCAGCGTCATGCAGG',\n",
       "        'AATTGGATCACGCTAGTG', 'ACAACCGGACACCAGAAG', 'ACAATTCGGGTGGATAAG',\n",
       "        'ACACACCGTCCGAGTACT', 'ACACACCGTGCGGTAAGT', 'ACACAGAACGATGTCTAG',\n",
       "        'ACACTGTGAGTGGACTGG', 'ACCAGCGTTTCTCATCGG', 'ACCATTCACATCATTACG',\n",
       "        'ACCATTCACCCTTGTTGC', 'ACCTAGCACTGTATCGTG', 'ACCTGCAGAGTAGCCTTG',\n",
       "        'ACCTTGAAGTCCTCTAGT', 'ACGTCTATGATCCATTAG', 'ACGTTCAATTAACGGATA',\n",
       "        'ACTAACCGAATCCACAGT', 'ACTAACCGATACCAGCCA', 'ACTATTGTCTATGCCTTC',\n",
       "        'ACTCCGGTTTTATTCGAC', 'ACTCGTAGGGCGATATGA', 'ACTCGTAGGTGGATAGGT',\n",
       "        'ACTCTAGGAGTGGTACGG', 'ACTGGTCAGACAGAAGAG', 'ACTGGTCAGCTAGTCGTC',\n",
       "        'ACTGTGTCAGATCTTCGC', 'ACTTAGCTTGGACACTGG', 'AGACATCCATAACATTGG',\n",
       "        'AGACGCCTGTGATTATCG', 'AGACTTCGTATAGACCGA', 'AGAGGACGTATAGTCAGT',\n",
       "        'AGCAACATTAGATCGAGT', 'AGCAACATTAGTTGAGCG', 'AGCAAGTCCGGTACTTCC',\n",
       "        'AGCCTCGCATGTAGGTTA', 'AGCGGTAAGAATATCGCT', 'AGCTACTCAGCAACACCT',\n",
       "        'AGCTCTCCGTGATTATCG', 'AGCTGCACTTCCAATCAT', 'AGGAGGTGAGCAGATCCG',\n",
       "        'AGGATCTCATGCAGTTCA', 'AGGATTGAGGACGTAGCA', 'AGGTACCAACGATAGGTG',\n",
       "        'AGGTCCGTCAATCAGGAG', 'AGTACGAATCCTATTGGT', 'AGTCAGTTGCACGTAGAC',\n",
       "        'AGTCGATCAATCTACATC', 'AGTCGCCGAAGTCAGTTG', 'AGTCGCCGATCGTGACGT',\n",
       "        'AGTGTGCACATACTTGCT', 'AGTGTTCTGGCATTGATC', 'AGTTAGGTCTGCGTCTTA',\n",
       "        'AGTTATCGCCGCGATGTA', 'AGTTCGATATTGGTAACT', 'ATAAGTTCGAGGATGCGT',\n",
       "        'ATAATGTGGCTGAGATAG', 'ATACCGAAGCGATTCGAG', 'ATAGACCGAAGATCTTCA',\n",
       "        'ATAGACCGAGCCAACAAT', 'ATAGACCGAGCGATGGTG', 'ATAGTCAGTTAGCTGTTG',\n",
       "        'ATAGTCTCCCGGTTCTAT', 'ATAGTGGTTACACACCGT', 'ATATCAGCCATATAGCGT',\n",
       "        'ATATGCAGCCACACTGCC', 'ATCATTACGCAGTGCCAT', 'ATCCATTAGGGATCAGGT',\n",
       "        'ATCCATTAGTGGAAGATT', 'ATCCGGTCCGACATATGT', 'ATCCGGTCCTTCACCTTG',\n",
       "        'ATCGGTGGTCTTCCGTGG', 'ATCGGTGGTGTTGACGTG', 'ATCTGCGTAGGTAGTGTT',\n",
       "        'ATCTTACAGTCACGACAA', 'ATGACACAAGCGGTAAGT', 'ATGAGTGTGGGAACCTAG',\n",
       "        'ATGGATATCAGACCACGC', 'ATTAGCGGTCTAATACGC', 'ATTGCGCTACAGCTTCGA',\n",
       "        'CAACGTCTTGTCTTCTCG', 'CAAGCGCATAATCCTCGT', 'CAATTGTCTTCTGGAGGA',\n",
       "        'CACATATCAAGAATCAGA', 'CACATATCACGAACAATC', 'CACCTCGGAAAGACGAAG',\n",
       "        'CACGATAGAGCTCAGCCA', 'CACGCGTAATATCCTCAG', 'CACGTAGACATGGTTCGA',\n",
       "        'CACTGGTCCATTCTCTGG', 'CAGATCATTGTCGTGTTA', 'CAGCTAGTTTGTCACATA',\n",
       "        'CAGCTTACCACATTCCAC', 'CAGCTTACCGTCTTATGC', 'CAGGAGCCTGTGGTACGG',\n",
       "        'CAGTACATCAGATGTTGG', 'CAGTATGATAGCTACTCA', 'CAGTTGAGTGCCGTTGTT',\n",
       "        'CATACAACCAGTGTTCTG', 'CATAGAGATGTCTTCATA', 'CATAGGTGTACAGTATTG',\n",
       "        'CATAGTATGGGAGCTCAA', 'CATCGCTGGTAACGTGTC', 'CATCTCACGGCCGCCTAA',\n",
       "        'CATGCCAGTTGTGGTCCT', 'CATGTGAACGCAGCTCTT', 'CATTCGAATTAAGGTCCG',\n",
       "        'CCAACGGAAGTAACCATA', 'CCAAGCGAGGGTTGAAGG', 'CCAAGTCGAGGAGTACAG',\n",
       "        'CCAATGCCTCTGAGATAG', 'CCAGGAGTTTAACGGATA', 'CCATATCTTACTGGACCA',\n",
       "        'CCATTACAGGGAGATGAG', 'CCGGATTGCGCATGTAAG', 'CCGTACGGAGTGGATAAG',\n",
       "        'CCGTCCACTTTGTTAGAG', 'CCTAGCAATCTTGCGACC', 'CCTATTCAACAGTGAGGA',\n",
       "        'CCTCGCGTTGCTGTTCGG', 'CCTCTCTAGCTTCACTGT', 'CCTCTTGTAGTCCTTCAT',\n",
       "        'CCTGCGTTACTTCTGAGT', 'CCTGTATCTGGAGACACA', 'CCTGTCGACAACGCTCAA',\n",
       "        'CCTGTCGACGCTTCTGAA', 'CCTGTCGACTAGCACTAT', 'CCTTATCCGAGCCTCTAG',\n",
       "        'CGACAGACCCCGATCAGC', 'CGACAGACCTAATCTGGA', 'CGACCATCAGTCTGAGCC',\n",
       "        'CGAGCTTACATAGTCTCC', 'CGATACTCTTGTAACAGT', 'CGATCCAGAAATATCGCT',\n",
       "        'CGATCCAGAGATTGGAAG', 'CGCAACCTCCAATACCAC', 'CGCACTCTTATCCGACCA',\n",
       "        'CGCCACCATAGATACGTT', 'CGCGCACATAATATCAGC', 'CGCGTGAGACACTTCCTT',\n",
       "        'CGCTGTAGTAGATCTTCA', 'CGCTGTAGTGTTGCATGG', 'CGCTTATGAGTGGACTGG',\n",
       "        'CGGAACGAGCGGTCGACA', 'CGGAAGACGCCAACAACA', 'CGGTAGCTTACTCCGGTT',\n",
       "        'CGGTCGACATCGGATGTT', 'CGGTTCTATATTCACCTC', 'CGTATTCCTCCTAGTCTC',\n",
       "        'CGTATTCCTTCCAATCAT', 'CTAGAGTCGCTCGTCTTG', 'CTAGGTACTGGATCAATG',\n",
       "        'CTAGGTACTTATTGCTAC', 'CTAGTCGTCGGAGATGAG', 'CTATACTAGTGATTATCG',\n",
       "        'CTATCCATCAATTCGGAA', 'CTATCCATCCATCCGACA', 'CTATGGATGGCACCATCG',\n",
       "        'CTCTAGTAAGTGCCATGA', 'CTCTCAGTCGAACTGCAA', 'CTCTCAGTCTGAACCAAT',\n",
       "        'CTCTTCAGCTAGTAACGG', 'CTCTTCAGCTATGGTTGG', 'CTGACGGATAACTGATTC',\n",
       "        'CTGAGTAGCTCGTTCTCC', 'CTGCAGAGCAGTAATGGT', 'CTGCATGTTCAATCTCCG',\n",
       "        'CTGCGTCACACAGCATCA', 'CTGCGTCACGCGGAGATT', 'CTGCTTAGGATCGATCCT',\n",
       "        'CTGGACTAAGTCCTAGTT', 'CTGGTAATCCCTGTATCT', 'CTGGTGACATCAGGTGCA',\n",
       "        'CTTAATCGTGGATACAAT', 'CTTACCTAGTCCTGTCCG', 'CTTCCTGATTGCGTCTTA',\n",
       "        'CTTGATCTACGACCTGTA', 'GAACGCTGTGACCAGAGA', 'GAACTGCAAAGTCTGGAA',\n",
       "        'GACCGCTTCAACAGATCG', 'GACCGTAGTCTTAACAGC', 'GACGTAGCAGTCTCCAGG',\n",
       "        'GACTCTCACACGTTCAAT', 'GACTTGATTGACCGTAGT', 'GACTTGATTGTCCGCTCA',\n",
       "        'GAGATTCCTTCATGCAGG', 'GAGGACTTAGTCTTCATA', 'GAGGTGAGCCGTTAATGG',\n",
       "        'GAGGTGAGCTAGGTCAAC', 'GAGTCTTCGTGGAAGATT', 'GATAACGTCCGGAATGCA',\n",
       "        'GATCGATACAGACTTCGT', 'GATCTTCGCTCAGGACTG', 'GATGCTCCTTCCATCATT',\n",
       "        'GATGTCTAGACTTGATCT', 'GATTAGTGTACTTGATCT', 'GATTCTCGGATGATAGCT',\n",
       "        'GCACCATCGGCTACAATG', 'GCACCATCGTGTCCATAG', 'GCAGCTCTTGAGTGCATA',\n",
       "        'GCATACTCCATTCTCTGG', 'GCATGTGGTCTGCTTAGG', 'GCCATCGCTCTCTCAGTC',\n",
       "        'GCCATTAAGTTACGGACC', 'GCCGAGTCTTATTACAGC', 'GCCTTAGAGCGGAACGAG',\n",
       "        'GCGAAGCTCAGATACGTT', 'GCGATATGAAACGATGAC', 'GCGTCGTCTACTCTCACA',\n",
       "        'GCGTCGTCTGATACACTA', 'GCTACCTTAATGAACTAG', 'GCTAGCTCCGACCAGAGA',\n",
       "        'GCTAGTGGAAACTTAGCT', 'GCTATGTAACTTAGAAGG', 'GCTGAGCAGCGTATTCCT',\n",
       "        'GCTGAGCAGCGTCTGTCC', 'GCTGAGCAGGTAGTGGAG', 'GCTGAGCAGTGCCTTCAG',\n",
       "        'GCTTCTGAACTTCTATGA', 'GCTTGTCCTACCGGAAGG', 'GCTTGTCCTTCCACCGGT',\n",
       "        'GGAAGAAGCCTATCCATC', 'GGAAGGTATGTGTCCGTG', 'GGAATTCACGACATAACG',\n",
       "        'GGACGAGCAATTAGCACA', 'GGACTATTCCGTGCAAGG', 'GGAGAATGAGTGGATAAG',\n",
       "        'GGAGAATGATCGTCCGAT', 'GGAGCATCTTGAGATCAT', 'GGAGCTCAATCCAATCAT',\n",
       "        'GGAGTTAGCTATCGAGCC', 'GGATAATACACGACATCT', 'GGATCGTTCCAGGAGCCT',\n",
       "        'GGATGCTCGGTAACTCAT', 'GGTAAGGATAGCTGCACT', 'GGTCGGTCTTAAGCACTA',\n",
       "        'GGTCTCATGTTCCGAGCG', 'GGTGTGACCCCATCTAGG', 'GGTTCAGACAATCCGCTG',\n",
       "        'GGTTCGCAAACAGGAACT', 'GTAACCATAACGACGATT', 'GTAACCATATATTGACTG',\n",
       "        'GTAAGGTCCATCAGGATG', 'GTACAATGCTCTATGACA', 'GTACGTCTATAGGATTAG',\n",
       "        'GTAGTTGGTCCTTGCTTG', 'GTATGTATCTACTCGACC', 'GTCAATACAGTCCGCTCA',\n",
       "        'GTCAGACCGAGATGTTGG', 'GTCAGCGTCTCGGATGTT', 'GTCATTCTAGCGGAGATT',\n",
       "        'GTCCGTAAGGATCTAGAG', 'GTCGCAGGTGGTTACGCA', 'GTCTACCAAGGTCCTAAG',\n",
       "        'GTCTGAGCCAAGTCATGA', 'GTCTTATGCAGGAGGTGA', 'GTCTTATGCTATTCAACG',\n",
       "        'GTGACGTAAATCAGAAGC', 'GTGACTCTCTCAGACAAG', 'GTGCACGAGAGTACTACA',\n",
       "        'GTGCATCAACTATGGATG', 'GTGCTGACTTCATGCAGG', 'GTGGTTACCAGTGTTCTG',\n",
       "        'GTGTCCGTGCATTGACAA', 'GTGTCCGTGGGATACAAT', 'GTGTTCCAGTTCACTGGA',\n",
       "        'GTTAATTCGAACGCCTAC', 'GTTAGTCAAGATTCCTCT', 'GTTAGTCAAGCCTTCCAT',\n",
       "        'GTTATCGATTCGTAATAG', 'GTTCAGAAGTCTCGATGC', 'GTTCCAACACCATACGAT',\n",
       "        'GTTGACCATAGCATTCCA', 'TAACACGAGGGTTCGCAA', 'TAACGGATAGAGTTATAG',\n",
       "        'TAAGCACTATGCCGAACT', 'TAAGCCATTAATCCGCTG', 'TAATGTAGCAAGCAGCAT',\n",
       "        'TACAACACCGAACCAGTT', 'TACCTCACTCGGTTCGTA', 'TACCTCCTCAATGCCTCA',\n",
       "        'TACCTCCTCTAGCACTAT', 'TACGAACTCGGACAGATT', 'TACTAGTAGGTCACAGAG',\n",
       "        'TACTTACCATCGATTCAG', 'TAGCCTTGTCTCTGCGGT', 'TAGCGCAGCTAGCACACG',\n",
       "        'TAGGAGGATTCGGTATCA', 'TAGTAGTCTGACCTTGTG', 'TAGTCGCATTGACCAAGT',\n",
       "        'TATAATCGCAATATCGCT', 'TATCAGTGCCGTGACCAG', 'TATCATGCTCATCGCTGG',\n",
       "        'TATCCTCAGTTAGATCGG', 'TATCTAGGTTGCCTTCAG', 'TATCTAGGTTGGTCCTAG',\n",
       "        'TATCTGTCATCGCAAGCA', 'TATGTACCTTTCACTCCT', 'TATTGACTGTTCCGCCAG',\n",
       "        'TCACTCGCTACCACTAGG', 'TCAGAGTCAGCCTTGTGA', 'TCAGAGTCATGATTATCG',\n",
       "        'TCAGGTGCAGTTGCATGG', 'TCAGTAAGCAAGACTGGT', 'TCAGTGCAAGTATTACTG',\n",
       "        'TCATGCAGGAGTTAGGTC', 'TCCAGCAGCCAGTACATC', 'TCCAGCTATTTCATCCAA',\n",
       "        'TCCGGAGCTCTTAGAAGG', 'TCCGTATACACTGTGTCA', 'TCCTATTCCCAATACCAC',\n",
       "        'TCCTGTCCGATGGTTCGA', 'TCCTTCAACGTGGACTGG', 'TCCTTCAACTGAGATCAT',\n",
       "        'TCGAACGCTACCGGAAGG', 'TCGAACGCTTTCACCTTG', 'TCGCAAGCAAGGAGCAAT',\n",
       "        'TCGCATTCGACTCATTCA', 'TCGGAACGATCAACACTC', 'TCGGATGTTAACCGCTGA',\n",
       "        'TCGGTATCAGGTTCAGAC', 'TCGTGACGTATCCAGCTG', 'TCGTGCCACACACATCTG',\n",
       "        'TCGTGCCACCACACCACA', 'TCGTGCCACCCTGTCATT', 'TCGTTCTCCGATGTAAGG',\n",
       "        'TCTACGCAAAATACCTTG', 'TCTAGTGACTATGACCGA', 'TCTCATCGGATTGACACG',\n",
       "        'TCTCGTATCCTATCTTGA', 'TCTTGGTAGCGGTTCTAT', 'TGACAAGTTCAACGTCTT',\n",
       "        'TGACCTATGAGTAATCAG', 'TGACGGTTGGGTCTTGCA', 'TGAGATCATCCTTCCTCA',\n",
       "        'TGATTCACCAGGTACCAA', 'TGATTGTGCAAGTCATGA', 'TGCAGTTCAGGAGATGAG',\n",
       "        'TGCCGCTACCCTTAATTC', 'TGCGTAATCACCTGCAGA', 'TGCTCCTCCGTCTTCATA',\n",
       "        'TGGAACTAATCCTCGTCG', 'TGGAAGATTTTCAACTAC', 'TGGAATCGTCCGTAGTTG',\n",
       "        'TGGACTGCCCCTGTATCT', 'TGGAGAACCGGAGACACA', 'TGGTTATACTATCCTCAG',\n",
       "        'TGTACACGAATAATCGAG', 'TGTAGATCGTGCCTTCAG', 'TGTAGGTTATTACACCTT',\n",
       "        'TGTCAACCTGAGATTCCT', 'TGTCACATATCTATGACA', 'TGTGCAGTAACGACGATT',\n",
       "        'TGTGCCATGATAAGTTCG', 'TGTGCCATGGTCCGCTCA', 'TGTGGTCCTGCTTCTACG',\n",
       "        'TTACACCTTCTGGACTAA', 'TTACCTCTCAGACATCCA', 'TTCACTGGATACCATGTA',\n",
       "        'TTCAGTGCCTCTGGAGGA', 'TTCCGCCAGACTATCCTG', 'TTCCTGCTAATGCGCCGT',\n",
       "        'TTCGCATCCTAGACCATG', 'TTCGGAGTCGGAACCTAG', 'TTCGTGATGACTACCATC',\n",
       "        'TTCGTGATGGATTGGAAG', 'TTCTGCCGACATTGTTCA', 'TTCTGGTGCGATCGTTGA',\n",
       "        'TTCTGGTGCTGTAGGTTA', 'TTGAGCTCTAGGAATTGG', 'TTGATCGTATGTCATAGC',\n",
       "        'TTGATGAGTAGGTGCGAG', 'TTGCAGTCAGAACATGAC', 'TTGCCAGATGTTGCATGG',\n",
       "        'TTGCTCTGCTCGGATGTT', 'TTGTATCACCAATTGTCT', 'TTGTTAGAGAGCACACCT'],\n",
       "       dtype=object),\n",
       " 'filtered': array([0, 0, 0, 0, 0, 0, 0, 0, 0, 0, 0, 0, 0, 0, 0, 0, 0, 0, 0, 0, 0, 0,\n",
       "        0, 0, 0, 0, 0, 0, 0, 0, 0, 0, 0, 0, 0, 0, 0, 0, 0, 0, 0, 0, 0, 0,\n",
       "        0, 0, 0, 0, 0, 0, 0, 0, 0, 0, 0, 0, 0, 0, 0, 0, 0, 0, 0, 0, 0, 0,\n",
       "        0, 0, 0, 0, 0, 0, 0, 0, 0, 0, 0, 0, 0, 0, 0, 0, 0, 0, 0, 0, 0, 0,\n",
       "        0, 0, 0, 0, 0, 0, 0, 0, 0, 0, 0, 0, 0, 0, 0, 0, 0, 0, 0, 0, 0, 0,\n",
       "        0, 0, 0, 0, 0, 0, 0, 0, 0, 0, 0, 0, 0, 0, 0, 0, 0, 0, 0, 0, 0, 0,\n",
       "        0, 0, 0, 0, 0, 0, 0, 0, 0, 0, 0, 0, 0, 0, 0, 0, 0, 0, 0, 0, 0, 0,\n",
       "        0, 0, 0, 0, 0, 0, 0, 0, 0, 0, 0, 0, 0, 0, 0, 0, 0, 0, 0, 0, 0, 0,\n",
       "        0, 0, 0, 0, 0, 0, 0, 0, 0, 0, 0, 0, 0, 0, 0, 0, 0, 0, 0, 0, 0, 0,\n",
       "        0, 0, 0, 0, 0, 0, 0, 0, 0, 0, 0, 0, 0, 0, 0, 0, 0, 0, 0, 0, 0, 0,\n",
       "        0, 0, 0, 0, 0, 0, 0, 0, 0, 0, 0, 0, 0, 0, 0, 0, 0, 0, 0, 0, 0, 0,\n",
       "        0, 0, 0, 0, 0, 0, 0, 0, 0, 0, 0, 0, 0, 0, 0, 0, 0, 0, 0, 0, 0, 0,\n",
       "        0, 0, 0, 0, 0, 0, 0, 0, 0, 0, 0, 0, 0, 0, 0, 0, 0, 0, 0, 0, 0, 0,\n",
       "        0, 0, 0, 0, 0, 0, 0, 0, 0, 0, 0, 0, 0, 0, 0, 0, 0, 0, 0, 0, 0, 0,\n",
       "        0, 0, 0, 0, 0, 0, 0, 0, 0, 0, 0, 0, 0, 0, 0, 0, 0, 0, 0, 0, 0, 0,\n",
       "        0, 0, 0, 0, 0, 0, 0, 0, 0, 0, 0, 0, 0, 0, 0, 0, 0, 0, 0, 0, 0, 0,\n",
       "        0, 0, 0, 0, 0, 0, 0, 0, 0, 0, 0, 0, 0, 0, 0, 0, 0, 0, 0, 0, 0, 0,\n",
       "        0, 0, 0, 0, 0, 0, 0, 0, 0, 0, 0, 0, 0, 0, 0, 0, 0, 0, 0],\n",
       "       dtype=uint8),\n",
       " 'sample_name': array(['5-M-001', '5-M-001', '5-M-001', '5-M-001', '5-M-001', '5-M-001',\n",
       "        '5-M-001', '5-M-001', '5-M-001', '5-M-001', '5-M-001', '5-M-001',\n",
       "        '5-M-001', '5-M-001', '5-M-001', '5-M-001', '5-M-001', '5-M-001',\n",
       "        '5-M-001', '5-M-001', '5-M-001', '5-M-001', '5-M-001', '5-M-001',\n",
       "        '5-M-001', '5-M-001', '5-M-001', '5-M-001', '5-M-001', '5-M-001',\n",
       "        '5-M-001', '5-M-001', '5-M-001', '5-M-001', '5-M-001', '5-M-001',\n",
       "        '5-M-001', '5-M-001', '5-M-001', '5-M-001', '5-M-001', '5-M-001',\n",
       "        '5-M-001', '5-M-001', '5-M-001', '5-M-001', '5-M-001', '5-M-001',\n",
       "        '5-M-001', '5-M-001', '5-M-001', '5-M-001', '5-M-001', '5-M-001',\n",
       "        '5-M-001', '5-M-001', '5-M-001', '5-M-001', '5-M-001', '5-M-001',\n",
       "        '5-M-001', '5-M-001', '5-M-001', '5-M-001', '5-M-001', '5-M-001',\n",
       "        '5-M-001', '5-M-001', '5-M-001', '5-M-001', '5-M-001', '5-M-001',\n",
       "        '5-M-001', '5-M-001', '5-M-001', '5-M-001', '5-M-001', '5-M-001',\n",
       "        '5-M-001', '5-M-001', '5-M-001', '5-M-001', '5-M-001', '5-M-001',\n",
       "        '5-M-001', '5-M-001', '5-M-001', '5-M-001', '5-M-001', '5-M-001',\n",
       "        '5-M-001', '5-M-001', '5-M-001', '5-M-001', '5-M-001', '5-M-001',\n",
       "        '5-M-001', '5-M-001', '5-M-001', '5-M-001', '5-M-001', '5-M-001',\n",
       "        '5-M-001', '5-M-001', '5-M-001', '5-M-001', '5-M-001', '5-M-001',\n",
       "        '5-M-001', '5-M-001', '5-M-001', '5-M-001', '5-M-001', '5-M-001',\n",
       "        '5-M-001', '5-M-001', '5-M-001', '5-M-001', '5-M-001', '5-M-001',\n",
       "        '5-M-001', '5-M-001', '5-M-001', '5-M-001', '5-M-001', '5-M-001',\n",
       "        '5-M-001', '5-M-001', '5-M-001', '5-M-001', '5-M-001', '5-M-001',\n",
       "        '5-M-001', '5-M-001', '5-M-001', '5-M-001', '5-M-001', '5-M-001',\n",
       "        '5-M-001', '5-M-001', '5-M-001', '5-M-001', '5-M-001', '5-M-001',\n",
       "        '5-M-001', '5-M-001', '5-M-001', '5-M-001', '5-M-001', '5-M-001',\n",
       "        '5-M-001', '5-M-001', '5-M-001', '5-M-001', '5-M-001', '5-M-001',\n",
       "        '5-M-001', '5-M-001', '5-M-001', '5-M-001', '5-M-001', '5-M-001',\n",
       "        '5-M-001', '5-M-001', '5-M-001', '5-M-001', '5-M-001', '5-M-001',\n",
       "        '5-M-001', '5-M-001', '5-M-001', '5-M-001', '5-M-001', '5-M-001',\n",
       "        '5-M-001', '5-M-001', '5-M-001', '5-M-001', '5-M-001', '5-M-001',\n",
       "        '5-M-001', '5-M-001', '5-M-001', '5-M-001', '5-M-001', '5-M-001',\n",
       "        '5-M-001', '5-M-001', '5-M-001', '5-M-001', '5-M-001', '5-M-001',\n",
       "        '5-M-001', '5-M-001', '5-M-001', '5-M-001', '5-M-001', '5-M-001',\n",
       "        '5-M-001', '5-M-001', '5-M-001', '5-M-001', '5-M-001', '5-M-001',\n",
       "        '5-M-001', '5-M-001', '5-M-001', '5-M-001', '5-M-001', '5-M-001',\n",
       "        '5-M-001', '5-M-001', '5-M-001', '5-M-001', '5-M-001', '5-M-001',\n",
       "        '5-M-001', '5-M-001', '5-M-001', '5-M-001', '5-M-001', '5-M-001',\n",
       "        '5-M-001', '5-M-001', '5-M-001', '5-M-001', '5-M-001', '5-M-001',\n",
       "        '5-M-001', '5-M-001', '5-M-001', '5-M-001', '5-M-001', '5-M-001',\n",
       "        '5-M-001', '5-M-001', '5-M-001', '5-M-001', '5-M-001', '5-M-001',\n",
       "        '5-M-001', '5-M-001', '5-M-001', '5-M-001', '5-M-001', '5-M-001',\n",
       "        '5-M-001', '5-M-001', '5-M-001', '5-M-001', '5-M-001', '5-M-001',\n",
       "        '5-M-001', '5-M-001', '5-M-001', '5-M-001', '5-M-001', '5-M-001',\n",
       "        '5-M-001', '5-M-001', '5-M-001', '5-M-001', '5-M-001', '5-M-001',\n",
       "        '5-M-001', '5-M-001', '5-M-001', '5-M-001', '5-M-001', '5-M-001',\n",
       "        '5-M-001', '5-M-001', '5-M-001', '5-M-001', '5-M-001', '5-M-001',\n",
       "        '5-M-001', '5-M-001', '5-M-001', '5-M-001', '5-M-001', '5-M-001',\n",
       "        '5-M-001', '5-M-001', '5-M-001', '5-M-001', '5-M-001', '5-M-001',\n",
       "        '5-M-001', '5-M-001', '5-M-001', '5-M-001', '5-M-001', '5-M-001',\n",
       "        '5-M-001', '5-M-001', '5-M-001', '5-M-001', '5-M-001', '5-M-001',\n",
       "        '5-M-001', '5-M-001', '5-M-001', '5-M-001', '5-M-001', '5-M-001',\n",
       "        '5-M-001', '5-M-001', '5-M-001', '5-M-001', '5-M-001', '5-M-001',\n",
       "        '5-M-001', '5-M-001', '5-M-001', '5-M-001', '5-M-001', '5-M-001',\n",
       "        '5-M-001', '5-M-001', '5-M-001', '5-M-001', '5-M-001', '5-M-001',\n",
       "        '5-M-001', '5-M-001', '5-M-001', '5-M-001', '5-M-001', '5-M-001',\n",
       "        '5-M-001', '5-M-001', '5-M-001', '5-M-001', '5-M-001', '5-M-001',\n",
       "        '5-M-001', '5-M-001', '5-M-001', '5-M-001', '5-M-001', '5-M-001',\n",
       "        '5-M-001', '5-M-001', '5-M-001', '5-M-001', '5-M-001', '5-M-001',\n",
       "        '5-M-001', '5-M-001', '5-M-001', '5-M-001', '5-M-001', '5-M-001',\n",
       "        '5-M-001', '5-M-001', '5-M-001', '5-M-001', '5-M-001', '5-M-001',\n",
       "        '5-M-001', '5-M-001', '5-M-001', '5-M-001', '5-M-001', '5-M-001',\n",
       "        '5-M-001', '5-M-001', '5-M-001', '5-M-001', '5-M-001', '5-M-001',\n",
       "        '5-M-001', '5-M-001', '5-M-001', '5-M-001', '5-M-001', '5-M-001',\n",
       "        '5-M-001', '5-M-001', '5-M-001', '5-M-001', '5-M-001', '5-M-001',\n",
       "        '5-M-001', '5-M-001', '5-M-001', '5-M-001', '5-M-001', '5-M-001',\n",
       "        '5-M-001', '5-M-001', '5-M-001'], dtype=object),\n",
       " 'label': array(['1', '1', '1', '1', '1', '1', '1', '1', '1', '1', '1', '1', '1',\n",
       "        '1', '1', '1', '1', '1', '1', '1', '1', '1', '1', '1', '1', '1',\n",
       "        '1', '1', '1', '1', '1', '1', '1', '1', '1', '1', '1', '1', '1',\n",
       "        '1', '1', '1', '1', '1', '1', '1', '1', '1', '1', '1', '1', '1',\n",
       "        '1', '1', '1', '1', '1', '1', '1', '1', '1', '1', '1', '1', '1',\n",
       "        '1', '1', '1', '1', '1', '1', '1', '1', '1', '1', '1', '1', '1',\n",
       "        '1', '1', '1', '1', '1', '1', '1', '1', '1', '1', '1', '1', '1',\n",
       "        '1', '1', '1', '1', '1', '1', '1', '1', '1', '1', '1', '1', '1',\n",
       "        '1', '1', '1', '1', '1', '1', '1', '1', '1', '1', '1', '1', '1',\n",
       "        '1', '1', '1', '1', '1', '1', '1', '1', '1', '1', '1', '1', '1',\n",
       "        '1', '1', '1', '1', '1', '1', '1', '1', '1', '1', '1', '1', '1',\n",
       "        '1', '1', '1', '1', '1', '1', '1', '1', '1', '1', '1', '1', '1',\n",
       "        '1', '1', '1', '1', '1', '1', '1', '1', '1', '1', '1', '1', '1',\n",
       "        '1', '1', '1', '1', '1', '1', '1', '1', '1', '1', '1', '1', '1',\n",
       "        '1', '1', '1', '1', '1', '1', '1', '1', '1', '1', '1', '1', '1',\n",
       "        '1', '1', '1', '1', '1', '1', '1', '1', '1', '1', '1', '1', '1',\n",
       "        '1', '1', '1', '1', '1', '1', '1', '1', '1', '1', '1', '1', '1',\n",
       "        '1', '1', '1', '1', '1', '1', '1', '1', '1', '1', '1', '1', '1',\n",
       "        '1', '1', '1', '1', '1', '1', '1', '1', '1', '1', '1', '1', '1',\n",
       "        '1', '1', '1', '1', '1', '1', '1', '1', '1', '1', '1', '1', '1',\n",
       "        '1', '1', '1', '1', '1', '1', '1', '1', '1', '1', '1', '1', '1',\n",
       "        '1', '1', '1', '1', '1', '1', '1', '1', '1', '1', '1', '1', '1',\n",
       "        '1', '1', '1', '1', '1', '1', '1', '1', '1', '1', '1', '1', '1',\n",
       "        '1', '1', '1', '1', '1', '1', '1', '1', '1', '1', '1', '1', '1',\n",
       "        '1', '1', '1', '1', '1', '1', '1', '1', '1', '1', '1', '1', '1',\n",
       "        '1', '1', '1', '1', '1', '1', '1', '1', '1', '1', '1', '1', '1',\n",
       "        '1', '1', '1', '1', '1', '1', '1', '1', '1', '1', '1', '1', '1',\n",
       "        '1', '1', '1', '1', '1', '1', '1', '1', '1', '1', '1', '1', '1',\n",
       "        '1', '1', '1', '1', '1', '1', '1', '1', '1', '1', '1', '1', '1',\n",
       "        '1', '1', '1', '1', '1', '1', '1', '1', '1', '1', '1', '1', '1',\n",
       "        '1', '1', '1'], dtype=object),\n",
       " 'umap': array([[-6.23663306e-01, -1.37766147e+00],\n",
       "        [ 4.02612257e+00, -6.19707584e+00],\n",
       "        [ 6.40373182e+00,  3.85127783e-01],\n",
       "        [-1.61068976e+00,  7.28428745e+00],\n",
       "        [-3.79506290e-01,  1.74754202e-01],\n",
       "        [-2.30069026e-01,  7.65093374e+00],\n",
       "        [ 5.43121219e-01,  3.87424850e+00],\n",
       "        [-2.66380429e+00,  4.96130371e+00],\n",
       "        [ 5.26036549e+00, -4.06264544e+00],\n",
       "        [ 4.02350521e+00, -4.88637161e+00],\n",
       "        [-4.91867924e+00,  6.50188160e+00],\n",
       "        [ 3.10057044e-01,  7.88608599e+00],\n",
       "        [ 3.18174934e+00, -4.18519354e+00],\n",
       "        [-1.81832218e+00, -1.12429571e+00],\n",
       "        [ 5.75673771e+00, -6.03425682e-01],\n",
       "        [-5.02068233e+00, -5.77574633e-02],\n",
       "        [ 1.94319201e+00, -7.10211277e+00],\n",
       "        [-5.40076447e+00,  4.16745615e+00],\n",
       "        [-5.52563906e+00, -3.06663841e-01],\n",
       "        [-1.53468227e+00,  6.47458267e+00],\n",
       "        [-8.61523914e+00, -8.15908813e+00],\n",
       "        [-1.86107302e+00,  6.02716827e+00],\n",
       "        [-5.67286205e+00, -1.41225028e+00],\n",
       "        [-1.43020511e+00,  1.98733199e+00],\n",
       "        [ 9.29491615e+00,  2.08597040e+00],\n",
       "        [ 3.66223621e+00, -7.32826233e+00],\n",
       "        [ 3.83945131e+00, -4.49895191e+00],\n",
       "        [-3.74995446e+00,  2.13464212e+00],\n",
       "        [ 3.85218477e+00, -4.32738972e+00],\n",
       "        [-7.27655840e+00, -8.91926098e+00],\n",
       "        [ 2.11966658e+00, -7.45734739e+00],\n",
       "        [ 1.65351201e-03,  1.41406071e+00],\n",
       "        [ 5.77002144e+00, -5.61886883e+00],\n",
       "        [-4.22910511e-01,  8.02750492e+00],\n",
       "        [ 5.36341953e+00,  1.48155034e+00],\n",
       "        [-5.22462606e+00, -5.72750390e-01],\n",
       "        [ 8.59172153e+00,  2.03335190e+00],\n",
       "        [ 7.22484207e+00,  3.05786467e+00],\n",
       "        [-1.78924382e+00,  4.10799122e+00],\n",
       "        [-5.63315344e+00,  5.79775381e+00],\n",
       "        [ 8.48209476e+00,  2.17993760e+00],\n",
       "        [-9.85562515e+00, -9.59288979e+00],\n",
       "        [-1.84212402e-01,  5.96212673e+00],\n",
       "        [-9.29749489e-01,  6.05365181e+00],\n",
       "        [-2.32633114e+00,  1.49986970e+00],\n",
       "        [ 1.74457014e+00, -6.75294399e+00],\n",
       "        [ 1.11159742e+00, -4.19570541e+00],\n",
       "        [ 3.55187440e+00, -3.87168598e+00],\n",
       "        [-5.25408077e+00,  6.13571405e+00],\n",
       "        [ 6.42382812e+00, -5.70974731e+00],\n",
       "        [ 6.22183323e+00,  1.70217395e+00],\n",
       "        [ 4.94513178e+00, -3.42585659e+00],\n",
       "        [ 1.56153217e-01, -5.47074862e-02],\n",
       "        [-1.14629412e+00,  4.62831545e+00],\n",
       "        [-1.55127656e+00, -1.80383459e-01],\n",
       "        [ 2.42158484e+00, -7.72196674e+00],\n",
       "        [ 2.24534225e+00,  6.46342993e+00],\n",
       "        [ 2.18910718e+00, -6.35757446e+00],\n",
       "        [ 2.09445786e+00, -6.10160398e+00],\n",
       "        [ 8.85630772e-02,  7.15623283e+00],\n",
       "        [-9.35079306e-02, -2.41399795e-01],\n",
       "        [-1.89648688e+00, -8.75720829e-02],\n",
       "        [ 3.60086823e+00, -5.87319279e+00],\n",
       "        [-1.48983002e+00,  4.74200869e+00],\n",
       "        [ 6.65899467e+00,  1.93091416e+00],\n",
       "        [ 6.53110266e+00, -5.69523287e+00],\n",
       "        [-9.75248432e+00, -8.78374481e+00],\n",
       "        [-8.69729424e+00, -9.69500637e+00],\n",
       "        [-9.64053631e+00, -8.24916744e+00],\n",
       "        [ 4.05928659e+00, -6.71094608e+00],\n",
       "        [-4.01121318e-01,  1.65600085e+00],\n",
       "        [-7.87984729e-01,  4.98096037e+00],\n",
       "        [-2.35443735e+00, -1.57018077e+00],\n",
       "        [-9.63482761e+00, -7.70719004e+00],\n",
       "        [ 3.24339962e+00, -5.38029909e+00],\n",
       "        [-6.45729160e+00,  7.11885214e-01],\n",
       "        [-7.75393677e+00, -8.57825661e+00],\n",
       "        [-1.38584435e+00,  2.47530961e+00],\n",
       "        [-8.13033938e-01,  3.49908113e+00],\n",
       "        [ 1.14886510e+00,  5.52946091e+00],\n",
       "        [-2.56809235e+00,  2.25518990e+00],\n",
       "        [ 3.30661631e+00, -7.26758909e+00],\n",
       "        [-3.44642019e+00,  5.15104342e+00],\n",
       "        [ 7.20622826e+00,  1.92448008e+00],\n",
       "        [ 5.63354683e+00, -1.69617981e-01],\n",
       "        [ 2.54693484e+00, -6.36337090e+00],\n",
       "        [ 5.09609127e+00, -3.86234093e+00],\n",
       "        [ 1.73490524e+00,  5.42048073e+00],\n",
       "        [-5.22582054e+00, -1.35120046e+00],\n",
       "        [ 5.38087130e+00, -4.18443584e+00],\n",
       "        [ 4.06191921e+00, -6.39484501e+00],\n",
       "        [-8.17778301e+00, -9.33781624e+00],\n",
       "        [-6.80683315e-01, -8.62250805e-01],\n",
       "        [-7.55307484e+00, -8.86933136e+00],\n",
       "        [-1.72782171e+00,  5.58102369e+00],\n",
       "        [ 7.31792355e+00,  2.24712348e+00],\n",
       "        [-1.02774334e+01, -9.02673817e+00],\n",
       "        [-6.49280977e+00,  7.12576032e-01],\n",
       "        [-3.24575782e+00,  2.47461605e+00],\n",
       "        [ 7.68542671e+00,  3.37070084e+00],\n",
       "        [ 4.03824568e+00,  4.95523185e-01],\n",
       "        [-2.63870215e+00, -1.49975550e+00],\n",
       "        [ 4.77869701e+00,  3.44695854e+00],\n",
       "        [ 2.14679360e+00,  5.54575872e+00],\n",
       "        [-1.40642345e+00, -7.37048328e-01],\n",
       "        [ 5.53493404e+00,  3.63559771e+00],\n",
       "        [ 9.57132435e+00,  3.06187534e+00],\n",
       "        [-2.65573621e+00,  3.44898915e+00],\n",
       "        [ 8.44360948e-01,  5.68805742e+00],\n",
       "        [-2.03591490e+00, -3.97689790e-01],\n",
       "        [-6.22205830e+00,  1.24092758e+00],\n",
       "        [-6.34612036e+00,  8.66534650e-01],\n",
       "        [-8.83518124e+00, -8.23322964e+00],\n",
       "        [-1.03118505e+01, -8.92987061e+00],\n",
       "        [-8.34265137e+00, -9.67904377e+00],\n",
       "        [-1.44883537e+00,  1.26170933e+00],\n",
       "        [-3.56279039e+00,  1.65709269e+00],\n",
       "        [ 3.38633686e-01,  4.07743025e+00],\n",
       "        [ 4.54548568e-01,  5.35191298e+00],\n",
       "        [ 3.36512351e+00, -6.17514896e+00],\n",
       "        [ 6.00887680e+00,  3.45360732e+00],\n",
       "        [ 3.22531521e-01,  4.89880562e+00],\n",
       "        [ 6.69700432e+00, -5.56343126e+00],\n",
       "        [ 1.50948572e+00,  6.93109608e+00],\n",
       "        [ 3.44265938e-01, -2.09348530e-01],\n",
       "        [ 1.79100800e+00, -6.09912491e+00],\n",
       "        [ 2.86632395e+00, -5.34679127e+00],\n",
       "        [ 8.56187344e+00,  1.74902105e+00],\n",
       "        [-4.60931635e+00,  5.95042515e+00],\n",
       "        [-3.70442820e+00,  1.28930676e+00],\n",
       "        [ 1.35987341e+00,  6.28190398e-01],\n",
       "        [ 8.57310486e+00,  1.89943683e+00],\n",
       "        [ 3.45429635e+00, -5.07752371e+00],\n",
       "        [-9.33028793e+00, -8.53828335e+00],\n",
       "        [-7.96011806e-01,  3.51196647e+00],\n",
       "        [ 2.24638060e-01,  5.85891771e+00],\n",
       "        [ 4.13299608e+00, -5.16729879e+00],\n",
       "        [-9.41915894e+00, -9.92402554e+00],\n",
       "        [-4.16201448e+00,  5.29234219e+00],\n",
       "        [-3.16329932e+00,  2.54730582e+00],\n",
       "        [ 6.17997074e+00,  4.31961823e+00],\n",
       "        [ 2.63224125e+00,  5.08124161e+00],\n",
       "        [-2.34298038e+00,  1.88809752e+00],\n",
       "        [-9.87567806e+00, -8.58737850e+00],\n",
       "        [-4.50720358e+00,  4.76674032e+00],\n",
       "        [ 2.36898613e+00, -4.86220884e+00],\n",
       "        [ 6.94030762e-01,  2.66236973e+00],\n",
       "        [-1.13555861e+00, -9.70284224e-01],\n",
       "        [-8.26464367e+00, -9.71990490e+00],\n",
       "        [-8.67894173e+00, -9.07479668e+00],\n",
       "        [-7.96355247e+00, -8.69814110e+00],\n",
       "        [ 4.17524338e+00, -6.07766151e+00],\n",
       "        [-5.25345278e+00, -5.46417475e-01],\n",
       "        [-8.13579941e+00, -8.13241291e+00],\n",
       "        [-2.31143284e+00,  2.29841614e+00],\n",
       "        [ 2.17132425e+00,  4.42599440e+00],\n",
       "        [-9.07064438e+00, -8.51535130e+00],\n",
       "        [-8.60096335e-01,  4.13906193e+00],\n",
       "        [-2.00603342e+00,  7.02004719e+00],\n",
       "        [ 1.16710079e+00,  3.62116432e+00],\n",
       "        [-2.33703899e+00,  5.05072308e+00],\n",
       "        [-1.53812170e+00,  7.10995913e+00],\n",
       "        [-8.30090714e+00, -9.82593346e+00],\n",
       "        [ 6.76399803e+00,  2.63193655e+00],\n",
       "        [-2.67886734e+00, -6.44599080e-01],\n",
       "        [-4.54842281e+00, -1.77772450e+00],\n",
       "        [-3.07483196e+00,  2.09036565e+00],\n",
       "        [-1.64897847e+00,  1.37812662e+00],\n",
       "        [-4.94281816e+00,  6.33690405e+00],\n",
       "        [-3.16469479e+00, -1.38462496e+00],\n",
       "        [-3.45837164e+00,  4.63773298e+00],\n",
       "        [ 6.94314051e+00,  1.65739071e+00],\n",
       "        [ 2.79091573e+00,  6.56547499e+00],\n",
       "        [ 9.41498280e+00,  2.62221837e+00],\n",
       "        [ 2.29203773e+00,  4.55726051e+00],\n",
       "        [ 4.53625774e+00,  3.51889086e+00],\n",
       "        [ 3.66388822e+00, -4.54245949e+00],\n",
       "        [ 2.71467304e+00, -3.65107894e+00],\n",
       "        [-5.12177753e+00,  3.36862564e+00],\n",
       "        [ 5.94980812e+00, -6.10641479e+00],\n",
       "        [ 2.77834630e+00, -7.68307447e+00],\n",
       "        [-9.39192581e+00, -7.35041428e+00],\n",
       "        [-1.45188987e+00,  4.70699929e-02],\n",
       "        [ 6.39960384e+00,  2.67844677e+00],\n",
       "        [ 5.48091173e+00,  3.85246134e+00],\n",
       "        [ 1.72592854e+00, -7.48622656e+00],\n",
       "        [-6.57490063e+00, -8.91657639e+00],\n",
       "        [ 2.73368382e+00, -7.28297520e+00],\n",
       "        [-5.78963661e+00,  4.96721697e+00],\n",
       "        [ 5.98464394e+00,  3.40657353e+00],\n",
       "        [ 9.22072887e+00,  2.60597134e+00],\n",
       "        [-4.73854399e+00,  1.87990022e+00],\n",
       "        [ 2.94003344e+00, -7.54528236e+00],\n",
       "        [ 8.01763248e+00,  1.58487082e+00],\n",
       "        [-4.05572176e-01,  7.37371683e+00],\n",
       "        [-4.71323776e+00, -1.04061484e-01],\n",
       "        [-2.80066776e+00,  2.13969445e+00],\n",
       "        [ 1.86533070e+00,  4.27315807e+00],\n",
       "        [-9.90879250e+00, -9.18093300e+00],\n",
       "        [-2.39393616e+00, -4.36467724e-03],\n",
       "        [-5.49029589e-01,  3.50600839e+00],\n",
       "        [ 5.62559509e+00,  1.36140049e+00],\n",
       "        [ 2.73107553e+00, -6.65568733e+00],\n",
       "        [-4.58343363e+00, -1.98373890e+00],\n",
       "        [-9.51826286e+00, -9.71486950e+00],\n",
       "        [-5.09643257e-01,  4.60116100e+00],\n",
       "        [ 5.97597361e-01,  3.78858447e+00],\n",
       "        [ 2.26172400e+00, -3.64802074e+00],\n",
       "        [ 6.06064415e+00, -6.38530540e+00],\n",
       "        [ 6.44479752e+00, -4.15856552e+00],\n",
       "        [-8.94589329e+00, -7.88447094e+00],\n",
       "        [-5.01353216e+00, -1.09771776e+00],\n",
       "        [-2.73848677e+00, -1.76669717e+00],\n",
       "        [ 4.44303226e+00, -1.57306641e-01],\n",
       "        [-3.37217307e+00,  2.26056027e+00],\n",
       "        [ 6.16558743e+00, -6.03470802e+00],\n",
       "        [-8.82595348e+00, -8.84633446e+00],\n",
       "        [-9.91623688e+00, -9.91554642e+00],\n",
       "        [-9.20771897e-01,  3.79308009e+00],\n",
       "        [ 7.63853931e+00,  1.92586172e+00],\n",
       "        [ 3.20105290e+00, -2.83954430e+00],\n",
       "        [ 3.73779798e+00, -4.51584768e+00],\n",
       "        [-9.85136867e-01,  5.07539272e-01],\n",
       "        [ 8.81285477e+00,  3.26895380e+00],\n",
       "        [ 7.93420076e-01, -6.13793659e+00],\n",
       "        [ 4.95815611e+00, -5.70152760e+00],\n",
       "        [-3.76934338e+00, -2.71685142e-02],\n",
       "        [-3.22558552e-01,  6.80069399e+00],\n",
       "        [ 7.61110353e+00,  1.24452913e+00],\n",
       "        [-4.72753191e+00,  6.54128361e+00],\n",
       "        [-3.97210538e-01,  7.91705990e+00],\n",
       "        [ 9.03434181e+00,  1.80146146e+00],\n",
       "        [ 2.32015276e+00,  5.81311750e+00],\n",
       "        [ 4.10218906e+00, -5.06853533e+00],\n",
       "        [-4.95147133e+00,  5.89321661e+00],\n",
       "        [ 7.41774178e+00,  1.32228553e+00],\n",
       "        [-1.50866163e+00, -1.24981570e+00],\n",
       "        [-4.43026733e+00,  8.00855637e-01],\n",
       "        [-1.74746871e+00,  5.74294329e+00],\n",
       "        [ 6.23969555e+00, -5.93040180e+00],\n",
       "        [-1.88542008e+00,  5.96619081e+00],\n",
       "        [-2.75364375e+00,  1.12308972e-01],\n",
       "        [ 2.08690119e+00,  2.90586948e+00],\n",
       "        [ 1.13018155e+00,  7.38178062e+00],\n",
       "        [ 2.95623207e+00, -5.01699209e+00],\n",
       "        [-3.68461370e-01,  3.41469860e+00],\n",
       "        [-5.86536765e-01,  1.26791787e+00],\n",
       "        [-2.92735672e+00,  1.02178574e-01],\n",
       "        [-3.56371593e+00, -6.21862054e-01],\n",
       "        [-3.53209758e+00, -3.57886821e-01],\n",
       "        [-1.04961910e+01, -8.95924282e+00],\n",
       "        [ 3.31808472e+00, -5.45552349e+00],\n",
       "        [ 1.30872083e+00, -6.85554600e+00],\n",
       "        [ 3.63394547e+00,  7.01520920e-01],\n",
       "        [ 9.40428376e-02,  7.67442274e+00],\n",
       "        [ 6.03175926e+00, -6.18269730e+00],\n",
       "        [ 2.12665701e+00,  7.06865740e+00],\n",
       "        [ 2.54281044e+00, -5.01634026e+00],\n",
       "        [-4.98827028e+00,  9.35411379e-02],\n",
       "        [ 1.91525316e+00, -6.38002777e+00],\n",
       "        [-3.11056876e+00,  5.82223701e+00],\n",
       "        [-9.10791111e+00, -9.09446621e+00],\n",
       "        [ 2.71798515e+00,  4.63488054e+00],\n",
       "        [-4.27031136e+00, -1.09613562e+00],\n",
       "        [ 1.04854882e+00,  4.37760735e+00],\n",
       "        [-4.15682220e+00,  6.48758459e+00],\n",
       "        [-5.14213085e+00,  4.62100649e+00],\n",
       "        [ 6.46708059e+00,  1.26653627e-01],\n",
       "        [ 9.26560497e+00,  3.42669225e+00],\n",
       "        [-5.55260420e+00,  5.82827330e+00],\n",
       "        [ 7.21861458e+00,  3.17767429e+00],\n",
       "        [ 3.28344798e+00, -4.95682526e+00],\n",
       "        [ 2.76798606e+00,  6.91234016e+00],\n",
       "        [-2.70030117e+00, -1.44800889e+00],\n",
       "        [-4.76673794e+00,  1.68774009e-01],\n",
       "        [ 5.56561375e+00,  3.88406706e+00],\n",
       "        [-2.91967988e+00,  2.93041706e+00],\n",
       "        [-5.59212446e+00, -1.83959872e-01],\n",
       "        [ 6.13343525e+00,  1.49385050e-01],\n",
       "        [ 9.95269567e-02,  3.32092333e+00],\n",
       "        [-8.94806147e-01,  2.95470834e+00],\n",
       "        [-4.07376575e+00,  7.45744228e-01],\n",
       "        [ 6.98337018e-01,  3.87602282e+00],\n",
       "        [-5.05248976e+00, -1.56079125e+00],\n",
       "        [ 2.91416264e+00, -7.33738470e+00],\n",
       "        [ 1.43110156e+00, -6.70692396e+00],\n",
       "        [-2.04625869e+00,  5.42365074e+00],\n",
       "        [-2.69053245e+00,  4.15566295e-01],\n",
       "        [-2.96822667e+00, -5.04026949e-01],\n",
       "        [-5.33174801e+00,  1.30362916e+00],\n",
       "        [-1.64282787e+00, -1.12983859e+00],\n",
       "        [ 8.35474682e+00,  3.96298766e+00],\n",
       "        [ 8.51627922e+00,  3.04512715e+00],\n",
       "        [-4.62041616e-01, -7.89858997e-01],\n",
       "        [-8.34947491e+00, -8.63294220e+00],\n",
       "        [ 2.81082249e+00, -6.85842609e+00],\n",
       "        [ 1.66138411e+00, -6.19683647e+00],\n",
       "        [ 8.95477486e+00,  3.44352436e+00],\n",
       "        [ 8.90999222e+00,  2.90304232e+00],\n",
       "        [-3.93686056e+00,  3.57496887e-01],\n",
       "        [ 6.55068874e+00,  2.99133301e+00],\n",
       "        [ 2.16933465e+00,  5.30771494e+00],\n",
       "        [ 7.46218872e+00,  1.35204446e+00],\n",
       "        [ 4.23797750e+00, -5.59273911e+00],\n",
       "        [ 6.25031054e-01,  5.34819508e+00],\n",
       "        [-3.75894070e+00, -1.45957935e+00],\n",
       "        [ 2.58442378e+00, -5.02431440e+00],\n",
       "        [ 7.10653353e+00,  2.33926082e+00],\n",
       "        [-3.17182481e-01,  3.91413784e+00],\n",
       "        [-2.35869384e+00,  1.73669314e+00],\n",
       "        [-9.96153927e+00, -8.94181728e+00],\n",
       "        [-2.94828415e+00,  3.30021977e+00],\n",
       "        [-8.73101413e-01,  1.75254178e+00],\n",
       "        [-4.41947412e+00,  1.27289820e+00],\n",
       "        [-2.12852216e+00, -1.49081719e+00],\n",
       "        [ 2.47462630e+00,  4.52661324e+00],\n",
       "        [ 6.76022470e-01,  7.66865444e+00],\n",
       "        [-1.96654248e+00,  3.94623637e+00],\n",
       "        [ 6.63253117e+00,  3.40648144e-01],\n",
       "        [ 2.33180046e+00,  6.19398117e+00],\n",
       "        [ 7.70506978e-01,  6.60091305e+00],\n",
       "        [-3.19744611e+00,  3.29262400e+00],\n",
       "        [-3.65474248e+00, -5.73989868e-01],\n",
       "        [-1.00409460e+01, -8.78263283e+00],\n",
       "        [-6.21214962e+00,  1.34645128e+00],\n",
       "        [ 5.53693771e+00,  1.51425612e+00],\n",
       "        [ 4.29227495e+00,  3.29874063e+00],\n",
       "        [-2.10917741e-01, -3.48747998e-01],\n",
       "        [ 2.19280624e+00, -5.02835655e+00],\n",
       "        [ 1.41461360e+00,  7.23832321e+00],\n",
       "        [ 5.73360634e+00,  2.56893158e+00],\n",
       "        [ 4.86374721e-02,  2.12873983e+00],\n",
       "        [-8.41841316e+00, -7.98663807e+00],\n",
       "        [-8.66657197e-01,  7.41083717e+00],\n",
       "        [-1.21535051e+00,  4.53677130e+00],\n",
       "        [-1.80218267e+00,  6.66274548e+00],\n",
       "        [ 6.16885948e+00, -5.85595131e+00],\n",
       "        [ 6.48173237e+00, -5.69568110e+00],\n",
       "        [-3.50891805e+00,  1.55954909e+00],\n",
       "        [-2.26133204e+00, -6.99646354e-01],\n",
       "        [ 7.17718124e+00,  1.14411926e+00],\n",
       "        [ 6.38700867e+00, -5.70256329e+00],\n",
       "        [ 4.73920256e-01,  7.51203823e+00],\n",
       "        [ 1.82594252e+00,  5.67740631e+00],\n",
       "        [ 3.66983861e-01,  4.73712349e+00],\n",
       "        [-4.25242090e+00,  6.67802858e+00],\n",
       "        [ 1.52917981e+00,  4.71001911e+00],\n",
       "        [ 8.16069031e+00,  4.07252502e+00],\n",
       "        [ 8.53141880e+00,  2.75216436e+00],\n",
       "        [-9.67964554e+00, -8.93695641e+00],\n",
       "        [ 1.76586032e+00,  3.35585165e+00],\n",
       "        [-2.45746112e+00,  6.86335027e-01],\n",
       "        [-4.70088243e+00,  6.83515978e+00],\n",
       "        [ 9.20407009e+00,  2.67499304e+00],\n",
       "        [-9.18604374e-01,  7.28173542e+00],\n",
       "        [ 8.69059086e+00,  2.36389470e+00],\n",
       "        [ 6.49274063e+00,  1.07200599e+00],\n",
       "        [ 8.11138439e+00,  2.98007202e+00],\n",
       "        [ 1.04827619e+00,  4.34175634e+00],\n",
       "        [ 6.47340727e+00,  1.30040646e-01],\n",
       "        [-4.01248550e+00,  1.46454843e-02],\n",
       "        [-1.26235020e+00,  6.45564175e+00],\n",
       "        [ 8.09776783e+00,  3.66130972e+00],\n",
       "        [ 7.15496588e+00,  1.48386776e+00],\n",
       "        [-3.83910203e+00, -1.31228614e+00],\n",
       "        [-9.90281391e+00, -9.43899727e+00],\n",
       "        [-4.30814791e+00, -1.06236029e+00],\n",
       "        [-3.31448674e+00,  1.45457125e+00],\n",
       "        [ 3.60577130e+00,  5.40707469e-01],\n",
       "        [-1.60441887e+00,  6.53350925e+00],\n",
       "        [-9.03491914e-01,  5.47008801e+00],\n",
       "        [ 1.14368498e+00,  4.40890598e+00],\n",
       "        [ 1.00921476e+00, -5.86487818e+00],\n",
       "        [ 5.96050501e+00,  6.03556573e-01],\n",
       "        [ 4.65638757e-01,  7.45394707e+00],\n",
       "        [-2.30640531e+00,  3.87647676e+00],\n",
       "        [ 1.57466435e+00,  6.20418119e+00],\n",
       "        [-4.79902220e+00, -6.18154764e-01],\n",
       "        [-2.07849693e+00,  2.28343654e+00],\n",
       "        [ 3.50157547e+00, -5.98670244e+00],\n",
       "        [ 6.22639275e+00,  5.21560833e-02],\n",
       "        [-9.75709152e+00, -9.10714054e+00],\n",
       "        [-1.90442586e+00,  6.73892784e+00],\n",
       "        [ 4.86660480e+00,  4.95796129e-02],\n",
       "        [-4.94112062e+00, -1.32087612e+00],\n",
       "        [-5.86230230e+00,  1.03851748e+00],\n",
       "        [ 3.49025536e+00, -5.61632061e+00],\n",
       "        [ 5.49468708e+00,  3.88300872e+00],\n",
       "        [ 2.38792586e+00, -5.89630032e+00],\n",
       "        [ 5.23163199e-01,  2.26892757e+00],\n",
       "        [-4.83659315e+00,  6.27484322e+00],\n",
       "        [ 2.12902999e+00, -6.95034885e+00],\n",
       "        [-9.15348911e+00, -9.05751896e+00]], dtype=float32)}"
      ]
     },
     "execution_count": 95,
     "metadata": {},
     "output_type": "execute_result"
    }
   ],
   "source": [
    "sample1.dna.row_attrs"
   ]
  },
  {
   "cell_type": "code",
   "execution_count": 96,
   "metadata": {},
   "outputs": [
    {
     "data": {
      "text/plain": [
       "'5M001_clones_umap.html'"
      ]
     },
     "execution_count": 96,
     "metadata": {},
     "output_type": "execute_result"
    }
   ],
   "source": [
    "plot(sample1.dna.scatterplot(attribute='umap', colorby='label'),filename='5M001_clones_umap.html')"
   ]
  },
  {
   "cell_type": "code",
   "execution_count": 97,
   "metadata": {},
   "outputs": [
    {
     "data": {
      "text/plain": [
       "{'barcode': array(['AACAACCTAATGTGAGAC', 'AACAACCTACATTGACAA', 'AACAACCTATCTGCGCTG',\n",
       "        ..., 'TTGTTAGAGCAAGTACGA', 'TTGTTAGAGCGAGCTTAC',\n",
       "        'TTGTTAGAGCTCTCAGTC'], dtype=object),\n",
       " 'filtered': array([0, 0, 0, ..., 0, 0, 0], dtype=uint8),\n",
       " 'sample_name': array(['4-I-001', '4-I-001', '4-I-001', ..., '4-I-001', '4-I-001',\n",
       "        '4-I-001'], dtype=object),\n",
       " 'label': array(['1', '1', '1', ..., '1', '1', '1'], dtype=object),\n",
       " 'umap': array([[ 6.248841  ,  3.7143018 ],\n",
       "        [-0.94706243,  3.9832876 ],\n",
       "        [-1.1094829 ,  8.554191  ],\n",
       "        ...,\n",
       "        [-1.1065894 ,  8.749601  ],\n",
       "        [-4.9068904 , -2.1750805 ],\n",
       "        [-2.2581456 , -2.678858  ]], dtype=float32)}"
      ]
     },
     "execution_count": 97,
     "metadata": {},
     "output_type": "execute_result"
    }
   ],
   "source": [
    "sample2.dna.row_attrs"
   ]
  },
  {
   "cell_type": "code",
   "execution_count": 98,
   "metadata": {},
   "outputs": [
    {
     "data": {
      "text/plain": [
       "'4I001_clones_umap.html'"
      ]
     },
     "execution_count": 98,
     "metadata": {},
     "output_type": "execute_result"
    }
   ],
   "source": [
    "plot(sample2.dna.scatterplot(attribute='umap', colorby='label'),filename='4I001_clones_umap.html')"
   ]
  },
  {
   "cell_type": "markdown",
   "metadata": {},
   "source": [
    "### CNV Analysis"
   ]
  },
  {
   "cell_type": "code",
   "execution_count": 99,
   "metadata": {},
   "outputs": [
    {
     "data": {
      "text/plain": [
       "'5M001_CNV_normalized-counts.html'"
      ]
     },
     "execution_count": 99,
     "metadata": {},
     "output_type": "execute_result"
    }
   ],
   "source": [
    "sample1.cnv.normalize_reads()\n",
    "plot(sample1.cnv.heatmap(attribute='normalized_counts'),filename='5M001_CNV_normalized-counts.html')"
   ]
  },
  {
   "cell_type": "code",
   "execution_count": 100,
   "metadata": {},
   "outputs": [],
   "source": [
    "sample2.cnv.normalize_reads()"
   ]
  },
  {
   "cell_type": "code",
   "execution_count": 101,
   "metadata": {},
   "outputs": [
    {
     "data": {
      "text/plain": [
       "'4I001_CNV_normalized-counts.html'"
      ]
     },
     "execution_count": 101,
     "metadata": {},
     "output_type": "execute_result"
    }
   ],
   "source": [
    "plot(sample2.cnv.heatmap(attribute='normalized_counts'),filename='4I001_CNV_normalized-counts.html')"
   ]
  },
  {
   "cell_type": "markdown",
   "metadata": {},
   "source": [
    "### PCA Options"
   ]
  },
  {
   "cell_type": "raw",
   "metadata": {},
   "source": [
    "Here the UMAP options are kept constant\n",
    "The only parameter in PCA is the number of components\n",
    "\n",
    "Here we see how to determine this value, and the effect\n",
    "when we deviate from this value"
   ]
  },
  {
   "cell_type": "code",
   "execution_count": 102,
   "metadata": {},
   "outputs": [
    {
     "data": {
      "image/png": "[encoded data removed]",
      "text/plain": [
       "<Figure size 720x720 with 1 Axes>"
      ]
     },
     "metadata": {
      "needs_background": "light"
     },
     "output_type": "display_data"
    }
   ],
   "source": [
    "sample1.cnv.run_pca(attribute='normalized_counts', components=10, show_plot=True)"
   ]
  },
  {
   "cell_type": "code",
   "execution_count": 103,
   "metadata": {},
   "outputs": [],
   "source": [
    "sample1.cnv.run_umap(attribute='pca', min_dist=0, n_neighbors=20) ## n_neighors=100 ---> set at 10% number of cells, so for 393 cells 39.3 > 40; 5% = 20"
   ]
  },
  {
   "cell_type": "raw",
   "metadata": {},
   "source": [
    "The result of the dimension reduction analysis is\n",
    "visualized using a scatterplot of the umap"
   ]
  },
  {
   "cell_type": "code",
   "execution_count": 104,
   "metadata": {},
   "outputs": [],
   "source": [
    "sample1.cnv.cluster(attribute='umap', method='dbscan', eps=0.55) ## example eps=0.55"
   ]
  },
  {
   "cell_type": "code",
   "execution_count": 105,
   "metadata": {},
   "outputs": [
    {
     "data": {
      "text/plain": [
       "'5M001_CNV_UMAP.html'"
      ]
     },
     "execution_count": 105,
     "metadata": {},
     "output_type": "execute_result"
    }
   ],
   "source": [
    "plot(sample1.cnv.scatterplot(attribute='umap', colorby='label'),filename='5M001_CNV_UMAP.html')"
   ]
  },
  {
   "cell_type": "code",
   "execution_count": 106,
   "metadata": {},
   "outputs": [
    {
     "data": {
      "image/png": "[encoded data removed]",
      "text/plain": [
       "<Figure size 720x720 with 1 Axes>"
      ]
     },
     "metadata": {
      "needs_background": "light"
     },
     "output_type": "display_data"
    }
   ],
   "source": [
    "sample2.cnv.run_pca(attribute='normalized_counts', components=10, show_plot=True)\n",
    "sample2.cnv.run_umap(attribute='pca', min_dist=0, n_neighbors=395) ## applying same 10% rule, 780; 5% = 395\n",
    "sample2.cnv.cluster(attribute='umap', method='dbscan', eps=0.55)"
   ]
  },
  {
   "cell_type": "code",
   "execution_count": 107,
   "metadata": {},
   "outputs": [
    {
     "data": {
      "text/plain": [
       "'4I001_CNV_UMAP.html'"
      ]
     },
     "execution_count": 107,
     "metadata": {},
     "output_type": "execute_result"
    }
   ],
   "source": [
    "plot(sample2.cnv.scatterplot(attribute='umap', colorby='label'),filename='4I001_CNV_UMAP.html')"
   ]
  },
  {
   "cell_type": "markdown",
   "metadata": {},
   "source": [
    "### Protein Analysis"
   ]
  },
  {
   "cell_type": "code",
   "execution_count": 108,
   "metadata": {},
   "outputs": [
    {
     "name": "stdout",
     "output_type": "stream",
     "text": [
      "Creating the Shared Nearest Neighbors graph.\n",
      "--------------------------------------------------\n",
      "##################################################\n",
      "Identifying clusters using Louvain community detection.\n",
      "\n",
      "Number of clusters found: 5.\n",
      "Modularity: 0.504\n"
     ]
    }
   ],
   "source": [
    "sample1.protein.normalize_reads('CLR')\n",
    "sample1.protein.run_pca(attribute='normalized_counts', components=4)\n",
    "sample1.protein.run_umap(attribute='pca')\n",
    "\n",
    "sample1.protein.cluster(attribute='pca', method='graph-community', k=100)"
   ]
  },
  {
   "cell_type": "code",
   "execution_count": 109,
   "metadata": {},
   "outputs": [
    {
     "name": "stdout",
     "output_type": "stream",
     "text": [
      "Creating the Shared Nearest Neighbors graph.\n",
      "--------------------------------------------------\n",
      "##################################################\n",
      "Identifying clusters using Louvain community detection.\n",
      "\n",
      "Number of clusters found: 12.\n",
      "Modularity: 0.736\n"
     ]
    }
   ],
   "source": [
    "sample2.protein.normalize_reads('CLR')\n",
    "sample2.protein.run_pca(attribute='normalized_counts', components=4)\n",
    "sample2.protein.run_umap(attribute='pca')\n",
    "\n",
    "sample2.protein.cluster(attribute='pca', method='graph-community', k=100)"
   ]
  },
  {
   "cell_type": "code",
   "execution_count": 110,
   "metadata": {},
   "outputs": [
    {
     "data": {
      "text/plain": [
       "'5M001_Protein_Heatmap_norm-counts.html'"
      ]
     },
     "execution_count": 110,
     "metadata": {},
     "output_type": "execute_result"
    }
   ],
   "source": [
    "plot(sample1.protein.heatmap(attribute='normalized_counts'),filename='5M001_Protein_Heatmap_norm-counts.html')"
   ]
  },
  {
   "cell_type": "code",
   "execution_count": 111,
   "metadata": {},
   "outputs": [
    {
     "data": {
      "text/plain": [
       "'4I001_Protein_Heatmap_norm-counts.html'"
      ]
     },
     "execution_count": 111,
     "metadata": {},
     "output_type": "execute_result"
    }
   ],
   "source": [
    "plot(sample2.protein.heatmap(attribute='normalized_counts'),filename='4I001_Protein_Heatmap_norm-counts.html')"
   ]
  },
  {
   "cell_type": "code",
   "execution_count": 112,
   "metadata": {},
   "outputs": [
    {
     "data": {
      "text/plain": [
       "'5M001_Protein_UMAP.html'"
      ]
     },
     "execution_count": 112,
     "metadata": {},
     "output_type": "execute_result"
    }
   ],
   "source": [
    "plot(sample1.protein.scatterplot(attribute='umap', colorby='label'),filename='5M001_Protein_UMAP.html')"
   ]
  },
  {
   "cell_type": "code",
   "execution_count": 113,
   "metadata": {},
   "outputs": [
    {
     "data": {
      "text/plain": [
       "'4I001_Protein_UMAP.html'"
      ]
     },
     "execution_count": 113,
     "metadata": {},
     "output_type": "execute_result"
    }
   ],
   "source": [
    "plot(sample2.protein.scatterplot(attribute='umap', colorby='label'),filename='4I001_Protein_UMAP.html')"
   ]
  },
  {
   "cell_type": "code",
   "execution_count": 114,
   "metadata": {},
   "outputs": [],
   "source": [
    "# Re cluster based on the observations from the UMAP\n",
    "\n",
    "# sample2.protein.cluster(attribute='umap', method='dbscan')"
   ]
  },
  {
   "cell_type": "code",
   "execution_count": 115,
   "metadata": {},
   "outputs": [
    {
     "data": {
      "text/plain": [
       "'5M001_Protein_Ridgeplot_CD34.html'"
      ]
     },
     "execution_count": 115,
     "metadata": {},
     "output_type": "execute_result"
    }
   ],
   "source": [
    "features = [\"CD34\"]\n",
    "\n",
    "plot(sample1.protein.ridgeplot(attribute='normalized_counts',\n",
    "                         splitby='label',\n",
    "                         features=features), filename=\"5M001_Protein_Ridgeplot_CD34.html\")"
   ]
  },
  {
   "cell_type": "code",
   "execution_count": 116,
   "metadata": {},
   "outputs": [
    {
     "data": {
      "text/plain": [
       "'5M001_Protein_Ridgeplot_CD163.html'"
      ]
     },
     "execution_count": 116,
     "metadata": {},
     "output_type": "execute_result"
    }
   ],
   "source": [
    "features = [\"CD163\"]\n",
    "\n",
    "plot(sample1.protein.ridgeplot(attribute='normalized_counts',\n",
    "                         splitby='label',\n",
    "                         features=features), filename=\"5M001_Protein_Ridgeplot_CD163.html\")"
   ]
  },
  {
   "cell_type": "code",
   "execution_count": 117,
   "metadata": {},
   "outputs": [
    {
     "data": {
      "text/plain": [
       "array(['CD10', 'CD117', 'CD11b', 'CD11c', 'CD123', 'CD13', 'CD138',\n",
       "       'CD14', 'CD141', 'CD16', 'CD163', 'CD19', 'CD1c', 'CD2', 'CD22',\n",
       "       'CD25', 'CD3', 'CD30', 'CD303', 'CD304', 'CD33', 'CD34', 'CD38',\n",
       "       'CD4', 'CD44', 'CD45', 'CD45RA', 'CD45RO', 'CD49d', 'CD5', 'CD56',\n",
       "       'CD62L', 'CD62P', 'CD64', 'CD69', 'CD7', 'CD71', 'CD8', 'CD83',\n",
       "       'CD90', 'FcεRIα', 'HLA-DR', 'IgG1', 'IgG2a', 'IgG2b'], dtype=object)"
      ]
     },
     "execution_count": 117,
     "metadata": {},
     "output_type": "execute_result"
    }
   ],
   "source": [
    "sample1.protein.ids()"
   ]
  },
  {
   "cell_type": "code",
   "execution_count": 118,
   "metadata": {},
   "outputs": [
    {
     "data": {
      "text/plain": [
       "'5M001_Protein_UMAP_TotalSeqMarkers.html'"
      ]
     },
     "execution_count": 118,
     "metadata": {},
     "output_type": "execute_result"
    }
   ],
   "source": [
    "# UMAP with the expression for each of the selected protein overlayed\n",
    "# In case of error, make sure that ids have been selected on the heatmap and shown in sample.protein.selected_ids\n",
    "\n",
    "# features=['CD34', 'THY1', 'FCGR3A', 'NCAM1', 'IL3RA', 'PTPRC', 'CD19', 'CD38', 'CD14', 'CD3D']\n",
    "\n",
    "plot(sample1.protein.scatterplot(attribute='umap',\n",
    "                           colorby='normalized_counts',\n",
    "                           features=['CD34', 'CD90', 'CD16', 'CD56', 'CD123', 'CD45RA', 'CD19', 'CD38', 'CD14', 'CD3']), filename='5M001_Protein_UMAP_TotalSeqMarkers.html')"
   ]
  },
  {
   "cell_type": "code",
   "execution_count": 119,
   "metadata": {},
   "outputs": [
    {
     "data": {
      "text/plain": [
       "'4I001_Protein_Ridgeplot_CD34.html'"
      ]
     },
     "execution_count": 119,
     "metadata": {},
     "output_type": "execute_result"
    }
   ],
   "source": [
    "features = [\"CD34\"]\n",
    "\n",
    "plot(sample2.protein.ridgeplot(attribute='normalized_counts',\n",
    "                         splitby='label',\n",
    "                         features=features), filename=\"4I001_Protein_Ridgeplot_CD34.html\")"
   ]
  },
  {
   "cell_type": "code",
   "execution_count": 120,
   "metadata": {},
   "outputs": [
    {
     "data": {
      "text/plain": [
       "'4I001_Protein_UMAP_TotalSeqMarkers.html'"
      ]
     },
     "execution_count": 120,
     "metadata": {},
     "output_type": "execute_result"
    }
   ],
   "source": [
    "plot(sample2.protein.scatterplot(attribute='umap',\n",
    "                           colorby='normalized_counts',\n",
    "                           features=['CD34', 'CD90', 'CD16', 'CD56', 'CD123', 'CD45RA', 'CD19', 'CD38', 'CD14', 'CD3']), filename='4I001_Protein_UMAP_TotalSeqMarkers.html')"
   ]
  },
  {
   "cell_type": "code",
   "execution_count": 121,
   "metadata": {},
   "outputs": [
    {
     "data": {
      "text/plain": [
       "'4I001_Protein_Ridgeplot_CD163.html'"
      ]
     },
     "execution_count": 121,
     "metadata": {},
     "output_type": "execute_result"
    }
   ],
   "source": [
    "features = [\"CD163\"]\n",
    "\n",
    "plot(sample2.protein.ridgeplot(attribute='normalized_counts',\n",
    "                         splitby='label',\n",
    "                         features=features), filename=\"4I001_Protein_Ridgeplot_CD163.html\")"
   ]
  },
  {
   "cell_type": "code",
   "execution_count": 122,
   "metadata": {},
   "outputs": [
    {
     "data": {
      "text/plain": [
       "'5M001_MultiAssay_HM.html'"
      ]
     },
     "execution_count": 122,
     "metadata": {},
     "output_type": "execute_result"
    }
   ],
   "source": [
    "plot(sample1.heatmap(clusterby='dna', sortby='protein', drop='cnv', flatten=False), filename=\"5M001_MultiAssay_HM.html\")"
   ]
  },
  {
   "cell_type": "code",
   "execution_count": 123,
   "metadata": {},
   "outputs": [
    {
     "data": {
      "text/plain": [
       "'5M001_MultiAssay_HM.html'"
      ]
     },
     "execution_count": 123,
     "metadata": {},
     "output_type": "execute_result"
    }
   ],
   "source": [
    "plot(sample1.heatmap(clusterby='protein', sortby='dna', drop='cnv', flatten=False), filename=\"5M001_MultiAssay_HM.html\")"
   ]
  },
  {
   "cell_type": "code",
   "execution_count": 124,
   "metadata": {},
   "outputs": [
    {
     "data": {
      "text/plain": [
       "'4I001_MultiAssay_HM.html'"
      ]
     },
     "execution_count": 124,
     "metadata": {},
     "output_type": "execute_result"
    }
   ],
   "source": [
    "plot(sample2.heatmap(clusterby='protein', sortby='dna', drop='cnv', flatten=False), filename=\"4I001_MultiAssay_HM.html\")"
   ]
  },
  {
   "cell_type": "code",
   "execution_count": 125,
   "metadata": {},
   "outputs": [],
   "source": [
    "mio.save(sample1, '5-M-001_analysis_2022-04-22.h5')"
   ]
  },
  {
   "cell_type": "code",
   "execution_count": 126,
   "metadata": {},
   "outputs": [],
   "source": [
    "mio.save(sample2, '4-I-001_analysis_2022-04-22.h5')"
   ]
  },
  {
   "cell_type": "markdown",
   "metadata": {},
   "source": [
    "##### few more plots"
   ]
  },
  {
   "cell_type": "code",
   "execution_count": 129,
   "metadata": {},
   "outputs": [],
   "source": [
    "DP_HSCs=['CD16','CD56','CD19','CD14','CD3','CD34','CD38','CD45RA','CD90']\n",
    "SP_HSCs=['CD16','CD56','CD19','CD14','CD3','CD34','CD38']\n",
    "XMP_HSCs=['CD16','CD56','CD19','CD14','CD3','CD34','CD38','CD123','CD45RA']"
   ]
  },
  {
   "cell_type": "code",
   "execution_count": 130,
   "metadata": {},
   "outputs": [
    {
     "data": {
      "text/plain": [
       "'5M001_Protein_UMAP_TotalSeqMarkers_DP_HSCs.html'"
      ]
     },
     "execution_count": 130,
     "metadata": {},
     "output_type": "execute_result"
    }
   ],
   "source": [
    "plot(sample1.protein.scatterplot(attribute='umap',\n",
    "                           colorby='normalized_counts',\n",
    "                           features=DP_HSCs), filename='5M001_Protein_UMAP_TotalSeqMarkers_DP_HSCs.html')"
   ]
  },
  {
   "cell_type": "code",
   "execution_count": 131,
   "metadata": {},
   "outputs": [
    {
     "data": {
      "text/plain": [
       "'4I001_Protein_UMAP_TotalSeqMarkers_DP_HSCs.html'"
      ]
     },
     "execution_count": 131,
     "metadata": {},
     "output_type": "execute_result"
    }
   ],
   "source": [
    "plot(sample2.protein.scatterplot(attribute='umap',\n",
    "                           colorby='normalized_counts',\n",
    "                           features=DP_HSCs), filename='4I001_Protein_UMAP_TotalSeqMarkers_DP_HSCs.html')"
   ]
  },
  {
   "cell_type": "code",
   "execution_count": 132,
   "metadata": {},
   "outputs": [
    {
     "data": {
      "text/plain": [
       "'5M001_Protein_UMAP_TotalSeqMarkers_SP_HSCs.html'"
      ]
     },
     "execution_count": 132,
     "metadata": {},
     "output_type": "execute_result"
    }
   ],
   "source": [
    "plot(sample1.protein.scatterplot(attribute='umap',\n",
    "                           colorby='normalized_counts',\n",
    "                           features=SP_HSCs), filename='5M001_Protein_UMAP_TotalSeqMarkers_SP_HSCs.html')"
   ]
  },
  {
   "cell_type": "code",
   "execution_count": 134,
   "metadata": {},
   "outputs": [
    {
     "data": {
      "text/plain": [
       "'4I001_Protein_UMAP_TotalSeqMarkers_SP_HSCs.html'"
      ]
     },
     "execution_count": 134,
     "metadata": {},
     "output_type": "execute_result"
    }
   ],
   "source": [
    "plot(sample2.protein.scatterplot(attribute='umap',\n",
    "                           colorby='normalized_counts',\n",
    "                           features=SP_HSCs), filename='4I001_Protein_UMAP_TotalSeqMarkers_SP_HSCs.html')"
   ]
  },
  {
   "cell_type": "code",
   "execution_count": 135,
   "metadata": {},
   "outputs": [
    {
     "data": {
      "text/plain": [
       "'5M001_Protein_UMAP_TotalSeqMarkers_XMP_HSCs.html'"
      ]
     },
     "execution_count": 135,
     "metadata": {},
     "output_type": "execute_result"
    }
   ],
   "source": [
    "plot(sample1.protein.scatterplot(attribute='umap',\n",
    "                           colorby='normalized_counts',\n",
    "                           features=XMP_HSCs), filename='5M001_Protein_UMAP_TotalSeqMarkers_XMP_HSCs.html')"
   ]
  },
  {
   "cell_type": "code",
   "execution_count": 136,
   "metadata": {},
   "outputs": [
    {
     "data": {
      "text/plain": [
       "'4I001_Protein_UMAP_TotalSeqMarkers_XMP_HSCs.html'"
      ]
     },
     "execution_count": 136,
     "metadata": {},
     "output_type": "execute_result"
    }
   ],
   "source": [
    "plot(sample2.protein.scatterplot(attribute='umap',\n",
    "                           colorby='normalized_counts',\n",
    "                           features=XMP_HSCs), filename='4I001_Protein_UMAP_TotalSeqMarkers_XMP_HSCs.html')"
   ]
  },
  {
   "cell_type": "code",
   "execution_count": 137,
   "metadata": {},
   "outputs": [
    {
     "data": {
      "text/plain": [
       "'4I001_Protein_Ridgeplot_CD34.html'"
      ]
     },
     "execution_count": 137,
     "metadata": {},
     "output_type": "execute_result"
    }
   ],
   "source": [
    "plot(sample1.protein.ridgeplot(attribute='normalized_counts',\n",
    "                         splitby='label',\n",
    "                         features=['CD34']), filename=\"5M001_Protein_Ridgeplot_CD34.html\")\n",
    "plot(sample2.protein.ridgeplot(attribute='normalized_counts',\n",
    "                         splitby='label',\n",
    "                         features=['CD34']), filename=\"4I001_Protein_Ridgeplot_CD34.html\")"
   ]
  },
  {
   "cell_type": "code",
   "execution_count": 138,
   "metadata": {},
   "outputs": [
    {
     "data": {
      "text/plain": [
       "'4I001_Protein_Ridgeplot_CD16.html'"
      ]
     },
     "execution_count": 138,
     "metadata": {},
     "output_type": "execute_result"
    }
   ],
   "source": [
    "plot(sample1.protein.ridgeplot(attribute='normalized_counts',\n",
    "                         splitby='label',\n",
    "                         features=['CD16']), filename=\"5M001_Protein_Ridgeplot_CD16.html\")\n",
    "plot(sample2.protein.ridgeplot(attribute='normalized_counts',\n",
    "                         splitby='label',\n",
    "                         features=['CD16']), filename=\"4I001_Protein_Ridgeplot_CD16.html\")"
   ]
  },
  {
   "cell_type": "code",
   "execution_count": 139,
   "metadata": {},
   "outputs": [
    {
     "data": {
      "text/plain": [
       "'4I001_Protein_Ridgeplot_CD56.html'"
      ]
     },
     "execution_count": 139,
     "metadata": {},
     "output_type": "execute_result"
    }
   ],
   "source": [
    "plot(sample1.protein.ridgeplot(attribute='normalized_counts',\n",
    "                         splitby='label',\n",
    "                         features=['CD56']), filename=\"5M001_Protein_Ridgeplot_CD56.html\")\n",
    "plot(sample2.protein.ridgeplot(attribute='normalized_counts',\n",
    "                         splitby='label',\n",
    "                         features=['CD56']), filename=\"4I001_Protein_Ridgeplot_CD56.html\")"
   ]
  },
  {
   "cell_type": "code",
   "execution_count": 140,
   "metadata": {},
   "outputs": [
    {
     "data": {
      "text/plain": [
       "'4I001_Protein_Ridgeplot_CD19.html'"
      ]
     },
     "execution_count": 140,
     "metadata": {},
     "output_type": "execute_result"
    }
   ],
   "source": [
    "plot(sample1.protein.ridgeplot(attribute='normalized_counts',\n",
    "                         splitby='label',\n",
    "                         features=['CD19']), filename=\"5M001_Protein_Ridgeplot_CD19.html\")\n",
    "plot(sample2.protein.ridgeplot(attribute='normalized_counts',\n",
    "                         splitby='label',\n",
    "                         features=['CD19']), filename=\"4I001_Protein_Ridgeplot_CD19.html\")"
   ]
  },
  {
   "cell_type": "code",
   "execution_count": 141,
   "metadata": {},
   "outputs": [
    {
     "data": {
      "text/plain": [
       "'4I001_Protein_Ridgeplot_CD14.html'"
      ]
     },
     "execution_count": 141,
     "metadata": {},
     "output_type": "execute_result"
    }
   ],
   "source": [
    "plot(sample1.protein.ridgeplot(attribute='normalized_counts',\n",
    "                         splitby='label',\n",
    "                         features=['CD14']), filename=\"5M001_Protein_Ridgeplot_CD14.html\")\n",
    "plot(sample2.protein.ridgeplot(attribute='normalized_counts',\n",
    "                         splitby='label',\n",
    "                         features=['CD14']), filename=\"4I001_Protein_Ridgeplot_CD14.html\")"
   ]
  },
  {
   "cell_type": "code",
   "execution_count": 142,
   "metadata": {},
   "outputs": [
    {
     "data": {
      "text/plain": [
       "'4I001_Protein_Ridgeplot_CD3.html'"
      ]
     },
     "execution_count": 142,
     "metadata": {},
     "output_type": "execute_result"
    }
   ],
   "source": [
    "plot(sample1.protein.ridgeplot(attribute='normalized_counts',\n",
    "                         splitby='label',\n",
    "                         features=['CD3']), filename=\"5M001_Protein_Ridgeplot_CD3.html\")\n",
    "plot(sample2.protein.ridgeplot(attribute='normalized_counts',\n",
    "                         splitby='label',\n",
    "                         features=['CD3']), filename=\"4I001_Protein_Ridgeplot_CD3.html\")"
   ]
  },
  {
   "cell_type": "code",
   "execution_count": 143,
   "metadata": {},
   "outputs": [
    {
     "data": {
      "text/plain": [
       "'4I001_Protein_Ridgeplot_CD34.html'"
      ]
     },
     "execution_count": 143,
     "metadata": {},
     "output_type": "execute_result"
    }
   ],
   "source": [
    "plot(sample1.protein.ridgeplot(attribute='normalized_counts',\n",
    "                         splitby='label',\n",
    "                         features=['CD34']), filename=\"5M001_Protein_Ridgeplot_CD34.html\")\n",
    "plot(sample2.protein.ridgeplot(attribute='normalized_counts',\n",
    "                         splitby='label',\n",
    "                         features=['CD34']), filename=\"4I001_Protein_Ridgeplot_CD34.html\")"
   ]
  },
  {
   "cell_type": "code",
   "execution_count": 144,
   "metadata": {},
   "outputs": [
    {
     "data": {
      "text/plain": [
       "'4I001_Protein_Ridgeplot_CD38.html'"
      ]
     },
     "execution_count": 144,
     "metadata": {},
     "output_type": "execute_result"
    }
   ],
   "source": [
    "plot(sample1.protein.ridgeplot(attribute='normalized_counts',\n",
    "                         splitby='label',\n",
    "                         features=['CD38']), filename=\"5M001_Protein_Ridgeplot_CD38.html\")\n",
    "plot(sample2.protein.ridgeplot(attribute='normalized_counts',\n",
    "                         splitby='label',\n",
    "                         features=['CD38']), filename=\"4I001_Protein_Ridgeplot_CD38.html\")"
   ]
  },
  {
   "cell_type": "code",
   "execution_count": 145,
   "metadata": {},
   "outputs": [
    {
     "data": {
      "text/plain": [
       "'4I001_Protein_Ridgeplot_CD45RA.html'"
      ]
     },
     "execution_count": 145,
     "metadata": {},
     "output_type": "execute_result"
    }
   ],
   "source": [
    "plot(sample1.protein.ridgeplot(attribute='normalized_counts',\n",
    "                         splitby='label',\n",
    "                         features=['CD45RA']), filename=\"5M001_Protein_Ridgeplot_CD45RA.html\")\n",
    "plot(sample2.protein.ridgeplot(attribute='normalized_counts',\n",
    "                         splitby='label',\n",
    "                         features=['CD45RA']), filename=\"4I001_Protein_Ridgeplot_CD45RA.html\")"
   ]
  },
  {
   "cell_type": "code",
   "execution_count": 146,
   "metadata": {},
   "outputs": [
    {
     "data": {
      "text/plain": [
       "'4I001_Protein_Ridgeplot_CD90.html'"
      ]
     },
     "execution_count": 146,
     "metadata": {},
     "output_type": "execute_result"
    }
   ],
   "source": [
    "plot(sample1.protein.ridgeplot(attribute='normalized_counts',\n",
    "                         splitby='label',\n",
    "                         features=['CD90']), filename=\"5M001_Protein_Ridgeplot_CD90.html\")\n",
    "plot(sample2.protein.ridgeplot(attribute='normalized_counts',\n",
    "                         splitby='label',\n",
    "                         features=['CD90']), filename=\"4I001_Protein_Ridgeplot_CD90.html\")"
   ]
  },
  {
   "cell_type": "code",
   "execution_count": 147,
   "metadata": {},
   "outputs": [
    {
     "data": {
      "text/plain": [
       "'4I001_Protein_Ridgeplot_CD123.html'"
      ]
     },
     "execution_count": 147,
     "metadata": {},
     "output_type": "execute_result"
    }
   ],
   "source": [
    "plot(sample1.protein.ridgeplot(attribute='normalized_counts',\n",
    "                         splitby='label',\n",
    "                         features=['CD123']), filename=\"5M001_Protein_Ridgeplot_CD123.html\")\n",
    "plot(sample2.protein.ridgeplot(attribute='normalized_counts',\n",
    "                         splitby='label',\n",
    "                         features=['CD123']), filename=\"4I001_Protein_Ridgeplot_CD123.html\")"
   ]
  },
  {
   "cell_type": "code",
   "execution_count": 148,
   "metadata": {},
   "outputs": [
    {
     "data": {
      "text/plain": [
       "'4I001_Protein_Ridgeplot_CD10.html'"
      ]
     },
     "execution_count": 148,
     "metadata": {},
     "output_type": "execute_result"
    }
   ],
   "source": [
    "plot(sample1.protein.ridgeplot(attribute='normalized_counts',\n",
    "                         splitby='label',\n",
    "                         features=['CD10']), filename=\"5M001_Protein_Ridgeplot_CD10.html\")\n",
    "plot(sample2.protein.ridgeplot(attribute='normalized_counts',\n",
    "                         splitby='label',\n",
    "                         features=['CD10']), filename=\"4I001_Protein_Ridgeplot_CD10.html\")"
   ]
  },
  {
   "cell_type": "markdown",
   "metadata": {},
   "source": [
    "### filtering based on relevant genes"
   ]
  },
  {
   "cell_type": "raw",
   "metadata": {},
   "source": [
    "following along with: https://missionbio.github.io/mosaic/examples/customizations.html#custom-multi-assay-plot"
   ]
  },
  {
   "cell_type": "code",
   "execution_count": 152,
   "metadata": {},
   "outputs": [],
   "source": [
    "## pulled list from: Patnaik & Tefferi. Blood Cancer J. (2016)\n",
    "CMMLgenes = ['TET2','DNMT3A','IDH1','IDH2','ASXL1','EZH2','UTX','EED','SUZ12','SF3B1','SRSF2','U2AF1','ZRSR2','STAG2','BCOR','SMC3','SMC1A','RAD21','TP53','PHF6','JAK2','SH2B3','LNK','KRAS','NRAS','RAS','CBL','FLT3','NPM1','RUNX1','SETBP1']"
   ]
  },
  {
   "cell_type": "code",
   "execution_count": 169,
   "metadata": {},
   "outputs": [
    {
     "data": {
      "text/plain": [
       "(171,)"
      ]
     },
     "execution_count": 169,
     "metadata": {},
     "output_type": "execute_result"
    }
   ],
   "source": [
    "sample1.dna.ids().shape"
   ]
  },
  {
   "cell_type": "code",
   "execution_count": 164,
   "metadata": {},
   "outputs": [
    {
     "data": {
      "text/html": [
       "<div>\n",
       "<style scoped>\n",
       "    .dataframe tbody tr th:only-of-type {\n",
       "        vertical-align: middle;\n",
       "    }\n",
       "\n",
       "    .dataframe tbody tr th {\n",
       "        vertical-align: top;\n",
       "    }\n",
       "\n",
       "    .dataframe thead th {\n",
       "        text-align: right;\n",
       "    }\n",
       "</style>\n",
       "<table border=\"1\" class=\"dataframe\">\n",
       "  <thead>\n",
       "    <tr style=\"text-align: right;\">\n",
       "      <th></th>\n",
       "      <th>Position</th>\n",
       "      <th>Ref allele</th>\n",
       "      <th>Alt allele</th>\n",
       "      <th>Varsome url</th>\n",
       "      <th>Variant type</th>\n",
       "      <th>RefSeq transcript id</th>\n",
       "      <th>Gene</th>\n",
       "      <th>Protein</th>\n",
       "      <th>cDNA</th>\n",
       "      <th>Coding impact</th>\n",
       "      <th>Function</th>\n",
       "      <th>Allele Freq (gnomAD)</th>\n",
       "      <th>DANN</th>\n",
       "      <th>dbSNP rsids</th>\n",
       "      <th>ClinVar</th>\n",
       "      <th>COSMIC ids</th>\n",
       "    </tr>\n",
       "    <tr>\n",
       "      <th>Variant ID</th>\n",
       "      <th></th>\n",
       "      <th></th>\n",
       "      <th></th>\n",
       "      <th></th>\n",
       "      <th></th>\n",
       "      <th></th>\n",
       "      <th></th>\n",
       "      <th></th>\n",
       "      <th></th>\n",
       "      <th></th>\n",
       "      <th></th>\n",
       "      <th></th>\n",
       "      <th></th>\n",
       "      <th></th>\n",
       "      <th></th>\n",
       "      <th></th>\n",
       "    </tr>\n",
       "  </thead>\n",
       "  <tbody>\n",
       "    <tr>\n",
       "      <th>chr1:36933565:TG/T</th>\n",
       "      <td>36933566</td>\n",
       "      <td>G</td>\n",
       "      <td></td>\n",
       "      <td>https://varsome.com/variant/hg19/chr1:36933566:G:</td>\n",
       "      <td>Deletion</td>\n",
       "      <td>NM_156039.3</td>\n",
       "      <td>CSF3R</td>\n",
       "      <td></td>\n",
       "      <td>c.1724-3del</td>\n",
       "      <td></td>\n",
       "      <td>intronic, splicing</td>\n",
       "      <td></td>\n",
       "      <td></td>\n",
       "      <td></td>\n",
       "      <td></td>\n",
       "      <td></td>\n",
       "    </tr>\n",
       "    <tr>\n",
       "      <th>chr1:36933569:AGGGGTG/A</th>\n",
       "      <td>36933570</td>\n",
       "      <td>GGGGTG</td>\n",
       "      <td></td>\n",
       "      <td>https://varsome.com/variant/hg19/chr1:36933570...</td>\n",
       "      <td>Deletion</td>\n",
       "      <td>NM_156039.3</td>\n",
       "      <td>CSF3R</td>\n",
       "      <td></td>\n",
       "      <td>c.1724-12_1724-7del</td>\n",
       "      <td></td>\n",
       "      <td>intronic, splicing</td>\n",
       "      <td></td>\n",
       "      <td></td>\n",
       "      <td></td>\n",
       "      <td></td>\n",
       "      <td></td>\n",
       "    </tr>\n",
       "    <tr>\n",
       "      <th>chr1:115256575:T/A</th>\n",
       "      <td>115256575</td>\n",
       "      <td>T</td>\n",
       "      <td>A</td>\n",
       "      <td>https://varsome.com/variant/hg19/chr1:11525657...</td>\n",
       "      <td>SNV</td>\n",
       "      <td>NM_002524.5</td>\n",
       "      <td>NRAS</td>\n",
       "      <td>NRAS:p.I46L</td>\n",
       "      <td>c.136A&gt;T</td>\n",
       "      <td>missense</td>\n",
       "      <td>coding</td>\n",
       "      <td></td>\n",
       "      <td>0.992706</td>\n",
       "      <td></td>\n",
       "      <td></td>\n",
       "      <td></td>\n",
       "    </tr>\n",
       "    <tr>\n",
       "      <th>chr1:115256591:G/T</th>\n",
       "      <td>115256591</td>\n",
       "      <td>G</td>\n",
       "      <td>T</td>\n",
       "      <td>https://varsome.com/variant/hg19/chr1:11525659...</td>\n",
       "      <td>SNV</td>\n",
       "      <td>NM_002524.5</td>\n",
       "      <td>NRAS</td>\n",
       "      <td>NRAS:p.Y40*</td>\n",
       "      <td>c.120C&gt;A</td>\n",
       "      <td>nonsense</td>\n",
       "      <td>NMD, coding, splicing</td>\n",
       "      <td></td>\n",
       "      <td>0.995788</td>\n",
       "      <td></td>\n",
       "      <td></td>\n",
       "      <td>COSM675199</td>\n",
       "    </tr>\n",
       "    <tr>\n",
       "      <th>chr1:115256594:A/C</th>\n",
       "      <td>115256594</td>\n",
       "      <td>A</td>\n",
       "      <td>C</td>\n",
       "      <td>https://varsome.com/variant/hg19/chr1:11525659...</td>\n",
       "      <td>SNV</td>\n",
       "      <td>NM_002524.5</td>\n",
       "      <td>NRAS</td>\n",
       "      <td>NRAS:p.S39=</td>\n",
       "      <td>c.117T&gt;G</td>\n",
       "      <td>synonymous</td>\n",
       "      <td>coding, splicing</td>\n",
       "      <td>0.000004</td>\n",
       "      <td>0.822459</td>\n",
       "      <td>rs780800228</td>\n",
       "      <td></td>\n",
       "      <td></td>\n",
       "    </tr>\n",
       "    <tr>\n",
       "      <th>...</th>\n",
       "      <td>...</td>\n",
       "      <td>...</td>\n",
       "      <td>...</td>\n",
       "      <td>...</td>\n",
       "      <td>...</td>\n",
       "      <td>...</td>\n",
       "      <td>...</td>\n",
       "      <td>...</td>\n",
       "      <td>...</td>\n",
       "      <td>...</td>\n",
       "      <td>...</td>\n",
       "      <td>...</td>\n",
       "      <td>...</td>\n",
       "      <td>...</td>\n",
       "      <td>...</td>\n",
       "      <td>...</td>\n",
       "    </tr>\n",
       "    <tr>\n",
       "      <th>chrX:133527706:ATACT/A</th>\n",
       "      <td>133527707</td>\n",
       "      <td>TACT</td>\n",
       "      <td></td>\n",
       "      <td>https://varsome.com/variant/hg19/chrX:13352770...</td>\n",
       "      <td>Deletion</td>\n",
       "      <td>NM_032458.3</td>\n",
       "      <td>PHF6</td>\n",
       "      <td></td>\n",
       "      <td>c.374+44_374+47del</td>\n",
       "      <td></td>\n",
       "      <td>intronic</td>\n",
       "      <td>0.02735</td>\n",
       "      <td></td>\n",
       "      <td>rs35873365</td>\n",
       "      <td></td>\n",
       "      <td>COSN17141820, COSN17140836</td>\n",
       "    </tr>\n",
       "    <tr>\n",
       "      <th>chrX:133547906:AT/A</th>\n",
       "      <td>133547907</td>\n",
       "      <td>T</td>\n",
       "      <td></td>\n",
       "      <td>https://varsome.com/variant/hg19/chrX:13354790...</td>\n",
       "      <td>Deletion</td>\n",
       "      <td>NM_032458.3</td>\n",
       "      <td>PHF6</td>\n",
       "      <td>PHF6:p.C215Afs*3</td>\n",
       "      <td>c.643del</td>\n",
       "      <td>frameshift</td>\n",
       "      <td>NMD, coding</td>\n",
       "      <td></td>\n",
       "      <td></td>\n",
       "      <td></td>\n",
       "      <td></td>\n",
       "      <td></td>\n",
       "    </tr>\n",
       "    <tr>\n",
       "      <th>chrX:133549272:T/TTTTTCAGACAA</th>\n",
       "      <td>133549273</td>\n",
       "      <td></td>\n",
       "      <td>TTTTCAGACAA</td>\n",
       "      <td>https://varsome.com/variant/hg19/chrX:13354927...</td>\n",
       "      <td>Insertion</td>\n",
       "      <td>NM_032458.3</td>\n",
       "      <td>PHF6</td>\n",
       "      <td></td>\n",
       "      <td>c.834+122_834+123insTTTTCAGACAA</td>\n",
       "      <td></td>\n",
       "      <td>intronic</td>\n",
       "      <td></td>\n",
       "      <td></td>\n",
       "      <td></td>\n",
       "      <td></td>\n",
       "      <td></td>\n",
       "    </tr>\n",
       "    <tr>\n",
       "      <th>chrX:133549274:T/TGG</th>\n",
       "      <td>133549275</td>\n",
       "      <td></td>\n",
       "      <td>GG</td>\n",
       "      <td>https://varsome.com/variant/hg19/chrX:13354927...</td>\n",
       "      <td>Insertion</td>\n",
       "      <td>NM_032458.3</td>\n",
       "      <td>PHF6</td>\n",
       "      <td></td>\n",
       "      <td>c.834+124_834+125insGG</td>\n",
       "      <td></td>\n",
       "      <td>intronic</td>\n",
       "      <td></td>\n",
       "      <td></td>\n",
       "      <td></td>\n",
       "      <td></td>\n",
       "      <td></td>\n",
       "    </tr>\n",
       "    <tr>\n",
       "      <th>chrX:133549278:T/G</th>\n",
       "      <td>133549278</td>\n",
       "      <td>T</td>\n",
       "      <td>G</td>\n",
       "      <td>https://varsome.com/variant/hg19/chrX:13354927...</td>\n",
       "      <td>SNV</td>\n",
       "      <td>NM_032458.3</td>\n",
       "      <td>PHF6</td>\n",
       "      <td></td>\n",
       "      <td>c.834+128T&gt;G</td>\n",
       "      <td></td>\n",
       "      <td>intronic</td>\n",
       "      <td></td>\n",
       "      <td>0.769707</td>\n",
       "      <td></td>\n",
       "      <td></td>\n",
       "      <td></td>\n",
       "    </tr>\n",
       "  </tbody>\n",
       "</table>\n",
       "<p>171 rows × 16 columns</p>\n",
       "</div>"
      ],
      "text/plain": [
       "                                Position Ref allele   Alt allele  \\\n",
       "Variant ID                                                         \n",
       "chr1:36933565:TG/T              36933566          G                \n",
       "chr1:36933569:AGGGGTG/A         36933570     GGGGTG                \n",
       "chr1:115256575:T/A             115256575          T            A   \n",
       "chr1:115256591:G/T             115256591          G            T   \n",
       "chr1:115256594:A/C             115256594          A            C   \n",
       "...                                  ...        ...          ...   \n",
       "chrX:133527706:ATACT/A         133527707       TACT                \n",
       "chrX:133547906:AT/A            133547907          T                \n",
       "chrX:133549272:T/TTTTTCAGACAA  133549273             TTTTCAGACAA   \n",
       "chrX:133549274:T/TGG           133549275                      GG   \n",
       "chrX:133549278:T/G             133549278          T            G   \n",
       "\n",
       "                                                                     Varsome url  \\\n",
       "Variant ID                                                                         \n",
       "chr1:36933565:TG/T             https://varsome.com/variant/hg19/chr1:36933566:G:   \n",
       "chr1:36933569:AGGGGTG/A        https://varsome.com/variant/hg19/chr1:36933570...   \n",
       "chr1:115256575:T/A             https://varsome.com/variant/hg19/chr1:11525657...   \n",
       "chr1:115256591:G/T             https://varsome.com/variant/hg19/chr1:11525659...   \n",
       "chr1:115256594:A/C             https://varsome.com/variant/hg19/chr1:11525659...   \n",
       "...                                                                          ...   \n",
       "chrX:133527706:ATACT/A         https://varsome.com/variant/hg19/chrX:13352770...   \n",
       "chrX:133547906:AT/A            https://varsome.com/variant/hg19/chrX:13354790...   \n",
       "chrX:133549272:T/TTTTTCAGACAA  https://varsome.com/variant/hg19/chrX:13354927...   \n",
       "chrX:133549274:T/TGG           https://varsome.com/variant/hg19/chrX:13354927...   \n",
       "chrX:133549278:T/G             https://varsome.com/variant/hg19/chrX:13354927...   \n",
       "\n",
       "                              Variant type RefSeq transcript id   Gene  \\\n",
       "Variant ID                                                               \n",
       "chr1:36933565:TG/T                Deletion          NM_156039.3  CSF3R   \n",
       "chr1:36933569:AGGGGTG/A           Deletion          NM_156039.3  CSF3R   \n",
       "chr1:115256575:T/A                     SNV          NM_002524.5   NRAS   \n",
       "chr1:115256591:G/T                     SNV          NM_002524.5   NRAS   \n",
       "chr1:115256594:A/C                     SNV          NM_002524.5   NRAS   \n",
       "...                                    ...                  ...    ...   \n",
       "chrX:133527706:ATACT/A            Deletion          NM_032458.3   PHF6   \n",
       "chrX:133547906:AT/A               Deletion          NM_032458.3   PHF6   \n",
       "chrX:133549272:T/TTTTTCAGACAA    Insertion          NM_032458.3   PHF6   \n",
       "chrX:133549274:T/TGG             Insertion          NM_032458.3   PHF6   \n",
       "chrX:133549278:T/G                     SNV          NM_032458.3   PHF6   \n",
       "\n",
       "                                        Protein  \\\n",
       "Variant ID                                        \n",
       "chr1:36933565:TG/T                                \n",
       "chr1:36933569:AGGGGTG/A                           \n",
       "chr1:115256575:T/A                  NRAS:p.I46L   \n",
       "chr1:115256591:G/T                  NRAS:p.Y40*   \n",
       "chr1:115256594:A/C                  NRAS:p.S39=   \n",
       "...                                         ...   \n",
       "chrX:133527706:ATACT/A                            \n",
       "chrX:133547906:AT/A            PHF6:p.C215Afs*3   \n",
       "chrX:133549272:T/TTTTTCAGACAA                     \n",
       "chrX:133549274:T/TGG                              \n",
       "chrX:133549278:T/G                                \n",
       "\n",
       "                                                          cDNA Coding impact  \\\n",
       "Variant ID                                                                     \n",
       "chr1:36933565:TG/T                                 c.1724-3del                 \n",
       "chr1:36933569:AGGGGTG/A                    c.1724-12_1724-7del                 \n",
       "chr1:115256575:T/A                                    c.136A>T      missense   \n",
       "chr1:115256591:G/T                                    c.120C>A      nonsense   \n",
       "chr1:115256594:A/C                                    c.117T>G    synonymous   \n",
       "...                                                        ...           ...   \n",
       "chrX:133527706:ATACT/A                      c.374+44_374+47del                 \n",
       "chrX:133547906:AT/A                                   c.643del    frameshift   \n",
       "chrX:133549272:T/TTTTTCAGACAA  c.834+122_834+123insTTTTCAGACAA                 \n",
       "chrX:133549274:T/TGG                    c.834+124_834+125insGG                 \n",
       "chrX:133549278:T/G                                c.834+128T>G                 \n",
       "\n",
       "                                            Function Allele Freq (gnomAD)  \\\n",
       "Variant ID                                                                  \n",
       "chr1:36933565:TG/T                intronic, splicing                        \n",
       "chr1:36933569:AGGGGTG/A           intronic, splicing                        \n",
       "chr1:115256575:T/A                            coding                        \n",
       "chr1:115256591:G/T             NMD, coding, splicing                        \n",
       "chr1:115256594:A/C                  coding, splicing             0.000004   \n",
       "...                                              ...                  ...   \n",
       "chrX:133527706:ATACT/A                      intronic              0.02735   \n",
       "chrX:133547906:AT/A                      NMD, coding                        \n",
       "chrX:133549272:T/TTTTTCAGACAA               intronic                        \n",
       "chrX:133549274:T/TGG                        intronic                        \n",
       "chrX:133549278:T/G                          intronic                        \n",
       "\n",
       "                                   DANN  dbSNP rsids ClinVar  \\\n",
       "Variant ID                                                     \n",
       "chr1:36933565:TG/T                                             \n",
       "chr1:36933569:AGGGGTG/A                                        \n",
       "chr1:115256575:T/A             0.992706                        \n",
       "chr1:115256591:G/T             0.995788                        \n",
       "chr1:115256594:A/C             0.822459  rs780800228           \n",
       "...                                 ...          ...     ...   \n",
       "chrX:133527706:ATACT/A                    rs35873365           \n",
       "chrX:133547906:AT/A                                            \n",
       "chrX:133549272:T/TTTTTCAGACAA                                  \n",
       "chrX:133549274:T/TGG                                           \n",
       "chrX:133549278:T/G             0.769707                        \n",
       "\n",
       "                                               COSMIC ids  \n",
       "Variant ID                                                 \n",
       "chr1:36933565:TG/T                                         \n",
       "chr1:36933569:AGGGGTG/A                                    \n",
       "chr1:115256575:T/A                                         \n",
       "chr1:115256591:G/T                             COSM675199  \n",
       "chr1:115256594:A/C                                         \n",
       "...                                                   ...  \n",
       "chrX:133527706:ATACT/A         COSN17141820, COSN17140836  \n",
       "chrX:133547906:AT/A                                        \n",
       "chrX:133549272:T/TTTTTCAGACAA                              \n",
       "chrX:133549274:T/TGG                                       \n",
       "chrX:133549278:T/G                                         \n",
       "\n",
       "[171 rows x 16 columns]"
      ]
     },
     "execution_count": 164,
     "metadata": {},
     "output_type": "execute_result"
    }
   ],
   "source": [
    "sample1.dna.get_annotations()"
   ]
  },
  {
   "cell_type": "code",
   "execution_count": 167,
   "metadata": {},
   "outputs": [],
   "source": [
    "sample1.dna.get_annotations().to_csv('5-M-001_Full-Variant-List-postQC_2022-04-24',sep=',')"
   ]
  },
  {
   "cell_type": "code",
   "execution_count": 170,
   "metadata": {},
   "outputs": [
    {
     "data": {
      "text/plain": [
       "(70,)"
      ]
     },
     "execution_count": 170,
     "metadata": {},
     "output_type": "execute_result"
    }
   ],
   "source": [
    "sample2.dna.ids().shape"
   ]
  },
  {
   "cell_type": "code",
   "execution_count": 166,
   "metadata": {},
   "outputs": [
    {
     "data": {
      "text/html": [
       "<div>\n",
       "<style scoped>\n",
       "    .dataframe tbody tr th:only-of-type {\n",
       "        vertical-align: middle;\n",
       "    }\n",
       "\n",
       "    .dataframe tbody tr th {\n",
       "        vertical-align: top;\n",
       "    }\n",
       "\n",
       "    .dataframe thead th {\n",
       "        text-align: right;\n",
       "    }\n",
       "</style>\n",
       "<table border=\"1\" class=\"dataframe\">\n",
       "  <thead>\n",
       "    <tr style=\"text-align: right;\">\n",
       "      <th></th>\n",
       "      <th>Position</th>\n",
       "      <th>Ref allele</th>\n",
       "      <th>Alt allele</th>\n",
       "      <th>Varsome url</th>\n",
       "      <th>Variant type</th>\n",
       "      <th>RefSeq transcript id</th>\n",
       "      <th>Gene</th>\n",
       "      <th>Protein</th>\n",
       "      <th>cDNA</th>\n",
       "      <th>Coding impact</th>\n",
       "      <th>Function</th>\n",
       "      <th>Allele Freq (gnomAD)</th>\n",
       "      <th>DANN</th>\n",
       "      <th>dbSNP rsids</th>\n",
       "      <th>ClinVar</th>\n",
       "      <th>COSMIC ids</th>\n",
       "    </tr>\n",
       "    <tr>\n",
       "      <th>Variant ID</th>\n",
       "      <th></th>\n",
       "      <th></th>\n",
       "      <th></th>\n",
       "      <th></th>\n",
       "      <th></th>\n",
       "      <th></th>\n",
       "      <th></th>\n",
       "      <th></th>\n",
       "      <th></th>\n",
       "      <th></th>\n",
       "      <th></th>\n",
       "      <th></th>\n",
       "      <th></th>\n",
       "      <th></th>\n",
       "      <th></th>\n",
       "      <th></th>\n",
       "    </tr>\n",
       "  </thead>\n",
       "  <tbody>\n",
       "    <tr>\n",
       "      <th>chr1:36933096:T/C</th>\n",
       "      <td>36933096</td>\n",
       "      <td>T</td>\n",
       "      <td>C</td>\n",
       "      <td>https://varsome.com/variant/hg19/chr1:36933096...</td>\n",
       "      <td>SNV</td>\n",
       "      <td>NM_156039.3</td>\n",
       "      <td>CSF3R</td>\n",
       "      <td></td>\n",
       "      <td>c.1958+63A&gt;G</td>\n",
       "      <td></td>\n",
       "      <td>intronic</td>\n",
       "      <td></td>\n",
       "      <td>0.755242</td>\n",
       "      <td>rs3918000</td>\n",
       "      <td>Benign</td>\n",
       "      <td></td>\n",
       "    </tr>\n",
       "    <tr>\n",
       "      <th>chr1:115258642:C/G</th>\n",
       "      <td>115258642</td>\n",
       "      <td>C</td>\n",
       "      <td>G</td>\n",
       "      <td>https://varsome.com/variant/hg19/chr1:11525864...</td>\n",
       "      <td>SNV</td>\n",
       "      <td>NM_002524.5</td>\n",
       "      <td>NRAS</td>\n",
       "      <td></td>\n",
       "      <td>c.111+29G&gt;C</td>\n",
       "      <td></td>\n",
       "      <td>intronic</td>\n",
       "      <td></td>\n",
       "      <td>0.723762</td>\n",
       "      <td></td>\n",
       "      <td></td>\n",
       "      <td></td>\n",
       "    </tr>\n",
       "    <tr>\n",
       "      <th>chr2:25458546:C/T</th>\n",
       "      <td>25458546</td>\n",
       "      <td>C</td>\n",
       "      <td>T</td>\n",
       "      <td>https://varsome.com/variant/hg19/chr2:25458546...</td>\n",
       "      <td>SNV</td>\n",
       "      <td>NM_022552.5</td>\n",
       "      <td>DNMT3A</td>\n",
       "      <td></td>\n",
       "      <td>c.2597+30G&gt;A</td>\n",
       "      <td></td>\n",
       "      <td>intronic</td>\n",
       "      <td>0.513776</td>\n",
       "      <td>0.551042</td>\n",
       "      <td>rs2304429</td>\n",
       "      <td>Benign</td>\n",
       "      <td>COSN16155998, COSN15330331, COSN28666368, COSN...</td>\n",
       "    </tr>\n",
       "    <tr>\n",
       "      <th>chr2:25463483:G/A</th>\n",
       "      <td>25463483</td>\n",
       "      <td>G</td>\n",
       "      <td>A</td>\n",
       "      <td>https://varsome.com/variant/hg19/chr2:25463483...</td>\n",
       "      <td>SNV</td>\n",
       "      <td>NM_022552.5</td>\n",
       "      <td>DNMT3A</td>\n",
       "      <td></td>\n",
       "      <td>c.2173+26C&gt;T</td>\n",
       "      <td></td>\n",
       "      <td>intronic</td>\n",
       "      <td>0.41093</td>\n",
       "      <td>0.771264</td>\n",
       "      <td>rs2289195</td>\n",
       "      <td>Benign</td>\n",
       "      <td>COSN19623127, COSN28734632, COSN20280858, COSN...</td>\n",
       "    </tr>\n",
       "    <tr>\n",
       "      <th>chr2:25464336:G/A</th>\n",
       "      <td>25464336</td>\n",
       "      <td>G</td>\n",
       "      <td>A</td>\n",
       "      <td>https://varsome.com/variant/hg19/chr2:25464336...</td>\n",
       "      <td>SNV</td>\n",
       "      <td>NM_022552.5</td>\n",
       "      <td>DNMT3A</td>\n",
       "      <td></td>\n",
       "      <td>c.2082+95C&gt;T</td>\n",
       "      <td></td>\n",
       "      <td>intronic</td>\n",
       "      <td></td>\n",
       "      <td>0.56238</td>\n",
       "      <td></td>\n",
       "      <td></td>\n",
       "      <td></td>\n",
       "    </tr>\n",
       "    <tr>\n",
       "      <th>...</th>\n",
       "      <td>...</td>\n",
       "      <td>...</td>\n",
       "      <td>...</td>\n",
       "      <td>...</td>\n",
       "      <td>...</td>\n",
       "      <td>...</td>\n",
       "      <td>...</td>\n",
       "      <td>...</td>\n",
       "      <td>...</td>\n",
       "      <td>...</td>\n",
       "      <td>...</td>\n",
       "      <td>...</td>\n",
       "      <td>...</td>\n",
       "      <td>...</td>\n",
       "      <td>...</td>\n",
       "      <td>...</td>\n",
       "    </tr>\n",
       "    <tr>\n",
       "      <th>chrX:44938563:G/A</th>\n",
       "      <td>44938563</td>\n",
       "      <td>G</td>\n",
       "      <td>A</td>\n",
       "      <td>https://varsome.com/variant/hg19/chrX:44938563...</td>\n",
       "      <td>SNV</td>\n",
       "      <td>NM_021140.3</td>\n",
       "      <td>KDM6A</td>\n",
       "      <td>KDM6A:p.Q1037=</td>\n",
       "      <td>c.3111G&gt;A</td>\n",
       "      <td>synonymous</td>\n",
       "      <td>coding</td>\n",
       "      <td>0.25182</td>\n",
       "      <td>0.470305</td>\n",
       "      <td>rs20539</td>\n",
       "      <td>Benign</td>\n",
       "      <td>COSM5019441, COSM1179848, COSM5019442</td>\n",
       "    </tr>\n",
       "    <tr>\n",
       "      <th>chrX:123181551:G/A</th>\n",
       "      <td>123181551</td>\n",
       "      <td>G</td>\n",
       "      <td>A</td>\n",
       "      <td>https://varsome.com/variant/hg19/chrX:12318155...</td>\n",
       "      <td>SNV</td>\n",
       "      <td>NM_001042749.2</td>\n",
       "      <td>STAG2</td>\n",
       "      <td></td>\n",
       "      <td>c.819+196G&gt;A</td>\n",
       "      <td></td>\n",
       "      <td>intronic</td>\n",
       "      <td></td>\n",
       "      <td>0.60979</td>\n",
       "      <td>rs6655780</td>\n",
       "      <td>Benign</td>\n",
       "      <td></td>\n",
       "    </tr>\n",
       "    <tr>\n",
       "      <th>chrX:123204978:C/CT</th>\n",
       "      <td>123204981</td>\n",
       "      <td></td>\n",
       "      <td>T</td>\n",
       "      <td>https://varsome.com/variant/hg19/chrX:12320498...</td>\n",
       "      <td>Insertion (homopolymer)</td>\n",
       "      <td>NM_001042749.2</td>\n",
       "      <td>STAG2</td>\n",
       "      <td></td>\n",
       "      <td>c.2359-7dup</td>\n",
       "      <td></td>\n",
       "      <td>intronic, splicing</td>\n",
       "      <td>0.051927</td>\n",
       "      <td></td>\n",
       "      <td>rs77366098</td>\n",
       "      <td></td>\n",
       "      <td></td>\n",
       "    </tr>\n",
       "    <tr>\n",
       "      <th>chrX:123204978:CT/C</th>\n",
       "      <td>123204980</td>\n",
       "      <td>T</td>\n",
       "      <td></td>\n",
       "      <td>https://varsome.com/variant/hg19/chrX:12320498...</td>\n",
       "      <td>Deletion (homopolymer)</td>\n",
       "      <td>NM_001042749.2</td>\n",
       "      <td>STAG2</td>\n",
       "      <td></td>\n",
       "      <td>c.2359-7del</td>\n",
       "      <td></td>\n",
       "      <td>intronic, splicing</td>\n",
       "      <td>0.306857</td>\n",
       "      <td></td>\n",
       "      <td>rs77366098</td>\n",
       "      <td>Benign</td>\n",
       "      <td>COSN29012743, COSN28927458</td>\n",
       "    </tr>\n",
       "    <tr>\n",
       "      <th>chrX:133527541:T/C</th>\n",
       "      <td>133527541</td>\n",
       "      <td>T</td>\n",
       "      <td>C</td>\n",
       "      <td>https://varsome.com/variant/hg19/chrX:13352754...</td>\n",
       "      <td>SNV</td>\n",
       "      <td>NM_032458.3</td>\n",
       "      <td>PHF6</td>\n",
       "      <td>PHF6:p.L84S</td>\n",
       "      <td>c.251T&gt;C</td>\n",
       "      <td>missense</td>\n",
       "      <td>coding</td>\n",
       "      <td></td>\n",
       "      <td>0.98265</td>\n",
       "      <td></td>\n",
       "      <td></td>\n",
       "      <td></td>\n",
       "    </tr>\n",
       "  </tbody>\n",
       "</table>\n",
       "<p>70 rows × 16 columns</p>\n",
       "</div>"
      ],
      "text/plain": [
       "                      Position Ref allele Alt allele  \\\n",
       "Variant ID                                             \n",
       "chr1:36933096:T/C     36933096          T          C   \n",
       "chr1:115258642:C/G   115258642          C          G   \n",
       "chr2:25458546:C/T     25458546          C          T   \n",
       "chr2:25463483:G/A     25463483          G          A   \n",
       "chr2:25464336:G/A     25464336          G          A   \n",
       "...                        ...        ...        ...   \n",
       "chrX:44938563:G/A     44938563          G          A   \n",
       "chrX:123181551:G/A   123181551          G          A   \n",
       "chrX:123204978:C/CT  123204981                     T   \n",
       "chrX:123204978:CT/C  123204980          T              \n",
       "chrX:133527541:T/C   133527541          T          C   \n",
       "\n",
       "                                                           Varsome url  \\\n",
       "Variant ID                                                               \n",
       "chr1:36933096:T/C    https://varsome.com/variant/hg19/chr1:36933096...   \n",
       "chr1:115258642:C/G   https://varsome.com/variant/hg19/chr1:11525864...   \n",
       "chr2:25458546:C/T    https://varsome.com/variant/hg19/chr2:25458546...   \n",
       "chr2:25463483:G/A    https://varsome.com/variant/hg19/chr2:25463483...   \n",
       "chr2:25464336:G/A    https://varsome.com/variant/hg19/chr2:25464336...   \n",
       "...                                                                ...   \n",
       "chrX:44938563:G/A    https://varsome.com/variant/hg19/chrX:44938563...   \n",
       "chrX:123181551:G/A   https://varsome.com/variant/hg19/chrX:12318155...   \n",
       "chrX:123204978:C/CT  https://varsome.com/variant/hg19/chrX:12320498...   \n",
       "chrX:123204978:CT/C  https://varsome.com/variant/hg19/chrX:12320498...   \n",
       "chrX:133527541:T/C   https://varsome.com/variant/hg19/chrX:13352754...   \n",
       "\n",
       "                                Variant type RefSeq transcript id    Gene  \\\n",
       "Variant ID                                                                  \n",
       "chr1:36933096:T/C                        SNV          NM_156039.3   CSF3R   \n",
       "chr1:115258642:C/G                       SNV          NM_002524.5    NRAS   \n",
       "chr2:25458546:C/T                        SNV          NM_022552.5  DNMT3A   \n",
       "chr2:25463483:G/A                        SNV          NM_022552.5  DNMT3A   \n",
       "chr2:25464336:G/A                        SNV          NM_022552.5  DNMT3A   \n",
       "...                                      ...                  ...     ...   \n",
       "chrX:44938563:G/A                        SNV          NM_021140.3   KDM6A   \n",
       "chrX:123181551:G/A                       SNV       NM_001042749.2   STAG2   \n",
       "chrX:123204978:C/CT  Insertion (homopolymer)       NM_001042749.2   STAG2   \n",
       "chrX:123204978:CT/C   Deletion (homopolymer)       NM_001042749.2   STAG2   \n",
       "chrX:133527541:T/C                       SNV          NM_032458.3    PHF6   \n",
       "\n",
       "                            Protein          cDNA Coding impact  \\\n",
       "Variant ID                                                        \n",
       "chr1:36933096:T/C                    c.1958+63A>G                 \n",
       "chr1:115258642:C/G                    c.111+29G>C                 \n",
       "chr2:25458546:C/T                    c.2597+30G>A                 \n",
       "chr2:25463483:G/A                    c.2173+26C>T                 \n",
       "chr2:25464336:G/A                    c.2082+95C>T                 \n",
       "...                             ...           ...           ...   \n",
       "chrX:44938563:G/A    KDM6A:p.Q1037=     c.3111G>A    synonymous   \n",
       "chrX:123181551:G/A                   c.819+196G>A                 \n",
       "chrX:123204978:C/CT                   c.2359-7dup                 \n",
       "chrX:123204978:CT/C                   c.2359-7del                 \n",
       "chrX:133527541:T/C      PHF6:p.L84S      c.251T>C      missense   \n",
       "\n",
       "                               Function Allele Freq (gnomAD)      DANN  \\\n",
       "Variant ID                                                               \n",
       "chr1:36933096:T/C              intronic                       0.755242   \n",
       "chr1:115258642:C/G             intronic                       0.723762   \n",
       "chr2:25458546:C/T              intronic             0.513776  0.551042   \n",
       "chr2:25463483:G/A              intronic              0.41093  0.771264   \n",
       "chr2:25464336:G/A              intronic                        0.56238   \n",
       "...                                 ...                  ...       ...   \n",
       "chrX:44938563:G/A                coding              0.25182  0.470305   \n",
       "chrX:123181551:G/A             intronic                        0.60979   \n",
       "chrX:123204978:C/CT  intronic, splicing             0.051927             \n",
       "chrX:123204978:CT/C  intronic, splicing             0.306857             \n",
       "chrX:133527541:T/C               coding                        0.98265   \n",
       "\n",
       "                    dbSNP rsids ClinVar  \\\n",
       "Variant ID                                \n",
       "chr1:36933096:T/C     rs3918000  Benign   \n",
       "chr1:115258642:C/G                        \n",
       "chr2:25458546:C/T     rs2304429  Benign   \n",
       "chr2:25463483:G/A     rs2289195  Benign   \n",
       "chr2:25464336:G/A                         \n",
       "...                         ...     ...   \n",
       "chrX:44938563:G/A       rs20539  Benign   \n",
       "chrX:123181551:G/A    rs6655780  Benign   \n",
       "chrX:123204978:C/CT  rs77366098           \n",
       "chrX:123204978:CT/C  rs77366098  Benign   \n",
       "chrX:133527541:T/C                        \n",
       "\n",
       "                                                            COSMIC ids  \n",
       "Variant ID                                                              \n",
       "chr1:36933096:T/C                                                       \n",
       "chr1:115258642:C/G                                                      \n",
       "chr2:25458546:C/T    COSN16155998, COSN15330331, COSN28666368, COSN...  \n",
       "chr2:25463483:G/A    COSN19623127, COSN28734632, COSN20280858, COSN...  \n",
       "chr2:25464336:G/A                                                       \n",
       "...                                                                ...  \n",
       "chrX:44938563:G/A                COSM5019441, COSM1179848, COSM5019442  \n",
       "chrX:123181551:G/A                                                      \n",
       "chrX:123204978:C/CT                                                     \n",
       "chrX:123204978:CT/C                         COSN29012743, COSN28927458  \n",
       "chrX:133527541:T/C                                                      \n",
       "\n",
       "[70 rows x 16 columns]"
      ]
     },
     "execution_count": 166,
     "metadata": {},
     "output_type": "execute_result"
    }
   ],
   "source": [
    "sample2.dna.get_annotations()"
   ]
  },
  {
   "cell_type": "code",
   "execution_count": 168,
   "metadata": {},
   "outputs": [],
   "source": [
    "sample2.dna.get_annotations().to_csv('4-I-001_Full-Variant-List-postQC_2022-04-24',sep=',')"
   ]
  },
  {
   "cell_type": "code",
   "execution_count": 228,
   "metadata": {},
   "outputs": [
    {
     "name": "stdout",
     "output_type": "stream",
     "text": [
      "Loading, 5-M-001_analysis_2022-04-22.h5\n",
      "Loaded in 0.2s.\n"
     ]
    }
   ],
   "source": [
    "sample1=mio.load('5-M-001_analysis_2022-04-22.h5')"
   ]
  },
  {
   "cell_type": "code",
   "execution_count": 262,
   "metadata": {},
   "outputs": [
    {
     "name": "stdout",
     "output_type": "stream",
     "text": [
      "Loading, 4-I-001_analysis_2022-04-22.h5\n",
      "Loaded in 1.6s.\n"
     ]
    }
   ],
   "source": [
    "sample2=mio.load('4-I-001_analysis_2022-04-22.h5')"
   ]
  },
  {
   "cell_type": "code",
   "execution_count": 229,
   "metadata": {},
   "outputs": [
    {
     "data": {
      "text/plain": [
       "(312,)"
      ]
     },
     "execution_count": 229,
     "metadata": {},
     "output_type": "execute_result"
    }
   ],
   "source": [
    "sample1.cnv.ids().shape"
   ]
  },
  {
   "cell_type": "code",
   "execution_count": 263,
   "metadata": {},
   "outputs": [
    {
     "data": {
      "text/plain": [
       "(171,)"
      ]
     },
     "execution_count": 263,
     "metadata": {},
     "output_type": "execute_result"
    }
   ],
   "source": [
    "sample1.dna.ids().shape"
   ]
  },
  {
   "cell_type": "code",
   "execution_count": 264,
   "metadata": {},
   "outputs": [
    {
     "data": {
      "text/plain": [
       "(70,)"
      ]
     },
     "execution_count": 264,
     "metadata": {},
     "output_type": "execute_result"
    }
   ],
   "source": [
    "sample2.dna.ids().shape"
   ]
  },
  {
   "cell_type": "code",
   "execution_count": 265,
   "metadata": {},
   "outputs": [
    {
     "data": {
      "text/plain": [
       "(312,)"
      ]
     },
     "execution_count": 265,
     "metadata": {},
     "output_type": "execute_result"
    }
   ],
   "source": [
    "sample2.cnv.ids().shape"
   ]
  },
  {
   "cell_type": "code",
   "execution_count": null,
   "metadata": {},
   "outputs": [],
   "source": []
  },
  {
   "cell_type": "code",
   "execution_count": 214,
   "metadata": {},
   "outputs": [],
   "source": [
    "# Filter the CNV with amplicons only from the relevant genes\n",
    "import numpy as np"
   ]
  },
  {
   "cell_type": "code",
   "execution_count": 230,
   "metadata": {},
   "outputs": [
    {
     "data": {
      "text/plain": [
       "(393, 312)"
      ]
     },
     "execution_count": 230,
     "metadata": {},
     "output_type": "execute_result"
    }
   ],
   "source": [
    "sample1.cnv.shape"
   ]
  },
  {
   "cell_type": "code",
   "execution_count": 231,
   "metadata": {},
   "outputs": [],
   "source": [
    "genes1 = sample1.cnv.col_attrs['id'].copy()\n",
    "genes1names = np.array([x.split('_') for x in genes1.ravel()])"
   ]
  },
  {
   "cell_type": "code",
   "execution_count": 232,
   "metadata": {},
   "outputs": [],
   "source": [
    "genes2 = sample2.cnv.col_attrs['id'].copy()\n",
    "genes2names = np.array([x.split('_') for x in genes2.ravel()])"
   ]
  },
  {
   "cell_type": "code",
   "execution_count": 233,
   "metadata": {},
   "outputs": [],
   "source": [
    "relevant_ids1 = np.isin(genes1names[:,2], CMMLgenes)"
   ]
  },
  {
   "cell_type": "code",
   "execution_count": 234,
   "metadata": {},
   "outputs": [],
   "source": [
    "relevant_ids2 = np.isin(genes2names[:,2], CMMLgenes)"
   ]
  },
  {
   "cell_type": "code",
   "execution_count": 235,
   "metadata": {},
   "outputs": [],
   "source": [
    "sample1.cnv = sample1.cnv[:, relevant_ids1]\n",
    "sample2.cnv = sample2.cnv[:, relevant_ids2]"
   ]
  },
  {
   "cell_type": "code",
   "execution_count": 237,
   "metadata": {},
   "outputs": [
    {
     "data": {
      "text/plain": [
       "(393, 185)"
      ]
     },
     "execution_count": 237,
     "metadata": {},
     "output_type": "execute_result"
    }
   ],
   "source": [
    "sample1.cnv.shape"
   ]
  },
  {
   "cell_type": "code",
   "execution_count": 238,
   "metadata": {},
   "outputs": [
    {
     "data": {
      "text/plain": [
       "(7889, 185)"
      ]
     },
     "execution_count": 238,
     "metadata": {},
     "output_type": "execute_result"
    }
   ],
   "source": [
    "sample2.cnv.shape"
   ]
  },
  {
   "cell_type": "code",
   "execution_count": 239,
   "metadata": {},
   "outputs": [
    {
     "data": {
      "text/plain": [
       "'5M001_CNV_heatmap_CMMLgenes.html'"
      ]
     },
     "execution_count": 239,
     "metadata": {},
     "output_type": "execute_result"
    }
   ],
   "source": [
    "plot(sample1.heatmap(clusterby='dna', sortby='protein', flatten=False),filename='5M001_CNV_heatmap_CMMLgenes.html')"
   ]
  },
  {
   "cell_type": "code",
   "execution_count": 240,
   "metadata": {},
   "outputs": [
    {
     "data": {
      "text/plain": [
       "'4I001_CNV_heatmap_CMMLgenes.html'"
      ]
     },
     "execution_count": 240,
     "metadata": {},
     "output_type": "execute_result"
    }
   ],
   "source": [
    "plot(sample2.heatmap(clusterby='dna', sortby='protein', flatten=False),filename='4I001_CNV_heatmap_CMMLgenes.html')"
   ]
  },
  {
   "cell_type": "code",
   "execution_count": 241,
   "metadata": {},
   "outputs": [],
   "source": [
    "mio.save(sample1, '5-M-001_analysis_postFilterCMMLgenes_2022-04-24.h5')"
   ]
  },
  {
   "cell_type": "code",
   "execution_count": 242,
   "metadata": {},
   "outputs": [],
   "source": [
    "mio.save(sample2, '4-I-001_analysis_postFilterCMMLgenes_2022-04-24.h5')"
   ]
  },
  {
   "cell_type": "markdown",
   "metadata": {},
   "source": [
    "### manual CNV filtering"
   ]
  },
  {
   "cell_type": "raw",
   "metadata": {},
   "source": [
    "following along with: https://missionbio.github.io/mosaic/examples/cnv.html "
   ]
  },
  {
   "cell_type": "code",
   "execution_count": 243,
   "metadata": {},
   "outputs": [
    {
     "data": {
      "text/html": [
       "<div>\n",
       "<style scoped>\n",
       "    .dataframe tbody tr th:only-of-type {\n",
       "        vertical-align: middle;\n",
       "    }\n",
       "\n",
       "    .dataframe tbody tr th {\n",
       "        vertical-align: top;\n",
       "    }\n",
       "\n",
       "    .dataframe thead th {\n",
       "        text-align: right;\n",
       "    }\n",
       "</style>\n",
       "<table border=\"1\" class=\"dataframe\">\n",
       "  <thead>\n",
       "    <tr style=\"text-align: right;\">\n",
       "      <th></th>\n",
       "      <th>MYE_v2_ASXL1_31022366</th>\n",
       "      <th>MYE_v2_ASXL1_31022711</th>\n",
       "      <th>MYE_v2_ASXL1_31022977</th>\n",
       "      <th>MYE_v2_ASXL1_31023229</th>\n",
       "      <th>MYE_v2_ASXL1_31023478</th>\n",
       "      <th>MYE_v2_ASXL1_31023678</th>\n",
       "      <th>MYE_v2_ASXL1_31023938</th>\n",
       "      <th>MYE_v2_ASXL1_31024173</th>\n",
       "      <th>MYE_v2_ASXL1_31024623</th>\n",
       "      <th>MYE_v2_ASXL1_31024877</th>\n",
       "      <th>...</th>\n",
       "      <th>MYE_v2_ZRSR2_15817959</th>\n",
       "      <th>MYE_v2_ZRSR2_15821773</th>\n",
       "      <th>MYE_v2_ZRSR2_15822168</th>\n",
       "      <th>MYE_v2_ZRSR2_15826277</th>\n",
       "      <th>MYE_v2_ZRSR2_15827302</th>\n",
       "      <th>MYE_v2_ZRSR2_15833836</th>\n",
       "      <th>MYE_v2_ZRSR2_15838246</th>\n",
       "      <th>MYE_v2_ZRSR2_15840789</th>\n",
       "      <th>MYE_v2_ZRSR2_15841002</th>\n",
       "      <th>MYE_v2_ZRSR2_15841178</th>\n",
       "    </tr>\n",
       "    <tr>\n",
       "      <th>read_counts</th>\n",
       "      <th></th>\n",
       "      <th></th>\n",
       "      <th></th>\n",
       "      <th></th>\n",
       "      <th></th>\n",
       "      <th></th>\n",
       "      <th></th>\n",
       "      <th></th>\n",
       "      <th></th>\n",
       "      <th></th>\n",
       "      <th></th>\n",
       "      <th></th>\n",
       "      <th></th>\n",
       "      <th></th>\n",
       "      <th></th>\n",
       "      <th></th>\n",
       "      <th></th>\n",
       "      <th></th>\n",
       "      <th></th>\n",
       "      <th></th>\n",
       "      <th></th>\n",
       "    </tr>\n",
       "  </thead>\n",
       "  <tbody>\n",
       "    <tr>\n",
       "      <th>AACAACTGGACGCACACT</th>\n",
       "      <td>758</td>\n",
       "      <td>4853</td>\n",
       "      <td>2046</td>\n",
       "      <td>215</td>\n",
       "      <td>60</td>\n",
       "      <td>300</td>\n",
       "      <td>1819</td>\n",
       "      <td>561</td>\n",
       "      <td>407</td>\n",
       "      <td>1867</td>\n",
       "      <td>...</td>\n",
       "      <td>215</td>\n",
       "      <td>165</td>\n",
       "      <td>733</td>\n",
       "      <td>2343</td>\n",
       "      <td>1302</td>\n",
       "      <td>37</td>\n",
       "      <td>231</td>\n",
       "      <td>1615</td>\n",
       "      <td>0</td>\n",
       "      <td>104</td>\n",
       "    </tr>\n",
       "    <tr>\n",
       "      <th>AACCATGGTCCTCGACCT</th>\n",
       "      <td>513</td>\n",
       "      <td>2613</td>\n",
       "      <td>2363</td>\n",
       "      <td>5</td>\n",
       "      <td>413</td>\n",
       "      <td>153</td>\n",
       "      <td>3324</td>\n",
       "      <td>1496</td>\n",
       "      <td>1540</td>\n",
       "      <td>1739</td>\n",
       "      <td>...</td>\n",
       "      <td>662</td>\n",
       "      <td>524</td>\n",
       "      <td>1067</td>\n",
       "      <td>970</td>\n",
       "      <td>1248</td>\n",
       "      <td>497</td>\n",
       "      <td>179</td>\n",
       "      <td>1019</td>\n",
       "      <td>0</td>\n",
       "      <td>66</td>\n",
       "    </tr>\n",
       "    <tr>\n",
       "      <th>AACGAGAATCCGATCTCT</th>\n",
       "      <td>1323</td>\n",
       "      <td>937</td>\n",
       "      <td>335</td>\n",
       "      <td>165</td>\n",
       "      <td>668</td>\n",
       "      <td>449</td>\n",
       "      <td>1059</td>\n",
       "      <td>1848</td>\n",
       "      <td>1936</td>\n",
       "      <td>985</td>\n",
       "      <td>...</td>\n",
       "      <td>52</td>\n",
       "      <td>2</td>\n",
       "      <td>261</td>\n",
       "      <td>2522</td>\n",
       "      <td>1041</td>\n",
       "      <td>25</td>\n",
       "      <td>66</td>\n",
       "      <td>890</td>\n",
       "      <td>0</td>\n",
       "      <td>9</td>\n",
       "    </tr>\n",
       "    <tr>\n",
       "      <th>AACGAGGTGAGTTAGGTC</th>\n",
       "      <td>145</td>\n",
       "      <td>343</td>\n",
       "      <td>2</td>\n",
       "      <td>32</td>\n",
       "      <td>78</td>\n",
       "      <td>687</td>\n",
       "      <td>872</td>\n",
       "      <td>1144</td>\n",
       "      <td>248</td>\n",
       "      <td>232</td>\n",
       "      <td>...</td>\n",
       "      <td>97</td>\n",
       "      <td>16</td>\n",
       "      <td>100</td>\n",
       "      <td>631</td>\n",
       "      <td>148</td>\n",
       "      <td>4</td>\n",
       "      <td>54</td>\n",
       "      <td>123</td>\n",
       "      <td>0</td>\n",
       "      <td>2</td>\n",
       "    </tr>\n",
       "    <tr>\n",
       "      <th>AACTGATTCTCAATCTAG</th>\n",
       "      <td>950</td>\n",
       "      <td>3836</td>\n",
       "      <td>8076</td>\n",
       "      <td>338</td>\n",
       "      <td>580</td>\n",
       "      <td>231</td>\n",
       "      <td>3074</td>\n",
       "      <td>2206</td>\n",
       "      <td>1438</td>\n",
       "      <td>6230</td>\n",
       "      <td>...</td>\n",
       "      <td>528</td>\n",
       "      <td>244</td>\n",
       "      <td>91</td>\n",
       "      <td>5579</td>\n",
       "      <td>1827</td>\n",
       "      <td>179</td>\n",
       "      <td>135</td>\n",
       "      <td>398</td>\n",
       "      <td>3</td>\n",
       "      <td>318</td>\n",
       "    </tr>\n",
       "    <tr>\n",
       "      <th>...</th>\n",
       "      <td>...</td>\n",
       "      <td>...</td>\n",
       "      <td>...</td>\n",
       "      <td>...</td>\n",
       "      <td>...</td>\n",
       "      <td>...</td>\n",
       "      <td>...</td>\n",
       "      <td>...</td>\n",
       "      <td>...</td>\n",
       "      <td>...</td>\n",
       "      <td>...</td>\n",
       "      <td>...</td>\n",
       "      <td>...</td>\n",
       "      <td>...</td>\n",
       "      <td>...</td>\n",
       "      <td>...</td>\n",
       "      <td>...</td>\n",
       "      <td>...</td>\n",
       "      <td>...</td>\n",
       "      <td>...</td>\n",
       "      <td>...</td>\n",
       "    </tr>\n",
       "    <tr>\n",
       "      <th>TTGCAGTCAGAACATGAC</th>\n",
       "      <td>2092</td>\n",
       "      <td>3158</td>\n",
       "      <td>2170</td>\n",
       "      <td>650</td>\n",
       "      <td>516</td>\n",
       "      <td>1363</td>\n",
       "      <td>7241</td>\n",
       "      <td>5088</td>\n",
       "      <td>4010</td>\n",
       "      <td>2704</td>\n",
       "      <td>...</td>\n",
       "      <td>141</td>\n",
       "      <td>990</td>\n",
       "      <td>239</td>\n",
       "      <td>1093</td>\n",
       "      <td>2121</td>\n",
       "      <td>0</td>\n",
       "      <td>146</td>\n",
       "      <td>57</td>\n",
       "      <td>0</td>\n",
       "      <td>155</td>\n",
       "    </tr>\n",
       "    <tr>\n",
       "      <th>TTGCCAGATGTTGCATGG</th>\n",
       "      <td>455</td>\n",
       "      <td>1940</td>\n",
       "      <td>156</td>\n",
       "      <td>107</td>\n",
       "      <td>622</td>\n",
       "      <td>695</td>\n",
       "      <td>1385</td>\n",
       "      <td>3536</td>\n",
       "      <td>788</td>\n",
       "      <td>1335</td>\n",
       "      <td>...</td>\n",
       "      <td>412</td>\n",
       "      <td>202</td>\n",
       "      <td>410</td>\n",
       "      <td>1875</td>\n",
       "      <td>28</td>\n",
       "      <td>18</td>\n",
       "      <td>27</td>\n",
       "      <td>74</td>\n",
       "      <td>1</td>\n",
       "      <td>72</td>\n",
       "    </tr>\n",
       "    <tr>\n",
       "      <th>TTGCTCTGCTCGGATGTT</th>\n",
       "      <td>282</td>\n",
       "      <td>2365</td>\n",
       "      <td>1176</td>\n",
       "      <td>276</td>\n",
       "      <td>1340</td>\n",
       "      <td>870</td>\n",
       "      <td>2911</td>\n",
       "      <td>2906</td>\n",
       "      <td>272</td>\n",
       "      <td>2549</td>\n",
       "      <td>...</td>\n",
       "      <td>712</td>\n",
       "      <td>244</td>\n",
       "      <td>525</td>\n",
       "      <td>1648</td>\n",
       "      <td>284</td>\n",
       "      <td>107</td>\n",
       "      <td>323</td>\n",
       "      <td>38</td>\n",
       "      <td>0</td>\n",
       "      <td>77</td>\n",
       "    </tr>\n",
       "    <tr>\n",
       "      <th>TTGTATCACCAATTGTCT</th>\n",
       "      <td>372</td>\n",
       "      <td>1800</td>\n",
       "      <td>1762</td>\n",
       "      <td>218</td>\n",
       "      <td>129</td>\n",
       "      <td>293</td>\n",
       "      <td>2127</td>\n",
       "      <td>815</td>\n",
       "      <td>365</td>\n",
       "      <td>1581</td>\n",
       "      <td>...</td>\n",
       "      <td>78</td>\n",
       "      <td>2</td>\n",
       "      <td>31</td>\n",
       "      <td>56</td>\n",
       "      <td>7</td>\n",
       "      <td>93</td>\n",
       "      <td>0</td>\n",
       "      <td>491</td>\n",
       "      <td>0</td>\n",
       "      <td>125</td>\n",
       "    </tr>\n",
       "    <tr>\n",
       "      <th>TTGTTAGAGAGCACACCT</th>\n",
       "      <td>363</td>\n",
       "      <td>1412</td>\n",
       "      <td>318</td>\n",
       "      <td>116</td>\n",
       "      <td>2277</td>\n",
       "      <td>20</td>\n",
       "      <td>1253</td>\n",
       "      <td>4626</td>\n",
       "      <td>848</td>\n",
       "      <td>3998</td>\n",
       "      <td>...</td>\n",
       "      <td>259</td>\n",
       "      <td>146</td>\n",
       "      <td>42</td>\n",
       "      <td>3441</td>\n",
       "      <td>172</td>\n",
       "      <td>139</td>\n",
       "      <td>88</td>\n",
       "      <td>10</td>\n",
       "      <td>0</td>\n",
       "      <td>10</td>\n",
       "    </tr>\n",
       "  </tbody>\n",
       "</table>\n",
       "<p>393 rows × 185 columns</p>\n",
       "</div>"
      ],
      "text/plain": [
       "                    MYE_v2_ASXL1_31022366  MYE_v2_ASXL1_31022711  \\\n",
       "read_counts                                                        \n",
       "AACAACTGGACGCACACT                    758                   4853   \n",
       "AACCATGGTCCTCGACCT                    513                   2613   \n",
       "AACGAGAATCCGATCTCT                   1323                    937   \n",
       "AACGAGGTGAGTTAGGTC                    145                    343   \n",
       "AACTGATTCTCAATCTAG                    950                   3836   \n",
       "...                                   ...                    ...   \n",
       "TTGCAGTCAGAACATGAC                   2092                   3158   \n",
       "TTGCCAGATGTTGCATGG                    455                   1940   \n",
       "TTGCTCTGCTCGGATGTT                    282                   2365   \n",
       "TTGTATCACCAATTGTCT                    372                   1800   \n",
       "TTGTTAGAGAGCACACCT                    363                   1412   \n",
       "\n",
       "                    MYE_v2_ASXL1_31022977  MYE_v2_ASXL1_31023229  \\\n",
       "read_counts                                                        \n",
       "AACAACTGGACGCACACT                   2046                    215   \n",
       "AACCATGGTCCTCGACCT                   2363                      5   \n",
       "AACGAGAATCCGATCTCT                    335                    165   \n",
       "AACGAGGTGAGTTAGGTC                      2                     32   \n",
       "AACTGATTCTCAATCTAG                   8076                    338   \n",
       "...                                   ...                    ...   \n",
       "TTGCAGTCAGAACATGAC                   2170                    650   \n",
       "TTGCCAGATGTTGCATGG                    156                    107   \n",
       "TTGCTCTGCTCGGATGTT                   1176                    276   \n",
       "TTGTATCACCAATTGTCT                   1762                    218   \n",
       "TTGTTAGAGAGCACACCT                    318                    116   \n",
       "\n",
       "                    MYE_v2_ASXL1_31023478  MYE_v2_ASXL1_31023678  \\\n",
       "read_counts                                                        \n",
       "AACAACTGGACGCACACT                     60                    300   \n",
       "AACCATGGTCCTCGACCT                    413                    153   \n",
       "AACGAGAATCCGATCTCT                    668                    449   \n",
       "AACGAGGTGAGTTAGGTC                     78                    687   \n",
       "AACTGATTCTCAATCTAG                    580                    231   \n",
       "...                                   ...                    ...   \n",
       "TTGCAGTCAGAACATGAC                    516                   1363   \n",
       "TTGCCAGATGTTGCATGG                    622                    695   \n",
       "TTGCTCTGCTCGGATGTT                   1340                    870   \n",
       "TTGTATCACCAATTGTCT                    129                    293   \n",
       "TTGTTAGAGAGCACACCT                   2277                     20   \n",
       "\n",
       "                    MYE_v2_ASXL1_31023938  MYE_v2_ASXL1_31024173  \\\n",
       "read_counts                                                        \n",
       "AACAACTGGACGCACACT                   1819                    561   \n",
       "AACCATGGTCCTCGACCT                   3324                   1496   \n",
       "AACGAGAATCCGATCTCT                   1059                   1848   \n",
       "AACGAGGTGAGTTAGGTC                    872                   1144   \n",
       "AACTGATTCTCAATCTAG                   3074                   2206   \n",
       "...                                   ...                    ...   \n",
       "TTGCAGTCAGAACATGAC                   7241                   5088   \n",
       "TTGCCAGATGTTGCATGG                   1385                   3536   \n",
       "TTGCTCTGCTCGGATGTT                   2911                   2906   \n",
       "TTGTATCACCAATTGTCT                   2127                    815   \n",
       "TTGTTAGAGAGCACACCT                   1253                   4626   \n",
       "\n",
       "                    MYE_v2_ASXL1_31024623  MYE_v2_ASXL1_31024877  ...  \\\n",
       "read_counts                                                       ...   \n",
       "AACAACTGGACGCACACT                    407                   1867  ...   \n",
       "AACCATGGTCCTCGACCT                   1540                   1739  ...   \n",
       "AACGAGAATCCGATCTCT                   1936                    985  ...   \n",
       "AACGAGGTGAGTTAGGTC                    248                    232  ...   \n",
       "AACTGATTCTCAATCTAG                   1438                   6230  ...   \n",
       "...                                   ...                    ...  ...   \n",
       "TTGCAGTCAGAACATGAC                   4010                   2704  ...   \n",
       "TTGCCAGATGTTGCATGG                    788                   1335  ...   \n",
       "TTGCTCTGCTCGGATGTT                    272                   2549  ...   \n",
       "TTGTATCACCAATTGTCT                    365                   1581  ...   \n",
       "TTGTTAGAGAGCACACCT                    848                   3998  ...   \n",
       "\n",
       "                    MYE_v2_ZRSR2_15817959  MYE_v2_ZRSR2_15821773  \\\n",
       "read_counts                                                        \n",
       "AACAACTGGACGCACACT                    215                    165   \n",
       "AACCATGGTCCTCGACCT                    662                    524   \n",
       "AACGAGAATCCGATCTCT                     52                      2   \n",
       "AACGAGGTGAGTTAGGTC                     97                     16   \n",
       "AACTGATTCTCAATCTAG                    528                    244   \n",
       "...                                   ...                    ...   \n",
       "TTGCAGTCAGAACATGAC                    141                    990   \n",
       "TTGCCAGATGTTGCATGG                    412                    202   \n",
       "TTGCTCTGCTCGGATGTT                    712                    244   \n",
       "TTGTATCACCAATTGTCT                     78                      2   \n",
       "TTGTTAGAGAGCACACCT                    259                    146   \n",
       "\n",
       "                    MYE_v2_ZRSR2_15822168  MYE_v2_ZRSR2_15826277  \\\n",
       "read_counts                                                        \n",
       "AACAACTGGACGCACACT                    733                   2343   \n",
       "AACCATGGTCCTCGACCT                   1067                    970   \n",
       "AACGAGAATCCGATCTCT                    261                   2522   \n",
       "AACGAGGTGAGTTAGGTC                    100                    631   \n",
       "AACTGATTCTCAATCTAG                     91                   5579   \n",
       "...                                   ...                    ...   \n",
       "TTGCAGTCAGAACATGAC                    239                   1093   \n",
       "TTGCCAGATGTTGCATGG                    410                   1875   \n",
       "TTGCTCTGCTCGGATGTT                    525                   1648   \n",
       "TTGTATCACCAATTGTCT                     31                     56   \n",
       "TTGTTAGAGAGCACACCT                     42                   3441   \n",
       "\n",
       "                    MYE_v2_ZRSR2_15827302  MYE_v2_ZRSR2_15833836  \\\n",
       "read_counts                                                        \n",
       "AACAACTGGACGCACACT                   1302                     37   \n",
       "AACCATGGTCCTCGACCT                   1248                    497   \n",
       "AACGAGAATCCGATCTCT                   1041                     25   \n",
       "AACGAGGTGAGTTAGGTC                    148                      4   \n",
       "AACTGATTCTCAATCTAG                   1827                    179   \n",
       "...                                   ...                    ...   \n",
       "TTGCAGTCAGAACATGAC                   2121                      0   \n",
       "TTGCCAGATGTTGCATGG                     28                     18   \n",
       "TTGCTCTGCTCGGATGTT                    284                    107   \n",
       "TTGTATCACCAATTGTCT                      7                     93   \n",
       "TTGTTAGAGAGCACACCT                    172                    139   \n",
       "\n",
       "                    MYE_v2_ZRSR2_15838246  MYE_v2_ZRSR2_15840789  \\\n",
       "read_counts                                                        \n",
       "AACAACTGGACGCACACT                    231                   1615   \n",
       "AACCATGGTCCTCGACCT                    179                   1019   \n",
       "AACGAGAATCCGATCTCT                     66                    890   \n",
       "AACGAGGTGAGTTAGGTC                     54                    123   \n",
       "AACTGATTCTCAATCTAG                    135                    398   \n",
       "...                                   ...                    ...   \n",
       "TTGCAGTCAGAACATGAC                    146                     57   \n",
       "TTGCCAGATGTTGCATGG                     27                     74   \n",
       "TTGCTCTGCTCGGATGTT                    323                     38   \n",
       "TTGTATCACCAATTGTCT                      0                    491   \n",
       "TTGTTAGAGAGCACACCT                     88                     10   \n",
       "\n",
       "                    MYE_v2_ZRSR2_15841002  MYE_v2_ZRSR2_15841178  \n",
       "read_counts                                                       \n",
       "AACAACTGGACGCACACT                      0                    104  \n",
       "AACCATGGTCCTCGACCT                      0                     66  \n",
       "AACGAGAATCCGATCTCT                      0                      9  \n",
       "AACGAGGTGAGTTAGGTC                      0                      2  \n",
       "AACTGATTCTCAATCTAG                      3                    318  \n",
       "...                                   ...                    ...  \n",
       "TTGCAGTCAGAACATGAC                      0                    155  \n",
       "TTGCCAGATGTTGCATGG                      1                     72  \n",
       "TTGCTCTGCTCGGATGTT                      0                     77  \n",
       "TTGTATCACCAATTGTCT                      0                    125  \n",
       "TTGTTAGAGAGCACACCT                      0                     10  \n",
       "\n",
       "[393 rows x 185 columns]"
      ]
     },
     "execution_count": 243,
     "metadata": {},
     "output_type": "execute_result"
    }
   ],
   "source": [
    "# We will drop amplicons which worked in less than half the total cells.\n",
    "\n",
    "reads1 = sample1.cnv.get_attribute('read_counts', constraint='row+col')\n",
    "reads1"
   ]
  },
  {
   "cell_type": "code",
   "execution_count": 244,
   "metadata": {},
   "outputs": [
    {
     "data": {
      "text/html": [
       "<div>\n",
       "<style scoped>\n",
       "    .dataframe tbody tr th:only-of-type {\n",
       "        vertical-align: middle;\n",
       "    }\n",
       "\n",
       "    .dataframe tbody tr th {\n",
       "        vertical-align: top;\n",
       "    }\n",
       "\n",
       "    .dataframe thead th {\n",
       "        text-align: right;\n",
       "    }\n",
       "</style>\n",
       "<table border=\"1\" class=\"dataframe\">\n",
       "  <thead>\n",
       "    <tr style=\"text-align: right;\">\n",
       "      <th></th>\n",
       "      <th>MYE_v2_ASXL1_31022366</th>\n",
       "      <th>MYE_v2_ASXL1_31022711</th>\n",
       "      <th>MYE_v2_ASXL1_31022977</th>\n",
       "      <th>MYE_v2_ASXL1_31023229</th>\n",
       "      <th>MYE_v2_ASXL1_31023478</th>\n",
       "      <th>MYE_v2_ASXL1_31023678</th>\n",
       "      <th>MYE_v2_ASXL1_31023938</th>\n",
       "      <th>MYE_v2_ASXL1_31024173</th>\n",
       "      <th>MYE_v2_ASXL1_31024623</th>\n",
       "      <th>MYE_v2_ASXL1_31024877</th>\n",
       "      <th>...</th>\n",
       "      <th>MYE_v2_ZRSR2_15817959</th>\n",
       "      <th>MYE_v2_ZRSR2_15821773</th>\n",
       "      <th>MYE_v2_ZRSR2_15822168</th>\n",
       "      <th>MYE_v2_ZRSR2_15826277</th>\n",
       "      <th>MYE_v2_ZRSR2_15827302</th>\n",
       "      <th>MYE_v2_ZRSR2_15833836</th>\n",
       "      <th>MYE_v2_ZRSR2_15838246</th>\n",
       "      <th>MYE_v2_ZRSR2_15840789</th>\n",
       "      <th>MYE_v2_ZRSR2_15841002</th>\n",
       "      <th>MYE_v2_ZRSR2_15841178</th>\n",
       "    </tr>\n",
       "    <tr>\n",
       "      <th>read_counts</th>\n",
       "      <th></th>\n",
       "      <th></th>\n",
       "      <th></th>\n",
       "      <th></th>\n",
       "      <th></th>\n",
       "      <th></th>\n",
       "      <th></th>\n",
       "      <th></th>\n",
       "      <th></th>\n",
       "      <th></th>\n",
       "      <th></th>\n",
       "      <th></th>\n",
       "      <th></th>\n",
       "      <th></th>\n",
       "      <th></th>\n",
       "      <th></th>\n",
       "      <th></th>\n",
       "      <th></th>\n",
       "      <th></th>\n",
       "      <th></th>\n",
       "      <th></th>\n",
       "    </tr>\n",
       "  </thead>\n",
       "  <tbody>\n",
       "    <tr>\n",
       "      <th>AACAACCTAATGTGAGAC</th>\n",
       "      <td>76</td>\n",
       "      <td>39</td>\n",
       "      <td>106</td>\n",
       "      <td>56</td>\n",
       "      <td>47</td>\n",
       "      <td>14</td>\n",
       "      <td>87</td>\n",
       "      <td>105</td>\n",
       "      <td>49</td>\n",
       "      <td>134</td>\n",
       "      <td>...</td>\n",
       "      <td>68</td>\n",
       "      <td>25</td>\n",
       "      <td>28</td>\n",
       "      <td>163</td>\n",
       "      <td>53</td>\n",
       "      <td>82</td>\n",
       "      <td>110</td>\n",
       "      <td>26</td>\n",
       "      <td>2</td>\n",
       "      <td>68</td>\n",
       "    </tr>\n",
       "    <tr>\n",
       "      <th>AACAACCTACATTGACAA</th>\n",
       "      <td>13</td>\n",
       "      <td>53</td>\n",
       "      <td>166</td>\n",
       "      <td>57</td>\n",
       "      <td>65</td>\n",
       "      <td>58</td>\n",
       "      <td>49</td>\n",
       "      <td>66</td>\n",
       "      <td>63</td>\n",
       "      <td>34</td>\n",
       "      <td>...</td>\n",
       "      <td>23</td>\n",
       "      <td>11</td>\n",
       "      <td>8</td>\n",
       "      <td>101</td>\n",
       "      <td>23</td>\n",
       "      <td>102</td>\n",
       "      <td>95</td>\n",
       "      <td>11</td>\n",
       "      <td>0</td>\n",
       "      <td>88</td>\n",
       "    </tr>\n",
       "    <tr>\n",
       "      <th>AACAACCTATCTGCGCTG</th>\n",
       "      <td>28</td>\n",
       "      <td>67</td>\n",
       "      <td>135</td>\n",
       "      <td>22</td>\n",
       "      <td>77</td>\n",
       "      <td>69</td>\n",
       "      <td>87</td>\n",
       "      <td>104</td>\n",
       "      <td>60</td>\n",
       "      <td>62</td>\n",
       "      <td>...</td>\n",
       "      <td>45</td>\n",
       "      <td>6</td>\n",
       "      <td>36</td>\n",
       "      <td>167</td>\n",
       "      <td>83</td>\n",
       "      <td>145</td>\n",
       "      <td>48</td>\n",
       "      <td>45</td>\n",
       "      <td>0</td>\n",
       "      <td>156</td>\n",
       "    </tr>\n",
       "    <tr>\n",
       "      <th>AACAACTGGCATCCAGGA</th>\n",
       "      <td>16</td>\n",
       "      <td>30</td>\n",
       "      <td>30</td>\n",
       "      <td>5</td>\n",
       "      <td>31</td>\n",
       "      <td>9</td>\n",
       "      <td>36</td>\n",
       "      <td>22</td>\n",
       "      <td>42</td>\n",
       "      <td>51</td>\n",
       "      <td>...</td>\n",
       "      <td>81</td>\n",
       "      <td>20</td>\n",
       "      <td>14</td>\n",
       "      <td>31</td>\n",
       "      <td>72</td>\n",
       "      <td>50</td>\n",
       "      <td>85</td>\n",
       "      <td>7</td>\n",
       "      <td>0</td>\n",
       "      <td>6</td>\n",
       "    </tr>\n",
       "    <tr>\n",
       "      <th>AACAACTGGCCAAGTCGA</th>\n",
       "      <td>25</td>\n",
       "      <td>33</td>\n",
       "      <td>63</td>\n",
       "      <td>24</td>\n",
       "      <td>41</td>\n",
       "      <td>36</td>\n",
       "      <td>79</td>\n",
       "      <td>65</td>\n",
       "      <td>60</td>\n",
       "      <td>108</td>\n",
       "      <td>...</td>\n",
       "      <td>99</td>\n",
       "      <td>14</td>\n",
       "      <td>26</td>\n",
       "      <td>73</td>\n",
       "      <td>42</td>\n",
       "      <td>68</td>\n",
       "      <td>90</td>\n",
       "      <td>12</td>\n",
       "      <td>1</td>\n",
       "      <td>17</td>\n",
       "    </tr>\n",
       "    <tr>\n",
       "      <th>...</th>\n",
       "      <td>...</td>\n",
       "      <td>...</td>\n",
       "      <td>...</td>\n",
       "      <td>...</td>\n",
       "      <td>...</td>\n",
       "      <td>...</td>\n",
       "      <td>...</td>\n",
       "      <td>...</td>\n",
       "      <td>...</td>\n",
       "      <td>...</td>\n",
       "      <td>...</td>\n",
       "      <td>...</td>\n",
       "      <td>...</td>\n",
       "      <td>...</td>\n",
       "      <td>...</td>\n",
       "      <td>...</td>\n",
       "      <td>...</td>\n",
       "      <td>...</td>\n",
       "      <td>...</td>\n",
       "      <td>...</td>\n",
       "      <td>...</td>\n",
       "    </tr>\n",
       "    <tr>\n",
       "      <th>TTGTTAGAGACGAATCGC</th>\n",
       "      <td>119</td>\n",
       "      <td>95</td>\n",
       "      <td>274</td>\n",
       "      <td>173</td>\n",
       "      <td>162</td>\n",
       "      <td>203</td>\n",
       "      <td>228</td>\n",
       "      <td>263</td>\n",
       "      <td>282</td>\n",
       "      <td>183</td>\n",
       "      <td>...</td>\n",
       "      <td>147</td>\n",
       "      <td>57</td>\n",
       "      <td>113</td>\n",
       "      <td>286</td>\n",
       "      <td>121</td>\n",
       "      <td>366</td>\n",
       "      <td>206</td>\n",
       "      <td>64</td>\n",
       "      <td>9</td>\n",
       "      <td>83</td>\n",
       "    </tr>\n",
       "    <tr>\n",
       "      <th>TTGTTAGAGATCCTGCCT</th>\n",
       "      <td>13</td>\n",
       "      <td>10</td>\n",
       "      <td>26</td>\n",
       "      <td>49</td>\n",
       "      <td>29</td>\n",
       "      <td>32</td>\n",
       "      <td>31</td>\n",
       "      <td>103</td>\n",
       "      <td>28</td>\n",
       "      <td>77</td>\n",
       "      <td>...</td>\n",
       "      <td>77</td>\n",
       "      <td>22</td>\n",
       "      <td>39</td>\n",
       "      <td>132</td>\n",
       "      <td>91</td>\n",
       "      <td>84</td>\n",
       "      <td>53</td>\n",
       "      <td>53</td>\n",
       "      <td>1</td>\n",
       "      <td>89</td>\n",
       "    </tr>\n",
       "    <tr>\n",
       "      <th>TTGTTAGAGCAAGTACGA</th>\n",
       "      <td>45</td>\n",
       "      <td>51</td>\n",
       "      <td>115</td>\n",
       "      <td>63</td>\n",
       "      <td>68</td>\n",
       "      <td>32</td>\n",
       "      <td>130</td>\n",
       "      <td>145</td>\n",
       "      <td>89</td>\n",
       "      <td>88</td>\n",
       "      <td>...</td>\n",
       "      <td>129</td>\n",
       "      <td>39</td>\n",
       "      <td>34</td>\n",
       "      <td>140</td>\n",
       "      <td>58</td>\n",
       "      <td>106</td>\n",
       "      <td>94</td>\n",
       "      <td>11</td>\n",
       "      <td>1</td>\n",
       "      <td>128</td>\n",
       "    </tr>\n",
       "    <tr>\n",
       "      <th>TTGTTAGAGCGAGCTTAC</th>\n",
       "      <td>15</td>\n",
       "      <td>15</td>\n",
       "      <td>17</td>\n",
       "      <td>8</td>\n",
       "      <td>1</td>\n",
       "      <td>0</td>\n",
       "      <td>1</td>\n",
       "      <td>0</td>\n",
       "      <td>3</td>\n",
       "      <td>0</td>\n",
       "      <td>...</td>\n",
       "      <td>51</td>\n",
       "      <td>2</td>\n",
       "      <td>0</td>\n",
       "      <td>125</td>\n",
       "      <td>44</td>\n",
       "      <td>46</td>\n",
       "      <td>75</td>\n",
       "      <td>24</td>\n",
       "      <td>0</td>\n",
       "      <td>58</td>\n",
       "    </tr>\n",
       "    <tr>\n",
       "      <th>TTGTTAGAGCTCTCAGTC</th>\n",
       "      <td>6</td>\n",
       "      <td>8</td>\n",
       "      <td>17</td>\n",
       "      <td>14</td>\n",
       "      <td>55</td>\n",
       "      <td>23</td>\n",
       "      <td>63</td>\n",
       "      <td>69</td>\n",
       "      <td>64</td>\n",
       "      <td>84</td>\n",
       "      <td>...</td>\n",
       "      <td>47</td>\n",
       "      <td>14</td>\n",
       "      <td>4</td>\n",
       "      <td>29</td>\n",
       "      <td>79</td>\n",
       "      <td>7</td>\n",
       "      <td>1</td>\n",
       "      <td>0</td>\n",
       "      <td>0</td>\n",
       "      <td>0</td>\n",
       "    </tr>\n",
       "  </tbody>\n",
       "</table>\n",
       "<p>7889 rows × 185 columns</p>\n",
       "</div>"
      ],
      "text/plain": [
       "                    MYE_v2_ASXL1_31022366  MYE_v2_ASXL1_31022711  \\\n",
       "read_counts                                                        \n",
       "AACAACCTAATGTGAGAC                     76                     39   \n",
       "AACAACCTACATTGACAA                     13                     53   \n",
       "AACAACCTATCTGCGCTG                     28                     67   \n",
       "AACAACTGGCATCCAGGA                     16                     30   \n",
       "AACAACTGGCCAAGTCGA                     25                     33   \n",
       "...                                   ...                    ...   \n",
       "TTGTTAGAGACGAATCGC                    119                     95   \n",
       "TTGTTAGAGATCCTGCCT                     13                     10   \n",
       "TTGTTAGAGCAAGTACGA                     45                     51   \n",
       "TTGTTAGAGCGAGCTTAC                     15                     15   \n",
       "TTGTTAGAGCTCTCAGTC                      6                      8   \n",
       "\n",
       "                    MYE_v2_ASXL1_31022977  MYE_v2_ASXL1_31023229  \\\n",
       "read_counts                                                        \n",
       "AACAACCTAATGTGAGAC                    106                     56   \n",
       "AACAACCTACATTGACAA                    166                     57   \n",
       "AACAACCTATCTGCGCTG                    135                     22   \n",
       "AACAACTGGCATCCAGGA                     30                      5   \n",
       "AACAACTGGCCAAGTCGA                     63                     24   \n",
       "...                                   ...                    ...   \n",
       "TTGTTAGAGACGAATCGC                    274                    173   \n",
       "TTGTTAGAGATCCTGCCT                     26                     49   \n",
       "TTGTTAGAGCAAGTACGA                    115                     63   \n",
       "TTGTTAGAGCGAGCTTAC                     17                      8   \n",
       "TTGTTAGAGCTCTCAGTC                     17                     14   \n",
       "\n",
       "                    MYE_v2_ASXL1_31023478  MYE_v2_ASXL1_31023678  \\\n",
       "read_counts                                                        \n",
       "AACAACCTAATGTGAGAC                     47                     14   \n",
       "AACAACCTACATTGACAA                     65                     58   \n",
       "AACAACCTATCTGCGCTG                     77                     69   \n",
       "AACAACTGGCATCCAGGA                     31                      9   \n",
       "AACAACTGGCCAAGTCGA                     41                     36   \n",
       "...                                   ...                    ...   \n",
       "TTGTTAGAGACGAATCGC                    162                    203   \n",
       "TTGTTAGAGATCCTGCCT                     29                     32   \n",
       "TTGTTAGAGCAAGTACGA                     68                     32   \n",
       "TTGTTAGAGCGAGCTTAC                      1                      0   \n",
       "TTGTTAGAGCTCTCAGTC                     55                     23   \n",
       "\n",
       "                    MYE_v2_ASXL1_31023938  MYE_v2_ASXL1_31024173  \\\n",
       "read_counts                                                        \n",
       "AACAACCTAATGTGAGAC                     87                    105   \n",
       "AACAACCTACATTGACAA                     49                     66   \n",
       "AACAACCTATCTGCGCTG                     87                    104   \n",
       "AACAACTGGCATCCAGGA                     36                     22   \n",
       "AACAACTGGCCAAGTCGA                     79                     65   \n",
       "...                                   ...                    ...   \n",
       "TTGTTAGAGACGAATCGC                    228                    263   \n",
       "TTGTTAGAGATCCTGCCT                     31                    103   \n",
       "TTGTTAGAGCAAGTACGA                    130                    145   \n",
       "TTGTTAGAGCGAGCTTAC                      1                      0   \n",
       "TTGTTAGAGCTCTCAGTC                     63                     69   \n",
       "\n",
       "                    MYE_v2_ASXL1_31024623  MYE_v2_ASXL1_31024877  ...  \\\n",
       "read_counts                                                       ...   \n",
       "AACAACCTAATGTGAGAC                     49                    134  ...   \n",
       "AACAACCTACATTGACAA                     63                     34  ...   \n",
       "AACAACCTATCTGCGCTG                     60                     62  ...   \n",
       "AACAACTGGCATCCAGGA                     42                     51  ...   \n",
       "AACAACTGGCCAAGTCGA                     60                    108  ...   \n",
       "...                                   ...                    ...  ...   \n",
       "TTGTTAGAGACGAATCGC                    282                    183  ...   \n",
       "TTGTTAGAGATCCTGCCT                     28                     77  ...   \n",
       "TTGTTAGAGCAAGTACGA                     89                     88  ...   \n",
       "TTGTTAGAGCGAGCTTAC                      3                      0  ...   \n",
       "TTGTTAGAGCTCTCAGTC                     64                     84  ...   \n",
       "\n",
       "                    MYE_v2_ZRSR2_15817959  MYE_v2_ZRSR2_15821773  \\\n",
       "read_counts                                                        \n",
       "AACAACCTAATGTGAGAC                     68                     25   \n",
       "AACAACCTACATTGACAA                     23                     11   \n",
       "AACAACCTATCTGCGCTG                     45                      6   \n",
       "AACAACTGGCATCCAGGA                     81                     20   \n",
       "AACAACTGGCCAAGTCGA                     99                     14   \n",
       "...                                   ...                    ...   \n",
       "TTGTTAGAGACGAATCGC                    147                     57   \n",
       "TTGTTAGAGATCCTGCCT                     77                     22   \n",
       "TTGTTAGAGCAAGTACGA                    129                     39   \n",
       "TTGTTAGAGCGAGCTTAC                     51                      2   \n",
       "TTGTTAGAGCTCTCAGTC                     47                     14   \n",
       "\n",
       "                    MYE_v2_ZRSR2_15822168  MYE_v2_ZRSR2_15826277  \\\n",
       "read_counts                                                        \n",
       "AACAACCTAATGTGAGAC                     28                    163   \n",
       "AACAACCTACATTGACAA                      8                    101   \n",
       "AACAACCTATCTGCGCTG                     36                    167   \n",
       "AACAACTGGCATCCAGGA                     14                     31   \n",
       "AACAACTGGCCAAGTCGA                     26                     73   \n",
       "...                                   ...                    ...   \n",
       "TTGTTAGAGACGAATCGC                    113                    286   \n",
       "TTGTTAGAGATCCTGCCT                     39                    132   \n",
       "TTGTTAGAGCAAGTACGA                     34                    140   \n",
       "TTGTTAGAGCGAGCTTAC                      0                    125   \n",
       "TTGTTAGAGCTCTCAGTC                      4                     29   \n",
       "\n",
       "                    MYE_v2_ZRSR2_15827302  MYE_v2_ZRSR2_15833836  \\\n",
       "read_counts                                                        \n",
       "AACAACCTAATGTGAGAC                     53                     82   \n",
       "AACAACCTACATTGACAA                     23                    102   \n",
       "AACAACCTATCTGCGCTG                     83                    145   \n",
       "AACAACTGGCATCCAGGA                     72                     50   \n",
       "AACAACTGGCCAAGTCGA                     42                     68   \n",
       "...                                   ...                    ...   \n",
       "TTGTTAGAGACGAATCGC                    121                    366   \n",
       "TTGTTAGAGATCCTGCCT                     91                     84   \n",
       "TTGTTAGAGCAAGTACGA                     58                    106   \n",
       "TTGTTAGAGCGAGCTTAC                     44                     46   \n",
       "TTGTTAGAGCTCTCAGTC                     79                      7   \n",
       "\n",
       "                    MYE_v2_ZRSR2_15838246  MYE_v2_ZRSR2_15840789  \\\n",
       "read_counts                                                        \n",
       "AACAACCTAATGTGAGAC                    110                     26   \n",
       "AACAACCTACATTGACAA                     95                     11   \n",
       "AACAACCTATCTGCGCTG                     48                     45   \n",
       "AACAACTGGCATCCAGGA                     85                      7   \n",
       "AACAACTGGCCAAGTCGA                     90                     12   \n",
       "...                                   ...                    ...   \n",
       "TTGTTAGAGACGAATCGC                    206                     64   \n",
       "TTGTTAGAGATCCTGCCT                     53                     53   \n",
       "TTGTTAGAGCAAGTACGA                     94                     11   \n",
       "TTGTTAGAGCGAGCTTAC                     75                     24   \n",
       "TTGTTAGAGCTCTCAGTC                      1                      0   \n",
       "\n",
       "                    MYE_v2_ZRSR2_15841002  MYE_v2_ZRSR2_15841178  \n",
       "read_counts                                                       \n",
       "AACAACCTAATGTGAGAC                      2                     68  \n",
       "AACAACCTACATTGACAA                      0                     88  \n",
       "AACAACCTATCTGCGCTG                      0                    156  \n",
       "AACAACTGGCATCCAGGA                      0                      6  \n",
       "AACAACTGGCCAAGTCGA                      1                     17  \n",
       "...                                   ...                    ...  \n",
       "TTGTTAGAGACGAATCGC                      9                     83  \n",
       "TTGTTAGAGATCCTGCCT                      1                     89  \n",
       "TTGTTAGAGCAAGTACGA                      1                    128  \n",
       "TTGTTAGAGCGAGCTTAC                      0                     58  \n",
       "TTGTTAGAGCTCTCAGTC                      0                      0  \n",
       "\n",
       "[7889 rows x 185 columns]"
      ]
     },
     "execution_count": 244,
     "metadata": {},
     "output_type": "execute_result"
    }
   ],
   "source": [
    "reads2 = sample2.cnv.get_attribute('read_counts', constraint='row+col')\n",
    "reads2"
   ]
  },
  {
   "cell_type": "code",
   "execution_count": 245,
   "metadata": {},
   "outputs": [],
   "source": [
    "sample1f = sample1"
   ]
  },
  {
   "cell_type": "code",
   "execution_count": 246,
   "metadata": {},
   "outputs": [],
   "source": [
    "sample2f= sample2"
   ]
  },
  {
   "cell_type": "code",
   "execution_count": 248,
   "metadata": {},
   "outputs": [
    {
     "data": {
      "text/plain": [
       "(393, 185)"
      ]
     },
     "execution_count": 248,
     "metadata": {},
     "output_type": "execute_result"
    }
   ],
   "source": [
    "sample1f.cnv.shape"
   ]
  },
  {
   "cell_type": "code",
   "execution_count": 249,
   "metadata": {},
   "outputs": [
    {
     "data": {
      "text/plain": [
       "(7889, 185)"
      ]
     },
     "execution_count": 249,
     "metadata": {},
     "output_type": "execute_result"
    }
   ],
   "source": [
    "sample2f.cnv.shape"
   ]
  },
  {
   "cell_type": "code",
   "execution_count": 250,
   "metadata": {},
   "outputs": [
    {
     "data": {
      "text/plain": [
       "(393, 179)"
      ]
     },
     "execution_count": 250,
     "metadata": {},
     "output_type": "execute_result"
    }
   ],
   "source": [
    "# Only amplicons found in more than half the cells are analyzed\n",
    "# The other amplicons are dropped.\n",
    "\n",
    "working_amplicons1 = (reads1.median() > 0).values\n",
    "sample1f.cnv = sample1.cnv[:, working_amplicons1]\n",
    "sample1f.cnv.shape"
   ]
  },
  {
   "cell_type": "code",
   "execution_count": 251,
   "metadata": {},
   "outputs": [
    {
     "data": {
      "text/plain": [
       "(7889, 184)"
      ]
     },
     "execution_count": 251,
     "metadata": {},
     "output_type": "execute_result"
    }
   ],
   "source": [
    "working_amplicons2 = (reads2.median() > 0).values\n",
    "sample2f.cnv = sample2.cnv[:, working_amplicons2]\n",
    "sample2f.cnv.shape"
   ]
  },
  {
   "cell_type": "code",
   "execution_count": 252,
   "metadata": {},
   "outputs": [],
   "source": [
    "# Reads are normalized to correct for systemic artefacts\n",
    "\n",
    "sample1.cnv.normalize_reads()\n",
    "sample2.cnv.normalize_reads()"
   ]
  },
  {
   "cell_type": "code",
   "execution_count": 253,
   "metadata": {},
   "outputs": [
    {
     "ename": "TypeError",
     "evalue": "compute_ploidy() missing 1 required positional argument: 'diploid_cells'",
     "output_type": "error",
     "traceback": [
      "\u001b[0;31m---------------------------------------------------------------------------\u001b[0m",
      "\u001b[0;31mTypeError\u001b[0m                                 Traceback (most recent call last)",
      "\u001b[0;32m/var/folders/hb/_pjzcr2n6ds4dpjtd4fxckp41d_t7x/T/ipykernel_26963/2659438474.py\u001b[0m in \u001b[0;36m<module>\u001b[0;34m\u001b[0m\n\u001b[0;32m----> 1\u001b[0;31m \u001b[0msample1\u001b[0m\u001b[0;34m.\u001b[0m\u001b[0mcnv\u001b[0m\u001b[0;34m.\u001b[0m\u001b[0mcompute_ploidy\u001b[0m\u001b[0;34m(\u001b[0m\u001b[0;34m)\u001b[0m\u001b[0;34m\u001b[0m\u001b[0;34m\u001b[0m\u001b[0m\n\u001b[0m",
      "\u001b[0;31mTypeError\u001b[0m: compute_ploidy() missing 1 required positional argument: 'diploid_cells'"
     ]
    }
   ],
   "source": [
    "#sample1.cnv.compute_ploidy(diploid_cells=)"
   ]
  },
  {
   "cell_type": "code",
   "execution_count": 258,
   "metadata": {},
   "outputs": [
    {
     "name": "stderr",
     "output_type": "stream",
     "text": [
      "/Users/ferrallm/anaconda3/envs/mosaic/lib/python3.7/site-packages/seaborn/_decorators.py:43: FutureWarning:\n",
      "\n",
      "Pass the following variables as keyword args: x, y. From version 0.12, the only valid positional argument will be `data`, and passing other arguments without an explicit keyword will result in an error or misinterpretation.\n",
      "\n"
     ]
    },
    {
     "data": {
      "text/plain": [
       "<matplotlib.axes._subplots.AxesSubplot at 0x7feda0a80f50>"
      ]
     },
     "execution_count": 258,
     "metadata": {},
     "output_type": "execute_result"
    },
    {
     "data": {
      "image/png": "[encoded data removed]",
      "text/plain": [
       "<Figure size 1440x720 with 1 Axes>"
      ]
     },
     "metadata": {},
     "output_type": "display_data"
    }
   ],
   "source": [
    "sample1.cnv.cell_uniformity()"
   ]
  },
  {
   "cell_type": "code",
   "execution_count": 259,
   "metadata": {},
   "outputs": [
    {
     "name": "stderr",
     "output_type": "stream",
     "text": [
      "/Users/ferrallm/anaconda3/envs/mosaic/lib/python3.7/site-packages/seaborn/_decorators.py:43: FutureWarning:\n",
      "\n",
      "Pass the following variables as keyword args: x, y. From version 0.12, the only valid positional argument will be `data`, and passing other arguments without an explicit keyword will result in an error or misinterpretation.\n",
      "\n"
     ]
    },
    {
     "data": {
      "text/plain": [
       "<matplotlib.axes._subplots.AxesSubplot at 0x7fedbcd41fd0>"
      ]
     },
     "execution_count": 259,
     "metadata": {},
     "output_type": "execute_result"
    },
    {
     "data": {
      "image/png": "[encoded data removed]",
      "text/plain": [
       "<Figure size 1440x720 with 1 Axes>"
      ]
     },
     "metadata": {},
     "output_type": "display_data"
    }
   ],
   "source": [
    "sample2.cnv.cell_uniformity()"
   ]
  },
  {
   "cell_type": "code",
   "execution_count": 260,
   "metadata": {},
   "outputs": [
    {
     "name": "stderr",
     "output_type": "stream",
     "text": [
      "/Users/ferrallm/anaconda3/envs/mosaic/lib/python3.7/site-packages/seaborn/_decorators.py:43: FutureWarning:\n",
      "\n",
      "Pass the following variables as keyword args: x, y. From version 0.12, the only valid positional argument will be `data`, and passing other arguments without an explicit keyword will result in an error or misinterpretation.\n",
      "\n"
     ]
    },
    {
     "data": {
      "text/plain": [
       "<matplotlib.axes._subplots.AxesSubplot at 0x7fed2a1df790>"
      ]
     },
     "execution_count": 260,
     "metadata": {},
     "output_type": "execute_result"
    },
    {
     "data": {
      "image/png": "[encoded data removed]",
      "text/plain": [
       "<Figure size 1440x720 with 1 Axes>"
      ]
     },
     "metadata": {},
     "output_type": "display_data"
    }
   ],
   "source": [
    "sample1.cnv.amp_uniformity()"
   ]
  },
  {
   "cell_type": "code",
   "execution_count": 261,
   "metadata": {},
   "outputs": [
    {
     "name": "stderr",
     "output_type": "stream",
     "text": [
      "/Users/ferrallm/anaconda3/envs/mosaic/lib/python3.7/site-packages/seaborn/_decorators.py:43: FutureWarning:\n",
      "\n",
      "Pass the following variables as keyword args: x, y. From version 0.12, the only valid positional argument will be `data`, and passing other arguments without an explicit keyword will result in an error or misinterpretation.\n",
      "\n"
     ]
    },
    {
     "data": {
      "text/plain": [
       "<matplotlib.axes._subplots.AxesSubplot at 0x7fed2cc5b550>"
      ]
     },
     "execution_count": 261,
     "metadata": {},
     "output_type": "execute_result"
    },
    {
     "data": {
      "image/png": "[encoded data removed]",
      "text/plain": [
       "<Figure size 1440x720 with 1 Axes>"
      ]
     },
     "metadata": {},
     "output_type": "display_data"
    }
   ],
   "source": [
    "sample2.cnv.amp_uniformity()"
   ]
  },
  {
   "cell_type": "markdown",
   "metadata": {},
   "source": [
    "### short list of variants - co-occuring"
   ]
  },
  {
   "cell_type": "code",
   "execution_count": 271,
   "metadata": {},
   "outputs": [
    {
     "data": {
      "text/plain": [
       "'5M001_heatmap_co-occur-with-bulk.html'"
      ]
     },
     "execution_count": 271,
     "metadata": {},
     "output_type": "execute_result"
    }
   ],
   "source": [
    "sample1.dna = sample1.dna[:, variants_cooccur_5M]\n",
    "\n",
    "plot(sample1.heatmap(\n",
    "    clusterby='protein',\n",
    "    sortby='dna',\n",
    "    drop='cnv',\n",
    "    flatten=True,\n",
    "    quantify_dna_mut=True), \n",
    "    filename='5M001_heatmap_co-occur-with-bulk.html')"
   ]
  },
  {
   "cell_type": "code",
   "execution_count": 272,
   "metadata": {},
   "outputs": [],
   "source": [
    "variants_cooccur_4I = ['chr4:106164778:C/T','chr4:106196233:G/GC','chr12:25398285:C/G']"
   ]
  },
  {
   "cell_type": "code",
   "execution_count": 273,
   "metadata": {},
   "outputs": [
    {
     "data": {
      "text/plain": [
       "'4I001_heatmap_co-occur-with-bulk.html'"
      ]
     },
     "execution_count": 273,
     "metadata": {},
     "output_type": "execute_result"
    }
   ],
   "source": [
    "sample2.dna = sample2.dna[:, variants_cooccur_4I]\n",
    "\n",
    "plot(sample2.heatmap(\n",
    "    clusterby='protein',\n",
    "    sortby='dna',\n",
    "    drop='cnv',\n",
    "    flatten=True,\n",
    "    quantify_dna_mut=True), \n",
    "    filename='4I001_heatmap_co-occur-with-bulk.html')"
   ]
  },
  {
   "cell_type": "code",
   "execution_count": null,
   "metadata": {},
   "outputs": [],
   "source": []
  },
  {
   "cell_type": "code",
   "execution_count": null,
   "metadata": {},
   "outputs": [],
   "source": []
  },
  {
   "cell_type": "code",
   "execution_count": 275,
   "metadata": {},
   "outputs": [
    {
     "name": "stdout",
     "output_type": "stream",
     "text": [
      "Loading, 5-M-001_analysis_postFilterCMMLgenes_2022-04-24.h5\n",
      "Loaded in 0.2s.\n"
     ]
    }
   ],
   "source": [
    "sample1 = mio.load('5-M-001_analysis_postFilterCMMLgenes_2022-04-24.h5')"
   ]
  },
  {
   "cell_type": "code",
   "execution_count": 276,
   "metadata": {},
   "outputs": [
    {
     "name": "stdout",
     "output_type": "stream",
     "text": [
      "Loading, 4-I-001_analysis_postFilterCMMLgenes_2022-04-24.h5\n",
      "Loaded in 1.4s.\n"
     ]
    }
   ],
   "source": [
    "sample2 = mio.load('4-I-001_analysis_postFilterCMMLgenes_2022-04-24.h5')"
   ]
  },
  {
   "cell_type": "code",
   "execution_count": 278,
   "metadata": {},
   "outputs": [
    {
     "data": {
      "text/plain": [
       "'4I001_heatmap_co-occur-with-bulk_shortList-wAnn.html'"
      ]
     },
     "execution_count": 278,
     "metadata": {},
     "output_type": "execute_result"
    }
   ],
   "source": [
    "sample2.dna = sample2.dna[:, variants_cooccur_4I]\n",
    "\n",
    "plot(sample2.heatmap(\n",
    "    clusterby='protein',\n",
    "    sortby='dna',\n",
    "    drop='cnv',\n",
    "    flatten=True,\n",
    "    quantify_dna_mut=True), \n",
    "    filename='4I001_heatmap_co-occur-with-bulk_shortList-wAnn.html')"
   ]
  },
  {
   "cell_type": "code",
   "execution_count": 283,
   "metadata": {},
   "outputs": [],
   "source": [
    "#abx = ['CD16','CD56','CD19','CD14','CD3','CD34', 'CD38','CD45RA', 'CD90','CD123']\n",
    "abx = ['CD14','CD34', 'CD38','CD45RA', 'CD90','CD123']\n"
   ]
  },
  {
   "cell_type": "code",
   "execution_count": 284,
   "metadata": {},
   "outputs": [],
   "source": [
    "sample2.protein = sample2.protein[:, abx] "
   ]
  },
  {
   "cell_type": "code",
   "execution_count": 286,
   "metadata": {},
   "outputs": [
    {
     "data": {
      "text/plain": [
       "'4I001_heatmap_co-occur-with-bulk_shortList-wAnn_lessAB.html'"
      ]
     },
     "execution_count": 286,
     "metadata": {},
     "output_type": "execute_result"
    }
   ],
   "source": [
    "plot(sample2.heatmap(\n",
    "    clusterby='protein',\n",
    "    sortby='dna',\n",
    "    drop='cnv',\n",
    "    flatten=True,\n",
    "    quantify_dna_mut=True), \n",
    "    filename='4I001_heatmap_co-occur-with-bulk_shortList-wAnn_lessAB.html')"
   ]
  },
  {
   "cell_type": "code",
   "execution_count": null,
   "metadata": {},
   "outputs": [],
   "source": []
  },
  {
   "cell_type": "code",
   "execution_count": null,
   "metadata": {},
   "outputs": [],
   "source": []
  },
  {
   "cell_type": "code",
   "execution_count": null,
   "metadata": {},
   "outputs": [],
   "source": []
  },
  {
   "cell_type": "code",
   "execution_count": 287,
   "metadata": {},
   "outputs": [],
   "source": [
    "variants_cooccur_5M = ['chr11:119149251:G/A', 'chr15:90631934:C/T', 'chr12:25398285:C/T', 'chr1:115258747:C/T']"
   ]
  },
  {
   "cell_type": "code",
   "execution_count": 288,
   "metadata": {},
   "outputs": [],
   "source": [
    "variants_cooccur_4I = ['chr4:106164778:C/T','chr4:106196233:G/GC','chr11:118376985:C/T','chr11:119149355:TATG/T','chr12:25398285:C/G','chrX:39932806:AC/A']"
   ]
  },
  {
   "cell_type": "code",
   "execution_count": 295,
   "metadata": {},
   "outputs": [
    {
     "name": "stdout",
     "output_type": "stream",
     "text": [
      "Loading, 5-M-001_analysis_2022-04-22.h5\n",
      "Loaded in 0.2s.\n"
     ]
    }
   ],
   "source": [
    "sample1 = mio.load('5-M-001_analysis_2022-04-22.h5')"
   ]
  },
  {
   "cell_type": "code",
   "execution_count": 290,
   "metadata": {},
   "outputs": [
    {
     "name": "stdout",
     "output_type": "stream",
     "text": [
      "Loading, 4-I-001_analysis_2022-04-22.h5\n",
      "Loaded in 1.7s.\n"
     ]
    }
   ],
   "source": [
    "sample2 = mio.load('4-I-001_analysis_2022-04-22.h5')"
   ]
  },
  {
   "cell_type": "code",
   "execution_count": 296,
   "metadata": {},
   "outputs": [
    {
     "data": {
      "text/plain": [
       "'5M001_heatmap_co-occur-with-bulk_allgenes.html'"
      ]
     },
     "execution_count": 296,
     "metadata": {},
     "output_type": "execute_result"
    }
   ],
   "source": [
    "sample1.dna = sample1.dna[:, variants_cooccur_5M]\n",
    "plot(sample1.heatmap(\n",
    "    clusterby='protein',\n",
    "    sortby='dna',\n",
    "    drop='cnv'\n",
    "    flatten=True,\n",
    "    quantify_dna_mut=True), \n",
    "    filename='5M001_heatmap_co-occur-with-bulk_allgenes.html')"
   ]
  },
  {
   "cell_type": "code",
   "execution_count": 294,
   "metadata": {},
   "outputs": [
    {
     "data": {
      "text/plain": [
       "'4I001_heatmap_co-occur-with-bulk_allgenes.html'"
      ]
     },
     "execution_count": 294,
     "metadata": {},
     "output_type": "execute_result"
    }
   ],
   "source": [
    "sample2.dna = sample2.dna[:, variants_cooccur_4I]\n",
    "plot(sample2.heatmap(\n",
    "    clusterby='protein',\n",
    "    sortby='dna',\n",
    "    drop='cnv',\n",
    "    flatten=True,\n",
    "    quantify_dna_mut=True), \n",
    "    filename='4I001_heatmap_co-occur-with-bulk_allgenes.html')"
   ]
  },
  {
   "cell_type": "code",
   "execution_count": null,
   "metadata": {},
   "outputs": [],
   "source": []
  }
 ],
 "metadata": {
  "kernelspec": {
   "display_name": "mosaic",
   "language": "python",
   "name": "mosaic"
  },
  "language_info": {
   "codemirror_mode": {
    "name": "ipython",
    "version": 3
   },
   "file_extension": ".py",
   "mimetype": "text/x-python",
   "name": "python",
   "nbconvert_exporter": "python",
   "pygments_lexer": "ipython3",
   "version": "3.7.12"
  }
 },
 "nbformat": 4,
 "nbformat_minor": 4
}
