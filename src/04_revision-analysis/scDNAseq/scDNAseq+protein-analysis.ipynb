{
 "cells": [
  {
   "cell_type": "markdown",
   "metadata": {},
   "source": [
    "# scDNAseq + protein analysis of CMML high vs low cytokine receptor diversity samples"
   ]
  },
  {
   "cell_type": "markdown",
   "metadata": {},
   "source": [
    "Following along with Mosaic documentation from MissionBio: https://missionbio.github.io/mosaic/"
   ]
  },
  {
   "cell_type": "code",
   "execution_count": 1,
   "metadata": {},
   "outputs": [],
   "source": [
    "import missionbio.mosaic.io as mio"
   ]
  },
  {
   "cell_type": "code",
   "execution_count": 2,
   "metadata": {},
   "outputs": [],
   "source": [
    "#conda list"
   ]
  },
  {
   "cell_type": "code",
   "execution_count": 3,
   "metadata": {},
   "outputs": [],
   "source": [
    "### Loading Sample"
   ]
  },
  {
   "cell_type": "markdown",
   "metadata": {},
   "source": [
    "sample1 = \"5-M-001\" (high diversity/high CD120b) <br>\n",
    "sample2 = \"4-I-001\" (low diversity/low CD120b)"
   ]
  },
  {
   "cell_type": "code",
   "execution_count": 4,
   "metadata": {},
   "outputs": [
    {
     "name": "stdout",
     "output_type": "stream",
     "text": [
      "Loading, /Users/ferrallm/Dropbox (UFL)/papers-in-progress/CMML-scRNAseq-Paper/analysis/scDNAseq/Tapestri_Output_Files/5-M-001.dna+protein.h5\n",
      "Loaded in 0.8s.\n"
     ]
    },
    {
     "data": {
      "text/plain": [
       "<missionbio.mosaic.sample.Sample at 0x7fd1c9ade150>"
      ]
     },
     "execution_count": 4,
     "metadata": {},
     "output_type": "execute_result"
    }
   ],
   "source": [
    "sample1 = mio.load('/Users/ferrallm/Dropbox (UFL)/papers-in-progress/CMML-scRNAseq-Paper/analysis/scDNAseq/Tapestri_Output_Files/5-M-001.dna+protein.h5')\n",
    "sample1"
   ]
  },
  {
   "cell_type": "code",
   "execution_count": 5,
   "metadata": {},
   "outputs": [
    {
     "data": {
      "text/plain": [
       "{'sample_name': array([['5-M-001']], dtype=object),\n",
       " 'n_antibodies': 45,\n",
       " 'n_bases_r1': 117895089935,\n",
       " 'n_bases_r1_q30': 110795770037,\n",
       " 'n_bases_r2': 117895089935,\n",
       " 'n_bases_r2_q30': 111901317655,\n",
       " 'n_candidate_barcodes': 279217,\n",
       " 'n_cell_barcode_bases': 39593106181,\n",
       " 'n_cell_barcode_bases_q30': 38860045917,\n",
       " 'n_read_pairs': 780762185,\n",
       " 'n_read_pairs_after_candidate_barcode_filtering': 732654282,\n",
       " 'n_read_pairs_trimmed': 780587344,\n",
       " 'n_read_pairs_valid_ab_barcodes': 733984782,\n",
       " 'n_read_pairs_valid_cell_barcodes': 766333043,\n",
       " 'panel_name': 'totalseq-d-heme-oncology',\n",
       " 'pipeline_version': '2.0.1',\n",
       " 'palette': array([['-', '#1f77b4']], dtype='<U7')}"
      ]
     },
     "execution_count": 5,
     "metadata": {},
     "output_type": "execute_result"
    }
   ],
   "source": [
    "sample1.protein.metadata"
   ]
  },
  {
   "cell_type": "code",
   "execution_count": 6,
   "metadata": {},
   "outputs": [
    {
     "data": {
      "text/plain": [
       "(393, 216)"
      ]
     },
     "execution_count": 6,
     "metadata": {},
     "output_type": "execute_result"
    }
   ],
   "source": [
    "sample1.dna.shape"
   ]
  },
  {
   "cell_type": "code",
   "execution_count": 7,
   "metadata": {},
   "outputs": [
    {
     "data": {
      "text/plain": [
       "(393, 45)"
      ]
     },
     "execution_count": 7,
     "metadata": {},
     "output_type": "execute_result"
    }
   ],
   "source": [
    "sample1.protein.shape"
   ]
  },
  {
   "cell_type": "code",
   "execution_count": 8,
   "metadata": {},
   "outputs": [
    {
     "data": {
      "text/plain": [
       "array(['CD10', 'CD117', 'CD11b', 'CD11c', 'CD123', 'CD13', 'CD138',\n",
       "       'CD14', 'CD141', 'CD16', 'CD163', 'CD19', 'CD1c', 'CD2', 'CD22',\n",
       "       'CD25', 'CD3', 'CD30', 'CD303', 'CD304', 'CD33', 'CD34', 'CD38',\n",
       "       'CD4', 'CD44', 'CD45', 'CD45RA', 'CD45RO', 'CD49d', 'CD5', 'CD56',\n",
       "       'CD62L', 'CD62P', 'CD64', 'CD69', 'CD7', 'CD71', 'CD8', 'CD83',\n",
       "       'CD90', 'FcεRIα', 'HLA-DR', 'IgG1', 'IgG2a', 'IgG2b'], dtype=object)"
      ]
     },
     "execution_count": 8,
     "metadata": {},
     "output_type": "execute_result"
    }
   ],
   "source": [
    "sample1.protein.ids()"
   ]
  },
  {
   "cell_type": "code",
   "execution_count": 9,
   "metadata": {},
   "outputs": [
    {
     "data": {
      "text/plain": [
       "{'AF': array([[ 0.        ,  0.        ,  0.        , ...,  0.        ,\n",
       "          0.        ,  0.        ],\n",
       "        [ 0.        ,  0.        , 52.49042146, ...,  0.        ,\n",
       "          0.        ,  0.        ],\n",
       "        [ 0.        ,  0.        ,  0.        , ...,  0.        ,\n",
       "          0.        ,  1.63934426],\n",
       "        ...,\n",
       "        [ 0.        ,  0.        ,  0.        , ...,  0.        ,\n",
       "          0.98039216,  6.8627451 ],\n",
       "        [ 0.        ,  0.        ,  0.        , ...,  0.        ,\n",
       "          0.        ,  0.        ],\n",
       "        [ 0.        ,  0.        , 63.15789474, ...,  9.67741935,\n",
       "          9.67741935,  9.67741935]]),\n",
       " 'DP': array([[ 31,  31,  29, ...,  73,  73,  73],\n",
       "        [ 69,  69, 261, ...,  62,  62,  62],\n",
       "        [ 51,  51,  40, ...,  61,  61,  61],\n",
       "        ...,\n",
       "        [ 59,  59,  31, ..., 102, 102, 102],\n",
       "        [ 59,  59,  19, ...,  23,  23,  23],\n",
       "        [ 58,  58,  76, ...,  62,  62,  62]], dtype=int16),\n",
       " 'FILTER_MASK': array([[0, 0, 0, ..., 0, 0, 0],\n",
       "        [0, 0, 1, ..., 0, 0, 0],\n",
       "        [0, 0, 0, ..., 0, 0, 0],\n",
       "        ...,\n",
       "        [0, 0, 0, ..., 0, 0, 1],\n",
       "        [0, 0, 0, ..., 0, 0, 0],\n",
       "        [0, 0, 0, ..., 1, 1, 1]], dtype=uint8),\n",
       " 'GQ': array([[93, 93, 86, ..., 99, 99, 99],\n",
       "        [99, 99,  0, ..., 99, 99, 99],\n",
       "        [99, 99, 99, ..., 99, 99, 99],\n",
       "        ...,\n",
       "        [99, 99, 92, ..., 99, 99, 14],\n",
       "        [99, 99, 57, ..., 69, 69, 69],\n",
       "        [99, 99, 99, ..., 83, 83, 83]], dtype=int8),\n",
       " 'NGT': array([[0, 0, 0, ..., 0, 0, 0],\n",
       "        [0, 0, 0, ..., 0, 0, 0],\n",
       "        [0, 0, 0, ..., 0, 0, 0],\n",
       "        ...,\n",
       "        [0, 0, 0, ..., 0, 0, 0],\n",
       "        [0, 0, 0, ..., 0, 0, 0],\n",
       "        [0, 0, 1, ..., 1, 1, 1]], dtype=int8),\n",
       " 'RGQ': array([[0, 0, 0, ..., 0, 0, 0],\n",
       "        [0, 0, 0, ..., 0, 0, 0],\n",
       "        [0, 0, 0, ..., 0, 0, 0],\n",
       "        ...,\n",
       "        [0, 0, 0, ..., 0, 0, 0],\n",
       "        [0, 0, 0, ..., 0, 0, 0],\n",
       "        [0, 0, 0, ..., 0, 0, 0]], dtype=int32),\n",
       " 'AF_MISSING': array([[ 0.        ,  0.        ,  0.        , ...,  0.        ,\n",
       "          0.        ,  0.        ],\n",
       "        [ 0.        ,  0.        , 52.49042146, ...,  0.        ,\n",
       "          0.        ,  0.        ],\n",
       "        [ 0.        ,  0.        ,  0.        , ...,  0.        ,\n",
       "          0.        ,  1.63934426],\n",
       "        ...,\n",
       "        [ 0.        ,  0.        ,  0.        , ...,  0.        ,\n",
       "          0.98039216,  6.8627451 ],\n",
       "        [ 0.        ,  0.        ,  0.        , ...,  0.        ,\n",
       "          0.        ,  0.        ],\n",
       "        [ 0.        ,  0.        , 63.15789474, ...,  9.67741935,\n",
       "          9.67741935,  9.67741935]])}"
      ]
     },
     "execution_count": 9,
     "metadata": {},
     "output_type": "execute_result"
    }
   ],
   "source": [
    "sample1.dna.layers"
   ]
  },
  {
   "cell_type": "code",
   "execution_count": 10,
   "metadata": {},
   "outputs": [
    {
     "name": "stdout",
     "output_type": "stream",
     "text": [
      "Loading, /Users/ferrallm/Dropbox (UFL)/papers-in-progress/CMML-scRNAseq-Paper/analysis/scDNAseq/Tapestri_Output_Files/4-I-001.dna+protein.h5\n",
      "Loaded in 4.0s.\n"
     ]
    },
    {
     "data": {
      "text/plain": [
       "<missionbio.mosaic.sample.Sample at 0x7fd1c9af9790>"
      ]
     },
     "execution_count": 10,
     "metadata": {},
     "output_type": "execute_result"
    }
   ],
   "source": [
    "sample2 = mio.load('/Users/ferrallm/Dropbox (UFL)/papers-in-progress/CMML-scRNAseq-Paper/analysis/scDNAseq/Tapestri_Output_Files/4-I-001.dna+protein.h5')\n",
    "sample2"
   ]
  },
  {
   "cell_type": "code",
   "execution_count": 11,
   "metadata": {},
   "outputs": [
    {
     "data": {
      "text/plain": [
       "{'sample_name': array([['4-I-001']], dtype=object),\n",
       " 'n_antibodies': 45,\n",
       " 'n_bases_r1': 116586383052,\n",
       " 'n_bases_r1_q30': 105707137658,\n",
       " 'n_bases_r2': 116586383052,\n",
       " 'n_bases_r2_q30': 111043071473,\n",
       " 'n_candidate_barcodes': 374603,\n",
       " 'n_cell_barcode_bases': 39002169509,\n",
       " 'n_cell_barcode_bases_q30': 37259859370,\n",
       " 'n_read_pairs': 772095252,\n",
       " 'n_read_pairs_after_candidate_barcode_filtering': 706425747,\n",
       " 'n_read_pairs_trimmed': 771400755,\n",
       " 'n_read_pairs_valid_ab_barcodes': 707336259,\n",
       " 'n_read_pairs_valid_cell_barcodes': 744875497,\n",
       " 'panel_name': 'totalseq-d-heme-oncology',\n",
       " 'pipeline_version': '2.0.1',\n",
       " 'palette': array([['-', '#1f77b4']], dtype='<U7')}"
      ]
     },
     "execution_count": 11,
     "metadata": {},
     "output_type": "execute_result"
    }
   ],
   "source": [
    "sample2.protein.metadata"
   ]
  },
  {
   "cell_type": "code",
   "execution_count": 12,
   "metadata": {},
   "outputs": [
    {
     "data": {
      "text/plain": [
       "(7889, 84)"
      ]
     },
     "execution_count": 12,
     "metadata": {},
     "output_type": "execute_result"
    }
   ],
   "source": [
    "sample2.dna.shape"
   ]
  },
  {
   "cell_type": "code",
   "execution_count": 13,
   "metadata": {},
   "outputs": [
    {
     "data": {
      "text/plain": [
       "(7889, 45)"
      ]
     },
     "execution_count": 13,
     "metadata": {},
     "output_type": "execute_result"
    }
   ],
   "source": [
    "sample2.protein.shape"
   ]
  },
  {
   "cell_type": "code",
   "execution_count": 14,
   "metadata": {},
   "outputs": [],
   "source": [
    "### To save: mio.save(sample, '/path/to/save/h5')"
   ]
  },
  {
   "cell_type": "code",
   "execution_count": 15,
   "metadata": {},
   "outputs": [],
   "source": [
    "## Using constraints from Lucia Al erti-Servera et al. \n",
    "# genotype quality score < 30 (default)               min_gq\n",
    "# read depth < 10 (default)                           min_dp\n",
    "# single-cell varaiant allele freq (scVAF) < 25%      vaf_het\n",
    "# variant genotypes in < 60% of cells                 <------ don't think this can be applied\n",
    "# cells within < 50% of genotypes present (default)   min_prct_cells\n",
    "# varaint mutated in < 0.5% of cells                  min_mut_prct_cells\n",
    "\n",
    "## left defaults: vaf_ref=5, vaf_hom=95, \n",
    "\n",
    "dna_vars_1 = sample1.dna.filter_variants(min_dp=10, min_gq=30, vaf_het=25, min_prct_cells=50, min_mut_prct_cells=0.5)\n",
    "dna_vars_2 = sample2.dna.filter_variants(min_dp=10, min_gq=30, vaf_het=25, min_prct_cells=50, min_mut_prct_cells=0.5)"
   ]
  },
  {
   "cell_type": "code",
   "execution_count": 16,
   "metadata": {},
   "outputs": [],
   "source": [
    "### DNA Analysis - Basic Filtering\n",
    "\n",
    "# selecting all cells and final variants after filtering\n",
    "sample1.dna = sample1.dna[sample1.dna.barcodes(),list(dna_vars_1)]\n",
    "sample2.dna = sample2.dna[sample2.dna.barcodes(),list(dna_vars_2)]"
   ]
  },
  {
   "cell_type": "code",
   "execution_count": 17,
   "metadata": {},
   "outputs": [
    {
     "data": {
      "text/plain": [
       "(393, 171)"
      ]
     },
     "execution_count": 17,
     "metadata": {},
     "output_type": "execute_result"
    }
   ],
   "source": [
    "sample1.dna.shape"
   ]
  },
  {
   "cell_type": "code",
   "execution_count": 18,
   "metadata": {},
   "outputs": [
    {
     "data": {
      "text/plain": [
       "(7889, 70)"
      ]
     },
     "execution_count": 18,
     "metadata": {},
     "output_type": "execute_result"
    }
   ],
   "source": [
    "sample2.dna.shape"
   ]
  },
  {
   "cell_type": "code",
   "execution_count": 19,
   "metadata": {},
   "outputs": [],
   "source": [
    "## visualize"
   ]
  },
  {
   "cell_type": "code",
   "execution_count": 20,
   "metadata": {},
   "outputs": [],
   "source": [
    "## Plotting worked following this: https://community.plotly.com/t/save-fig-as-html-using-jupyterlab-figurewidget/17922/6 \n",
    "import plotly.graph_objs as go\n",
    "from plotly.offline import plot"
   ]
  },
  {
   "cell_type": "code",
   "execution_count": 21,
   "metadata": {},
   "outputs": [
    {
     "data": {
      "text/plain": [
       "'5M001_stripplot.html'"
      ]
     },
     "execution_count": 21,
     "metadata": {},
     "output_type": "execute_result"
    }
   ],
   "source": [
    "plot(sample1.dna.stripplot(attribute='AF', colorby='GQ'),filename='5M001_stripplot.html')"
   ]
  },
  {
   "cell_type": "code",
   "execution_count": 22,
   "metadata": {},
   "outputs": [
    {
     "data": {
      "text/plain": [
       "'4I001_stripplot.html'"
      ]
     },
     "execution_count": 22,
     "metadata": {},
     "output_type": "execute_result"
    }
   ],
   "source": [
    "plot(sample2.dna.stripplot(attribute='AF', colorby='GQ'),filename='4I001_stripplot.html')"
   ]
  },
  {
   "cell_type": "code",
   "execution_count": 23,
   "metadata": {},
   "outputs": [
    {
     "data": {
      "text/plain": [
       "'5M001_heatmap_AF.html'"
      ]
     },
     "execution_count": 23,
     "metadata": {},
     "output_type": "execute_result"
    }
   ],
   "source": [
    "plot(sample1.dna.heatmap(attribute='AF'),filename='5M001_heatmap_AF.html')"
   ]
  },
  {
   "cell_type": "code",
   "execution_count": 24,
   "metadata": {},
   "outputs": [
    {
     "data": {
      "text/plain": [
       "'4I001_heatmap_AF.html'"
      ]
     },
     "execution_count": 24,
     "metadata": {},
     "output_type": "execute_result"
    }
   ],
   "source": [
    "plot(sample2.dna.heatmap(attribute='AF'),filename='4I001_heatmap_AF.html')"
   ]
  },
  {
   "cell_type": "code",
   "execution_count": 25,
   "metadata": {},
   "outputs": [],
   "source": [
    "if len(sample1.dna.selected_ids) > 0:\n",
    "    sample1.dna = sample1.dna.drop(sample1.dna.selected_ids)"
   ]
  },
  {
   "cell_type": "code",
   "execution_count": 26,
   "metadata": {},
   "outputs": [],
   "source": [
    "if len(sample2.dna.selected_ids) > 0:\n",
    "    sample2.dna = sample2.dna.drop(sample2.dna.selected_ids)"
   ]
  },
  {
   "cell_type": "code",
   "execution_count": 27,
   "metadata": {},
   "outputs": [],
   "source": [
    "### Find Clones"
   ]
  },
  {
   "cell_type": "code",
   "execution_count": 28,
   "metadata": {},
   "outputs": [
    {
     "name": "stderr",
     "output_type": "stream",
     "text": [
      "OMP: Info #273: omp_set_nested routine deprecated, please use omp_set_max_active_levels instead.\n"
     ]
    },
    {
     "name": "stdout",
     "output_type": "stream",
     "text": [
      "Unique clusters found - 22\n",
      "Clusters after removing missing data - 1\n"
     ]
    },
    {
     "name": "stderr",
     "output_type": "stream",
     "text": [
      "/Users/ferrallm/anaconda3/envs/mosaic/lib/python3.7/site-packages/missionbio/mosaic/dna.py:147: FutureWarning:\n",
      "\n",
      "Dropping of nuisance columns in DataFrame reductions (with 'numeric_only=None') is deprecated; in a future version this will raise TypeError.  Select only valid columns before calling the reduction.\n",
      "\n"
     ]
    }
   ],
   "source": [
    "sample1.dna.find_clones()"
   ]
  },
  {
   "cell_type": "code",
   "execution_count": 29,
   "metadata": {},
   "outputs": [
    {
     "name": "stdout",
     "output_type": "stream",
     "text": [
      "Unique clusters found - 9\n",
      "Clusters after removing missing data - 1\n"
     ]
    },
    {
     "name": "stderr",
     "output_type": "stream",
     "text": [
      "/Users/ferrallm/anaconda3/envs/mosaic/lib/python3.7/site-packages/missionbio/mosaic/dna.py:147: FutureWarning:\n",
      "\n",
      "Dropping of nuisance columns in DataFrame reductions (with 'numeric_only=None') is deprecated; in a future version this will raise TypeError.  Select only valid columns before calling the reduction.\n",
      "\n"
     ]
    }
   ],
   "source": [
    "sample2.dna.find_clones()"
   ]
  },
  {
   "cell_type": "code",
   "execution_count": 30,
   "metadata": {
    "collapsed": true,
    "jupyter": {
     "outputs_hidden": true
    }
   },
   "outputs": [
    {
     "data": {
      "text/plain": [
       "{'barcode': array(['AACAACTGGACGCACACT', 'AACCATGGTCCTCGACCT', 'AACGAGAATCCGATCTCT',\n",
       "        'AACGAGGTGAGTTAGGTC', 'AACTGATTCTCAATCTAG', 'AACTGCGACTGTCTACAC',\n",
       "        'AAGACGAAGACGATGACC', 'AAGAGAACTCATGACGTT', 'AAGCAACTATCGTAATAG',\n",
       "        'AAGCACAACTGCTCAGCG', 'AAGCAGCATAAGTCATGA', 'AAGCATTGCGAGTCTTCG',\n",
       "        'AAGCCAAGTGTGGATAAG', 'AAGCTGGTCCACCTTCCT', 'AAGTAGGACAATGCTGAT',\n",
       "        'AAGTCATGAGCACATGTT', 'AATACCTTGCTCAGTGAT', 'AATGCAGCGTCATGCAGG',\n",
       "        'AATTGGATCACGCTAGTG', 'ACAACCGGACACCAGAAG', 'ACAATTCGGGTGGATAAG',\n",
       "        'ACACACCGTCCGAGTACT', 'ACACACCGTGCGGTAAGT', 'ACACAGAACGATGTCTAG',\n",
       "        'ACACTGTGAGTGGACTGG', 'ACCAGCGTTTCTCATCGG', 'ACCATTCACATCATTACG',\n",
       "        'ACCATTCACCCTTGTTGC', 'ACCTAGCACTGTATCGTG', 'ACCTGCAGAGTAGCCTTG',\n",
       "        'ACCTTGAAGTCCTCTAGT', 'ACGTCTATGATCCATTAG', 'ACGTTCAATTAACGGATA',\n",
       "        'ACTAACCGAATCCACAGT', 'ACTAACCGATACCAGCCA', 'ACTATTGTCTATGCCTTC',\n",
       "        'ACTCCGGTTTTATTCGAC', 'ACTCGTAGGGCGATATGA', 'ACTCGTAGGTGGATAGGT',\n",
       "        'ACTCTAGGAGTGGTACGG', 'ACTGGTCAGACAGAAGAG', 'ACTGGTCAGCTAGTCGTC',\n",
       "        'ACTGTGTCAGATCTTCGC', 'ACTTAGCTTGGACACTGG', 'AGACATCCATAACATTGG',\n",
       "        'AGACGCCTGTGATTATCG', 'AGACTTCGTATAGACCGA', 'AGAGGACGTATAGTCAGT',\n",
       "        'AGCAACATTAGATCGAGT', 'AGCAACATTAGTTGAGCG', 'AGCAAGTCCGGTACTTCC',\n",
       "        'AGCCTCGCATGTAGGTTA', 'AGCGGTAAGAATATCGCT', 'AGCTACTCAGCAACACCT',\n",
       "        'AGCTCTCCGTGATTATCG', 'AGCTGCACTTCCAATCAT', 'AGGAGGTGAGCAGATCCG',\n",
       "        'AGGATCTCATGCAGTTCA', 'AGGATTGAGGACGTAGCA', 'AGGTACCAACGATAGGTG',\n",
       "        'AGGTCCGTCAATCAGGAG', 'AGTACGAATCCTATTGGT', 'AGTCAGTTGCACGTAGAC',\n",
       "        'AGTCGATCAATCTACATC', 'AGTCGCCGAAGTCAGTTG', 'AGTCGCCGATCGTGACGT',\n",
       "        'AGTGTGCACATACTTGCT', 'AGTGTTCTGGCATTGATC', 'AGTTAGGTCTGCGTCTTA',\n",
       "        'AGTTATCGCCGCGATGTA', 'AGTTCGATATTGGTAACT', 'ATAAGTTCGAGGATGCGT',\n",
       "        'ATAATGTGGCTGAGATAG', 'ATACCGAAGCGATTCGAG', 'ATAGACCGAAGATCTTCA',\n",
       "        'ATAGACCGAGCCAACAAT', 'ATAGACCGAGCGATGGTG', 'ATAGTCAGTTAGCTGTTG',\n",
       "        'ATAGTCTCCCGGTTCTAT', 'ATAGTGGTTACACACCGT', 'ATATCAGCCATATAGCGT',\n",
       "        'ATATGCAGCCACACTGCC', 'ATCATTACGCAGTGCCAT', 'ATCCATTAGGGATCAGGT',\n",
       "        'ATCCATTAGTGGAAGATT', 'ATCCGGTCCGACATATGT', 'ATCCGGTCCTTCACCTTG',\n",
       "        'ATCGGTGGTCTTCCGTGG', 'ATCGGTGGTGTTGACGTG', 'ATCTGCGTAGGTAGTGTT',\n",
       "        'ATCTTACAGTCACGACAA', 'ATGACACAAGCGGTAAGT', 'ATGAGTGTGGGAACCTAG',\n",
       "        'ATGGATATCAGACCACGC', 'ATTAGCGGTCTAATACGC', 'ATTGCGCTACAGCTTCGA',\n",
       "        'CAACGTCTTGTCTTCTCG', 'CAAGCGCATAATCCTCGT', 'CAATTGTCTTCTGGAGGA',\n",
       "        'CACATATCAAGAATCAGA', 'CACATATCACGAACAATC', 'CACCTCGGAAAGACGAAG',\n",
       "        'CACGATAGAGCTCAGCCA', 'CACGCGTAATATCCTCAG', 'CACGTAGACATGGTTCGA',\n",
       "        'CACTGGTCCATTCTCTGG', 'CAGATCATTGTCGTGTTA', 'CAGCTAGTTTGTCACATA',\n",
       "        'CAGCTTACCACATTCCAC', 'CAGCTTACCGTCTTATGC', 'CAGGAGCCTGTGGTACGG',\n",
       "        'CAGTACATCAGATGTTGG', 'CAGTATGATAGCTACTCA', 'CAGTTGAGTGCCGTTGTT',\n",
       "        'CATACAACCAGTGTTCTG', 'CATAGAGATGTCTTCATA', 'CATAGGTGTACAGTATTG',\n",
       "        'CATAGTATGGGAGCTCAA', 'CATCGCTGGTAACGTGTC', 'CATCTCACGGCCGCCTAA',\n",
       "        'CATGCCAGTTGTGGTCCT', 'CATGTGAACGCAGCTCTT', 'CATTCGAATTAAGGTCCG',\n",
       "        'CCAACGGAAGTAACCATA', 'CCAAGCGAGGGTTGAAGG', 'CCAAGTCGAGGAGTACAG',\n",
       "        'CCAATGCCTCTGAGATAG', 'CCAGGAGTTTAACGGATA', 'CCATATCTTACTGGACCA',\n",
       "        'CCATTACAGGGAGATGAG', 'CCGGATTGCGCATGTAAG', 'CCGTACGGAGTGGATAAG',\n",
       "        'CCGTCCACTTTGTTAGAG', 'CCTAGCAATCTTGCGACC', 'CCTATTCAACAGTGAGGA',\n",
       "        'CCTCGCGTTGCTGTTCGG', 'CCTCTCTAGCTTCACTGT', 'CCTCTTGTAGTCCTTCAT',\n",
       "        'CCTGCGTTACTTCTGAGT', 'CCTGTATCTGGAGACACA', 'CCTGTCGACAACGCTCAA',\n",
       "        'CCTGTCGACGCTTCTGAA', 'CCTGTCGACTAGCACTAT', 'CCTTATCCGAGCCTCTAG',\n",
       "        'CGACAGACCCCGATCAGC', 'CGACAGACCTAATCTGGA', 'CGACCATCAGTCTGAGCC',\n",
       "        'CGAGCTTACATAGTCTCC', 'CGATACTCTTGTAACAGT', 'CGATCCAGAAATATCGCT',\n",
       "        'CGATCCAGAGATTGGAAG', 'CGCAACCTCCAATACCAC', 'CGCACTCTTATCCGACCA',\n",
       "        'CGCCACCATAGATACGTT', 'CGCGCACATAATATCAGC', 'CGCGTGAGACACTTCCTT',\n",
       "        'CGCTGTAGTAGATCTTCA', 'CGCTGTAGTGTTGCATGG', 'CGCTTATGAGTGGACTGG',\n",
       "        'CGGAACGAGCGGTCGACA', 'CGGAAGACGCCAACAACA', 'CGGTAGCTTACTCCGGTT',\n",
       "        'CGGTCGACATCGGATGTT', 'CGGTTCTATATTCACCTC', 'CGTATTCCTCCTAGTCTC',\n",
       "        'CGTATTCCTTCCAATCAT', 'CTAGAGTCGCTCGTCTTG', 'CTAGGTACTGGATCAATG',\n",
       "        'CTAGGTACTTATTGCTAC', 'CTAGTCGTCGGAGATGAG', 'CTATACTAGTGATTATCG',\n",
       "        'CTATCCATCAATTCGGAA', 'CTATCCATCCATCCGACA', 'CTATGGATGGCACCATCG',\n",
       "        'CTCTAGTAAGTGCCATGA', 'CTCTCAGTCGAACTGCAA', 'CTCTCAGTCTGAACCAAT',\n",
       "        'CTCTTCAGCTAGTAACGG', 'CTCTTCAGCTATGGTTGG', 'CTGACGGATAACTGATTC',\n",
       "        'CTGAGTAGCTCGTTCTCC', 'CTGCAGAGCAGTAATGGT', 'CTGCATGTTCAATCTCCG',\n",
       "        'CTGCGTCACACAGCATCA', 'CTGCGTCACGCGGAGATT', 'CTGCTTAGGATCGATCCT',\n",
       "        'CTGGACTAAGTCCTAGTT', 'CTGGTAATCCCTGTATCT', 'CTGGTGACATCAGGTGCA',\n",
       "        'CTTAATCGTGGATACAAT', 'CTTACCTAGTCCTGTCCG', 'CTTCCTGATTGCGTCTTA',\n",
       "        'CTTGATCTACGACCTGTA', 'GAACGCTGTGACCAGAGA', 'GAACTGCAAAGTCTGGAA',\n",
       "        'GACCGCTTCAACAGATCG', 'GACCGTAGTCTTAACAGC', 'GACGTAGCAGTCTCCAGG',\n",
       "        'GACTCTCACACGTTCAAT', 'GACTTGATTGACCGTAGT', 'GACTTGATTGTCCGCTCA',\n",
       "        'GAGATTCCTTCATGCAGG', 'GAGGACTTAGTCTTCATA', 'GAGGTGAGCCGTTAATGG',\n",
       "        'GAGGTGAGCTAGGTCAAC', 'GAGTCTTCGTGGAAGATT', 'GATAACGTCCGGAATGCA',\n",
       "        'GATCGATACAGACTTCGT', 'GATCTTCGCTCAGGACTG', 'GATGCTCCTTCCATCATT',\n",
       "        'GATGTCTAGACTTGATCT', 'GATTAGTGTACTTGATCT', 'GATTCTCGGATGATAGCT',\n",
       "        'GCACCATCGGCTACAATG', 'GCACCATCGTGTCCATAG', 'GCAGCTCTTGAGTGCATA',\n",
       "        'GCATACTCCATTCTCTGG', 'GCATGTGGTCTGCTTAGG', 'GCCATCGCTCTCTCAGTC',\n",
       "        'GCCATTAAGTTACGGACC', 'GCCGAGTCTTATTACAGC', 'GCCTTAGAGCGGAACGAG',\n",
       "        'GCGAAGCTCAGATACGTT', 'GCGATATGAAACGATGAC', 'GCGTCGTCTACTCTCACA',\n",
       "        'GCGTCGTCTGATACACTA', 'GCTACCTTAATGAACTAG', 'GCTAGCTCCGACCAGAGA',\n",
       "        'GCTAGTGGAAACTTAGCT', 'GCTATGTAACTTAGAAGG', 'GCTGAGCAGCGTATTCCT',\n",
       "        'GCTGAGCAGCGTCTGTCC', 'GCTGAGCAGGTAGTGGAG', 'GCTGAGCAGTGCCTTCAG',\n",
       "        'GCTTCTGAACTTCTATGA', 'GCTTGTCCTACCGGAAGG', 'GCTTGTCCTTCCACCGGT',\n",
       "        'GGAAGAAGCCTATCCATC', 'GGAAGGTATGTGTCCGTG', 'GGAATTCACGACATAACG',\n",
       "        'GGACGAGCAATTAGCACA', 'GGACTATTCCGTGCAAGG', 'GGAGAATGAGTGGATAAG',\n",
       "        'GGAGAATGATCGTCCGAT', 'GGAGCATCTTGAGATCAT', 'GGAGCTCAATCCAATCAT',\n",
       "        'GGAGTTAGCTATCGAGCC', 'GGATAATACACGACATCT', 'GGATCGTTCCAGGAGCCT',\n",
       "        'GGATGCTCGGTAACTCAT', 'GGTAAGGATAGCTGCACT', 'GGTCGGTCTTAAGCACTA',\n",
       "        'GGTCTCATGTTCCGAGCG', 'GGTGTGACCCCATCTAGG', 'GGTTCAGACAATCCGCTG',\n",
       "        'GGTTCGCAAACAGGAACT', 'GTAACCATAACGACGATT', 'GTAACCATATATTGACTG',\n",
       "        'GTAAGGTCCATCAGGATG', 'GTACAATGCTCTATGACA', 'GTACGTCTATAGGATTAG',\n",
       "        'GTAGTTGGTCCTTGCTTG', 'GTATGTATCTACTCGACC', 'GTCAATACAGTCCGCTCA',\n",
       "        'GTCAGACCGAGATGTTGG', 'GTCAGCGTCTCGGATGTT', 'GTCATTCTAGCGGAGATT',\n",
       "        'GTCCGTAAGGATCTAGAG', 'GTCGCAGGTGGTTACGCA', 'GTCTACCAAGGTCCTAAG',\n",
       "        'GTCTGAGCCAAGTCATGA', 'GTCTTATGCAGGAGGTGA', 'GTCTTATGCTATTCAACG',\n",
       "        'GTGACGTAAATCAGAAGC', 'GTGACTCTCTCAGACAAG', 'GTGCACGAGAGTACTACA',\n",
       "        'GTGCATCAACTATGGATG', 'GTGCTGACTTCATGCAGG', 'GTGGTTACCAGTGTTCTG',\n",
       "        'GTGTCCGTGCATTGACAA', 'GTGTCCGTGGGATACAAT', 'GTGTTCCAGTTCACTGGA',\n",
       "        'GTTAATTCGAACGCCTAC', 'GTTAGTCAAGATTCCTCT', 'GTTAGTCAAGCCTTCCAT',\n",
       "        'GTTATCGATTCGTAATAG', 'GTTCAGAAGTCTCGATGC', 'GTTCCAACACCATACGAT',\n",
       "        'GTTGACCATAGCATTCCA', 'TAACACGAGGGTTCGCAA', 'TAACGGATAGAGTTATAG',\n",
       "        'TAAGCACTATGCCGAACT', 'TAAGCCATTAATCCGCTG', 'TAATGTAGCAAGCAGCAT',\n",
       "        'TACAACACCGAACCAGTT', 'TACCTCACTCGGTTCGTA', 'TACCTCCTCAATGCCTCA',\n",
       "        'TACCTCCTCTAGCACTAT', 'TACGAACTCGGACAGATT', 'TACTAGTAGGTCACAGAG',\n",
       "        'TACTTACCATCGATTCAG', 'TAGCCTTGTCTCTGCGGT', 'TAGCGCAGCTAGCACACG',\n",
       "        'TAGGAGGATTCGGTATCA', 'TAGTAGTCTGACCTTGTG', 'TAGTCGCATTGACCAAGT',\n",
       "        'TATAATCGCAATATCGCT', 'TATCAGTGCCGTGACCAG', 'TATCATGCTCATCGCTGG',\n",
       "        'TATCCTCAGTTAGATCGG', 'TATCTAGGTTGCCTTCAG', 'TATCTAGGTTGGTCCTAG',\n",
       "        'TATCTGTCATCGCAAGCA', 'TATGTACCTTTCACTCCT', 'TATTGACTGTTCCGCCAG',\n",
       "        'TCACTCGCTACCACTAGG', 'TCAGAGTCAGCCTTGTGA', 'TCAGAGTCATGATTATCG',\n",
       "        'TCAGGTGCAGTTGCATGG', 'TCAGTAAGCAAGACTGGT', 'TCAGTGCAAGTATTACTG',\n",
       "        'TCATGCAGGAGTTAGGTC', 'TCCAGCAGCCAGTACATC', 'TCCAGCTATTTCATCCAA',\n",
       "        'TCCGGAGCTCTTAGAAGG', 'TCCGTATACACTGTGTCA', 'TCCTATTCCCAATACCAC',\n",
       "        'TCCTGTCCGATGGTTCGA', 'TCCTTCAACGTGGACTGG', 'TCCTTCAACTGAGATCAT',\n",
       "        'TCGAACGCTACCGGAAGG', 'TCGAACGCTTTCACCTTG', 'TCGCAAGCAAGGAGCAAT',\n",
       "        'TCGCATTCGACTCATTCA', 'TCGGAACGATCAACACTC', 'TCGGATGTTAACCGCTGA',\n",
       "        'TCGGTATCAGGTTCAGAC', 'TCGTGACGTATCCAGCTG', 'TCGTGCCACACACATCTG',\n",
       "        'TCGTGCCACCACACCACA', 'TCGTGCCACCCTGTCATT', 'TCGTTCTCCGATGTAAGG',\n",
       "        'TCTACGCAAAATACCTTG', 'TCTAGTGACTATGACCGA', 'TCTCATCGGATTGACACG',\n",
       "        'TCTCGTATCCTATCTTGA', 'TCTTGGTAGCGGTTCTAT', 'TGACAAGTTCAACGTCTT',\n",
       "        'TGACCTATGAGTAATCAG', 'TGACGGTTGGGTCTTGCA', 'TGAGATCATCCTTCCTCA',\n",
       "        'TGATTCACCAGGTACCAA', 'TGATTGTGCAAGTCATGA', 'TGCAGTTCAGGAGATGAG',\n",
       "        'TGCCGCTACCCTTAATTC', 'TGCGTAATCACCTGCAGA', 'TGCTCCTCCGTCTTCATA',\n",
       "        'TGGAACTAATCCTCGTCG', 'TGGAAGATTTTCAACTAC', 'TGGAATCGTCCGTAGTTG',\n",
       "        'TGGACTGCCCCTGTATCT', 'TGGAGAACCGGAGACACA', 'TGGTTATACTATCCTCAG',\n",
       "        'TGTACACGAATAATCGAG', 'TGTAGATCGTGCCTTCAG', 'TGTAGGTTATTACACCTT',\n",
       "        'TGTCAACCTGAGATTCCT', 'TGTCACATATCTATGACA', 'TGTGCAGTAACGACGATT',\n",
       "        'TGTGCCATGATAAGTTCG', 'TGTGCCATGGTCCGCTCA', 'TGTGGTCCTGCTTCTACG',\n",
       "        'TTACACCTTCTGGACTAA', 'TTACCTCTCAGACATCCA', 'TTCACTGGATACCATGTA',\n",
       "        'TTCAGTGCCTCTGGAGGA', 'TTCCGCCAGACTATCCTG', 'TTCCTGCTAATGCGCCGT',\n",
       "        'TTCGCATCCTAGACCATG', 'TTCGGAGTCGGAACCTAG', 'TTCGTGATGACTACCATC',\n",
       "        'TTCGTGATGGATTGGAAG', 'TTCTGCCGACATTGTTCA', 'TTCTGGTGCGATCGTTGA',\n",
       "        'TTCTGGTGCTGTAGGTTA', 'TTGAGCTCTAGGAATTGG', 'TTGATCGTATGTCATAGC',\n",
       "        'TTGATGAGTAGGTGCGAG', 'TTGCAGTCAGAACATGAC', 'TTGCCAGATGTTGCATGG',\n",
       "        'TTGCTCTGCTCGGATGTT', 'TTGTATCACCAATTGTCT', 'TTGTTAGAGAGCACACCT'],\n",
       "       dtype=object),\n",
       " 'filtered': array([0, 0, 0, 0, 0, 0, 0, 0, 0, 0, 0, 0, 0, 0, 0, 0, 0, 0, 0, 0, 0, 0,\n",
       "        0, 0, 0, 0, 0, 0, 0, 0, 0, 0, 0, 0, 0, 0, 0, 0, 0, 0, 0, 0, 0, 0,\n",
       "        0, 0, 0, 0, 0, 0, 0, 0, 0, 0, 0, 0, 0, 0, 0, 0, 0, 0, 0, 0, 0, 0,\n",
       "        0, 0, 0, 0, 0, 0, 0, 0, 0, 0, 0, 0, 0, 0, 0, 0, 0, 0, 0, 0, 0, 0,\n",
       "        0, 0, 0, 0, 0, 0, 0, 0, 0, 0, 0, 0, 0, 0, 0, 0, 0, 0, 0, 0, 0, 0,\n",
       "        0, 0, 0, 0, 0, 0, 0, 0, 0, 0, 0, 0, 0, 0, 0, 0, 0, 0, 0, 0, 0, 0,\n",
       "        0, 0, 0, 0, 0, 0, 0, 0, 0, 0, 0, 0, 0, 0, 0, 0, 0, 0, 0, 0, 0, 0,\n",
       "        0, 0, 0, 0, 0, 0, 0, 0, 0, 0, 0, 0, 0, 0, 0, 0, 0, 0, 0, 0, 0, 0,\n",
       "        0, 0, 0, 0, 0, 0, 0, 0, 0, 0, 0, 0, 0, 0, 0, 0, 0, 0, 0, 0, 0, 0,\n",
       "        0, 0, 0, 0, 0, 0, 0, 0, 0, 0, 0, 0, 0, 0, 0, 0, 0, 0, 0, 0, 0, 0,\n",
       "        0, 0, 0, 0, 0, 0, 0, 0, 0, 0, 0, 0, 0, 0, 0, 0, 0, 0, 0, 0, 0, 0,\n",
       "        0, 0, 0, 0, 0, 0, 0, 0, 0, 0, 0, 0, 0, 0, 0, 0, 0, 0, 0, 0, 0, 0,\n",
       "        0, 0, 0, 0, 0, 0, 0, 0, 0, 0, 0, 0, 0, 0, 0, 0, 0, 0, 0, 0, 0, 0,\n",
       "        0, 0, 0, 0, 0, 0, 0, 0, 0, 0, 0, 0, 0, 0, 0, 0, 0, 0, 0, 0, 0, 0,\n",
       "        0, 0, 0, 0, 0, 0, 0, 0, 0, 0, 0, 0, 0, 0, 0, 0, 0, 0, 0, 0, 0, 0,\n",
       "        0, 0, 0, 0, 0, 0, 0, 0, 0, 0, 0, 0, 0, 0, 0, 0, 0, 0, 0, 0, 0, 0,\n",
       "        0, 0, 0, 0, 0, 0, 0, 0, 0, 0, 0, 0, 0, 0, 0, 0, 0, 0, 0, 0, 0, 0,\n",
       "        0, 0, 0, 0, 0, 0, 0, 0, 0, 0, 0, 0, 0, 0, 0, 0, 0, 0, 0],\n",
       "       dtype=uint8),\n",
       " 'sample_name': array(['5-M-001', '5-M-001', '5-M-001', '5-M-001', '5-M-001', '5-M-001',\n",
       "        '5-M-001', '5-M-001', '5-M-001', '5-M-001', '5-M-001', '5-M-001',\n",
       "        '5-M-001', '5-M-001', '5-M-001', '5-M-001', '5-M-001', '5-M-001',\n",
       "        '5-M-001', '5-M-001', '5-M-001', '5-M-001', '5-M-001', '5-M-001',\n",
       "        '5-M-001', '5-M-001', '5-M-001', '5-M-001', '5-M-001', '5-M-001',\n",
       "        '5-M-001', '5-M-001', '5-M-001', '5-M-001', '5-M-001', '5-M-001',\n",
       "        '5-M-001', '5-M-001', '5-M-001', '5-M-001', '5-M-001', '5-M-001',\n",
       "        '5-M-001', '5-M-001', '5-M-001', '5-M-001', '5-M-001', '5-M-001',\n",
       "        '5-M-001', '5-M-001', '5-M-001', '5-M-001', '5-M-001', '5-M-001',\n",
       "        '5-M-001', '5-M-001', '5-M-001', '5-M-001', '5-M-001', '5-M-001',\n",
       "        '5-M-001', '5-M-001', '5-M-001', '5-M-001', '5-M-001', '5-M-001',\n",
       "        '5-M-001', '5-M-001', '5-M-001', '5-M-001', '5-M-001', '5-M-001',\n",
       "        '5-M-001', '5-M-001', '5-M-001', '5-M-001', '5-M-001', '5-M-001',\n",
       "        '5-M-001', '5-M-001', '5-M-001', '5-M-001', '5-M-001', '5-M-001',\n",
       "        '5-M-001', '5-M-001', '5-M-001', '5-M-001', '5-M-001', '5-M-001',\n",
       "        '5-M-001', '5-M-001', '5-M-001', '5-M-001', '5-M-001', '5-M-001',\n",
       "        '5-M-001', '5-M-001', '5-M-001', '5-M-001', '5-M-001', '5-M-001',\n",
       "        '5-M-001', '5-M-001', '5-M-001', '5-M-001', '5-M-001', '5-M-001',\n",
       "        '5-M-001', '5-M-001', '5-M-001', '5-M-001', '5-M-001', '5-M-001',\n",
       "        '5-M-001', '5-M-001', '5-M-001', '5-M-001', '5-M-001', '5-M-001',\n",
       "        '5-M-001', '5-M-001', '5-M-001', '5-M-001', '5-M-001', '5-M-001',\n",
       "        '5-M-001', '5-M-001', '5-M-001', '5-M-001', '5-M-001', '5-M-001',\n",
       "        '5-M-001', '5-M-001', '5-M-001', '5-M-001', '5-M-001', '5-M-001',\n",
       "        '5-M-001', '5-M-001', '5-M-001', '5-M-001', '5-M-001', '5-M-001',\n",
       "        '5-M-001', '5-M-001', '5-M-001', '5-M-001', '5-M-001', '5-M-001',\n",
       "        '5-M-001', '5-M-001', '5-M-001', '5-M-001', '5-M-001', '5-M-001',\n",
       "        '5-M-001', '5-M-001', '5-M-001', '5-M-001', '5-M-001', '5-M-001',\n",
       "        '5-M-001', '5-M-001', '5-M-001', '5-M-001', '5-M-001', '5-M-001',\n",
       "        '5-M-001', '5-M-001', '5-M-001', '5-M-001', '5-M-001', '5-M-001',\n",
       "        '5-M-001', '5-M-001', '5-M-001', '5-M-001', '5-M-001', '5-M-001',\n",
       "        '5-M-001', '5-M-001', '5-M-001', '5-M-001', '5-M-001', '5-M-001',\n",
       "        '5-M-001', '5-M-001', '5-M-001', '5-M-001', '5-M-001', '5-M-001',\n",
       "        '5-M-001', '5-M-001', '5-M-001', '5-M-001', '5-M-001', '5-M-001',\n",
       "        '5-M-001', '5-M-001', '5-M-001', '5-M-001', '5-M-001', '5-M-001',\n",
       "        '5-M-001', '5-M-001', '5-M-001', '5-M-001', '5-M-001', '5-M-001',\n",
       "        '5-M-001', '5-M-001', '5-M-001', '5-M-001', '5-M-001', '5-M-001',\n",
       "        '5-M-001', '5-M-001', '5-M-001', '5-M-001', '5-M-001', '5-M-001',\n",
       "        '5-M-001', '5-M-001', '5-M-001', '5-M-001', '5-M-001', '5-M-001',\n",
       "        '5-M-001', '5-M-001', '5-M-001', '5-M-001', '5-M-001', '5-M-001',\n",
       "        '5-M-001', '5-M-001', '5-M-001', '5-M-001', '5-M-001', '5-M-001',\n",
       "        '5-M-001', '5-M-001', '5-M-001', '5-M-001', '5-M-001', '5-M-001',\n",
       "        '5-M-001', '5-M-001', '5-M-001', '5-M-001', '5-M-001', '5-M-001',\n",
       "        '5-M-001', '5-M-001', '5-M-001', '5-M-001', '5-M-001', '5-M-001',\n",
       "        '5-M-001', '5-M-001', '5-M-001', '5-M-001', '5-M-001', '5-M-001',\n",
       "        '5-M-001', '5-M-001', '5-M-001', '5-M-001', '5-M-001', '5-M-001',\n",
       "        '5-M-001', '5-M-001', '5-M-001', '5-M-001', '5-M-001', '5-M-001',\n",
       "        '5-M-001', '5-M-001', '5-M-001', '5-M-001', '5-M-001', '5-M-001',\n",
       "        '5-M-001', '5-M-001', '5-M-001', '5-M-001', '5-M-001', '5-M-001',\n",
       "        '5-M-001', '5-M-001', '5-M-001', '5-M-001', '5-M-001', '5-M-001',\n",
       "        '5-M-001', '5-M-001', '5-M-001', '5-M-001', '5-M-001', '5-M-001',\n",
       "        '5-M-001', '5-M-001', '5-M-001', '5-M-001', '5-M-001', '5-M-001',\n",
       "        '5-M-001', '5-M-001', '5-M-001', '5-M-001', '5-M-001', '5-M-001',\n",
       "        '5-M-001', '5-M-001', '5-M-001', '5-M-001', '5-M-001', '5-M-001',\n",
       "        '5-M-001', '5-M-001', '5-M-001', '5-M-001', '5-M-001', '5-M-001',\n",
       "        '5-M-001', '5-M-001', '5-M-001', '5-M-001', '5-M-001', '5-M-001',\n",
       "        '5-M-001', '5-M-001', '5-M-001', '5-M-001', '5-M-001', '5-M-001',\n",
       "        '5-M-001', '5-M-001', '5-M-001', '5-M-001', '5-M-001', '5-M-001',\n",
       "        '5-M-001', '5-M-001', '5-M-001', '5-M-001', '5-M-001', '5-M-001',\n",
       "        '5-M-001', '5-M-001', '5-M-001', '5-M-001', '5-M-001', '5-M-001',\n",
       "        '5-M-001', '5-M-001', '5-M-001', '5-M-001', '5-M-001', '5-M-001',\n",
       "        '5-M-001', '5-M-001', '5-M-001', '5-M-001', '5-M-001', '5-M-001',\n",
       "        '5-M-001', '5-M-001', '5-M-001', '5-M-001', '5-M-001', '5-M-001',\n",
       "        '5-M-001', '5-M-001', '5-M-001', '5-M-001', '5-M-001', '5-M-001',\n",
       "        '5-M-001', '5-M-001', '5-M-001', '5-M-001', '5-M-001', '5-M-001',\n",
       "        '5-M-001', '5-M-001', '5-M-001', '5-M-001', '5-M-001', '5-M-001',\n",
       "        '5-M-001', '5-M-001', '5-M-001'], dtype=object),\n",
       " 'label': array(['1', '1', '1', '1', '1', '1', '1', '1', '1', '1', '1', '1', '1',\n",
       "        '1', '1', '1', '1', '1', '1', '1', '1', '1', '1', '1', '1', '1',\n",
       "        '1', '1', '1', '1', '1', '1', '1', '1', '1', '1', '1', '1', '1',\n",
       "        '1', '1', '1', '1', '1', '1', '1', '1', '1', '1', '1', '1', '1',\n",
       "        '1', '1', '1', '1', '1', '1', '1', '1', '1', '1', '1', '1', '1',\n",
       "        '1', '1', '1', '1', '1', '1', '1', '1', '1', '1', '1', '1', '1',\n",
       "        '1', '1', '1', '1', '1', '1', '1', '1', '1', '1', '1', '1', '1',\n",
       "        '1', '1', '1', '1', '1', '1', '1', '1', '1', '1', '1', '1', '1',\n",
       "        '1', '1', '1', '1', '1', '1', '1', '1', '1', '1', '1', '1', '1',\n",
       "        '1', '1', '1', '1', '1', '1', '1', '1', '1', '1', '1', '1', '1',\n",
       "        '1', '1', '1', '1', '1', '1', '1', '1', '1', '1', '1', '1', '1',\n",
       "        '1', '1', '1', '1', '1', '1', '1', '1', '1', '1', '1', '1', '1',\n",
       "        '1', '1', '1', '1', '1', '1', '1', '1', '1', '1', '1', '1', '1',\n",
       "        '1', '1', '1', '1', '1', '1', '1', '1', '1', '1', '1', '1', '1',\n",
       "        '1', '1', '1', '1', '1', '1', '1', '1', '1', '1', '1', '1', '1',\n",
       "        '1', '1', '1', '1', '1', '1', '1', '1', '1', '1', '1', '1', '1',\n",
       "        '1', '1', '1', '1', '1', '1', '1', '1', '1', '1', '1', '1', '1',\n",
       "        '1', '1', '1', '1', '1', '1', '1', '1', '1', '1', '1', '1', '1',\n",
       "        '1', '1', '1', '1', '1', '1', '1', '1', '1', '1', '1', '1', '1',\n",
       "        '1', '1', '1', '1', '1', '1', '1', '1', '1', '1', '1', '1', '1',\n",
       "        '1', '1', '1', '1', '1', '1', '1', '1', '1', '1', '1', '1', '1',\n",
       "        '1', '1', '1', '1', '1', '1', '1', '1', '1', '1', '1', '1', '1',\n",
       "        '1', '1', '1', '1', '1', '1', '1', '1', '1', '1', '1', '1', '1',\n",
       "        '1', '1', '1', '1', '1', '1', '1', '1', '1', '1', '1', '1', '1',\n",
       "        '1', '1', '1', '1', '1', '1', '1', '1', '1', '1', '1', '1', '1',\n",
       "        '1', '1', '1', '1', '1', '1', '1', '1', '1', '1', '1', '1', '1',\n",
       "        '1', '1', '1', '1', '1', '1', '1', '1', '1', '1', '1', '1', '1',\n",
       "        '1', '1', '1', '1', '1', '1', '1', '1', '1', '1', '1', '1', '1',\n",
       "        '1', '1', '1', '1', '1', '1', '1', '1', '1', '1', '1', '1', '1',\n",
       "        '1', '1', '1', '1', '1', '1', '1', '1', '1', '1', '1', '1', '1',\n",
       "        '1', '1', '1'], dtype=object),\n",
       " 'umap': array([[ 4.37793541e+00,  4.12866306e+00],\n",
       "        [-7.08207607e+00, -2.68128920e+00],\n",
       "        [ 4.56699657e+00, -7.12742090e+00],\n",
       "        [-6.71078265e-01,  3.98257208e+00],\n",
       "        [ 4.29370785e+00,  2.39209628e+00],\n",
       "        [-2.09171104e+00,  2.96850944e+00],\n",
       "        [ 2.38739061e+00, -1.07448387e+00],\n",
       "        [ 1.42245603e+00,  3.26256990e+00],\n",
       "        [-4.29540920e+00, -6.06662846e+00],\n",
       "        [-4.79930925e+00, -2.48276234e+00],\n",
       "        [ 5.37832379e-01,  5.46616554e+00],\n",
       "        [-1.85914540e+00,  3.10155869e+00],\n",
       "        [-5.49295902e+00, -2.15693045e+00],\n",
       "        [ 6.19878244e+00,  4.13846254e+00],\n",
       "        [ 5.41956043e+00, -7.12523651e+00],\n",
       "        [ 6.23665094e+00,  5.81225777e+00],\n",
       "        [-7.91697311e+00, -5.81226444e+00],\n",
       "        [ 2.68790460e+00,  6.86999559e+00],\n",
       "        [ 4.43263578e+00,  5.27347755e+00],\n",
       "        [-1.23232079e+00,  2.75643802e+00],\n",
       "        [-7.05742884e+00,  6.57503986e+00],\n",
       "        [-2.32853019e-03,  2.80287623e+00],\n",
       "        [ 5.78514004e+00,  6.49954319e+00],\n",
       "        [ 3.15580845e+00,  1.09372735e-01],\n",
       "        [ 1.48479211e+00, -8.84124470e+00],\n",
       "        [-7.78891277e+00, -4.60183668e+00],\n",
       "        [-6.04709673e+00, -2.43710256e+00],\n",
       "        [ 6.31947613e+00,  2.29100376e-01],\n",
       "        [-5.60924292e+00, -2.96655917e+00],\n",
       "        [-8.18203640e+00,  4.65025187e+00],\n",
       "        [-8.10870838e+00, -6.06024981e+00],\n",
       "        [ 4.45743370e+00,  4.36874956e-01],\n",
       "        [-5.11205244e+00, -7.24366760e+00],\n",
       "        [-2.28777504e+00,  2.61281061e+00],\n",
       "        [ 4.68250275e+00, -5.83465290e+00],\n",
       "        [ 6.28095436e+00,  6.76767445e+00],\n",
       "        [ 2.41862845e+00, -7.88770151e+00],\n",
       "        [ 1.01966679e+00, -6.56607151e+00],\n",
       "        [ 3.08186173e+00,  4.86801481e+00],\n",
       "        [ 7.18006015e-01,  6.81899166e+00],\n",
       "        [ 2.34981489e+00, -8.01516438e+00],\n",
       "        [-8.12432480e+00,  7.52164078e+00],\n",
       "        [-2.24404112e-02,  1.75210285e+00],\n",
       "        [-1.03459322e+00,  1.83890641e+00],\n",
       "        [ 5.88356876e+00,  1.87102556e-01],\n",
       "        [-8.58304882e+00, -5.20372915e+00],\n",
       "        [-4.85702896e+00, -4.00791883e+00],\n",
       "        [-4.84221888e+00, -1.52939308e+00],\n",
       "        [ 4.83753562e-01,  6.74761868e+00],\n",
       "        [-5.67165184e+00, -8.10743332e+00],\n",
       "        [ 4.58895779e+00, -6.42917919e+00],\n",
       "        [-4.25470066e+00, -5.81181526e+00],\n",
       "        [ 5.04448175e+00,  2.82195711e+00],\n",
       "        [ 1.73329163e+00,  1.75178909e+00],\n",
       "        [ 8.13289070e+00,  3.60966325e+00],\n",
       "        [-8.00991154e+00, -5.80341768e+00],\n",
       "        [-1.17789066e+00, -2.72730827e-01],\n",
       "        [-7.34731913e+00, -4.43314648e+00],\n",
       "        [-6.45202589e+00, -5.35840988e+00],\n",
       "        [-1.77629101e+00,  1.90493965e+00],\n",
       "        [ 5.72936296e+00,  2.72451162e+00],\n",
       "        [ 7.56177950e+00,  4.00787354e+00],\n",
       "        [-6.60007048e+00, -3.56968355e+00],\n",
       "        [ 3.79585266e-01,  3.63496089e+00],\n",
       "        [ 3.76752663e+00, -5.72127390e+00],\n",
       "        [-5.69376707e+00, -7.50791454e+00],\n",
       "        [-8.64354992e+00,  6.99646187e+00],\n",
       "        [-8.07806873e+00,  6.75242233e+00],\n",
       "        [-7.52219725e+00,  6.65273571e+00],\n",
       "        [-7.13953114e+00, -4.00539064e+00],\n",
       "        [ 4.36937332e+00,  5.96147716e-01],\n",
       "        [ 1.51324534e+00,  1.84691441e+00],\n",
       "        [ 4.99110270e+00,  3.80654621e+00],\n",
       "        [-6.49825096e+00,  6.27125931e+00],\n",
       "        [-6.47729969e+00, -3.96174479e+00],\n",
       "        [ 4.86554480e+00,  7.29531765e+00],\n",
       "        [-8.31913185e+00,  5.20069075e+00],\n",
       "        [ 3.62478375e+00,  1.76844776e+00],\n",
       "        [ 2.17480063e+00,  2.64271164e+00],\n",
       "        [-4.60238904e-01,  2.56506860e-01],\n",
       "        [ 6.28133488e+00,  6.17197692e-01],\n",
       "        [-8.26110172e+00, -4.92532206e+00],\n",
       "        [ 2.07891273e+00,  5.13398838e+00],\n",
       "        [ 3.31436348e+00, -6.96610355e+00],\n",
       "        [ 5.32587051e+00, -6.95354509e+00],\n",
       "        [-7.01831436e+00, -4.96198368e+00],\n",
       "        [-4.19059038e+00, -5.94607353e+00],\n",
       "        [-1.19010536e-02, -3.16621989e-01],\n",
       "        [ 5.80127716e+00,  6.35987282e+00],\n",
       "        [-4.46716022e+00, -6.19970846e+00],\n",
       "        [-7.52015591e+00, -3.22003555e+00],\n",
       "        [-8.54203796e+00,  5.39741468e+00],\n",
       "        [ 4.91558790e+00,  3.39677930e+00],\n",
       "        [-8.21209526e+00,  4.86867619e+00],\n",
       "        [-1.36910021e-01,  1.65885949e+00],\n",
       "        [ 2.70340300e+00, -7.27753687e+00],\n",
       "        [-8.58345795e+00,  7.17654991e+00],\n",
       "        [ 4.76382113e+00,  7.65451527e+00],\n",
       "        [ 6.26035738e+00, -7.97856748e-02],\n",
       "        [ 1.76189888e+00, -7.20555115e+00],\n",
       "        [ 5.17712355e+00, -4.22445726e+00],\n",
       "        [ 6.69453239e+00,  3.48194265e+00],\n",
       "        [ 2.12055635e+00, -4.79084396e+00],\n",
       "        [-2.15200316e-02, -1.13533223e+00],\n",
       "        [ 4.31566334e+00,  4.31720543e+00],\n",
       "        [ 1.75258470e+00, -5.66257954e+00],\n",
       "        [ 1.13856125e+00, -8.43918324e+00],\n",
       "        [ 2.56107235e+00,  3.34350061e+00],\n",
       "        [ 7.12341428e-01, -1.03546786e+00],\n",
       "        [ 6.91799879e+00,  4.21704245e+00],\n",
       "        [ 4.24056673e+00,  7.08487892e+00],\n",
       "        [ 4.94343710e+00,  7.32979870e+00],\n",
       "        [-6.92845392e+00,  6.89183950e+00],\n",
       "        [-8.25733948e+00,  7.06560516e+00],\n",
       "        [-8.37553692e+00,  5.89057684e+00],\n",
       "        [ 4.81136990e+00,  1.65329278e+00],\n",
       "        [ 6.33623219e+00,  4.03811067e-01],\n",
       "        [ 1.46079254e+00,  1.46945930e+00],\n",
       "        [ 1.04561162e+00,  1.35175717e+00],\n",
       "        [-6.95506382e+00, -3.01903677e+00],\n",
       "        [ 1.96999168e+00, -5.62822342e+00],\n",
       "        [ 8.22485030e-01,  3.41787457e-01],\n",
       "        [-5.73971939e+00, -8.24608326e+00],\n",
       "        [-1.02835965e+00,  1.37043762e+00],\n",
       "        [ 3.45753622e+00,  2.83648443e+00],\n",
       "        [-7.34610271e+00, -4.81428623e+00],\n",
       "        [-6.55307579e+00, -3.39804888e+00],\n",
       "        [ 2.50481892e+00, -8.78479099e+00],\n",
       "        [ 7.30290353e-01,  6.18465948e+00],\n",
       "        [ 6.43510437e+00,  2.44438481e+00],\n",
       "        [ 5.28781319e+00, -2.05314708e+00],\n",
       "        [ 2.45650625e+00, -8.67296600e+00],\n",
       "        [-5.88938332e+00, -2.27948880e+00],\n",
       "        [-8.07045269e+00,  6.95849228e+00],\n",
       "        [ 2.56732345e+00,  1.40667990e-01],\n",
       "        [-3.24089557e-01,  1.24283421e+00],\n",
       "        [-6.19277763e+00, -2.60046053e+00],\n",
       "        [-8.22395229e+00,  6.92650223e+00],\n",
       "        [ 1.34492350e+00,  4.13750601e+00],\n",
       "        [ 6.41602945e+00,  4.59466815e-01],\n",
       "        [ 5.56907713e-01, -5.41716480e+00],\n",
       "        [-1.91978887e-01, -1.10685241e+00],\n",
       "        [ 5.96991253e+00, -3.32158148e-01],\n",
       "        [-7.77544975e+00,  7.12695599e+00],\n",
       "        [ 2.05068302e+00,  6.00008917e+00],\n",
       "        [-5.43329954e+00, -3.97065639e+00],\n",
       "        [ 2.93742895e+00, -1.52144539e+00],\n",
       "        [ 5.27284622e+00,  3.57116103e+00],\n",
       "        [-8.50834751e+00,  5.24918509e+00],\n",
       "        [-8.71824837e+00,  5.49346209e+00],\n",
       "        [-8.40894032e+00,  5.39313316e+00],\n",
       "        [-7.15132236e+00, -3.00451326e+00],\n",
       "        [ 5.88369322e+00,  4.05547571e+00],\n",
       "        [-7.38722706e+00,  6.24547768e+00],\n",
       "        [ 5.92033386e+00, -4.13553745e-01],\n",
       "        [ 4.88038987e-01, -1.47610676e+00],\n",
       "        [-8.09664726e+00,  6.70604420e+00],\n",
       "        [ 2.68372083e+00,  1.64392817e+00],\n",
       "        [-9.34898973e-01,  3.19180131e+00],\n",
       "        [ 8.62911999e-01,  6.85309529e-01],\n",
       "        [ 9.23416018e-01,  3.06738734e+00],\n",
       "        [-5.82672536e-01,  2.81486750e+00],\n",
       "        [-8.52474308e+00,  5.56352806e+00],\n",
       "        [ 2.10866690e+00, -7.47387934e+00],\n",
       "        [ 7.57133102e+00,  4.32201290e+00],\n",
       "        [ 5.61471558e+00,  6.14432430e+00],\n",
       "        [ 6.02536488e+00,  5.92406392e-01],\n",
       "        [ 5.38120985e+00,  2.04275060e+00],\n",
       "        [ 4.61107016e-01,  6.62112999e+00],\n",
       "        [ 4.47108221e+00,  4.40887260e+00],\n",
       "        [ 2.55600309e+00,  1.56080914e+00],\n",
       "        [ 3.68354297e+00, -6.66130638e+00],\n",
       "        [-2.11408758e+00, -5.19891858e-01],\n",
       "        [ 1.55617523e+00, -8.65379810e+00],\n",
       "        [ 5.94222307e-01, -1.32955849e+00],\n",
       "        [ 1.86746955e+00, -4.29725122e+00],\n",
       "        [-5.45917225e+00, -2.49769378e+00],\n",
       "        [-4.35972834e+00, -2.19353914e-01],\n",
       "        [ 3.27183151e+00,  6.01302910e+00],\n",
       "        [-5.72645092e+00, -8.13746262e+00],\n",
       "        [-8.29472637e+00, -5.92392397e+00],\n",
       "        [-6.22496176e+00,  6.17722988e+00],\n",
       "        [ 7.16027308e+00,  3.13827300e+00],\n",
       "        [ 2.22569442e+00, -6.34435606e+00],\n",
       "        [ 1.68258071e+00, -5.39903212e+00],\n",
       "        [-7.61000204e+00, -6.08122778e+00],\n",
       "        [-8.07577515e+00,  3.87750006e+00],\n",
       "        [-8.16240120e+00, -4.81533670e+00],\n",
       "        [ 1.43810248e+00,  7.15844393e+00],\n",
       "        [ 2.07721424e+00, -5.94954300e+00],\n",
       "        [ 2.04154897e+00, -8.51975822e+00],\n",
       "        [ 6.36974621e+00,  2.99401498e+00],\n",
       "        [-8.32282257e+00, -4.88841438e+00],\n",
       "        [ 3.52192187e+00, -7.71683025e+00],\n",
       "        [-1.42719436e+00,  2.79406691e+00],\n",
       "        [ 6.49527788e+00,  4.47594547e+00],\n",
       "        [ 5.96584797e+00,  3.51084173e-02],\n",
       "        [ 1.34056830e+00, -1.15979850e+00],\n",
       "        [-8.43408680e+00,  6.81013346e+00],\n",
       "        [ 7.50026464e+00,  4.62983274e+00],\n",
       "        [ 2.56921053e+00,  1.97963864e-01],\n",
       "        [ 4.57841301e+00, -5.96239567e+00],\n",
       "        [-8.22663021e+00, -4.40934896e+00],\n",
       "        [ 5.67102718e+00,  6.31112576e+00],\n",
       "        [-8.57173443e+00,  6.07682514e+00],\n",
       "        [ 2.17730045e+00,  1.60410333e+00],\n",
       "        [ 1.87942564e+00, -1.26577747e+00],\n",
       "        [-4.46909952e+00, -4.38274002e+00],\n",
       "        [-5.88338566e+00, -7.72405195e+00],\n",
       "        [-1.75739276e+00, -7.41386986e+00],\n",
       "        [-6.73437595e+00,  6.98981380e+00],\n",
       "        [ 5.11395979e+00,  6.21058083e+00],\n",
       "        [ 5.17261457e+00,  4.60288382e+00],\n",
       "        [ 5.07289124e+00, -4.39465570e+00],\n",
       "        [ 6.45971966e+00, -7.33648777e-01],\n",
       "        [-6.21594429e+00, -7.84323597e+00],\n",
       "        [-8.14376926e+00,  5.39023018e+00],\n",
       "        [-7.42269468e+00,  6.64912653e+00],\n",
       "        [ 2.74189663e+00,  2.70132279e+00],\n",
       "        [ 2.95166731e+00, -7.66507101e+00],\n",
       "        [-3.00328112e+00, -1.75764310e+00],\n",
       "        [-5.21089935e+00, -3.01887417e+00],\n",
       "        [ 4.04130888e+00,  1.82419789e+00],\n",
       "        [ 9.48530495e-01, -7.61342096e+00],\n",
       "        [-7.33150721e+00, -5.51631498e+00],\n",
       "        [-5.98891258e+00, -6.79274988e+00],\n",
       "        [ 6.39972687e+00,  5.86226273e+00],\n",
       "        [-2.25000453e+00,  2.89272976e+00],\n",
       "        [ 3.89594126e+00, -7.54485178e+00],\n",
       "        [ 3.99029315e-01,  5.81365538e+00],\n",
       "        [-1.85777211e+00,  3.67297173e+00],\n",
       "        [ 2.41494393e+00, -8.56761074e+00],\n",
       "        [ 2.35320907e-02, -1.06756043e+00],\n",
       "        [-6.06699944e+00, -2.32628226e+00],\n",
       "        [ 3.65402102e-01,  6.56069756e+00],\n",
       "        [ 3.88591027e+00, -6.94042444e+00],\n",
       "        [ 3.92339015e+00,  3.49191952e+00],\n",
       "        [ 7.49808407e+00,  5.65799522e+00],\n",
       "        [ 8.52793574e-01,  3.52620029e+00],\n",
       "        [-6.09868479e+00, -8.34372139e+00],\n",
       "        [-1.21411644e-01,  2.89241576e+00],\n",
       "        [ 7.51492453e+00,  4.82438421e+00],\n",
       "        [-1.69145346e+00, -1.11685205e+00],\n",
       "        [-2.13856602e+00,  1.41657734e+00],\n",
       "        [-6.23487425e+00, -3.61203289e+00],\n",
       "        [ 2.42967010e+00,  4.13175821e-02],\n",
       "        [ 4.01541662e+00,  2.58639455e+00],\n",
       "        [ 5.87127781e+00,  3.87275338e+00],\n",
       "        [ 6.95549917e+00,  5.17524910e+00],\n",
       "        [ 6.97931290e+00,  4.63194561e+00],\n",
       "        [-8.02742767e+00,  7.76159096e+00],\n",
       "        [-5.62458467e+00, -4.45254469e+00],\n",
       "        [-6.54136944e+00, -5.96777391e+00],\n",
       "        [ 5.34475756e+00, -3.93906617e+00],\n",
       "        [-2.22864127e+00,  3.09423089e+00],\n",
       "        [-6.03479195e+00, -7.79590988e+00],\n",
       "        [-1.87176359e+00,  3.84756505e-01],\n",
       "        [-6.05628586e+00, -3.49158311e+00],\n",
       "        [ 3.75709772e+00,  4.89921141e+00],\n",
       "        [-7.29257870e+00, -5.53012371e+00],\n",
       "        [ 1.20343482e+00,  4.79440403e+00],\n",
       "        [-8.26445198e+00,  5.71552944e+00],\n",
       "        [ 8.60423803e-01, -1.90645146e+00],\n",
       "        [ 5.83740711e+00,  6.09082699e+00],\n",
       "        [ 1.60205483e+00, -1.29717851e+00],\n",
       "        [ 1.40352869e+00,  6.48276377e+00],\n",
       "        [ 1.90303326e+00,  6.26455498e+00],\n",
       "        [ 4.96468735e+00, -6.72505331e+00],\n",
       "        [ 1.05406630e+00, -8.34925842e+00],\n",
       "        [ 7.78324246e-01,  7.18184042e+00],\n",
       "        [ 1.80614376e+00, -6.89008188e+00],\n",
       "        [-6.18617249e+00, -2.90606618e+00],\n",
       "        [-1.87818587e+00,  6.61859810e-01],\n",
       "        [ 6.07881641e+00,  3.09107518e+00],\n",
       "        [ 6.53731060e+00,  5.80918503e+00],\n",
       "        [ 1.75200987e+00, -5.71770239e+00],\n",
       "        [ 4.63857985e+00,  3.36995453e-01],\n",
       "        [ 6.12064314e+00,  6.74964857e+00],\n",
       "        [ 4.63074636e+00, -7.58386421e+00],\n",
       "        [ 2.80263567e+00, -6.60831928e-01],\n",
       "        [ 3.98312783e+00, -5.28719962e-01],\n",
       "        [ 6.17223024e+00,  5.13603258e+00],\n",
       "        [ 1.91052413e+00, -6.27764225e-01],\n",
       "        [ 5.88529587e+00,  6.42496538e+00],\n",
       "        [-7.97869921e+00, -5.93390465e+00],\n",
       "        [-7.20576715e+00, -5.59413528e+00],\n",
       "        [ 2.53908485e-01,  3.21369386e+00],\n",
       "        [ 5.65491390e+00,  2.63613963e+00],\n",
       "        [ 7.20340061e+00,  5.03023911e+00],\n",
       "        [ 4.51020622e+00,  6.79482460e+00],\n",
       "        [ 4.95505714e+00,  3.42288208e+00],\n",
       "        [ 8.92541289e-01, -7.52376080e+00],\n",
       "        [ 1.27998304e+00, -8.15007305e+00],\n",
       "        [ 4.65534973e+00,  3.24716949e+00],\n",
       "        [-8.07720280e+00,  5.50529480e+00],\n",
       "        [-7.92343044e+00, -4.59424067e+00],\n",
       "        [-6.52373981e+00, -5.44165373e+00],\n",
       "        [ 1.57800007e+00, -7.63069201e+00],\n",
       "        [ 1.74509668e+00, -7.77756929e+00],\n",
       "        [ 6.39951754e+00,  4.78636932e+00],\n",
       "        [ 2.46429610e+00, -6.45441628e+00],\n",
       "        [ 1.19106337e-01, -7.47386098e-01],\n",
       "        [ 3.69783926e+00, -7.51642895e+00],\n",
       "        [-6.62017918e+00, -2.98407578e+00],\n",
       "        [ 8.25376809e-01,  1.73525155e+00],\n",
       "        [ 4.38891935e+00,  5.28189707e+00],\n",
       "        [-5.58458138e+00, -3.84201002e+00],\n",
       "        [ 2.93262696e+00, -7.50305843e+00],\n",
       "        [ 2.04829645e+00,  3.58925939e-01],\n",
       "        [ 4.76181459e+00,  1.50011587e+00],\n",
       "        [-8.01824379e+00,  7.01812363e+00],\n",
       "        [ 3.50261450e+00,  1.14359343e+00],\n",
       "        [ 3.47184992e+00,  2.38067579e+00],\n",
       "        [ 6.52713394e+00,  7.67226696e-01],\n",
       "        [ 4.93454123e+00,  3.94378638e+00],\n",
       "        [-1.27282619e+00, -9.32345867e-01],\n",
       "        [-2.38157225e+00,  1.61341894e+00],\n",
       "        [ 2.64812493e+00,  2.90434313e+00],\n",
       "        [ 4.60632610e+00, -6.20729685e+00],\n",
       "        [-1.80905008e+00, -3.14766437e-01],\n",
       "        [-6.71734452e-01,  1.15908802e+00],\n",
       "        [ 3.54225755e+00,  3.50519943e+00],\n",
       "        [ 7.39071369e+00,  4.97434521e+00],\n",
       "        [-8.35962868e+00,  7.17928600e+00],\n",
       "        [ 4.58800554e+00,  7.14170218e+00],\n",
       "        [ 4.77039719e+00, -5.46364069e+00],\n",
       "        [ 2.57190490e+00, -4.26048803e+00],\n",
       "        [ 4.39740562e+00,  2.31540585e+00],\n",
       "        [-5.39293051e+00, -3.91524601e+00],\n",
       "        [-2.05504107e+00,  1.17785156e+00],\n",
       "        [ 2.82962847e+00, -5.57225752e+00],\n",
       "        [ 3.51083708e+00, -3.18613619e-01],\n",
       "        [-7.37392616e+00,  7.36477852e+00],\n",
       "        [-1.29748774e+00,  2.67465687e+00],\n",
       "        [ 1.29662824e+00,  1.00267601e+00],\n",
       "        [-7.16234982e-01,  3.39415646e+00],\n",
       "        [-5.83418751e+00, -7.85566902e+00],\n",
       "        [-5.36671257e+00, -8.09729385e+00],\n",
       "        [ 6.13993883e+00, -2.72677898e-01],\n",
       "        [ 5.43280315e+00,  4.85733461e+00],\n",
       "        [ 4.34355640e+00, -5.36344004e+00],\n",
       "        [-5.16253710e+00, -7.77424335e+00],\n",
       "        [-2.46528029e+00,  2.96355486e+00],\n",
       "        [-4.97329861e-01, -3.20930243e-01],\n",
       "        [ 1.00801837e+00, -5.89201629e-01],\n",
       "        [-1.73481286e-01,  6.49984932e+00],\n",
       "        [-1.37437844e+00, -6.66519523e-01],\n",
       "        [ 6.48039812e-03, -6.79304409e+00],\n",
       "        [ 2.81833696e+00, -6.31250858e+00],\n",
       "        [-8.53354263e+00,  7.42748260e+00],\n",
       "        [ 1.95561677e-01,  2.24391535e-01],\n",
       "        [ 6.08892345e+00,  7.36664534e-01],\n",
       "        [ 3.60747948e-02,  6.02291155e+00],\n",
       "        [ 1.41999698e+00, -8.34223652e+00],\n",
       "        [-1.75252378e+00,  3.09623361e+00],\n",
       "        [ 1.45244241e+00, -8.32711220e+00],\n",
       "        [ 4.30824518e+00, -6.91304398e+00],\n",
       "        [ 3.50496626e+00, -6.99162769e+00],\n",
       "        [ 1.72714221e+00, -1.34598267e+00],\n",
       "        [ 5.18339539e+00, -5.92063951e+00],\n",
       "        [ 6.25059366e+00,  5.40736580e+00],\n",
       "        [-1.05852890e+00,  2.58207107e+00],\n",
       "        [ 1.22842741e+00, -6.46153975e+00],\n",
       "        [ 4.09916496e+00, -7.41378307e+00],\n",
       "        [ 5.22315979e+00,  4.92576027e+00],\n",
       "        [-7.78518200e+00,  6.90180826e+00],\n",
       "        [ 4.79836559e+00,  5.04764175e+00],\n",
       "        [ 6.43093538e+00, -4.68975157e-01],\n",
       "        [ 5.24415112e+00, -3.98904943e+00],\n",
       "        [-3.76014054e-01,  2.96991134e+00],\n",
       "        [ 5.75643420e-01,  2.57995844e+00],\n",
       "        [ 1.12385833e+00, -3.48794013e-01],\n",
       "        [-6.95372200e+00, -5.04651976e+00],\n",
       "        [ 4.87229538e+00, -5.89383411e+00],\n",
       "        [-2.32443333e+00,  2.86019468e+00],\n",
       "        [ 2.79006100e+00,  2.98192930e+00],\n",
       "        [-1.06942534e+00,  1.41257524e-01],\n",
       "        [ 5.38039112e+00,  5.13831568e+00],\n",
       "        [ 5.75825167e+00, -5.93079090e-01],\n",
       "        [-6.84004831e+00, -3.94168139e+00],\n",
       "        [ 4.97543001e+00, -7.32387304e+00],\n",
       "        [-7.97054672e+00,  6.67412949e+00],\n",
       "        [-9.97290254e-01,  3.39327598e+00],\n",
       "        [ 5.37671185e+00, -5.73845816e+00],\n",
       "        [ 5.16092253e+00,  6.10983944e+00],\n",
       "        [ 4.60020828e+00,  6.89049006e+00],\n",
       "        [-6.58372688e+00, -4.07323408e+00],\n",
       "        [ 1.71712828e+00, -5.81727982e+00],\n",
       "        [-6.13695431e+00, -4.91596842e+00],\n",
       "        [ 3.74799538e+00, -1.03112555e+00],\n",
       "        [ 5.86853445e-01,  6.31049109e+00],\n",
       "        [-7.37083435e+00, -5.84674263e+00],\n",
       "        [-8.20325089e+00,  7.42475796e+00]], dtype=float32)}"
      ]
     },
     "execution_count": 30,
     "metadata": {},
     "output_type": "execute_result"
    }
   ],
   "source": [
    "sample1.dna.row_attrs"
   ]
  },
  {
   "cell_type": "code",
   "execution_count": 31,
   "metadata": {},
   "outputs": [
    {
     "data": {
      "text/plain": [
       "'5M001_clones_umap.html'"
      ]
     },
     "execution_count": 31,
     "metadata": {},
     "output_type": "execute_result"
    }
   ],
   "source": [
    "plot(sample1.dna.scatterplot(attribute='umap', colorby='label'),filename='5M001_clones_umap.html')"
   ]
  },
  {
   "cell_type": "code",
   "execution_count": 32,
   "metadata": {},
   "outputs": [
    {
     "data": {
      "text/plain": [
       "{'barcode': array(['AACAACCTAATGTGAGAC', 'AACAACCTACATTGACAA', 'AACAACCTATCTGCGCTG',\n",
       "        ..., 'TTGTTAGAGCAAGTACGA', 'TTGTTAGAGCGAGCTTAC',\n",
       "        'TTGTTAGAGCTCTCAGTC'], dtype=object),\n",
       " 'filtered': array([0, 0, 0, ..., 0, 0, 0], dtype=uint8),\n",
       " 'sample_name': array(['4-I-001', '4-I-001', '4-I-001', ..., '4-I-001', '4-I-001',\n",
       "        '4-I-001'], dtype=object),\n",
       " 'label': array(['1', '1', '1', ..., '1', '1', '1'], dtype=object),\n",
       " 'umap': array([[ 6.4356365,  1.3881928],\n",
       "        [ 0.215698 ,  4.7857895],\n",
       "        [ 1.4264971, 10.03317  ],\n",
       "        ...,\n",
       "        [ 1.3549018,  9.852079 ],\n",
       "        [-2.9134312, -4.0028505],\n",
       "        [-2.5565348, -1.5008333]], dtype=float32)}"
      ]
     },
     "execution_count": 32,
     "metadata": {},
     "output_type": "execute_result"
    }
   ],
   "source": [
    "sample2.dna.row_attrs"
   ]
  },
  {
   "cell_type": "code",
   "execution_count": 33,
   "metadata": {},
   "outputs": [
    {
     "data": {
      "text/plain": [
       "'4I001_clones_umap.html'"
      ]
     },
     "execution_count": 33,
     "metadata": {},
     "output_type": "execute_result"
    }
   ],
   "source": [
    "plot(sample2.dna.scatterplot(attribute='umap', colorby='label'),filename='4I001_clones_umap.html')"
   ]
  },
  {
   "cell_type": "markdown",
   "metadata": {},
   "source": [
    "### CNV Analysis"
   ]
  },
  {
   "cell_type": "code",
   "execution_count": 34,
   "metadata": {},
   "outputs": [
    {
     "data": {
      "text/plain": [
       "'5M001_CNV_normalized-counts.html'"
      ]
     },
     "execution_count": 34,
     "metadata": {},
     "output_type": "execute_result"
    }
   ],
   "source": [
    "sample1.cnv.normalize_reads()\n",
    "plot(sample1.cnv.heatmap(attribute='normalized_counts'),filename='5M001_CNV_normalized-counts.html')"
   ]
  },
  {
   "cell_type": "code",
   "execution_count": 35,
   "metadata": {},
   "outputs": [
    {
     "data": {
      "text/plain": [
       "'5M001_CNV_normalized-counts.html'"
      ]
     },
     "execution_count": 35,
     "metadata": {},
     "output_type": "execute_result"
    }
   ],
   "source": [
    "sample2.cnv.normalize_reads()"
   ]
  },
  {
   "cell_type": "code",
   "execution_count": 37,
   "metadata": {},
   "outputs": [
    {
     "data": {
      "text/plain": [
       "'4I001_CNV_normalized-counts.html'"
      ]
     },
     "execution_count": 37,
     "metadata": {},
     "output_type": "execute_result"
    }
   ],
   "source": [
    "plot(sample2.cnv.heatmap(attribute='normalized_counts'),filename='4I001_CNV_normalized-counts.html')"
   ]
  },
  {
   "cell_type": "markdown",
   "metadata": {},
   "source": [
    "### PCA Options"
   ]
  },
  {
   "cell_type": "raw",
   "metadata": {},
   "source": [
    "Here the UMAP options are kept constant\n",
    "The only parameter in PCA is the number of components\n",
    "\n",
    "Here we see how to determine this value, and the effect\n",
    "when we deviate from this value"
   ]
  },
  {
   "cell_type": "code",
   "execution_count": 39,
   "metadata": {},
   "outputs": [
    {
     "data": {
      "image/png": "[encoded data removed]",
      "text/plain": [
       "<Figure size 720x720 with 1 Axes>"
      ]
     },
     "metadata": {
      "needs_background": "light"
     },
     "output_type": "display_data"
    }
   ],
   "source": [
    "sample1.cnv.run_pca(attribute='normalized_counts', components=10, show_plot=True)"
   ]
  },
  {
   "cell_type": "code",
   "execution_count": 81,
   "metadata": {},
   "outputs": [],
   "source": [
    "sample1.cnv.run_umap(attribute='pca', min_dist=0, n_neighbors=20) ## n_neighors=100 ---> set at 10% number of cells, so for 393 cells 39.3 > 40; 5% = 20"
   ]
  },
  {
   "cell_type": "raw",
   "metadata": {},
   "source": [
    "The result of the dimension reduction analysis is\n",
    "visualized using a scatterplot of the umap"
   ]
  },
  {
   "cell_type": "code",
   "execution_count": 82,
   "metadata": {},
   "outputs": [],
   "source": [
    "sample1.cnv.cluster(attribute='umap', method='dbscan', eps=0.55) ## example eps=0.55"
   ]
  },
  {
   "cell_type": "code",
   "execution_count": 83,
   "metadata": {},
   "outputs": [
    {
     "data": {
      "text/plain": [
       "'5M001_CNV_UMAP.html'"
      ]
     },
     "execution_count": 83,
     "metadata": {},
     "output_type": "execute_result"
    }
   ],
   "source": [
    "plot(sample1.cnv.scatterplot(attribute='umap', colorby='label'),filename='5M001_CNV_UMAP.html')"
   ]
  },
  {
   "cell_type": "code",
   "execution_count": 79,
   "metadata": {},
   "outputs": [
    {
     "data": {
      "image/png": "[encoded data removed]",
      "text/plain": [
       "<Figure size 720x720 with 1 Axes>"
      ]
     },
     "metadata": {
      "needs_background": "light"
     },
     "output_type": "display_data"
    }
   ],
   "source": [
    "sample2.cnv.run_pca(attribute='normalized_counts', components=10, show_plot=True)\n",
    "sample2.cnv.run_umap(attribute='pca', min_dist=0, n_neighbors=395) ## applying same 10% rule, 780; 5% = 395\n",
    "sample2.cnv.cluster(attribute='umap', method='dbscan', eps=0.55)"
   ]
  },
  {
   "cell_type": "code",
   "execution_count": 80,
   "metadata": {},
   "outputs": [
    {
     "data": {
      "text/plain": [
       "'4I001_CNV_UMAP.html'"
      ]
     },
     "execution_count": 80,
     "metadata": {},
     "output_type": "execute_result"
    }
   ],
   "source": [
    "plot(sample2.cnv.scatterplot(attribute='umap', colorby='label'),filename='4I001_CNV_UMAP.html')"
   ]
  },
  {
   "cell_type": "markdown",
   "metadata": {},
   "source": [
    "### Protein Analysis"
   ]
  },
  {
   "cell_type": "code",
   "execution_count": 93,
   "metadata": {},
   "outputs": [
    {
     "name": "stdout",
     "output_type": "stream",
     "text": [
      "Creating the Shared Nearest Neighbors graph.\n",
      "--------------------------------------------------\n",
      "##################################################\n",
      "Identifying clusters using Louvain community detection.\n",
      "\n",
      "Number of clusters found: 5.\n",
      "Modularity: 0.510\n"
     ]
    }
   ],
   "source": [
    "sample1.protein.normalize_reads('CLR')\n",
    "sample1.protein.run_pca(attribute='normalized_counts', components=4)\n",
    "sample1.protein.run_umap(attribute='pca')\n",
    "\n",
    "sample1.protein.cluster(attribute='pca', method='graph-community', k=100)"
   ]
  },
  {
   "cell_type": "code",
   "execution_count": 94,
   "metadata": {},
   "outputs": [
    {
     "name": "stdout",
     "output_type": "stream",
     "text": [
      "Creating the Shared Nearest Neighbors graph.\n",
      "--------------------------------------------------\n",
      "##################################################\n",
      "Identifying clusters using Louvain community detection.\n",
      "\n",
      "Number of clusters found: 13.\n",
      "Modularity: 0.738\n"
     ]
    }
   ],
   "source": [
    "sample2.protein.normalize_reads('CLR')\n",
    "sample2.protein.run_pca(attribute='normalized_counts', components=4)\n",
    "sample2.protein.run_umap(attribute='pca')\n",
    "\n",
    "sample2.protein.cluster(attribute='pca', method='graph-community', k=100)"
   ]
  },
  {
   "cell_type": "code",
   "execution_count": 95,
   "metadata": {},
   "outputs": [
    {
     "data": {
      "text/plain": [
       "'5M001_Protein_Heatmap_norm-counts.html'"
      ]
     },
     "execution_count": 95,
     "metadata": {},
     "output_type": "execute_result"
    }
   ],
   "source": [
    "plot(sample1.protein.heatmap(attribute='normalized_counts'),filename='5M001_Protein_Heatmap_norm-counts.html')"
   ]
  },
  {
   "cell_type": "code",
   "execution_count": 96,
   "metadata": {},
   "outputs": [
    {
     "data": {
      "text/plain": [
       "'4I001_Protein_Heatmap_norm-counts.html'"
      ]
     },
     "execution_count": 96,
     "metadata": {},
     "output_type": "execute_result"
    }
   ],
   "source": [
    "plot(sample2.protein.heatmap(attribute='normalized_counts'),filename='4I001_Protein_Heatmap_norm-counts.html')"
   ]
  },
  {
   "cell_type": "code",
   "execution_count": 97,
   "metadata": {},
   "outputs": [
    {
     "data": {
      "text/plain": [
       "'5M001_Protein_UMAP.html'"
      ]
     },
     "execution_count": 97,
     "metadata": {},
     "output_type": "execute_result"
    }
   ],
   "source": [
    "plot(sample1.protein.scatterplot(attribute='umap', colorby='label'),filename='5M001_Protein_UMAP.html')"
   ]
  },
  {
   "cell_type": "code",
   "execution_count": 98,
   "metadata": {},
   "outputs": [
    {
     "data": {
      "text/plain": [
       "'4I001_Protein_UMAP.html'"
      ]
     },
     "execution_count": 98,
     "metadata": {},
     "output_type": "execute_result"
    }
   ],
   "source": [
    "plot(sample2.protein.scatterplot(attribute='umap', colorby='label'),filename='4I001_Protein_UMAP.html')"
   ]
  },
  {
   "cell_type": "code",
   "execution_count": 99,
   "metadata": {},
   "outputs": [],
   "source": [
    "# Re cluster based on the observations from the UMAP\n",
    "\n",
    "# sample2.protein.cluster(attribute='umap', method='dbscan')"
   ]
  },
  {
   "cell_type": "code",
   "execution_count": 101,
   "metadata": {},
   "outputs": [
    {
     "data": {
      "text/plain": [
       "'5M001_Protein_Ridgeplot_CD34.html'"
      ]
     },
     "execution_count": 101,
     "metadata": {},
     "output_type": "execute_result"
    }
   ],
   "source": [
    "features = [\"CD34\"]\n",
    "\n",
    "plot(sample1.protein.ridgeplot(attribute='normalized_counts',\n",
    "                         splitby='label',\n",
    "                         features=features), filename=\"5M001_Protein_Ridgeplot_CD34.html\")"
   ]
  },
  {
   "cell_type": "code",
   "execution_count": 108,
   "metadata": {},
   "outputs": [
    {
     "data": {
      "text/plain": [
       "'5M001_Protein_Ridgeplot_CD163.html'"
      ]
     },
     "execution_count": 108,
     "metadata": {},
     "output_type": "execute_result"
    }
   ],
   "source": [
    "features = [\"CD163\"]\n",
    "\n",
    "plot(sample1.protein.ridgeplot(attribute='normalized_counts',\n",
    "                         splitby='label',\n",
    "                         features=features), filename=\"5M001_Protein_Ridgeplot_CD163.html\")"
   ]
  },
  {
   "cell_type": "code",
   "execution_count": 104,
   "metadata": {},
   "outputs": [
    {
     "data": {
      "text/plain": [
       "array(['CD10', 'CD117', 'CD11b', 'CD11c', 'CD123', 'CD13', 'CD138',\n",
       "       'CD14', 'CD141', 'CD16', 'CD163', 'CD19', 'CD1c', 'CD2', 'CD22',\n",
       "       'CD25', 'CD3', 'CD30', 'CD303', 'CD304', 'CD33', 'CD34', 'CD38',\n",
       "       'CD4', 'CD44', 'CD45', 'CD45RA', 'CD45RO', 'CD49d', 'CD5', 'CD56',\n",
       "       'CD62L', 'CD62P', 'CD64', 'CD69', 'CD7', 'CD71', 'CD8', 'CD83',\n",
       "       'CD90', 'FcεRIα', 'HLA-DR', 'IgG1', 'IgG2a', 'IgG2b'], dtype=object)"
      ]
     },
     "execution_count": 104,
     "metadata": {},
     "output_type": "execute_result"
    }
   ],
   "source": [
    "sample1.protein.ids()"
   ]
  },
  {
   "cell_type": "code",
   "execution_count": 105,
   "metadata": {},
   "outputs": [
    {
     "data": {
      "text/plain": [
       "'5M001_Protein_UMAP_TotalSeqMarkers.html'"
      ]
     },
     "execution_count": 105,
     "metadata": {},
     "output_type": "execute_result"
    }
   ],
   "source": [
    "# UMAP with the expression for each of the selected protein overlayed\n",
    "# In case of error, make sure that ids have been selected on the heatmap and shown in sample.protein.selected_ids\n",
    "\n",
    "# features=['CD34', 'THY1', 'FCGR3A', 'NCAM1', 'IL3RA', 'PTPRC', 'CD19', 'CD38', 'CD14', 'CD3D']\n",
    "\n",
    "plot(sample1.protein.scatterplot(attribute='umap',\n",
    "                           colorby='normalized_counts',\n",
    "                           features=['CD34', 'CD90', 'CD16', 'CD56', 'CD123', 'CD45RA', 'CD19', 'CD38', 'CD14', 'CD3']), filename='5M001_Protein_UMAP_TotalSeqMarkers.html')"
   ]
  },
  {
   "cell_type": "code",
   "execution_count": 106,
   "metadata": {},
   "outputs": [
    {
     "data": {
      "text/plain": [
       "'4I001_Protein_Ridgeplot_CD34.html'"
      ]
     },
     "execution_count": 106,
     "metadata": {},
     "output_type": "execute_result"
    }
   ],
   "source": [
    "features = [\"CD34\"]\n",
    "\n",
    "plot(sample2.protein.ridgeplot(attribute='normalized_counts',\n",
    "                         splitby='label',\n",
    "                         features=features), filename=\"4I001_Protein_Ridgeplot_CD34.html\")"
   ]
  },
  {
   "cell_type": "code",
   "execution_count": 107,
   "metadata": {},
   "outputs": [
    {
     "data": {
      "text/plain": [
       "'4I001_Protein_UMAP_TotalSeqMarkers.html'"
      ]
     },
     "execution_count": 107,
     "metadata": {},
     "output_type": "execute_result"
    }
   ],
   "source": [
    "plot(sample2.protein.scatterplot(attribute='umap',\n",
    "                           colorby='normalized_counts',\n",
    "                           features=['CD34', 'CD90', 'CD16', 'CD56', 'CD123', 'CD45RA', 'CD19', 'CD38', 'CD14', 'CD3']), filename='4I001_Protein_UMAP_TotalSeqMarkers.html')"
   ]
  },
  {
   "cell_type": "code",
   "execution_count": 109,
   "metadata": {},
   "outputs": [
    {
     "data": {
      "text/plain": [
       "'4I001_Protein_Ridgeplot_CD163.html'"
      ]
     },
     "execution_count": 109,
     "metadata": {},
     "output_type": "execute_result"
    }
   ],
   "source": [
    "features = [\"CD163\"]\n",
    "\n",
    "plot(sample2.protein.ridgeplot(attribute='normalized_counts',\n",
    "                         splitby='label',\n",
    "                         features=features), filename=\"4I001_Protein_Ridgeplot_CD163.html\")"
   ]
  },
  {
   "cell_type": "code",
   "execution_count": 114,
   "metadata": {},
   "outputs": [
    {
     "data": {
      "text/plain": [
       "'5M001_MultiAssay_HM.html'"
      ]
     },
     "execution_count": 114,
     "metadata": {},
     "output_type": "execute_result"
    }
   ],
   "source": [
    "plot(sample1.heatmap(clusterby='dna', sortby='protein', drop='cnv', flatten=False), filename=\"5M001_MultiAssay_HM.html\")"
   ]
  },
  {
   "cell_type": "code",
   "execution_count": 120,
   "metadata": {},
   "outputs": [
    {
     "data": {
      "text/plain": [
       "'5M001_MultiAssay_HM.html'"
      ]
     },
     "execution_count": 120,
     "metadata": {},
     "output_type": "execute_result"
    }
   ],
   "source": [
    "plot(sample1.heatmap(clusterby='protein', sortby='dna', drop='cnv', flatten=False), filename=\"5M001_MultiAssay_HM.html\")"
   ]
  },
  {
   "cell_type": "code",
   "execution_count": 119,
   "metadata": {},
   "outputs": [
    {
     "data": {
      "text/plain": [
       "'4I001_MultiAssay_HM.html'"
      ]
     },
     "execution_count": 119,
     "metadata": {},
     "output_type": "execute_result"
    }
   ],
   "source": [
    "plot(sample2.heatmap(clusterby='protein', sortby='dna', drop='cnv', flatten=False), filename=\"4I001_MultiAssay_HM.html\")"
   ]
  },
  {
   "cell_type": "code",
   "execution_count": 121,
   "metadata": {},
   "outputs": [],
   "source": [
    "## would like to find a way to subset to ~400 cells for comparison\n",
    "sample2ds = sample2"
   ]
  },
  {
   "cell_type": "code",
   "execution_count": null,
   "metadata": {},
   "outputs": [],
   "source": []
  }
 ],
 "metadata": {
  "kernelspec": {
   "display_name": "mosaic",
   "language": "python",
   "name": "mosaic"
  },
  "language_info": {
   "codemirror_mode": {
    "name": "ipython",
    "version": 3
   },
   "file_extension": ".py",
   "mimetype": "text/x-python",
   "name": "python",
   "nbconvert_exporter": "python",
   "pygments_lexer": "ipython3",
   "version": "3.7.12"
  }
 },
 "nbformat": 4,
 "nbformat_minor": 4
}
