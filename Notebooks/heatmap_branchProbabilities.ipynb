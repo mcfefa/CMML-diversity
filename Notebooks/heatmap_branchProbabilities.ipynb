{
 "cells": [
  {
   "cell_type": "code",
   "execution_count": 2,
   "metadata": {},
   "outputs": [],
   "source": [
    "##**Read in csv with diff potential and branch probs for all samples and make a heatmap for cell \n",
    "#branch probabilities relative to the normal samples\n",
    "import numpy as np\n",
    "import pandas as pd\n",
    "import scanpy as sc\n",
    "#from scanpy import utils\n",
    "import re\n",
    "import collections\n",
    "from matplotlib.colors import LinearSegmentedColormap\n",
    "\n",
    "import sys\n",
    "import palantir\n",
    "import os\n",
    "import matplotlib\n",
    "import matplotlib.pyplot as plt\n",
    "matplotlib.use\n",
    "import pickle\n",
    "from MulticoreTSNE import MulticoreTSNE as TSNE\n",
    "from matplotlib import font_manager\n",
    "import csv"
   ]
  },
  {
   "cell_type": "code",
   "execution_count": 3,
   "metadata": {},
   "outputs": [],
   "source": [
    "#Set file directory to import from and date\n",
    "filedir = '/Users/4472241/scCode/palantirEmbeddings/mapToRep1/'\n",
    "sampleID = 'cmml1'\n",
    "date = '11-13-2020'"
   ]
  },
  {
   "cell_type": "code",
   "execution_count": 4,
   "metadata": {},
   "outputs": [],
   "source": [
    "#define function to read in branchProbs and format to percent greater than X (.5)\n",
    "def csv_import_fn(i, colNames):\n",
    "    if (i<40):\n",
    "        sampleID = 'cmml'+str(i)\n",
    "    else:\n",
    "        sampleID = 'normal'+str(i-39)\n",
    "    \n",
    "    #Import dataframe from r specifying diff potential and branch Prob\n",
    "    branchProb_diffPot_df = pd.read_csv(filedir+sampleID+'branchProbs_diffPot.csv', index_col=0)\n",
    "\n",
    "    branchProb_diffPot_df = branchProb_diffPot_df[cols]\n",
    "    \n",
    "    #Count how many cells we have\n",
    "    denominator = branchProb_diffPot_df.count()[1]\n",
    "\n",
    "    #Count the cells with >50% branch probability for each branch\n",
    "    gt75 = branchProb_diffPot_df.gt(.5)\n",
    "    outputArray = gt75.sum()\n",
    "\n",
    "    #Convert to numpy array and add the unassigned cells to 5th column (HSC Precursors)\n",
    "    percent = outputArray/denominator\n",
    "    percentages = np.zeros(8)\n",
    "    percentages = percent.values\n",
    "\n",
    "    percentages = np.append(percentages, 1-sum(percentages[1:6]))\n",
    "    return percentages"
   ]
  },
  {
   "cell_type": "code",
   "execution_count": 6,
   "metadata": {},
   "outputs": [],
   "source": [
    "#Set oredring to group cmml, hma, rux, normal (normals are last 40+)\n",
    "ordering = [5,6,7,17,32,33,35,36,37,39,34,38,1,2,3,4,8,9,10,11,12,13,14,15,16,18,19,20,21,22,23,24,25,26,27,28,29,30,31, 40, 41, 42, 43,44,45,46]\n",
    "percentagesNumPy_HSC = np.zeros((len(ordering),8))\n",
    "cols = [\"DiffPot\",\"Ery\", \"Mono\", \"CLP\", \"Mega\", \"cDC\", \"pDC\"]\n",
    "\n",
    "count=0\n",
    "for i in ordering:\n",
    "    percentagesNumPy_HSC[count,:] = csv_import_fn(i, cols)\n",
    "    count = count+1\n"
   ]
  },
  {
   "cell_type": "code",
   "execution_count": 7,
   "metadata": {},
   "outputs": [],
   "source": [
    "#Subtract average of normals to plot the relative percentages\n",
    "normalsOnly = percentagesNumPy_HSC[39:,:]\n",
    "averages = np.mean(normalsOnly,0)\n",
    "\n",
    "plotRelative = percentagesNumPy_HSC#-averages"
   ]
  },
  {
   "cell_type": "code",
   "execution_count": 8,
   "metadata": {},
   "outputs": [
    {
     "name": "stderr",
     "output_type": "stream",
     "text": [
      "findfont: Font family ['Bitstream Vera Sans'] not found. Falling back to DejaVu Sans.\n",
      "findfont: Font family ['Bitstream Vera Sans'] not found. Falling back to DejaVu Sans.\n"
     ]
    }
   ],
   "source": [
    "#Set figure size and resolution\n",
    "plt.rcParams['figure.figsize'] = [5, 25]\n",
    "plt.rcParams['figure.dpi'] = 100\n",
    "\n",
    "fig, ax = plt.subplots(1,1)\n",
    "num_rows, num_cols = plotRelative.shape\n",
    "\n",
    "#Exclude first row (diff potential) to show only branch probablities (not diff potential)\n",
    "img = ax.imshow(plotRelative[:,1:],extent=[0,num_cols-1,0,num_rows], cmap = 'seismic', clim=[-.5,.5])\n",
    "\n",
    "#add axis labels and title\n",
    "plt.xlabel(\"Cell State (>50% Probability)\")\n",
    "plt.ylabel(\"Sample\")\n",
    "plt.title(\"Heatmap of Cell States\")\n",
    "\n",
    "#label samples appropiately to match sample number and cell state\n",
    "col_labels = np.append(cols, \"HSC\")\n",
    "x_label_list = col_labels[1:]\n",
    "y_label_str = map(str, ordering)\n",
    "y_label_list = y_label_str\n",
    "\n",
    "#Set label ticks\n",
    "ax.set_xticks(np.linspace(0,(num_cols-2),num_cols-1)+.5)\n",
    "ax.set_yticks(np.linspace((num_rows-1),0,num_rows)+.5)\n",
    "\n",
    "ax.set_xticklabels(x_label_list)\n",
    "ax.set_yticklabels(y_label_list)\n",
    "\n",
    "fig.colorbar(img)\n",
    "\n",
    "#Save figure\n",
    "plt.savefig('/Users/4472241/scCode/heatMapRelative.pdf')"
   ]
  },
  {
   "cell_type": "code",
   "execution_count": null,
   "metadata": {},
   "outputs": [],
   "source": []
  }
 ],
 "metadata": {
  "kernelspec": {
   "display_name": "Python (py38)",
   "language": "python",
   "name": "py38"
  },
  "language_info": {
   "codemirror_mode": {
    "name": "ipython",
    "version": 3
   },
   "file_extension": ".py",
   "mimetype": "text/x-python",
   "name": "python",
   "nbconvert_exporter": "python",
   "pygments_lexer": "ipython3",
   "version": "3.8.5"
  }
 },
 "nbformat": 4,
 "nbformat_minor": 4
}
